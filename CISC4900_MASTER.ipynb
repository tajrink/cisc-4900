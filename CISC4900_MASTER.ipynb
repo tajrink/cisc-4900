{
  "cells": [
    {
      "cell_type": "markdown",
      "metadata": {
        "id": "view-in-github",
        "colab_type": "text"
      },
      "source": [
        "<a href=\"https://colab.research.google.com/github/tajrink/cisc-4900/blob/main/CISC4900_MASTER.ipynb\" target=\"_parent\"><img src=\"https://colab.research.google.com/assets/colab-badge.svg\" alt=\"Open In Colab\"/></a>"
      ]
    },
    {
      "cell_type": "markdown",
      "metadata": {
        "id": "oXQJJf4WTCkP"
      },
      "source": [
        "# Header"
      ]
    },
    {
      "cell_type": "code",
      "execution_count": null,
      "metadata": {
        "id": "FijsTJ27e9b5"
      },
      "outputs": [],
      "source": [
        "import pandas as pd\n",
        "from datetime import date"
      ]
    },
    {
      "cell_type": "code",
      "execution_count": null,
      "metadata": {
        "id": "_Roh_1pufCkt"
      },
      "outputs": [],
      "source": [
        "df=pd.read_csv('https://raw.githubusercontent.com/tajrink/cisc-4900/main/roster_anon_cohorts.csv')"
      ]
    },
    {
      "cell_type": "code",
      "execution_count": null,
      "metadata": {
        "id": "UXikgojTjxu5"
      },
      "outputs": [],
      "source": [
        "pd.set_option('display.max_rows', 40)"
      ]
    },
    {
      "cell_type": "markdown",
      "metadata": {
        "id": "PcmhxmPBIkpB"
      },
      "source": [
        "# Finding Aberrations In Data\n"
      ]
    },
    {
      "cell_type": "code",
      "execution_count": null,
      "metadata": {
        "colab": {
          "base_uri": "https://localhost:8080/"
        },
        "id": "xkHZdFyDaHmh",
        "outputId": "1b74fe18-5501-438c-cb92-767ea5335270"
      },
      "outputs": [
        {
          "output_type": "stream",
          "name": "stdout",
          "text": [
            "records without eid\n",
            "\t0\n",
            "\n",
            "number of records in [Spring 2021]\n",
            "\t760\n",
            "number of unique eid in [Spring 2021]:\n",
            "\t750\n",
            "\n",
            "E10181    2\n",
            "E11603    2\n",
            "E13136    2\n",
            "E11037    2\n",
            "E13079    2\n",
            "E12841    2\n",
            "E11530    2\n",
            "E11207    2\n",
            "E13565    2\n",
            "E11726    2\n",
            "Name: eid, dtype: int64\n"
          ]
        }
      ],
      "source": [
        "#### checking for records without a value in the 'eid' column\n",
        "####   - These would be errors rather than many-enrollemnts eid\n",
        "nullCount = len( df[df[['eid']].isnull().all(1)==True] )\n",
        "print(\n",
        "  'records without eid'\n",
        "  '\\n\\t{}\\n'.format(nullCount)\n",
        ")\n",
        "\n",
        "\n",
        "\n",
        "#### searching for eid that appear more than once in a single semester\n",
        "\n",
        "## search flags used to focus on a single semester\n",
        "semester_f = df['semester'] == 'Spring 2021'\n",
        "searchFlags = (semester_f)\n",
        "\n",
        "## number of records in [Spring 2021]\n",
        "recordCount = len( df.loc[searchFlags] )\n",
        "## number of unique eid in [Spring 2021]\n",
        "eidCount = df.loc[searchFlags]['eid'].nunique()\n",
        "\n",
        "## printing the counts\n",
        "print(\n",
        "  'number of records in [Spring 2021]'\n",
        "  '\\n\\t{}\\n'\n",
        "  'number of unique eid in [Spring 2021]:'\n",
        "  '\\n\\t{}\\n'.format(recordCount, eidCount)\n",
        ")\n",
        "\n",
        "##\n",
        "ser = df.loc[searchFlags]['eid'].value_counts()\n",
        "print( ser[ser > 1] )"
      ]
    },
    {
      "cell_type": "code",
      "execution_count": null,
      "metadata": {
        "colab": {
          "base_uri": "https://localhost:8080/"
        },
        "id": "VJ5jeIeej-pm",
        "outputId": "2925aa78-ed74-4d74-f54c-e39472099160"
      },
      "outputs": [
        {
          "output_type": "stream",
          "name": "stdout",
          "text": [
            "number of records in [Fall 2021]\n",
            "\t711\n",
            "number of unique eid in [Fall 2021]:\n",
            "\t709\n",
            "\n",
            "E13033    2\n",
            "E12472    2\n",
            "Name: eid, dtype: int64\n"
          ]
        }
      ],
      "source": [
        "#### searching for eid that appear more than once in a single semester\n",
        "\n",
        "## search flags used to focus on a single semester\n",
        "semester_f = df['semester'] == 'Fall 2021'\n",
        "searchFlags = (semester_f)\n",
        "\n",
        "## number of records in [Fall 2021]\n",
        "recordCount = len( df.loc[searchFlags] )\n",
        "## number of unique eid in [Fall 2021]\n",
        "eidCount = df.loc[searchFlags]['eid'].nunique()\n",
        "\n",
        "## printing the counts\n",
        "print(\n",
        "  'number of records in [Fall 2021]'\n",
        "  '\\n\\t{}\\n'\n",
        "  'number of unique eid in [Fall 2021]:'\n",
        "  '\\n\\t{}\\n'.format(recordCount, eidCount)\n",
        ")\n",
        "\n",
        "##\n",
        "ser = df.loc[searchFlags]['eid'].value_counts()\n",
        "print( ser[ser > 1] )"
      ]
    },
    {
      "cell_type": "code",
      "execution_count": null,
      "metadata": {
        "colab": {
          "base_uri": "https://localhost:8080/"
        },
        "id": "e5e0QDiQkYiV",
        "outputId": "45e66a22-915e-46e1-f2b1-1e3169b526ef"
      },
      "outputs": [
        {
          "output_type": "stream",
          "name": "stdout",
          "text": [
            "number of records in [Spring 2022]\n",
            "\t712\n",
            "number of unique eid in [Spring 2022]:\n",
            "\t699\n",
            "\n",
            "E13515    3\n",
            "E12622    2\n",
            "E12999    2\n",
            "E12876    2\n",
            "E12624    2\n",
            "E10480    2\n",
            "E12849    2\n",
            "E13450    2\n",
            "E12169    2\n",
            "E10921    2\n",
            "E13416    2\n",
            "E13553    2\n",
            "Name: eid, dtype: int64\n"
          ]
        }
      ],
      "source": [
        "#### searching for eid that appear more than once in a single semester\n",
        "\n",
        "## search flags used to focus on a single semester\n",
        "semester_f = df['semester'] == 'Spring 2022'\n",
        "searchFlags = (semester_f)\n",
        "\n",
        "## number of records in [Spring 2022]\n",
        "recordCount = len( df.loc[searchFlags] )\n",
        "## number of unique eid in [Spring 2022]\n",
        "eidCount = df.loc[searchFlags]['eid'].nunique()\n",
        "\n",
        "## printing the counts\n",
        "print(\n",
        "  'number of records in [Spring 2022]'\n",
        "  '\\n\\t{}\\n'\n",
        "  'number of unique eid in [Spring 2022]:'\n",
        "  '\\n\\t{}\\n'.format(recordCount, eidCount)\n",
        ")\n",
        "\n",
        "##\n",
        "ser = df.loc[searchFlags]['eid'].value_counts()\n",
        "print( ser[ser > 1] )"
      ]
    },
    {
      "cell_type": "code",
      "execution_count": null,
      "metadata": {
        "colab": {
          "base_uri": "https://localhost:8080/"
        },
        "id": "wG-kFVRRkfJ8",
        "outputId": "5ddc9c19-3be4-4c2d-edb7-4c31a8e39caa"
      },
      "outputs": [
        {
          "output_type": "stream",
          "name": "stdout",
          "text": [
            "number of records in [Fall 2022]\n",
            "\t708\n",
            "number of unique eid in [Fall 2022]:\n",
            "\t708\n",
            "\n",
            "Series([], Name: eid, dtype: int64)\n"
          ]
        }
      ],
      "source": [
        "#### searching for eid that appear more than once in a single semester\n",
        "\n",
        "## search flags used to focus on a single semester\n",
        "semester_f = df['semester'] == 'Fall 2022'\n",
        "searchFlags = (semester_f)\n",
        "\n",
        "## number of records in [Fall 2022]\n",
        "recordCount = len( df.loc[searchFlags] )\n",
        "## number of unique eid in [Fall 2022]\n",
        "eidCount = df.loc[searchFlags]['eid'].nunique()\n",
        "\n",
        "## printing the counts\n",
        "print(\n",
        "  'number of records in [Fall 2022]'\n",
        "  '\\n\\t{}\\n'\n",
        "  'number of unique eid in [Fall 2022]:'\n",
        "  '\\n\\t{}\\n'.format(recordCount, eidCount)\n",
        ")\n",
        "\n",
        "##\n",
        "ser = df.loc[searchFlags]['eid'].value_counts()\n",
        "print( ser[ser > 1] )"
      ]
    },
    {
      "cell_type": "markdown",
      "metadata": {
        "id": "1tAdp7pRIxlw"
      },
      "source": [
        "# Modifications"
      ]
    },
    {
      "cell_type": "code",
      "execution_count": null,
      "metadata": {
        "id": "j1wm_fH8vDR6"
      },
      "outputs": [],
      "source": [
        "#### Various modifications to the dataframe\n",
        "\n",
        "# Convert strings representing dates into proper date objects\n",
        "df['registration_date'] = pd.to_datetime(df['registration_date'])\n",
        "\n",
        "# Remove graduate enrollments\n",
        "df = df.loc[(df['division'] != 'G') & (df['semester'] != 'Summer 2021') & (df['semester'] != 'Summer 2022')]"
      ]
    },
    {
      "cell_type": "code",
      "execution_count": null,
      "metadata": {
        "colab": {
          "base_uri": "https://localhost:8080/",
          "height": 424
        },
        "id": "O71CNwYWRtcJ",
        "outputId": "4f4ecb0a-a34a-4d13-f8ba-f904d1db522b"
      },
      "outputs": [
        {
          "output_type": "execute_result",
          "data": {
            "text/plain": [
              "     cohort     semester class  course registration_date division  \\\n",
              "0       NaN  Spring 2021   CS3    3130        2020-12-01        U   \n",
              "1         A  Spring 2021   CS1    1115        2021-01-14        U   \n",
              "2       NaN  Spring 2021   CS2    3115        2020-11-20        U   \n",
              "3         A  Spring 2021   CS1    1115        2020-12-15        U   \n",
              "4         A  Spring 2021   CS1    1115        2021-01-07        U   \n",
              "...     ...          ...   ...     ...               ...      ...   \n",
              "3095      H    Fall 2022   CS2    3115        2022-04-10        U   \n",
              "3096      G    Fall 2022   CS1    1115        2022-05-10        U   \n",
              "3097      G    Fall 2022   CS1    1115        2022-04-24        U   \n",
              "3098      H    Fall 2022   CS2    3115        2022-06-10        U   \n",
              "3099      H    Fall 2022   CS2    3115        2022-04-07        U   \n",
              "\n",
              "                level   admission       Major passfaildrop grade gender  \\\n",
              "0        Lower Senior           0   COMPSC-BS         Drop     W      M   \n",
              "1        Upper Senior  Continuing   COMPSC-BS         Fail     F      M   \n",
              "2        Upper Senior  Continuing  INFOSCI-BS         Pass    C+      F   \n",
              "3        Upper Junior  Continuing   COMPSC-BS         Pass     B      F   \n",
              "4        Upper Senior  Readmitted   COMPSC-BS         Drop     W      F   \n",
              "...               ...         ...         ...          ...   ...    ...   \n",
              "3095     Lower Junior  Continuing   COMPSC-BS         Pass    B+      M   \n",
              "3096     Lower Junior  Continuing   COMPSC-BS         Pass     A      M   \n",
              "3097  Upper Sophomore  Continuing       Other         Pass    A-      M   \n",
              "3098  Lower Sophomore  Continuing   UNDECL-BA         Drop     W      F   \n",
              "3099   Lower Freshman  Continuing   COMPSC-BS         Drop    WN      M   \n",
              "\n",
              "         eid section Instructor Instructor type  \n",
              "0     E10024    S106       T010              PT  \n",
              "1     E10069    S118       T008              PT  \n",
              "2     E10088    S103       T012              PT  \n",
              "3     E10194    S115       T117              TT  \n",
              "4     E10406    S128       T014              PT  \n",
              "...      ...     ...        ...             ...  \n",
              "3095  E13818    S116       T101              TT  \n",
              "3096  E13674    S129       T111              TT  \n",
              "3097  E13817    S118       T012              PT  \n",
              "3098  E13605    S106       T102              TT  \n",
              "3099  E13566    S116       T101              TT  \n",
              "\n",
              "[2852 rows x 16 columns]"
            ],
            "text/html": [
              "\n",
              "  <div id=\"df-1ad4eea1-8386-46de-aa7b-732769dbbd64\">\n",
              "    <div class=\"colab-df-container\">\n",
              "      <div>\n",
              "<style scoped>\n",
              "    .dataframe tbody tr th:only-of-type {\n",
              "        vertical-align: middle;\n",
              "    }\n",
              "\n",
              "    .dataframe tbody tr th {\n",
              "        vertical-align: top;\n",
              "    }\n",
              "\n",
              "    .dataframe thead th {\n",
              "        text-align: right;\n",
              "    }\n",
              "</style>\n",
              "<table border=\"1\" class=\"dataframe\">\n",
              "  <thead>\n",
              "    <tr style=\"text-align: right;\">\n",
              "      <th></th>\n",
              "      <th>cohort</th>\n",
              "      <th>semester</th>\n",
              "      <th>class</th>\n",
              "      <th>course</th>\n",
              "      <th>registration_date</th>\n",
              "      <th>division</th>\n",
              "      <th>level</th>\n",
              "      <th>admission</th>\n",
              "      <th>Major</th>\n",
              "      <th>passfaildrop</th>\n",
              "      <th>grade</th>\n",
              "      <th>gender</th>\n",
              "      <th>eid</th>\n",
              "      <th>section</th>\n",
              "      <th>Instructor</th>\n",
              "      <th>Instructor type</th>\n",
              "    </tr>\n",
              "  </thead>\n",
              "  <tbody>\n",
              "    <tr>\n",
              "      <th>0</th>\n",
              "      <td>NaN</td>\n",
              "      <td>Spring 2021</td>\n",
              "      <td>CS3</td>\n",
              "      <td>3130</td>\n",
              "      <td>2020-12-01</td>\n",
              "      <td>U</td>\n",
              "      <td>Lower Senior</td>\n",
              "      <td>0</td>\n",
              "      <td>COMPSC-BS</td>\n",
              "      <td>Drop</td>\n",
              "      <td>W</td>\n",
              "      <td>M</td>\n",
              "      <td>E10024</td>\n",
              "      <td>S106</td>\n",
              "      <td>T010</td>\n",
              "      <td>PT</td>\n",
              "    </tr>\n",
              "    <tr>\n",
              "      <th>1</th>\n",
              "      <td>A</td>\n",
              "      <td>Spring 2021</td>\n",
              "      <td>CS1</td>\n",
              "      <td>1115</td>\n",
              "      <td>2021-01-14</td>\n",
              "      <td>U</td>\n",
              "      <td>Upper Senior</td>\n",
              "      <td>Continuing</td>\n",
              "      <td>COMPSC-BS</td>\n",
              "      <td>Fail</td>\n",
              "      <td>F</td>\n",
              "      <td>M</td>\n",
              "      <td>E10069</td>\n",
              "      <td>S118</td>\n",
              "      <td>T008</td>\n",
              "      <td>PT</td>\n",
              "    </tr>\n",
              "    <tr>\n",
              "      <th>2</th>\n",
              "      <td>NaN</td>\n",
              "      <td>Spring 2021</td>\n",
              "      <td>CS2</td>\n",
              "      <td>3115</td>\n",
              "      <td>2020-11-20</td>\n",
              "      <td>U</td>\n",
              "      <td>Upper Senior</td>\n",
              "      <td>Continuing</td>\n",
              "      <td>INFOSCI-BS</td>\n",
              "      <td>Pass</td>\n",
              "      <td>C+</td>\n",
              "      <td>F</td>\n",
              "      <td>E10088</td>\n",
              "      <td>S103</td>\n",
              "      <td>T012</td>\n",
              "      <td>PT</td>\n",
              "    </tr>\n",
              "    <tr>\n",
              "      <th>3</th>\n",
              "      <td>A</td>\n",
              "      <td>Spring 2021</td>\n",
              "      <td>CS1</td>\n",
              "      <td>1115</td>\n",
              "      <td>2020-12-15</td>\n",
              "      <td>U</td>\n",
              "      <td>Upper Junior</td>\n",
              "      <td>Continuing</td>\n",
              "      <td>COMPSC-BS</td>\n",
              "      <td>Pass</td>\n",
              "      <td>B</td>\n",
              "      <td>F</td>\n",
              "      <td>E10194</td>\n",
              "      <td>S115</td>\n",
              "      <td>T117</td>\n",
              "      <td>TT</td>\n",
              "    </tr>\n",
              "    <tr>\n",
              "      <th>4</th>\n",
              "      <td>A</td>\n",
              "      <td>Spring 2021</td>\n",
              "      <td>CS1</td>\n",
              "      <td>1115</td>\n",
              "      <td>2021-01-07</td>\n",
              "      <td>U</td>\n",
              "      <td>Upper Senior</td>\n",
              "      <td>Readmitted</td>\n",
              "      <td>COMPSC-BS</td>\n",
              "      <td>Drop</td>\n",
              "      <td>W</td>\n",
              "      <td>F</td>\n",
              "      <td>E10406</td>\n",
              "      <td>S128</td>\n",
              "      <td>T014</td>\n",
              "      <td>PT</td>\n",
              "    </tr>\n",
              "    <tr>\n",
              "      <th>...</th>\n",
              "      <td>...</td>\n",
              "      <td>...</td>\n",
              "      <td>...</td>\n",
              "      <td>...</td>\n",
              "      <td>...</td>\n",
              "      <td>...</td>\n",
              "      <td>...</td>\n",
              "      <td>...</td>\n",
              "      <td>...</td>\n",
              "      <td>...</td>\n",
              "      <td>...</td>\n",
              "      <td>...</td>\n",
              "      <td>...</td>\n",
              "      <td>...</td>\n",
              "      <td>...</td>\n",
              "      <td>...</td>\n",
              "    </tr>\n",
              "    <tr>\n",
              "      <th>3095</th>\n",
              "      <td>H</td>\n",
              "      <td>Fall 2022</td>\n",
              "      <td>CS2</td>\n",
              "      <td>3115</td>\n",
              "      <td>2022-04-10</td>\n",
              "      <td>U</td>\n",
              "      <td>Lower Junior</td>\n",
              "      <td>Continuing</td>\n",
              "      <td>COMPSC-BS</td>\n",
              "      <td>Pass</td>\n",
              "      <td>B+</td>\n",
              "      <td>M</td>\n",
              "      <td>E13818</td>\n",
              "      <td>S116</td>\n",
              "      <td>T101</td>\n",
              "      <td>TT</td>\n",
              "    </tr>\n",
              "    <tr>\n",
              "      <th>3096</th>\n",
              "      <td>G</td>\n",
              "      <td>Fall 2022</td>\n",
              "      <td>CS1</td>\n",
              "      <td>1115</td>\n",
              "      <td>2022-05-10</td>\n",
              "      <td>U</td>\n",
              "      <td>Lower Junior</td>\n",
              "      <td>Continuing</td>\n",
              "      <td>COMPSC-BS</td>\n",
              "      <td>Pass</td>\n",
              "      <td>A</td>\n",
              "      <td>M</td>\n",
              "      <td>E13674</td>\n",
              "      <td>S129</td>\n",
              "      <td>T111</td>\n",
              "      <td>TT</td>\n",
              "    </tr>\n",
              "    <tr>\n",
              "      <th>3097</th>\n",
              "      <td>G</td>\n",
              "      <td>Fall 2022</td>\n",
              "      <td>CS1</td>\n",
              "      <td>1115</td>\n",
              "      <td>2022-04-24</td>\n",
              "      <td>U</td>\n",
              "      <td>Upper Sophomore</td>\n",
              "      <td>Continuing</td>\n",
              "      <td>Other</td>\n",
              "      <td>Pass</td>\n",
              "      <td>A-</td>\n",
              "      <td>M</td>\n",
              "      <td>E13817</td>\n",
              "      <td>S118</td>\n",
              "      <td>T012</td>\n",
              "      <td>PT</td>\n",
              "    </tr>\n",
              "    <tr>\n",
              "      <th>3098</th>\n",
              "      <td>H</td>\n",
              "      <td>Fall 2022</td>\n",
              "      <td>CS2</td>\n",
              "      <td>3115</td>\n",
              "      <td>2022-06-10</td>\n",
              "      <td>U</td>\n",
              "      <td>Lower Sophomore</td>\n",
              "      <td>Continuing</td>\n",
              "      <td>UNDECL-BA</td>\n",
              "      <td>Drop</td>\n",
              "      <td>W</td>\n",
              "      <td>F</td>\n",
              "      <td>E13605</td>\n",
              "      <td>S106</td>\n",
              "      <td>T102</td>\n",
              "      <td>TT</td>\n",
              "    </tr>\n",
              "    <tr>\n",
              "      <th>3099</th>\n",
              "      <td>H</td>\n",
              "      <td>Fall 2022</td>\n",
              "      <td>CS2</td>\n",
              "      <td>3115</td>\n",
              "      <td>2022-04-07</td>\n",
              "      <td>U</td>\n",
              "      <td>Lower Freshman</td>\n",
              "      <td>Continuing</td>\n",
              "      <td>COMPSC-BS</td>\n",
              "      <td>Drop</td>\n",
              "      <td>WN</td>\n",
              "      <td>M</td>\n",
              "      <td>E13566</td>\n",
              "      <td>S116</td>\n",
              "      <td>T101</td>\n",
              "      <td>TT</td>\n",
              "    </tr>\n",
              "  </tbody>\n",
              "</table>\n",
              "<p>2852 rows × 16 columns</p>\n",
              "</div>\n",
              "      <button class=\"colab-df-convert\" onclick=\"convertToInteractive('df-1ad4eea1-8386-46de-aa7b-732769dbbd64')\"\n",
              "              title=\"Convert this dataframe to an interactive table.\"\n",
              "              style=\"display:none;\">\n",
              "        \n",
              "  <svg xmlns=\"http://www.w3.org/2000/svg\" height=\"24px\"viewBox=\"0 0 24 24\"\n",
              "       width=\"24px\">\n",
              "    <path d=\"M0 0h24v24H0V0z\" fill=\"none\"/>\n",
              "    <path d=\"M18.56 5.44l.94 2.06.94-2.06 2.06-.94-2.06-.94-.94-2.06-.94 2.06-2.06.94zm-11 1L8.5 8.5l.94-2.06 2.06-.94-2.06-.94L8.5 2.5l-.94 2.06-2.06.94zm10 10l.94 2.06.94-2.06 2.06-.94-2.06-.94-.94-2.06-.94 2.06-2.06.94z\"/><path d=\"M17.41 7.96l-1.37-1.37c-.4-.4-.92-.59-1.43-.59-.52 0-1.04.2-1.43.59L10.3 9.45l-7.72 7.72c-.78.78-.78 2.05 0 2.83L4 21.41c.39.39.9.59 1.41.59.51 0 1.02-.2 1.41-.59l7.78-7.78 2.81-2.81c.8-.78.8-2.07 0-2.86zM5.41 20L4 18.59l7.72-7.72 1.47 1.35L5.41 20z\"/>\n",
              "  </svg>\n",
              "      </button>\n",
              "      \n",
              "  <style>\n",
              "    .colab-df-container {\n",
              "      display:flex;\n",
              "      flex-wrap:wrap;\n",
              "      gap: 12px;\n",
              "    }\n",
              "\n",
              "    .colab-df-convert {\n",
              "      background-color: #E8F0FE;\n",
              "      border: none;\n",
              "      border-radius: 50%;\n",
              "      cursor: pointer;\n",
              "      display: none;\n",
              "      fill: #1967D2;\n",
              "      height: 32px;\n",
              "      padding: 0 0 0 0;\n",
              "      width: 32px;\n",
              "    }\n",
              "\n",
              "    .colab-df-convert:hover {\n",
              "      background-color: #E2EBFA;\n",
              "      box-shadow: 0px 1px 2px rgba(60, 64, 67, 0.3), 0px 1px 3px 1px rgba(60, 64, 67, 0.15);\n",
              "      fill: #174EA6;\n",
              "    }\n",
              "\n",
              "    [theme=dark] .colab-df-convert {\n",
              "      background-color: #3B4455;\n",
              "      fill: #D2E3FC;\n",
              "    }\n",
              "\n",
              "    [theme=dark] .colab-df-convert:hover {\n",
              "      background-color: #434B5C;\n",
              "      box-shadow: 0px 1px 3px 1px rgba(0, 0, 0, 0.15);\n",
              "      filter: drop-shadow(0px 1px 2px rgba(0, 0, 0, 0.3));\n",
              "      fill: #FFFFFF;\n",
              "    }\n",
              "  </style>\n",
              "\n",
              "      <script>\n",
              "        const buttonEl =\n",
              "          document.querySelector('#df-1ad4eea1-8386-46de-aa7b-732769dbbd64 button.colab-df-convert');\n",
              "        buttonEl.style.display =\n",
              "          google.colab.kernel.accessAllowed ? 'block' : 'none';\n",
              "\n",
              "        async function convertToInteractive(key) {\n",
              "          const element = document.querySelector('#df-1ad4eea1-8386-46de-aa7b-732769dbbd64');\n",
              "          const dataTable =\n",
              "            await google.colab.kernel.invokeFunction('convertToInteractive',\n",
              "                                                     [key], {});\n",
              "          if (!dataTable) return;\n",
              "\n",
              "          const docLinkHtml = 'Like what you see? Visit the ' +\n",
              "            '<a target=\"_blank\" href=https://colab.research.google.com/notebooks/data_table.ipynb>data table notebook</a>'\n",
              "            + ' to learn more about interactive tables.';\n",
              "          element.innerHTML = '';\n",
              "          dataTable['output_type'] = 'display_data';\n",
              "          await google.colab.output.renderOutput(dataTable, element);\n",
              "          const docLink = document.createElement('div');\n",
              "          docLink.innerHTML = docLinkHtml;\n",
              "          element.appendChild(docLink);\n",
              "        }\n",
              "      </script>\n",
              "    </div>\n",
              "  </div>\n",
              "  "
            ]
          },
          "metadata": {},
          "execution_count": 9
        }
      ],
      "source": [
        "df"
      ]
    },
    {
      "cell_type": "markdown",
      "metadata": {
        "id": "fCtBQuu8nFU6"
      },
      "source": [
        "# Util"
      ]
    },
    {
      "cell_type": "code",
      "execution_count": null,
      "metadata": {
        "id": "Jl4y50l4oUcT"
      },
      "outputs": [],
      "source": [
        "# obtain dataframe where the rows are selected that\n",
        "#   have a null value in the specified column\n",
        "def df_isnull_col(df, col):\n",
        "  return df[df[[col]].isnull().all(1)==True]"
      ]
    },
    {
      "cell_type": "code",
      "execution_count": null,
      "metadata": {
        "id": "ruaQWUsKxHpJ"
      },
      "outputs": [],
      "source": [
        "# obtain dataframe where the rows are selected that\n",
        "#   do not have a null value in the specified column\n",
        "def df_notnull_col(df, col):\n",
        "  return df[df[[col]].notnull().all(1)==True]"
      ]
    },
    {
      "cell_type": "markdown",
      "metadata": {
        "id": "d5PBECKWoC12"
      },
      "source": [
        "# Statistics & Variables"
      ]
    },
    {
      "cell_type": "code",
      "execution_count": null,
      "metadata": {
        "colab": {
          "base_uri": "https://localhost:8080/"
        },
        "id": "g2pGmvqAdpeE",
        "outputId": "bda7169f-64ef-4f5d-b626-00454b3cce73"
      },
      "outputs": [
        {
          "output_type": "execute_result",
          "data": {
            "text/plain": [
              "Spring 2021    329\n",
              "Fall 2021      152\n",
              "Name: semester, dtype: int64"
            ]
          },
          "metadata": {},
          "execution_count": 12
        }
      ],
      "source": [
        "## Enrollments Outisde Purview (Without a Cohort)\n",
        "df_isnull_col(df, 'cohort')['semester'].value_counts()"
      ]
    },
    {
      "cell_type": "code",
      "execution_count": null,
      "metadata": {
        "colab": {
          "base_uri": "https://localhost:8080/"
        },
        "id": "bHrVSzr525gh",
        "outputId": "ac652c8e-54ec-407d-eff7-5118f71ac07e"
      },
      "outputs": [
        {
          "output_type": "execute_result",
          "data": {
            "text/plain": [
              "Spring 2022    700\n",
              "Fall 2022      694\n",
              "Fall 2021      552\n",
              "Spring 2021    425\n",
              "Name: semester, dtype: int64"
            ]
          },
          "metadata": {},
          "execution_count": 13
        }
      ],
      "source": [
        "## Enrollemnts Within Purview (With a Cohort)\n",
        "df_notnull_col(df, 'cohort')['semester'].value_counts()"
      ]
    },
    {
      "cell_type": "code",
      "execution_count": null,
      "metadata": {
        "id": "caLuXpixG5f2"
      },
      "outputs": [],
      "source": [
        "# Semester Dates\n",
        "sp21_first = pd.to_datetime( date(2021, 1, 29) )\n",
        "sp21_oed = pd.to_datetime( date(2021, 2, 4) )\n",
        "sp21_last = pd.to_datetime( date(2021, 5, 25) )\n",
        "\n",
        "fl21_first = pd.to_datetime( date(2021, 8, 25) )\n",
        "fl21_oed = pd.to_datetime( date(2021, 8, 31) )\n",
        "fl21_last = pd.to_datetime( date(2021, 12, 21) )\n",
        "\n",
        "sp22_first = pd.to_datetime( date(2022, 1, 28) )\n",
        "sp22_oed = pd.to_datetime( date(2022, 2, 3) )\n",
        "sp22_last = pd.to_datetime( date(2022, 5, 24) )\n",
        "\n",
        "fl22_first = pd.to_datetime( date(2022, 8, 25) )\n",
        "fl22_oed = pd.to_datetime( date(2022, 8, 31) )\n",
        "fl22_last = pd.to_datetime( date(2022, 12, 21) )"
      ]
    },
    {
      "cell_type": "code",
      "execution_count": null,
      "metadata": {
        "colab": {
          "base_uri": "https://localhost:8080/"
        },
        "id": "X7eDd1PRx5Dp",
        "outputId": "ad7b6072-5c93-41ba-e37a-cc95304e9f6b"
      },
      "outputs": [
        {
          "output_type": "stream",
          "name": "stdout",
          "text": [
            "A    425\n",
            "B    399\n",
            "G    391\n",
            "D    390\n",
            "E    169\n",
            "I    156\n",
            "C    153\n",
            "H    147\n",
            "F    141\n",
            "Name: cohort, dtype: int64\n",
            "\n",
            "\n",
            "Spring 2021    754\n",
            "Fall 2021      704\n",
            "Spring 2022    700\n",
            "Fall 2022      694\n",
            "Name: semester, dtype: int64\n",
            "\n",
            "\n",
            "CS1    1605\n",
            "CS2     643\n",
            "CS3     604\n",
            "Name: class, dtype: int64\n",
            "\n",
            "\n",
            "1115    1509\n",
            "3115     643\n",
            "3130     604\n",
            "1170      96\n",
            "Name: course, dtype: int64\n",
            "\n",
            "\n",
            "2020-11-17    109\n",
            "2020-11-18     98\n",
            "2020-11-19     97\n",
            "2022-04-06     85\n",
            "2021-11-18     76\n",
            "             ... \n",
            "2021-11-14      1\n",
            "2022-05-08      1\n",
            "2020-11-13      1\n",
            "2021-04-25      1\n",
            "2022-08-25      1\n",
            "Name: registration_date, Length: 416, dtype: int64\n",
            "\n",
            "\n",
            "U    2852\n",
            "Name: division, dtype: int64\n",
            "\n",
            "\n",
            "Lower Junior       469\n",
            "Lower Sophomore    414\n",
            "Upper Sophomore    390\n",
            "Upper Freshman     373\n",
            "Upper Junior       363\n",
            "Upper Senior       340\n",
            "Lower Senior       272\n",
            "Lower Freshman     209\n",
            "2nd Degree          20\n",
            "0                    2\n",
            "Name: level, dtype: int64\n",
            "\n",
            "\n",
            "Continuing      2174\n",
            "0                628\n",
            "Readmitted        38\n",
            "New Transfer       8\n",
            "New CUNY           3\n",
            "College Now        1\n",
            "Name: admission, dtype: int64\n",
            "\n",
            "\n",
            "COMPSC-BS               1591\n",
            "UNDECL-BA                506\n",
            "Other                    461\n",
            "INFOSCI-BS               246\n",
            "MULTI-BS                  42\n",
            "COMPSC-BS|INFOSCI-BS       2\n",
            "COMPSC-BS|UNDECL-BA        2\n",
            "INFOSCI-BS|MULTI-BS        1\n",
            "COMPSC-BS|MULTI-BS         1\n",
            "Name: Major, dtype: int64\n",
            "\n",
            "\n",
            "Pass     1475\n",
            "Drop      901\n",
            "Fail      475\n",
            "Audit       1\n",
            "Name: passfaildrop, dtype: int64\n",
            "\n",
            "\n",
            "W      735\n",
            "A      315\n",
            "C      312\n",
            "F      300\n",
            "B      274\n",
            "A-     148\n",
            "B+     137\n",
            "A+     102\n",
            "B-      98\n",
            "C+      89\n",
            "D       85\n",
            "WD      74\n",
            "WU      72\n",
            "C-      39\n",
            "D+      27\n",
            "WN      15\n",
            "FIN     11\n",
            "D-       9\n",
            "WA       5\n",
            "INC      4\n",
            "AUD      1\n",
            "Name: grade, dtype: int64\n",
            "\n",
            "\n",
            "M    2092\n",
            "F     751\n",
            "T       5\n",
            "U       2\n",
            "0       2\n",
            "Name: gender, dtype: int64\n",
            "\n",
            "\n",
            "E10181    5\n",
            "E12472    5\n",
            "E12549    4\n",
            "E12699    4\n",
            "E13392    4\n",
            "         ..\n",
            "E13671    1\n",
            "E13406    1\n",
            "E13603    1\n",
            "E13542    1\n",
            "E13817    1\n",
            "Name: eid, Length: 1814, dtype: int64\n",
            "\n",
            "\n",
            "S126    413\n",
            "S119    308\n",
            "S106    258\n",
            "S130    157\n",
            "S116    137\n",
            "S103    120\n",
            "S114    119\n",
            "S105    119\n",
            "S113    119\n",
            "S115    119\n",
            "S128    118\n",
            "S129    118\n",
            "S102    117\n",
            "S118    116\n",
            "S125     88\n",
            "S202     77\n",
            "S120     76\n",
            "S121     59\n",
            "S131     59\n",
            "S122     51\n",
            "S107     49\n",
            "S124     30\n",
            "S123     16\n",
            "S108      9\n",
            "Name: section, dtype: int64\n",
            "\n",
            "\n",
            "T010    265\n",
            "T012    259\n",
            "T112    258\n",
            "T117    239\n",
            "T006    205\n",
            "T107    183\n",
            "T009    171\n",
            "T116    168\n",
            "T101    122\n",
            "T110    119\n",
            "T104    115\n",
            "T102    105\n",
            "T013     99\n",
            "T113     99\n",
            "T014     98\n",
            "T111     88\n",
            "T001     79\n",
            "T118     60\n",
            "T008     57\n",
            "T108     40\n",
            "T105     23\n",
            "Name: Instructor, dtype: int64\n",
            "\n",
            "\n",
            "TT    1619\n",
            "PT    1233\n",
            "Name: Instructor type, dtype: int64\n",
            "\n",
            "\n"
          ]
        }
      ],
      "source": [
        "## Each unique value within a column alongside its number of appearances\n",
        "for col in df:\n",
        "  print( '{}\\n\\n'.format(df[col].value_counts()) )"
      ]
    },
    {
      "cell_type": "code",
      "execution_count": null,
      "metadata": {
        "id": "eRNG8VWJZe6G"
      },
      "outputs": [],
      "source": [
        "## Search Flags\n",
        "\n",
        "# Column: 'semester'\n",
        "semester_sp21 = (df['semester'] == 'Spring 2021')\n",
        "semester_fl21 = (df['semester'] == 'Fall 2021')\n",
        "semester_sp22 = (df['semester'] == 'Spring 2022')\n",
        "semester_fl22 = (df['semester'] == 'Fall 2022')\n",
        "\n",
        "\n",
        "# Column: 'class'\n",
        "class_cs1 = (df['class'] == 'CS1')\n",
        "class_cs2 = (df['class'] == 'CS2')\n",
        "class_cs3 = (df['class'] == 'CS3')\n",
        "\n",
        "\n",
        "# Column: 'registration_date'\n",
        "reg_sp21_first = (df['registration_date'] <= sp21_first)\n",
        "reg_sp21_last = (df['registration_date'] <= sp21_last)\n",
        "reg_sp21_oed = (df['registration_date'] <= sp21_oed)\n",
        "\n",
        "reg_fl21_first = (df['registration_date'] <= fl21_first)\n",
        "reg_fl21_last = (df['registration_date'] <= fl21_last)\n",
        "reg_fl21_oed = (df['registration_date'] <= fl21_oed)\n",
        "\n",
        "reg_sp22_first = (df['registration_date'] <= sp22_first)\n",
        "reg_sp22_last = (df['registration_date'] <= sp22_last)\n",
        "reg_sp22_oed = (df['registration_date'] <= sp22_oed)\n",
        "\n",
        "reg_fl22_first = (df['registration_date'] <= fl22_first)\n",
        "reg_fl22_last = (df['registration_date'] <= fl22_last)\n",
        "reg_fl22_oed = (df['registration_date'] <= fl22_oed)\n",
        "\n",
        "# Column: 'admission'\n",
        "admission_transfer = (\n",
        "  (df['admission'] == 'New Transfer')\n",
        "  | (df['admission'] == 'New CUNY')\n",
        ")\n",
        "admission_notTransfer = (\n",
        "  (df['admission'] != 'New Transfer')\n",
        "  & (df['admission'] != 'New CUNY')\n",
        ")\n",
        "\n",
        "\n",
        "# Column: 'Major'\n",
        "major_compsc = (\n",
        "  (df['Major'] == 'COMPSC-BS')\n",
        "  | (df['Major'] == 'COMPSC-BS|INFOSCI-BS')\n",
        "  | (df['Major'] == 'COMPSC-BS|UNDECL-BA')\n",
        "  | (df['Major'] == 'COMPSC-BS|MULTI-BS')\n",
        ")\n",
        "major_othercomp = (\n",
        "  (df['Major'] == 'INFOSCI-BS')\n",
        "  | (df['Major'] == 'MULTI-BS')\n",
        "  | (df['Major'] == 'COMPSC-BS|INFOSCI-BS')\n",
        "  | (df['Major'] == 'COMPSC-BS|MULTI-BS')\n",
        "  | (df['Major'] == 'INFOSCI-BS|MULTI-BS')\n",
        ")\n",
        "major_noncomp = (df['Major'] == 'Other')\n",
        "major_undecl = (\n",
        "  (df['Major'] == 'UNDECL-BA')\n",
        "  | (df['Major'] == 'COMPSC-BS|UNDECL-BA')\n",
        ")\n",
        "\n",
        "\n",
        "# Column: 'passfaildrop'\n",
        "pfd_pass = (df['passfaildrop'] == 'Pass')\n",
        "pfd_drop = (df['passfaildrop'] == 'Drop')\n",
        "pfd_fail = (df['passfaildrop'] == 'Fail')\n",
        "\n",
        "\n",
        "# Column: 'Instructor type'\n",
        "instructor_tt = df['Instructor type'] == 'TT'\n",
        "instructor_pt = df['Instructor type'] == 'PT'"
      ]
    },
    {
      "cell_type": "markdown",
      "metadata": {
        "id": "I-bNThiX7PM1"
      },
      "source": [
        "# CS1"
      ]
    },
    {
      "cell_type": "markdown",
      "metadata": {
        "id": "x7AGbSxw7PM2"
      },
      "source": [
        "## SP-21"
      ]
    },
    {
      "cell_type": "markdown",
      "metadata": {
        "id": "S1mp9qeUzZkN"
      },
      "source": [
        "### a"
      ]
    },
    {
      "cell_type": "code",
      "execution_count": null,
      "metadata": {
        "colab": {
          "base_uri": "https://localhost:8080/"
        },
        "id": "WMQBzLRzzZkP",
        "outputId": "04f5d28b-5928-42f2-fd48-d19fec3cca42"
      },
      "outputs": [
        {
          "output_type": "stream",
          "name": "stdout",
          "text": [
            "3. Number of sections of CS1 offered this term\n",
            "\t16\n"
          ]
        }
      ],
      "source": [
        "#### 3. Number of sections of CS1 offered this term\n",
        "\n",
        "## number of unique values within a column,\n",
        "##   counting inside a df that meets above search criteria\n",
        "searchFlags = (semester_sp21) & (class_cs1)\n",
        "count = df.loc[searchFlags]['section'].nunique()\n",
        "\n",
        "print(\n",
        "  '3. Number of sections of CS1 offered this term'\n",
        "  '\\n\\t{}'.format(count)\n",
        ")"
      ]
    },
    {
      "cell_type": "code",
      "execution_count": null,
      "metadata": {
        "colab": {
          "base_uri": "https://localhost:8080/"
        },
        "id": "Cv-_AHy0I_JH",
        "outputId": "80506116-5e75-4e7e-8c6c-67c770282aaa"
      },
      "outputs": [
        {
          "output_type": "stream",
          "name": "stdout",
          "text": [
            "4. Number of tenured/tenure-track faculty teaching CS1 this term\n",
            "\t6\n"
          ]
        }
      ],
      "source": [
        "#4. Number of tenured/tenure-track faculty teaching CS1 this term\n",
        "\n",
        "## number of unique values within a column,\n",
        "##   counting inside a df that meets above search criteria\n",
        "searchFlags = (semester_sp21) & (class_cs1) & (instructor_tt)\n",
        "count = df.loc[searchFlags]['Instructor'].nunique()\n",
        "\n",
        "print(\n",
        "  '4. Number of tenured/tenure-track faculty teaching CS1 this term'\n",
        "  '\\n\\t{}'.format(count)\n",
        ")"
      ]
    },
    {
      "cell_type": "code",
      "execution_count": null,
      "metadata": {
        "colab": {
          "base_uri": "https://localhost:8080/"
        },
        "id": "xKmLWheRI-65",
        "outputId": "ca876f62-7ef8-4d5c-86f6-41a4c279f45e"
      },
      "outputs": [
        {
          "output_type": "stream",
          "name": "stdout",
          "text": [
            "6. Number of part-time faculty teaching CS1 this term\n",
            "\t4\n"
          ]
        }
      ],
      "source": [
        "#6. Number of part-time faculty teaching CS1 this term\n",
        "\n",
        "## number of unique values within a column,\n",
        "##   counting inside a df that meets above search criteria\n",
        "searchFlags = (semester_sp21) & (class_cs1) & (instructor_pt)\n",
        "count = df.loc[searchFlags]['Instructor'].nunique()\n",
        "\n",
        "print(\n",
        "  '6. Number of part-time faculty teaching CS1 this term'\n",
        "  '\\n\\t{}'.format(count)\n",
        ")"
      ]
    },
    {
      "cell_type": "markdown",
      "metadata": {
        "id": "zoHeNadS9aQB"
      },
      "source": [
        "### b"
      ]
    },
    {
      "cell_type": "code",
      "execution_count": null,
      "metadata": {
        "colab": {
          "base_uri": "https://localhost:8080/"
        },
        "id": "IKQ19C6HL6_I",
        "outputId": "4abe9328-bdbf-4f1a-dfac-3871c7a2b53c"
      },
      "outputs": [
        {
          "output_type": "stream",
          "name": "stdout",
          "text": [
            "10. Number of students enrolled in CS1 on Day 1 of this Academic Term\n",
            "\n",
            "gender\n",
            "F    125\n",
            "M    281\n",
            "Name: eid, dtype: int64\n",
            "\n",
            "Total: 406\n"
          ]
        }
      ],
      "source": [
        "#10. Number of students enrolled in CS1 on Day 1 of this Academic Term\n",
        "\n",
        "## number of records that meet the search criteria\n",
        "searchFlags = (semester_sp21) & (class_cs1) & (reg_sp21_first)\n",
        "count_gender = df.loc[searchFlags].groupby('gender')['eid'].nunique()\n",
        "count_total = df.loc[searchFlags]['eid'].nunique()\n",
        "\n",
        "print(\n",
        "  '10. Number of students enrolled in CS1 on Day 1 of this Academic Term'\n",
        "  '\\n\\n{}'\n",
        "  '\\n\\nTotal: {}'.format(count_gender, count_total)\n",
        ")"
      ]
    },
    {
      "cell_type": "code",
      "execution_count": null,
      "metadata": {
        "colab": {
          "base_uri": "https://localhost:8080/"
        },
        "id": "cW4nijsyL8l-",
        "outputId": "9247d355-d072-479b-c3fd-e9dfd7bc9720"
      },
      "outputs": [
        {
          "output_type": "stream",
          "name": "stdout",
          "text": [
            "11. Number of students who added the course by Official Enrollment Day, after Day 1\n",
            "\t17\n"
          ]
        }
      ],
      "source": [
        "#### 11. Changes in CS1 enrollment between Day 1 and Official Enrollment Day\n",
        "\n",
        "\n",
        "# Number of students who added the course by Official Enrollment Day\n",
        "registration_add = (df['registration_date'] > sp21_first) & (reg_sp21_oed)\n",
        "searchFlags_add = (semester_sp21) & (class_cs1) & (registration_add)\n",
        "count_add = df.loc[searchFlags_add]['eid'].nunique()\n",
        "\n",
        "print(\n",
        "'11. Number of students who added the course by Official Enrollment Day, after Day 1'\n",
        "'\\n\\t{}'.format(count_add)\n",
        ")\n",
        "\n",
        "# Number of students who dropped the course by Official Enrollment Day\n",
        "# - Unaswerable"
      ]
    },
    {
      "cell_type": "code",
      "execution_count": null,
      "metadata": {
        "colab": {
          "base_uri": "https://localhost:8080/"
        },
        "id": "W9scCW0JL8eO",
        "outputId": "c2b74ed0-8f08-4884-cfbf-ef3261198886"
      },
      "outputs": [
        {
          "output_type": "stream",
          "name": "stdout",
          "text": [
            "12. Number of students enrolled in CS1 as of Official Enrollment Day\n",
            "\n",
            "gender\n",
            "F    130\n",
            "M    291\n",
            "Name: eid, dtype: int64\n",
            "\n",
            "Total: 421\n"
          ]
        }
      ],
      "source": [
        "#12. Number of students enrolled in CS1 as of Official Enrollment Day\n",
        "\n",
        "## number of records that meet the search criteria\n",
        "searchFlags = (semester_sp21) & (class_cs1) & (reg_sp21_oed)\n",
        "count_gender = df.loc[searchFlags].groupby('gender')['eid'].nunique()\n",
        "count_total = df.loc[searchFlags]['eid'].nunique()\n",
        "\n",
        "print(\n",
        "  '12. Number of students enrolled in CS1 as of Official Enrollment Day'\n",
        "  '\\n\\n{}'\n",
        "  '\\n\\nTotal: {}'.format(count_gender, count_total)\n",
        ")"
      ]
    },
    {
      "cell_type": "code",
      "execution_count": null,
      "metadata": {
        "colab": {
          "base_uri": "https://localhost:8080/"
        },
        "id": "8x1CrKRRL8Qu",
        "outputId": "34016fed-eb1c-43e2-95da-d80f3678fb0b"
      },
      "outputs": [
        {
          "output_type": "stream",
          "name": "stdout",
          "text": [
            "15. Number of students enrolled in CS1 who were external transfers\n",
            "\n",
            "gender\n",
            "F    1\n",
            "Name: eid, dtype: int64\n",
            "\n",
            "Total: 1\n"
          ]
        }
      ],
      "source": [
        "#15. Number of students enrolled in CS1 who were external transfers\n",
        "\n",
        "## number of records that meet the search criteria\n",
        "searchFlags = (semester_sp21) & (class_cs1) & (admission_transfer)\n",
        "count_gender =  df.loc[searchFlags].groupby('gender')['eid'].nunique()\n",
        "count_total =  df.loc[searchFlags]['eid'].nunique()\n",
        "\n",
        "print(\n",
        "  '15. Number of students enrolled in CS1 who were external transfers'\n",
        "  '\\n\\n{}'\n",
        "  '\\n\\nTotal: {}'.format(count_gender, count_total)\n",
        ")"
      ]
    },
    {
      "cell_type": "code",
      "execution_count": null,
      "metadata": {
        "colab": {
          "base_uri": "https://localhost:8080/"
        },
        "id": "zucGiiq-L8LY",
        "outputId": "2566b2b1-11fc-400c-b2a1-66fba4bc3a2a"
      },
      "outputs": [
        {
          "output_type": "stream",
          "name": "stdout",
          "text": [
            "16. Number of declared Computer Science majors enrolled in CS1\n",
            "\n",
            "gender\n",
            "F     43\n",
            "M    144\n",
            "Name: eid, dtype: int64\n",
            "\n",
            "Total: 187\n"
          ]
        }
      ],
      "source": [
        "#### 16. Number of declared Computer Science majors enrolled in CS1\n",
        "\n",
        "## number of records that meet the search criteria\n",
        "searchFlags = (semester_sp21) & (class_cs1) & (major_compsc)\n",
        "count_gender = df.loc[searchFlags].groupby('gender')['eid'].nunique()\n",
        "count_total = df.loc[searchFlags]['eid'].nunique()\n",
        "\n",
        "print(\n",
        "  '16. Number of declared Computer Science majors enrolled in CS1'\n",
        "  '\\n\\n{}'\n",
        "  '\\n\\nTotal: {}'.format(count_gender, count_total)\n",
        ")"
      ]
    },
    {
      "cell_type": "code",
      "execution_count": null,
      "metadata": {
        "colab": {
          "base_uri": "https://localhost:8080/"
        },
        "id": "-VtqLyHmL8GF",
        "outputId": "59088f2d-0d6a-4513-8d26-ad4df14c92b2"
      },
      "outputs": [
        {
          "output_type": "stream",
          "name": "stdout",
          "text": [
            "17. Number of other computing major majors enrolled in CS1\n",
            "\n",
            "gender\n",
            "F    15\n",
            "M    30\n",
            "Name: eid, dtype: int64\n",
            "\n",
            "Total: 45\n"
          ]
        }
      ],
      "source": [
        "#### 17. Number of Other Computing majors enrolled in CS1\n",
        "\n",
        "## number of records that meet the search criteria\n",
        "searchFlags = (semester_sp21) & (class_cs1) & (major_othercomp)\n",
        "count_gender = df.loc[searchFlags].groupby('gender')['eid'].nunique()\n",
        "count_total = df.loc[searchFlags]['eid'].nunique()\n",
        "\n",
        "print(\n",
        "  '17. Number of other computing major majors enrolled in CS1'\n",
        "  '\\n\\n{}'\n",
        "  '\\n\\nTotal: {}'.format(count_gender, count_total)\n",
        ")"
      ]
    },
    {
      "cell_type": "code",
      "execution_count": null,
      "metadata": {
        "colab": {
          "base_uri": "https://localhost:8080/"
        },
        "id": "Aq8b3TdIL8BL",
        "outputId": "dc42bb8e-ad30-49ab-8b27-43b67183f133"
      },
      "outputs": [
        {
          "output_type": "stream",
          "name": "stdout",
          "text": [
            "18. Number of Non Computing Science majors enrolled in CS1\n",
            "\n",
            "gender\n",
            "F    50\n",
            "M    60\n",
            "Name: eid, dtype: int64\n",
            "\n",
            "Total: 110\n"
          ]
        }
      ],
      "source": [
        "#### 18. Number of Non-Computing majors enrolled in CS1\n",
        "\n",
        "## number of records that meet the search criteria\n",
        "searchFlags = (semester_sp21) & (class_cs1) & (major_noncomp)\n",
        "count_gender = df.loc[searchFlags].groupby('gender')['eid'].nunique()\n",
        "count_total = df.loc[searchFlags]['eid'].nunique()\n",
        "\n",
        "print(\n",
        "  '18. Number of Non Computing Science majors enrolled in CS1'\n",
        "  '\\n\\n{}'\n",
        "  '\\n\\nTotal: {}'.format(count_gender, count_total)\n",
        ")"
      ]
    },
    {
      "cell_type": "code",
      "execution_count": null,
      "metadata": {
        "colab": {
          "base_uri": "https://localhost:8080/"
        },
        "id": "TS9gMxvyL77Z",
        "outputId": "f6af40d4-7aca-4176-eff1-0fc2919731ca"
      },
      "outputs": [
        {
          "output_type": "stream",
          "name": "stdout",
          "text": [
            "19. Number of undeclared students enrolled in CS1\n",
            "\n",
            "gender\n",
            "F    22\n",
            "M    57\n",
            "Name: eid, dtype: int64\n",
            "\n",
            "Total: 79\n"
          ]
        }
      ],
      "source": [
        "#### 19. Number of Undeclared students enrolled in CS1\n",
        "\n",
        "## number of records that meet the search criteria\n",
        "searchFlags = (semester_sp21) & (class_cs1) & (major_undecl)\n",
        "count_gender = df.loc[searchFlags].groupby('gender')['eid'].nunique()\n",
        "count_total = df.loc[searchFlags]['eid'].nunique()\n",
        "\n",
        "print(\n",
        "  '19. Number of undeclared students enrolled in CS1'\n",
        "  '\\n\\n{}'\n",
        "  '\\n\\nTotal: {}'.format(count_gender, count_total)\n",
        ")"
      ]
    },
    {
      "cell_type": "markdown",
      "metadata": {
        "id": "-G3C3wwYlbzj"
      },
      "source": [
        "### c"
      ]
    },
    {
      "cell_type": "code",
      "execution_count": null,
      "metadata": {
        "colab": {
          "base_uri": "https://localhost:8080/"
        },
        "id": "PMAYw2vxlbzk",
        "outputId": "59ded8a5-015e-4450-9df6-65d492613f5a"
      },
      "outputs": [
        {
          "output_type": "stream",
          "name": "stdout",
          "text": [
            "20. Number of declared Computer Science majors who completed/passed CS1\n",
            "\n",
            "gender\n",
            "F    24\n",
            "M    84\n",
            "Name: eid, dtype: int64\n",
            "\n",
            "Total: 108\n"
          ]
        }
      ],
      "source": [
        "#### 20. Number of declared Computer Science majors who completed/passed CS1\n",
        "\n",
        "## number of records that meet the search criteria\n",
        "searchFlags = (semester_sp21) & (class_cs1) & (major_compsc) & (pfd_pass)\n",
        "count_gender = df.loc[searchFlags].groupby('gender')['eid'].nunique()\n",
        "count_total = df.loc[searchFlags]['eid'].nunique()\n",
        "\n",
        "print(\n",
        "  '20. Number of declared Computer Science majors who completed/passed CS1'\n",
        "  '\\n\\n{}'\n",
        "  '\\n\\nTotal: {}'.format(count_gender, count_total)\n",
        ")"
      ]
    },
    {
      "cell_type": "code",
      "execution_count": null,
      "metadata": {
        "colab": {
          "base_uri": "https://localhost:8080/"
        },
        "id": "djO8DsKvlbzl",
        "outputId": "1c21a356-db61-4139-9dc9-2a44a183eb6c"
      },
      "outputs": [
        {
          "output_type": "stream",
          "name": "stdout",
          "text": [
            "21. Number of Other Computing majors who completed/passed CS1\n",
            "\n",
            "gender\n",
            "F     7\n",
            "M    14\n",
            "Name: eid, dtype: int64\n",
            "\n",
            "Total: 21\n"
          ]
        }
      ],
      "source": [
        "#### 21. Number of Other Computing majors who completed/passed CS1\n",
        "\n",
        "## number of records that meet the search criteria\n",
        "searchFlags = (semester_sp21) & (class_cs1) & (major_othercomp) & (pfd_pass)\n",
        "count_gender = df.loc[searchFlags].groupby('gender')['eid'].nunique()\n",
        "count_total = df.loc[searchFlags]['eid'].nunique()\n",
        "\n",
        "print(\n",
        "  '21. Number of Other Computing majors who completed/passed CS1'\n",
        "  '\\n\\n{}'\n",
        "  '\\n\\nTotal: {}'.format(count_gender, count_total)\n",
        ")"
      ]
    },
    {
      "cell_type": "code",
      "execution_count": null,
      "metadata": {
        "colab": {
          "base_uri": "https://localhost:8080/"
        },
        "id": "8ZXw3WU0lbzm",
        "outputId": "c1e48307-9375-48e2-86c3-5a857cd70125"
      },
      "outputs": [
        {
          "output_type": "stream",
          "name": "stdout",
          "text": [
            "22. Number of Non-Computing majors who completed/passed CS1\n",
            "\n",
            "gender\n",
            "F    18\n",
            "M    20\n",
            "Name: eid, dtype: int64\n",
            "\n",
            "Total: 38\n"
          ]
        }
      ],
      "source": [
        "#### 22. Number of Non-Computing majors who completed/passed CS1\n",
        "\n",
        "## number of records that meet the search criteria\n",
        "searchFlags = (semester_sp21) & (class_cs1) & (major_noncomp) & (pfd_pass)\n",
        "count_gender = df.loc[searchFlags].groupby('gender')['eid'].nunique()\n",
        "count_total = df.loc[searchFlags]['eid'].nunique()\n",
        "\n",
        "print(\n",
        "  '22. Number of Non-Computing majors who completed/passed CS1'\n",
        "  '\\n\\n{}'\n",
        "  '\\n\\nTotal: {}'.format(count_gender, count_total)\n",
        ")"
      ]
    },
    {
      "cell_type": "code",
      "execution_count": null,
      "metadata": {
        "colab": {
          "base_uri": "https://localhost:8080/"
        },
        "id": "llYaWY9Llbzn",
        "outputId": "3303cc53-24b9-47e5-8710-b8d295dde76c"
      },
      "outputs": [
        {
          "output_type": "stream",
          "name": "stdout",
          "text": [
            "23. Number of Undeclared students who completed/passed CS1\n",
            "\n",
            "gender\n",
            "F     6\n",
            "M    15\n",
            "Name: eid, dtype: int64\n",
            "\n",
            "Total: 21\n"
          ]
        }
      ],
      "source": [
        "#### 23. Number of Undeclared students who completed/passed CS1\n",
        "\n",
        "## number of records that meet the search criteria\n",
        "searchFlags = (semester_sp21) & (class_cs1) & (major_undecl) & (pfd_pass)\n",
        "count_gender = df.loc[searchFlags].groupby('gender')['eid'].nunique()\n",
        "count_total = df.loc[searchFlags]['eid'].nunique()\n",
        "\n",
        "print(\n",
        "  '23. Number of Undeclared students who completed/passed CS1'\n",
        "  '\\n\\n{}'\n",
        "  '\\n\\nTotal: {}'.format(count_gender, count_total)\n",
        ")"
      ]
    },
    {
      "cell_type": "code",
      "execution_count": null,
      "metadata": {
        "colab": {
          "base_uri": "https://localhost:8080/"
        },
        "id": "deYJ3UtXlbzo",
        "outputId": "a0348a0f-d4d3-4e0a-849e-d656d50b72a2"
      },
      "outputs": [
        {
          "output_type": "stream",
          "name": "stdout",
          "text": [
            "24. Number of external transfer students (reported in Question 15)\n",
            "    who completed/passed CS1\n",
            "\n",
            "Series([], Name: eid, dtype: int64)\n",
            "\n",
            "Total: 0\n"
          ]
        }
      ],
      "source": [
        "#### 24. Number of external transfer students (reported in Question 15)\n",
        "####     who completed/passed CS1\n",
        "\n",
        "## number of records that meet the search criteria\n",
        "searchFlags = (semester_sp21) & (class_cs1) & (admission_transfer) & (pfd_pass)\n",
        "count_gender = df.loc[searchFlags].groupby('gender')['eid'].nunique()\n",
        "count_total = df.loc[searchFlags]['eid'].nunique()\n",
        "\n",
        "print(\n",
        "  '24. Number of external transfer students (reported in Question 15)\\n'\n",
        "  '    who completed/passed CS1'\n",
        "  '\\n\\n{}'\n",
        "  '\\n\\nTotal: {}'.format(count_gender, count_total)\n",
        ")"
      ]
    },
    {
      "cell_type": "code",
      "execution_count": null,
      "metadata": {
        "colab": {
          "base_uri": "https://localhost:8080/"
        },
        "id": "Csjfg9PBlbzo",
        "outputId": "bd9410e9-fbe4-4f21-b268-eab44a32f89d"
      },
      "outputs": [
        {
          "output_type": "stream",
          "name": "stdout",
          "text": [
            "25. Number of declared Computer Science majors who completed CS1\n",
            "    and are already registered for CS2\n",
            "\n",
            "gender\n",
            "F    11\n",
            "M    29\n",
            "Name: eid, dtype: int64\n",
            "\n",
            "Total: 40\n"
          ]
        }
      ],
      "source": [
        "#### 25. Number of declared Computer Science majors who completed CS1\n",
        "####     and are already registered for CS2\n",
        "\n",
        "## number of records that meet the search criteria\n",
        "searchFlags_curr = (semester_sp21) & (class_cs1) & (major_compsc) & (pfd_pass)\n",
        "searchFlags_next = (semester_fl21) & (class_cs2) & (reg_sp21_last)\n",
        "bools = df.loc[searchFlags_curr]['eid'].isin(df.loc[searchFlags_next]['eid'])\n",
        "\n",
        "count_gender = df.loc[searchFlags_curr][bools.values].groupby('gender')['eid'].nunique()\n",
        "count_total = df.loc[searchFlags_curr][bools.values]['eid'].nunique()\n",
        "\n",
        "print(\n",
        "  '25. Number of declared Computer Science majors who completed CS1\\n'\n",
        "  '    and are already registered for CS2'\n",
        "  '\\n\\n{}'\n",
        "  '\\n\\nTotal: {}'.format(count_gender, count_total)\n",
        ")"
      ]
    },
    {
      "cell_type": "code",
      "execution_count": null,
      "metadata": {
        "colab": {
          "base_uri": "https://localhost:8080/"
        },
        "id": "zC1WV6ZTlbzp",
        "outputId": "21d0cc29-057f-459f-ecb6-92fffe9c90e8"
      },
      "outputs": [
        {
          "output_type": "stream",
          "name": "stdout",
          "text": [
            "26. Number of Other Computing majors who completed CS1\n",
            "    and are already registered for CS2\n",
            "\n",
            "gender\n",
            "F    4\n",
            "M    1\n",
            "Name: eid, dtype: int64\n",
            "\n",
            "Total: 5\n"
          ]
        }
      ],
      "source": [
        "#### 26. Number of Other Computing majors who completed CS1\n",
        "####     and are already registered for CS2\n",
        "\n",
        "## number of records that meet the search criteria\n",
        "searchFlags_curr = (semester_sp21) & (class_cs1) & (major_othercomp) & (pfd_pass)\n",
        "searchFlags_next = (semester_fl21) & (class_cs2) & (reg_sp21_last)\n",
        "bools = df.loc[searchFlags_curr]['eid'].isin(df.loc[searchFlags_next]['eid'])\n",
        "\n",
        "count_gender = df.loc[searchFlags_curr][bools.values].groupby('gender')['eid'].nunique()\n",
        "count_total = df.loc[searchFlags_curr][bools.values]['eid'].nunique()\n",
        "\n",
        "print(\n",
        "  '26. Number of Other Computing majors who completed CS1\\n'\n",
        "  '    and are already registered for CS2'\n",
        "  '\\n\\n{}'\n",
        "  '\\n\\nTotal: {}'.format(count_gender, count_total)\n",
        ")"
      ]
    },
    {
      "cell_type": "code",
      "execution_count": null,
      "metadata": {
        "colab": {
          "base_uri": "https://localhost:8080/"
        },
        "id": "BS8jjVRAlbzr",
        "outputId": "52f08814-bd95-4bb5-95a6-1d4b35433e03"
      },
      "outputs": [
        {
          "output_type": "stream",
          "name": "stdout",
          "text": [
            "27. Number of Non-Computing majors who completed CS1\n",
            "    and are already registered for CS2\n",
            "\n",
            "gender\n",
            "M    3\n",
            "Name: eid, dtype: int64\n",
            "\n",
            "Total: 3\n"
          ]
        }
      ],
      "source": [
        "#### 27. Number of Non-Computing majors who completed CS1\n",
        "####     and are already registered for CS2\n",
        "\n",
        "## number of records that meet the search criteria\n",
        "searchFlags_curr = (semester_sp21) & (class_cs1) & (major_noncomp) & (pfd_pass)\n",
        "searchFlags_next = (semester_fl21) & (class_cs2) & (reg_sp21_last)\n",
        "bools = df.loc[searchFlags_curr]['eid'].isin(df.loc[searchFlags_next]['eid'])\n",
        "\n",
        "count_gender = df.loc[searchFlags_curr][bools.values].groupby('gender')['eid'].nunique()\n",
        "count_total = df.loc[searchFlags_curr][bools.values]['eid'].nunique()\n",
        "\n",
        "print(\n",
        "  '27. Number of Non-Computing majors who completed CS1\\n'\n",
        "  '    and are already registered for CS2'\n",
        "  '\\n\\n{}'\n",
        "  '\\n\\nTotal: {}'.format(count_gender, count_total)\n",
        ")"
      ]
    },
    {
      "cell_type": "code",
      "execution_count": null,
      "metadata": {
        "colab": {
          "base_uri": "https://localhost:8080/"
        },
        "id": "4FO6FLhGlbzs",
        "outputId": "a1d86bba-f04e-470a-f2a9-d1f7661c8f1f"
      },
      "outputs": [
        {
          "output_type": "stream",
          "name": "stdout",
          "text": [
            "28. Number of Undeclared students who completed CS1\n",
            "    and are already registered for CS2\n",
            "\n",
            "gender\n",
            "F    2\n",
            "M    4\n",
            "Name: eid, dtype: int64\n",
            "\n",
            "Total: 6\n"
          ]
        }
      ],
      "source": [
        "#### 28. Number of Undeclared students who completed CS1\n",
        "####     and are already registered for CS2\n",
        "\n",
        "## number of records that meet the search criteria\n",
        "searchFlags_curr = (semester_sp21) & (class_cs1) & (major_undecl) & (pfd_pass)\n",
        "searchFlags_next = (semester_fl21) & (class_cs2) & (reg_sp21_last)\n",
        "bools = df.loc[searchFlags_curr]['eid'].isin(df.loc[searchFlags_next]['eid'])\n",
        "\n",
        "count_gender = df.loc[searchFlags_curr][bools.values].groupby('gender')['eid'].nunique()\n",
        "count_total = df.loc[searchFlags_curr][bools.values]['eid'].nunique()\n",
        "\n",
        "print(\n",
        "  '28. Number of Undeclared students who completed CS1\\n'\n",
        "  '    and are already registered for CS2'\n",
        "  '\\n\\n{}'\n",
        "  '\\n\\nTotal: {}'.format(count_gender, count_total)\n",
        ")"
      ]
    },
    {
      "cell_type": "code",
      "execution_count": null,
      "metadata": {
        "colab": {
          "base_uri": "https://localhost:8080/"
        },
        "id": "CQmbRFPclbzt",
        "outputId": "3092d6e3-a5d6-4047-e5d8-9ccdace6594e"
      },
      "outputs": [
        {
          "output_type": "stream",
          "name": "stdout",
          "text": [
            "29. Number of external transfer students (reported in Question 15)\n",
            "    who completed CS1 and are already registered for CS2\n",
            "\n",
            "Series([], Name: eid, dtype: int64)\n",
            "\n",
            "Total: 0\n"
          ]
        }
      ],
      "source": [
        "#### 29. Number of external transfer students (reported in Question 15)\n",
        "####     who completed CS1 and are already registered for CS2\n",
        "\n",
        "## number of records that meet the search criteria\n",
        "searchFlags_curr = (semester_sp21) & (class_cs1) & (admission_transfer) & (pfd_pass)\n",
        "searchFlags_next = (semester_fl21) & (class_cs2) & (reg_sp21_last)\n",
        "bools = df.loc[searchFlags_curr]['eid'].isin(df.loc[searchFlags_next]['eid'])\n",
        "\n",
        "count_gender = df.loc[searchFlags_curr][bools.values].groupby('gender')['eid'].nunique()\n",
        "count_total = df.loc[searchFlags_curr][bools.values]['eid'].nunique()\n",
        "\n",
        "print(\n",
        "  '29. Number of external transfer students (reported in Question 15)\\n'\n",
        "  '    who completed CS1 and are already registered for CS2'\n",
        "  '\\n\\n{}'\n",
        "  '\\n\\nTotal: {}'.format(count_gender, count_total)\n",
        ")"
      ]
    },
    {
      "cell_type": "markdown",
      "metadata": {
        "id": "cdyOl9xJljWH"
      },
      "source": [
        "### d"
      ]
    },
    {
      "cell_type": "code",
      "execution_count": null,
      "metadata": {
        "colab": {
          "base_uri": "https://localhost:8080/"
        },
        "id": "a2z9gkjgljWJ",
        "outputId": "29ebf19b-91f1-4831-cea7-02ec69f35469"
      },
      "outputs": [
        {
          "output_type": "stream",
          "name": "stdout",
          "text": [
            "30. Number of declared Computer Science majors who withdrew from CS1\n",
            "\n",
            "gender\n",
            "F    12\n",
            "M    37\n",
            "Name: eid, dtype: int64\n",
            "\n",
            "Total: 49\n"
          ]
        }
      ],
      "source": [
        "#### 30. Number of declared Computer Science majors who withdrew from CS1\n",
        "\n",
        "## number of records that meet the search criteria\n",
        "searchFlags = (semester_sp21) & (class_cs1) & (major_compsc) & (pfd_drop)\n",
        "count_gender = df.loc[searchFlags].groupby('gender')['eid'].nunique()\n",
        "count_total = df.loc[searchFlags]['eid'].nunique()\n",
        "\n",
        "print(\n",
        "  '30. Number of declared Computer Science majors who withdrew from CS1'\n",
        "  '\\n\\n{}'\n",
        "  '\\n\\nTotal: {}'.format(count_gender, count_total)\n",
        ")"
      ]
    },
    {
      "cell_type": "code",
      "execution_count": null,
      "metadata": {
        "colab": {
          "base_uri": "https://localhost:8080/"
        },
        "id": "gL90PGoYljWK",
        "outputId": "e0ef1377-18a6-41a9-9479-1633d5edaea1"
      },
      "outputs": [
        {
          "output_type": "stream",
          "name": "stdout",
          "text": [
            "31. Number of Other Computing majors who withdrew from CS1\n",
            "\n",
            "gender\n",
            "F     6\n",
            "M    11\n",
            "Name: eid, dtype: int64\n",
            "\n",
            "Total: 17\n"
          ]
        }
      ],
      "source": [
        "#### 31. Number of Other Computing majors who withdrew from CS1\n",
        "\n",
        "## number of records that meet the search criteria\n",
        "searchFlags = (semester_sp21) & (class_cs1) & (major_othercomp) & (pfd_drop)\n",
        "count_gender = df.loc[searchFlags].groupby('gender')['eid'].nunique()\n",
        "count_total = df.loc[searchFlags]['eid'].nunique()\n",
        "\n",
        "print(\n",
        "  '31. Number of Other Computing majors who withdrew from CS1'\n",
        "  '\\n\\n{}'\n",
        "  '\\n\\nTotal: {}'.format(count_gender, count_total)\n",
        ")"
      ]
    },
    {
      "cell_type": "code",
      "execution_count": null,
      "metadata": {
        "colab": {
          "base_uri": "https://localhost:8080/"
        },
        "id": "X3Aeol_AljWL",
        "outputId": "b8fb81c3-7593-44f1-a71e-b70fd9f6d0af"
      },
      "outputs": [
        {
          "output_type": "stream",
          "name": "stdout",
          "text": [
            "32. Number of Non-Computing majors who withdrew from CS1\n",
            "\n",
            "gender\n",
            "F    25\n",
            "M    27\n",
            "Name: eid, dtype: int64\n",
            "\n",
            "Total: 52\n"
          ]
        }
      ],
      "source": [
        "#### 32. Number of Non-Computing majors who withdrew from CS1\n",
        "\n",
        "## number of records that meet the search criteria\n",
        "searchFlags = (semester_sp21) & (class_cs1) & (major_noncomp) & (pfd_drop)\n",
        "count_gender = df.loc[searchFlags].groupby('gender')['eid'].nunique()\n",
        "count_total = df.loc[searchFlags]['eid'].nunique()\n",
        "\n",
        "print(\n",
        "  '32. Number of Non-Computing majors who withdrew from CS1'\n",
        "  '\\n\\n{}'\n",
        "  '\\n\\nTotal: {}'.format(count_gender, count_total)\n",
        ")"
      ]
    },
    {
      "cell_type": "code",
      "execution_count": null,
      "metadata": {
        "colab": {
          "base_uri": "https://localhost:8080/"
        },
        "id": "3Z0BR1btljWM",
        "outputId": "1b4c9ac4-f6d9-4172-9564-cacb1522856f"
      },
      "outputs": [
        {
          "output_type": "stream",
          "name": "stdout",
          "text": [
            "33. Number of Undeclared students who withdrew from CS1\n",
            "\n",
            "gender\n",
            "F    11\n",
            "M    26\n",
            "Name: eid, dtype: int64\n",
            "\n",
            "Total: 37\n"
          ]
        }
      ],
      "source": [
        "#### 33. Number of Undeclared students who withdrew from CS1\n",
        "\n",
        "## number of records that meet the search criteria\n",
        "searchFlags = (semester_sp21) & (class_cs1) & (major_undecl) & (pfd_drop)\n",
        "count_gender = df.loc[searchFlags].groupby('gender')['eid'].nunique()\n",
        "count_total = df.loc[searchFlags]['eid'].nunique()\n",
        "\n",
        "print(\n",
        "  '33. Number of Undeclared students who withdrew from CS1'\n",
        "  '\\n\\n{}'\n",
        "  '\\n\\nTotal: {}'.format(count_gender, count_total)\n",
        ")"
      ]
    },
    {
      "cell_type": "code",
      "execution_count": null,
      "metadata": {
        "colab": {
          "base_uri": "https://localhost:8080/"
        },
        "id": "c2vRhcALljWN",
        "outputId": "7a7488d5-5704-4199-ce0b-9dd2bcf7d088"
      },
      "outputs": [
        {
          "output_type": "stream",
          "name": "stdout",
          "text": [
            "34. Number of external transfer students (reported in Question 15)\n",
            "    who withdrew from CS1\n",
            "\n",
            "gender\n",
            "F    1\n",
            "Name: eid, dtype: int64\n",
            "\n",
            "Total: 1\n"
          ]
        }
      ],
      "source": [
        "#### 34. Number of external transfer students (reported in Question 15)\n",
        "####     who withdrew from CS1\n",
        "\n",
        "## number of records that meet the search criteria\n",
        "searchFlags = (semester_sp21) & (class_cs1) & (admission_transfer) & (pfd_drop)\n",
        "count_gender = df.loc[searchFlags].groupby('gender')['eid'].nunique()\n",
        "count_total = df.loc[searchFlags]['eid'].nunique()\n",
        "\n",
        "print(\n",
        "  '34. Number of external transfer students (reported in Question 15)'\n",
        "  '\\n    who withdrew from CS1'\n",
        "  '\\n\\n{}'\n",
        "  '\\n\\nTotal: {}'.format(count_gender, count_total)\n",
        ")"
      ]
    },
    {
      "cell_type": "code",
      "execution_count": null,
      "metadata": {
        "colab": {
          "base_uri": "https://localhost:8080/"
        },
        "id": "vtJ9sg93ljWO",
        "outputId": "b81ca8b6-f6eb-448d-b2c9-4eb57f6d78d6"
      },
      "outputs": [
        {
          "output_type": "stream",
          "name": "stdout",
          "text": [
            "35. Number of Computer Science majors who failed CS1\n",
            "\n",
            "gender\n",
            "F     9\n",
            "M    23\n",
            "Name: eid, dtype: int64\n",
            "\n",
            "Total: 32\n"
          ]
        }
      ],
      "source": [
        "#### 35. Number of Computer Science majors who failed CS1\n",
        "\n",
        "## number of records that meet the search criteria\n",
        "searchFlags = (semester_sp21) & (class_cs1) & (major_compsc) & (pfd_fail)\n",
        "count_gender = df.loc[searchFlags].groupby('gender')['eid'].nunique()\n",
        "count_total = df.loc[searchFlags]['eid'].nunique()\n",
        "\n",
        "print(\n",
        "  '35. Number of Computer Science majors who failed CS1'\n",
        "  '\\n\\n{}'\n",
        "  '\\n\\nTotal: {}'.format(count_gender, count_total)\n",
        ")"
      ]
    },
    {
      "cell_type": "code",
      "execution_count": null,
      "metadata": {
        "colab": {
          "base_uri": "https://localhost:8080/"
        },
        "id": "05_TT_gWljWP",
        "outputId": "921d6c5e-3fc5-46b8-bc66-cdcd9999df51"
      },
      "outputs": [
        {
          "output_type": "stream",
          "name": "stdout",
          "text": [
            "36. Number of Other Computing majors who failed CS1\n",
            "\n",
            "gender\n",
            "F    2\n",
            "M    5\n",
            "Name: eid, dtype: int64\n",
            "\n",
            "Total: 7\n"
          ]
        }
      ],
      "source": [
        "#### 36. Number of Other Computing majors who failed CS1\n",
        "\n",
        "## number of records that meet the search criteria\n",
        "searchFlags = (semester_sp21) & (class_cs1) & (major_othercomp) & (pfd_fail)\n",
        "count_gender = df.loc[searchFlags].groupby('gender')['eid'].nunique()\n",
        "count_total = df.loc[searchFlags]['eid'].nunique()\n",
        "\n",
        "print(\n",
        "  '36. Number of Other Computing majors who failed CS1'\n",
        "  '\\n\\n{}'\n",
        "  '\\n\\nTotal: {}'.format(count_gender, count_total)\n",
        ")"
      ]
    },
    {
      "cell_type": "code",
      "execution_count": null,
      "metadata": {
        "colab": {
          "base_uri": "https://localhost:8080/"
        },
        "id": "Mfhua8ZgljWP",
        "outputId": "1b72d09a-4e8b-4dcd-eb8f-61deb7b845af"
      },
      "outputs": [
        {
          "output_type": "stream",
          "name": "stdout",
          "text": [
            "37. Number of Non-Computing majors who failed CS1\n",
            "\n",
            "gender\n",
            "F     7\n",
            "M    12\n",
            "Name: eid, dtype: int64\n",
            "\n",
            "Total: 19\n"
          ]
        }
      ],
      "source": [
        "#### 37. Number of Non-Computing majors who failed CS1\n",
        "\n",
        "## number of records that meet the search criteria\n",
        "searchFlags = (semester_sp21) & (class_cs1) & (major_noncomp) & (pfd_fail)\n",
        "count_gender = df.loc[searchFlags].groupby('gender')['eid'].nunique()\n",
        "count_total = df.loc[searchFlags]['eid'].nunique()\n",
        "\n",
        "print(\n",
        "  '37. Number of Non-Computing majors who failed CS1'\n",
        "  '\\n\\n{}'\n",
        "  '\\n\\nTotal: {}'.format(count_gender, count_total)\n",
        ")"
      ]
    },
    {
      "cell_type": "code",
      "execution_count": null,
      "metadata": {
        "colab": {
          "base_uri": "https://localhost:8080/"
        },
        "id": "SD1UlleFljWQ",
        "outputId": "85a7e66b-ae6d-43bf-e5b1-7865e0daa6b4"
      },
      "outputs": [
        {
          "output_type": "stream",
          "name": "stdout",
          "text": [
            "38. Number of Undeclared students who failed CS1\n",
            "\n",
            "gender\n",
            "F     5\n",
            "M    16\n",
            "Name: eid, dtype: int64\n",
            "\n",
            "Total: 21\n"
          ]
        }
      ],
      "source": [
        "#### 38. Number of Undeclared students who failed CS1\n",
        "\n",
        "## number of records that meet the search criteria\n",
        "searchFlags = (semester_sp21) & (class_cs1) & (major_undecl) & (pfd_fail)\n",
        "count_gender = df.loc[searchFlags].groupby('gender')['eid'].nunique()\n",
        "count_total = df.loc[searchFlags]['eid'].nunique()\n",
        "\n",
        "print(\n",
        "  '38. Number of Undeclared students who failed CS1'\n",
        "  '\\n\\n{}'\n",
        "  '\\n\\nTotal: {}'.format(count_gender, count_total)\n",
        ")"
      ]
    },
    {
      "cell_type": "code",
      "execution_count": null,
      "metadata": {
        "colab": {
          "base_uri": "https://localhost:8080/"
        },
        "id": "g0H29_4fljWR",
        "outputId": "c60f2b9e-47f4-4627-d5d3-703f3cc1f411"
      },
      "outputs": [
        {
          "output_type": "stream",
          "name": "stdout",
          "text": [
            "39. Number of external transfer students (reported in Question 15)\n",
            "    who failed CS1\n",
            "\n",
            "Series([], Name: eid, dtype: int64)\n",
            "\n",
            "Total: 0\n"
          ]
        }
      ],
      "source": [
        "#### 39. Number of external transfer students (reported in Question 15)\n",
        "####     who failed CS1\n",
        "\n",
        "## number of records that meet the search criteria\n",
        "searchFlags = (semester_sp21) & (class_cs1) & (admission_transfer) & (pfd_fail)\n",
        "count_gender = df.loc[searchFlags].groupby('gender')['eid'].nunique()\n",
        "count_total = df.loc[searchFlags]['eid'].nunique()\n",
        "\n",
        "print(\n",
        "  '39. Number of external transfer students (reported in Question 15)'\n",
        "  '\\n    who failed CS1'\n",
        "  '\\n\\n{}'\n",
        "  '\\n\\nTotal: {}'.format(count_gender, count_total)\n",
        ")"
      ]
    },
    {
      "cell_type": "markdown",
      "metadata": {
        "id": "NJuVlenN7PM3"
      },
      "source": [
        "## FL-21"
      ]
    },
    {
      "cell_type": "markdown",
      "metadata": {
        "id": "x-9DXni2zm7Q"
      },
      "source": [
        "### a"
      ]
    },
    {
      "cell_type": "code",
      "execution_count": null,
      "metadata": {
        "colab": {
          "base_uri": "https://localhost:8080/"
        },
        "id": "udv5_LmpJmBz",
        "outputId": "2de977f7-f9af-489c-d7d5-dd0a8f3f3452"
      },
      "outputs": [
        {
          "output_type": "stream",
          "name": "stdout",
          "text": [
            "3. Number of sections of CS1 offered this term\n",
            "\t14\n"
          ]
        }
      ],
      "source": [
        "# 3. Number of sections of CS1 offered this term\n",
        "\n",
        "## number of unique values within a column,\n",
        "##   counting inside a df that meets above search criteria\n",
        "searchFlags = (semester_fl21) & (class_cs1)\n",
        "count = df.loc[searchFlags]['section'].nunique()\n",
        "\n",
        "print(\n",
        "  '3. Number of sections of CS1 offered this term'\n",
        "  '\\n\\t{}'.format(count)\n",
        ")"
      ]
    },
    {
      "cell_type": "code",
      "execution_count": null,
      "metadata": {
        "colab": {
          "base_uri": "https://localhost:8080/"
        },
        "id": "S5lweuGUJl1I",
        "outputId": "7204d968-e133-4265-89dc-e4e84149e495"
      },
      "outputs": [
        {
          "output_type": "stream",
          "name": "stdout",
          "text": [
            "4. Number of tenured/tenure-track faculty teaching CS1 this term\n",
            "\t8\n"
          ]
        }
      ],
      "source": [
        "#4. Number of tenured/tenure-track faculty teaching CS1 this term\n",
        "\n",
        "## number of unique values within a column,\n",
        "##   counting inside a df that meets above search criteria\n",
        "searchFlags = (semester_fl21) & (class_cs1) & (instructor_tt)\n",
        "count = df.loc[searchFlags]['Instructor'].nunique()\n",
        "\n",
        "print(\n",
        "  '4. Number of tenured/tenure-track faculty teaching CS1 this term'\n",
        "  '\\n\\t{}'.format(count)\n",
        ")"
      ]
    },
    {
      "cell_type": "code",
      "execution_count": null,
      "metadata": {
        "colab": {
          "base_uri": "https://localhost:8080/"
        },
        "id": "OiuWzKkEJrTX",
        "outputId": "334a845a-7b21-45d6-d72b-2f9ebbaaa7b4"
      },
      "outputs": [
        {
          "output_type": "stream",
          "name": "stdout",
          "text": [
            "6. Number of part-time faculty teaching CS1 this term\n",
            "\t4\n"
          ]
        }
      ],
      "source": [
        "#6. Number of part-time faculty teaching CS1 this term\n",
        "\n",
        "## number of unique values within a column,\n",
        "##   counting inside a df that meets above search criteria\n",
        "searchFlags = (semester_fl21) & (class_cs1) & (instructor_pt)\n",
        "count = df.loc[searchFlags]['Instructor'].nunique()\n",
        "\n",
        "print(\n",
        "  '6. Number of part-time faculty teaching CS1 this term'\n",
        "  '\\n\\t{}'.format(count)\n",
        ")"
      ]
    },
    {
      "cell_type": "markdown",
      "metadata": {
        "id": "FjwdiIAj9aQC"
      },
      "source": [
        "### b"
      ]
    },
    {
      "cell_type": "code",
      "execution_count": null,
      "metadata": {
        "colab": {
          "base_uri": "https://localhost:8080/"
        },
        "id": "fPLxKQtaL-M0",
        "outputId": "30d28d66-08ac-4bce-a6f7-75f80ac581ca"
      },
      "outputs": [
        {
          "output_type": "stream",
          "name": "stdout",
          "text": [
            "10. Number of students enrolled in CS1 on Day 1 of this Academic Term\n",
            "\n",
            "gender\n",
            "F    103\n",
            "M    287\n",
            "T      2\n",
            "Name: eid, dtype: int64\n",
            "\n",
            "Total: 392\n"
          ]
        }
      ],
      "source": [
        "#10. Number of students enrolled in CS1 on Day 1 of this Academic Term\n",
        "\n",
        "## number of records that meet the search criteria\n",
        "searchFlags = (semester_fl21) & (class_cs1) & (reg_fl21_first)\n",
        "count_gender = df.loc[searchFlags].groupby('gender')['eid'].nunique()\n",
        "count_total = df.loc[searchFlags]['eid'].nunique()\n",
        "\n",
        "print(\n",
        "  '10. Number of students enrolled in CS1 on Day 1 of this Academic Term'\n",
        "  '\\n\\n{}'\n",
        "  '\\n\\nTotal: {}'.format(count_gender, count_total)\n",
        ")"
      ]
    },
    {
      "cell_type": "code",
      "execution_count": null,
      "metadata": {
        "colab": {
          "base_uri": "https://localhost:8080/"
        },
        "id": "2E8Gn2CIL-H5",
        "outputId": "cbe1399e-af7e-4d42-befb-3b08fcc97407"
      },
      "outputs": [
        {
          "output_type": "stream",
          "name": "stdout",
          "text": [
            "11. Number of students who added the course by Official Enrollment Day, after Day 1\n",
            "\t7\n"
          ]
        }
      ],
      "source": [
        "#### 11. Changes in CS1 enrollment between Day 1 and Official Enrollment Day\n",
        "\n",
        "\n",
        "# Number of students who added the course by Official Enrollment Day\n",
        "registration_add = (df['registration_date'] > fl21_first) & (reg_fl21_oed)\n",
        "searchFlags_add = (semester_fl21) & (class_cs1) & (registration_add)\n",
        "count_add = df.loc[searchFlags_add]['eid'].nunique()\n",
        "\n",
        "print(\n",
        "'11. Number of students who added the course by Official Enrollment Day, after Day 1'\n",
        "'\\n\\t{}'.format(count_add)\n",
        ")\n",
        "\n",
        "# Number of students who dropped the course by Official Enrollment Day\n",
        "# - Unaswerable"
      ]
    },
    {
      "cell_type": "code",
      "execution_count": null,
      "metadata": {
        "colab": {
          "base_uri": "https://localhost:8080/"
        },
        "id": "4RnRaKGfL-DF",
        "outputId": "6704a585-0e0a-4fb2-8c29-d9793ac6a518"
      },
      "outputs": [
        {
          "output_type": "stream",
          "name": "stdout",
          "text": [
            "12. Number of students enrolled in CS1 as of Official Enrollment Day\n",
            "\n",
            "gender\n",
            "F    108\n",
            "M    289\n",
            "T      2\n",
            "Name: eid, dtype: int64\n",
            "\n",
            "Total: 399\n"
          ]
        }
      ],
      "source": [
        "#12. Number of students enrolled in CS1 as of Official Enrollment Day\n",
        "\n",
        "## number of records that meet the search criteria\n",
        "searchFlags = (semester_fl21) & (class_cs1) & (reg_fl21_oed)\n",
        "count_gender = df.loc[searchFlags].groupby('gender')['eid'].nunique()\n",
        "count_total = df.loc[searchFlags]['eid'].nunique()\n",
        "\n",
        "print(\n",
        "  '12. Number of students enrolled in CS1 as of Official Enrollment Day'\n",
        "  '\\n\\n{}'\n",
        "  '\\n\\nTotal: {}'.format(count_gender, count_total)\n",
        ")"
      ]
    },
    {
      "cell_type": "code",
      "execution_count": null,
      "metadata": {
        "colab": {
          "base_uri": "https://localhost:8080/"
        },
        "id": "a8o4VrjrL9z9",
        "outputId": "7f1d6794-6c22-41b9-d430-a21388cb099f"
      },
      "outputs": [
        {
          "output_type": "stream",
          "name": "stdout",
          "text": [
            "15. Number of students enrolled in CS1 who were external transfers\n",
            "\n",
            "gender\n",
            "F    1\n",
            "M    1\n",
            "Name: eid, dtype: int64\n",
            "\n",
            "Total: 2\n"
          ]
        }
      ],
      "source": [
        "#15. Number of students enrolled in CS1 who were external transfers\n",
        "\n",
        "## number of records that meet the search criteria\n",
        "searchFlags = (semester_fl21) & (class_cs1) & (admission_transfer)\n",
        "count_gender = df.loc[searchFlags].groupby('gender')['eid'].nunique()\n",
        "count_total = df.loc[searchFlags]['eid'].nunique()\n",
        "\n",
        "print(\n",
        "  '15. Number of students enrolled in CS1 who were external transfers'\n",
        "  '\\n\\n{}'\n",
        "  '\\n\\nTotal: {}'.format(count_gender, count_total)\n",
        ")"
      ]
    },
    {
      "cell_type": "code",
      "execution_count": null,
      "metadata": {
        "colab": {
          "base_uri": "https://localhost:8080/"
        },
        "id": "Q2HfddF5L9vg",
        "outputId": "94184d56-f7f0-414b-fc5f-5f9c2ea3b2b8"
      },
      "outputs": [
        {
          "output_type": "stream",
          "name": "stdout",
          "text": [
            "16. Number of declared Computer Science majors enrolled in CS1\n",
            "\n",
            "gender\n",
            "F     41\n",
            "M    163\n",
            "T      2\n",
            "Name: eid, dtype: int64\n",
            "\n",
            "Total: 206\n"
          ]
        }
      ],
      "source": [
        "#16. Number of declared Computer Science majors enrolled in CS1\n",
        "\n",
        "\n",
        "## number of records that meet the search criteria\n",
        "searchFlags = (semester_fl21) & (class_cs1) & (major_compsc)\n",
        "count_gender = df.loc[searchFlags].groupby('gender')['eid'].nunique()\n",
        "count_total = df.loc[searchFlags]['eid'].nunique()\n",
        "\n",
        "print(\n",
        "  '16. Number of declared Computer Science majors enrolled in CS1'\n",
        "  '\\n\\n{}'\n",
        "  '\\n\\nTotal: {}'.format(count_gender, count_total)\n",
        ")"
      ]
    },
    {
      "cell_type": "code",
      "execution_count": null,
      "metadata": {
        "colab": {
          "base_uri": "https://localhost:8080/"
        },
        "id": "jDXVPLkSL9nj",
        "outputId": "4430d72e-a3e4-4dcc-a477-a43e02cd3141"
      },
      "outputs": [
        {
          "output_type": "stream",
          "name": "stdout",
          "text": [
            "17. Number of other Computing Science majors enrolled in CS1\n",
            "\n",
            "gender\n",
            "F    14\n",
            "M    14\n",
            "Name: eid, dtype: int64\n",
            "\n",
            "Total: 28\n"
          ]
        }
      ],
      "source": [
        "#17. Number of Other Computing majors enrolled in CS1\n",
        "\n",
        "## number of records that meet the search criteria\n",
        "searchFlags = (semester_fl21) & (class_cs1) & (major_othercomp)\n",
        "count_gender = df.loc[searchFlags].groupby('gender')['eid'].nunique()\n",
        "count_total = df.loc[searchFlags]['eid'].nunique()\n",
        "\n",
        "print(\n",
        "  '17. Number of other Computing Science majors enrolled in CS1'\n",
        "  '\\n\\n{}'\n",
        "  '\\n\\nTotal: {}'.format(count_gender, count_total)\n",
        ")"
      ]
    },
    {
      "cell_type": "code",
      "execution_count": null,
      "metadata": {
        "colab": {
          "base_uri": "https://localhost:8080/"
        },
        "id": "xiCfuUI2L9hp",
        "outputId": "02feb867-cf3e-45c1-f2cb-54504f24d205"
      },
      "outputs": [
        {
          "output_type": "stream",
          "name": "stdout",
          "text": [
            "18. Number of Non-Computing Science majors enrolled in CS1\n",
            "\n",
            "gender\n",
            "F    33\n",
            "M    52\n",
            "Name: eid, dtype: int64\n",
            "\n",
            "Total: 85\n"
          ]
        }
      ],
      "source": [
        "#18. Number of Non-Computing majors enrolled in CS1\n",
        "\n",
        "## number of records that meet the search criteria\n",
        "searchFlags = (semester_fl21) & (class_cs1) & (major_noncomp)\n",
        "count_gender = df.loc[searchFlags].groupby('gender')['eid'].nunique()\n",
        "count_total = df.loc[searchFlags]['eid'].nunique()\n",
        "\n",
        "print(\n",
        "  '18. Number of Non-Computing Science majors enrolled in CS1'\n",
        "  '\\n\\n{}'\n",
        "  '\\n\\nTotal: {}'.format(count_gender, count_total)\n",
        ")"
      ]
    },
    {
      "cell_type": "code",
      "execution_count": null,
      "metadata": {
        "colab": {
          "base_uri": "https://localhost:8080/"
        },
        "id": "XDkvRHJ5UVCR",
        "outputId": "f9afb632-8cfc-426b-88ad-bb9f9af6b3a6"
      },
      "outputs": [
        {
          "output_type": "stream",
          "name": "stdout",
          "text": [
            "19. Number of undeclared student enrolled in CS1\n",
            "\n",
            "gender\n",
            "F    20\n",
            "M    60\n",
            "Name: eid, dtype: int64\n",
            "\n",
            "Total: 80\n"
          ]
        }
      ],
      "source": [
        "#19. Number of Undeclared students enrolled in CS1\n",
        " \n",
        "## number of records that meet the search criteria\n",
        "searchFlags = (semester_fl21) & (class_cs1) & (major_undecl)\n",
        "count_gender = df.loc[searchFlags].groupby('gender')['eid'].nunique()\n",
        "count_total = df.loc[searchFlags]['eid'].nunique()\n",
        "\n",
        "print(\n",
        "  '19. Number of undeclared student enrolled in CS1'\n",
        "  '\\n\\n{}'\n",
        "  '\\n\\nTotal: {}'.format(count_gender, count_total)\n",
        ")"
      ]
    },
    {
      "cell_type": "markdown",
      "metadata": {
        "id": "wqeenCh7IpJY"
      },
      "source": [
        "### c"
      ]
    },
    {
      "cell_type": "code",
      "execution_count": null,
      "metadata": {
        "colab": {
          "base_uri": "https://localhost:8080/"
        },
        "id": "ga-pXPTJIpJZ",
        "outputId": "0244071c-00bb-4c90-bb2b-5435f7756b3c"
      },
      "outputs": [
        {
          "output_type": "stream",
          "name": "stdout",
          "text": [
            "20. Number of declared Computer Science majors who completed/passed CS1\n",
            "\n",
            "gender\n",
            "F    24\n",
            "M    79\n",
            "T     1\n",
            "Name: eid, dtype: int64\n",
            "\n",
            "Total: 104\n"
          ]
        }
      ],
      "source": [
        "#### 20. Number of declared Computer Science majors who completed/passed CS1\n",
        "\n",
        "## number of records that meet the search criteria\n",
        "searchFlags = (semester_fl21) & (class_cs1) & (major_compsc) & (pfd_pass)\n",
        "count_gender = df.loc[searchFlags].groupby('gender')['eid'].nunique()\n",
        "count_total = df.loc[searchFlags]['eid'].nunique()\n",
        "\n",
        "print(\n",
        "  '20. Number of declared Computer Science majors who completed/passed CS1'\n",
        "  '\\n\\n{}'\n",
        "  '\\n\\nTotal: {}'.format(count_gender, count_total)\n",
        ")"
      ]
    },
    {
      "cell_type": "code",
      "execution_count": null,
      "metadata": {
        "colab": {
          "base_uri": "https://localhost:8080/"
        },
        "id": "Nfxa9Q1fIpJa",
        "outputId": "c4c3613b-fd72-42e4-e091-fd24a38d5efe"
      },
      "outputs": [
        {
          "output_type": "stream",
          "name": "stdout",
          "text": [
            "21. Number of Other Computing majors who completed/passed CS1\n",
            "\n",
            "gender\n",
            "F    7\n",
            "M    3\n",
            "Name: eid, dtype: int64\n",
            "\n",
            "Total: 10\n"
          ]
        }
      ],
      "source": [
        "#### 21. Number of Other Computing majors who completed/passed CS1\n",
        "\n",
        "## number of records that meet the search criteria\n",
        "searchFlags = (semester_fl21) & (class_cs1) & (major_othercomp) & (pfd_pass)\n",
        "count_gender = df.loc[searchFlags].groupby('gender')['eid'].nunique()\n",
        "count_total = df.loc[searchFlags]['eid'].nunique()\n",
        "\n",
        "print(\n",
        "  '21. Number of Other Computing majors who completed/passed CS1'\n",
        "  '\\n\\n{}'\n",
        "  '\\n\\nTotal: {}'.format(count_gender, count_total)\n",
        ")"
      ]
    },
    {
      "cell_type": "code",
      "execution_count": null,
      "metadata": {
        "colab": {
          "base_uri": "https://localhost:8080/"
        },
        "id": "3v2-TQW7IpJb",
        "outputId": "c9b5629e-adb8-495e-8d72-a7c574f44137"
      },
      "outputs": [
        {
          "output_type": "stream",
          "name": "stdout",
          "text": [
            "22. Number of Non-Computing majors who completed/passed CS1\n",
            "\n",
            "gender\n",
            "F     8\n",
            "M    13\n",
            "Name: eid, dtype: int64\n",
            "\n",
            "Total: 21\n"
          ]
        }
      ],
      "source": [
        "#### 22. Number of Non-Computing majors who completed/passed CS1\n",
        "\n",
        "## number of records that meet the search criteria\n",
        "searchFlags = (semester_fl21) & (class_cs1) & (major_noncomp) & (pfd_pass)\n",
        "count_gender = df.loc[searchFlags].groupby('gender')['eid'].nunique()\n",
        "count_total = df.loc[searchFlags]['eid'].nunique()\n",
        "\n",
        "print(\n",
        "  '22. Number of Non-Computing majors who completed/passed CS1'\n",
        "  '\\n\\n{}'\n",
        "  '\\n\\nTotal: {}'.format(count_gender, count_total)\n",
        ")"
      ]
    },
    {
      "cell_type": "code",
      "execution_count": null,
      "metadata": {
        "colab": {
          "base_uri": "https://localhost:8080/"
        },
        "id": "G9xV2U-2IpJc",
        "outputId": "e48fb760-6130-4774-b86b-b25e2101f5dd"
      },
      "outputs": [
        {
          "output_type": "stream",
          "name": "stdout",
          "text": [
            "23. Number of Undeclared students who completed/passed CS1\n",
            "\n",
            "gender\n",
            "F     6\n",
            "M    28\n",
            "Name: eid, dtype: int64\n",
            "\n",
            "Total: 34\n"
          ]
        }
      ],
      "source": [
        "#### 23. Number of Undeclared students who completed/passed CS1\n",
        "\n",
        "## number of records that meet the search criteria\n",
        "searchFlags = (semester_fl21) & (class_cs1) & (major_undecl) & (pfd_pass)\n",
        "count_gender = df.loc[searchFlags].groupby('gender')['eid'].nunique()\n",
        "count_total = df.loc[searchFlags]['eid'].nunique()\n",
        "\n",
        "print(\n",
        "  '23. Number of Undeclared students who completed/passed CS1'\n",
        "  '\\n\\n{}'\n",
        "  '\\n\\nTotal: {}'.format(count_gender, count_total)\n",
        ")"
      ]
    },
    {
      "cell_type": "code",
      "execution_count": null,
      "metadata": {
        "colab": {
          "base_uri": "https://localhost:8080/"
        },
        "id": "DWSuLMbZIpJc",
        "outputId": "08cbb230-985b-4914-e57e-5548815310f9"
      },
      "outputs": [
        {
          "output_type": "stream",
          "name": "stdout",
          "text": [
            "24. Number of external transfer students (reported in Question 15)\n",
            "    who completed/passed CS1\n",
            "\n",
            "gender\n",
            "F    1\n",
            "M    1\n",
            "Name: eid, dtype: int64\n",
            "\n",
            "Total: 2\n"
          ]
        }
      ],
      "source": [
        "#### 24. Number of external transfer students (reported in Question 15)\n",
        "####     who completed/passed CS1\n",
        "\n",
        "## number of records that meet the search criteria\n",
        "searchFlags = (semester_fl21) & (class_cs1) & (admission_transfer) & (pfd_pass)\n",
        "count_gender = df.loc[searchFlags].groupby('gender')['eid'].nunique()\n",
        "count_total = df.loc[searchFlags]['eid'].nunique()\n",
        "\n",
        "print(\n",
        "  '24. Number of external transfer students (reported in Question 15)\\n'\n",
        "  '    who completed/passed CS1'\n",
        "  '\\n\\n{}'\n",
        "  '\\n\\nTotal: {}'.format(count_gender, count_total)\n",
        ")"
      ]
    },
    {
      "cell_type": "code",
      "execution_count": null,
      "metadata": {
        "colab": {
          "base_uri": "https://localhost:8080/"
        },
        "id": "6mfbOzE-IpJd",
        "outputId": "f0e72940-d066-4279-83f9-ae1254dec2f1"
      },
      "outputs": [
        {
          "output_type": "stream",
          "name": "stdout",
          "text": [
            "25. Number of declared Computer Science majors who completed CS1\n",
            "    and are already registered for CS2\n",
            "\n",
            "gender\n",
            "F    15\n",
            "M    46\n",
            "T     1\n",
            "Name: eid, dtype: int64\n",
            "\n",
            "Total: 62\n"
          ]
        }
      ],
      "source": [
        "#### 25. Number of declared Computer Science majors who completed CS1\n",
        "####     and are already registered for CS2\n",
        "\n",
        "## number of records that meet the search criteria\n",
        "searchFlags_curr = (semester_fl21) & (class_cs1) & (major_compsc) & (pfd_pass)\n",
        "searchFlags_next = (semester_sp22) & (class_cs2) & (reg_fl21_last)\n",
        "bools = df.loc[searchFlags_curr]['eid'].isin(df.loc[searchFlags_next]['eid'])\n",
        "\n",
        "count_gender = df.loc[searchFlags_curr][bools.values].groupby('gender')['eid'].nunique()\n",
        "count_total = df.loc[searchFlags_curr][bools.values]['eid'].nunique()\n",
        "\n",
        "print(\n",
        "  '25. Number of declared Computer Science majors who completed CS1\\n'\n",
        "  '    and are already registered for CS2'\n",
        "  '\\n\\n{}'\n",
        "  '\\n\\nTotal: {}'.format(count_gender, count_total)\n",
        ")"
      ]
    },
    {
      "cell_type": "code",
      "execution_count": null,
      "metadata": {
        "colab": {
          "base_uri": "https://localhost:8080/"
        },
        "id": "F4M5bRlUIpJe",
        "outputId": "6db236d0-1460-4cbf-9c00-bc1644b66b81"
      },
      "outputs": [
        {
          "output_type": "stream",
          "name": "stdout",
          "text": [
            "26. Number of Other Computing majors who completed CS1\n",
            "    and are already registered for CS2\n",
            "\n",
            "gender\n",
            "F    4\n",
            "Name: eid, dtype: int64\n",
            "\n",
            "Total: 4\n"
          ]
        }
      ],
      "source": [
        "#### 26. Number of Other Computing majors who completed CS1\n",
        "####     and are already registered for CS2\n",
        "\n",
        "## number of records that meet the search criteria\n",
        "searchFlags_curr = (semester_fl21) & (class_cs1) & (major_othercomp) & (pfd_pass)\n",
        "searchFlags_next = (semester_sp22) & (class_cs2) & (reg_fl21_last)\n",
        "bools = df.loc[searchFlags_curr]['eid'].isin(df.loc[searchFlags_next]['eid'])\n",
        "\n",
        "count_gender = df.loc[searchFlags_curr][bools.values].groupby('gender')['eid'].nunique()\n",
        "count_total = df.loc[searchFlags_curr][bools.values]['eid'].nunique()\n",
        "\n",
        "print(\n",
        "  '26. Number of Other Computing majors who completed CS1\\n'\n",
        "  '    and are already registered for CS2'\n",
        "  '\\n\\n{}'\n",
        "  '\\n\\nTotal: {}'.format(count_gender, count_total)\n",
        ")"
      ]
    },
    {
      "cell_type": "code",
      "execution_count": null,
      "metadata": {
        "colab": {
          "base_uri": "https://localhost:8080/"
        },
        "id": "H3DP86aZIpJe",
        "outputId": "b6838b19-2b13-4527-e23e-b4d5b1d03706"
      },
      "outputs": [
        {
          "output_type": "stream",
          "name": "stdout",
          "text": [
            "27. Number of Non-Computing majors who completed CS1\n",
            "    and are already registered for CS2\n",
            "\n",
            "gender\n",
            "F    4\n",
            "M    3\n",
            "Name: eid, dtype: int64\n",
            "\n",
            "Total: 7\n"
          ]
        }
      ],
      "source": [
        "#### 27. Number of Non-Computing majors who completed CS1\n",
        "####     and are already registered for CS2\n",
        "\n",
        "## number of records that meet the search criteria\n",
        "searchFlags_curr = (semester_fl21) & (class_cs1) & (major_noncomp) & (pfd_pass)\n",
        "searchFlags_next = (semester_sp22) & (class_cs2) & (reg_fl21_last)\n",
        "bools = df.loc[searchFlags_curr]['eid'].isin(df.loc[searchFlags_next]['eid'])\n",
        "\n",
        "count_gender = df.loc[searchFlags_curr][bools.values].groupby('gender')['eid'].nunique()\n",
        "count_total = df.loc[searchFlags_curr][bools.values]['eid'].nunique()\n",
        "\n",
        "print(\n",
        "  '27. Number of Non-Computing majors who completed CS1\\n'\n",
        "  '    and are already registered for CS2'\n",
        "  '\\n\\n{}'\n",
        "  '\\n\\nTotal: {}'.format(count_gender, count_total)\n",
        ")"
      ]
    },
    {
      "cell_type": "code",
      "execution_count": null,
      "metadata": {
        "colab": {
          "base_uri": "https://localhost:8080/"
        },
        "id": "bHOaU2mlIpJe",
        "outputId": "fd883872-86d7-4612-8940-28de0555e32d"
      },
      "outputs": [
        {
          "output_type": "stream",
          "name": "stdout",
          "text": [
            "28. Number of Undeclared students who completed CS1\n",
            "    and are already registered for CS2\n",
            "\n",
            "gender\n",
            "F     4\n",
            "M    12\n",
            "Name: eid, dtype: int64\n",
            "\n",
            "Total: 16\n"
          ]
        }
      ],
      "source": [
        "#### 28. Number of Undeclared students who completed CS1\n",
        "####     and are already registered for CS2\n",
        "\n",
        "## number of records that meet the search criteria\n",
        "searchFlags_curr = (semester_fl21) & (class_cs1) & (major_undecl) & (pfd_pass)\n",
        "searchFlags_next = (semester_sp22) & (class_cs2) & (reg_fl21_last)\n",
        "bools = df.loc[searchFlags_curr]['eid'].isin(df.loc[searchFlags_next]['eid'])\n",
        "\n",
        "count_gender = df.loc[searchFlags_curr][bools.values].groupby('gender')['eid'].nunique()\n",
        "count_total = df.loc[searchFlags_curr][bools.values]['eid'].nunique()\n",
        "\n",
        "print(\n",
        "  '28. Number of Undeclared students who completed CS1\\n'\n",
        "  '    and are already registered for CS2'\n",
        "  '\\n\\n{}'\n",
        "  '\\n\\nTotal: {}'.format(count_gender, count_total)\n",
        ")"
      ]
    },
    {
      "cell_type": "code",
      "execution_count": null,
      "metadata": {
        "colab": {
          "base_uri": "https://localhost:8080/"
        },
        "id": "bjwx3gRpIpJf",
        "outputId": "767494c9-92f1-4566-e6a7-f3952fa2f9bd"
      },
      "outputs": [
        {
          "output_type": "stream",
          "name": "stdout",
          "text": [
            "29. Number of external transfer students (reported in Question 15)\n",
            "    who completed CS1 and are already registered for CS2\n",
            "\n",
            "gender\n",
            "M    1\n",
            "Name: eid, dtype: int64\n",
            "\n",
            "Total: 1\n"
          ]
        }
      ],
      "source": [
        "#### 29. Number of external transfer students (reported in Question 15)\n",
        "####     who completed CS1 and are already registered for CS2\n",
        "\n",
        "## number of records that meet the search criteria\n",
        "searchFlags_curr = (semester_fl21) & (class_cs1) & (admission_transfer) & (pfd_pass)\n",
        "searchFlags_next = (semester_sp22) & (class_cs2) & (reg_fl21_last)\n",
        "bools = df.loc[searchFlags_curr]['eid'].isin(df.loc[searchFlags_next]['eid'])\n",
        "\n",
        "count_gender = df.loc[searchFlags_curr][bools.values].groupby('gender')['eid'].nunique()\n",
        "count_total = df.loc[searchFlags_curr][bools.values]['eid'].nunique()\n",
        "\n",
        "print(\n",
        "  '29. Number of external transfer students (reported in Question 15)\\n'\n",
        "  '    who completed CS1 and are already registered for CS2'\n",
        "  '\\n\\n{}'\n",
        "  '\\n\\nTotal: {}'.format(count_gender, count_total)\n",
        ")"
      ]
    },
    {
      "cell_type": "markdown",
      "metadata": {
        "id": "X49Onmntmcvg"
      },
      "source": [
        "### d"
      ]
    },
    {
      "cell_type": "code",
      "execution_count": null,
      "metadata": {
        "colab": {
          "base_uri": "https://localhost:8080/"
        },
        "id": "hqUQ8Mevmcvi",
        "outputId": "1603b9b4-20fe-46f6-e089-3897664e5dd8"
      },
      "outputs": [
        {
          "output_type": "stream",
          "name": "stdout",
          "text": [
            "30. Number of declared Computer Science majors who withdrew from CS1\n",
            "\n",
            "gender\n",
            "F    12\n",
            "M    54\n",
            "T     1\n",
            "Name: eid, dtype: int64\n",
            "\n",
            "Total: 67\n"
          ]
        }
      ],
      "source": [
        "#### 30. Number of declared Computer Science majors who withdrew from CS1\n",
        "\n",
        "## number of records that meet the search criteria\n",
        "searchFlags = (semester_fl21) & (class_cs1) & (major_compsc) & (pfd_drop)\n",
        "count_gender = df.loc[searchFlags].groupby('gender')['eid'].nunique()\n",
        "count_total = df.loc[searchFlags]['eid'].nunique()\n",
        "\n",
        "print(\n",
        "  '30. Number of declared Computer Science majors who withdrew from CS1'\n",
        "  '\\n\\n{}'\n",
        "  '\\n\\nTotal: {}'.format(count_gender, count_total)\n",
        ")"
      ]
    },
    {
      "cell_type": "code",
      "execution_count": null,
      "metadata": {
        "colab": {
          "base_uri": "https://localhost:8080/"
        },
        "id": "0kNzLWoqmcvk",
        "outputId": "7500b38f-24e0-4650-d730-ff514f7d6088"
      },
      "outputs": [
        {
          "output_type": "stream",
          "name": "stdout",
          "text": [
            "31. Number of Other Computing majors who withdrew from CS1\n",
            "\n",
            "gender\n",
            "F    2\n",
            "M    8\n",
            "Name: eid, dtype: int64\n",
            "\n",
            "Total: 10\n"
          ]
        }
      ],
      "source": [
        "#### 31. Number of Other Computing majors who withdrew from CS1\n",
        "\n",
        "## number of records that meet the search criteria\n",
        "searchFlags = (semester_fl21) & (class_cs1) & (major_othercomp) & (pfd_drop)\n",
        "count_gender = df.loc[searchFlags].groupby('gender')['eid'].nunique()\n",
        "count_total = df.loc[searchFlags]['eid'].nunique()\n",
        "\n",
        "print(\n",
        "  '31. Number of Other Computing majors who withdrew from CS1'\n",
        "  '\\n\\n{}'\n",
        "  '\\n\\nTotal: {}'.format(count_gender, count_total)\n",
        ")"
      ]
    },
    {
      "cell_type": "code",
      "execution_count": null,
      "metadata": {
        "colab": {
          "base_uri": "https://localhost:8080/"
        },
        "id": "eTtZejdImcvl",
        "outputId": "022a599e-2642-4245-c9aa-af770c8417dc"
      },
      "outputs": [
        {
          "output_type": "stream",
          "name": "stdout",
          "text": [
            "32. Number of Non-Computing majors who withdrew from CS1\n",
            "\n",
            "gender\n",
            "F    15\n",
            "M    22\n",
            "Name: eid, dtype: int64\n",
            "\n",
            "Total: 37\n"
          ]
        }
      ],
      "source": [
        "#### 32. Number of Non-Computing majors who withdrew from CS1\n",
        "\n",
        "## number of records that meet the search criteria\n",
        "searchFlags = (semester_fl21) & (class_cs1) & (major_noncomp) & (pfd_drop)\n",
        "count_gender = df.loc[searchFlags].groupby('gender')['eid'].nunique()\n",
        "count_total = df.loc[searchFlags]['eid'].nunique()\n",
        "\n",
        "print(\n",
        "  '32. Number of Non-Computing majors who withdrew from CS1'\n",
        "  '\\n\\n{}'\n",
        "  '\\n\\nTotal: {}'.format(count_gender, count_total)\n",
        ")"
      ]
    },
    {
      "cell_type": "code",
      "execution_count": null,
      "metadata": {
        "colab": {
          "base_uri": "https://localhost:8080/"
        },
        "id": "Khbi6ycjmcvm",
        "outputId": "625ec2ac-c558-4abc-ab4f-94dbff298fc2"
      },
      "outputs": [
        {
          "output_type": "stream",
          "name": "stdout",
          "text": [
            "33. Number of Undeclared students who withdrew from CS1\n",
            "\n",
            "gender\n",
            "F     9\n",
            "M    24\n",
            "Name: eid, dtype: int64\n",
            "\n",
            "Total: 33\n"
          ]
        }
      ],
      "source": [
        "#### 33. Number of Undeclared students who withdrew from CS1\n",
        "\n",
        "## number of records that meet the search criteria\n",
        "searchFlags = (semester_fl21) & (class_cs1) & (major_undecl) & (pfd_drop)\n",
        "count_gender = df.loc[searchFlags].groupby('gender')['eid'].nunique()\n",
        "count_total = df.loc[searchFlags]['eid'].nunique()\n",
        "\n",
        "print(\n",
        "  '33. Number of Undeclared students who withdrew from CS1'\n",
        "  '\\n\\n{}'\n",
        "  '\\n\\nTotal: {}'.format(count_gender, count_total)\n",
        ")"
      ]
    },
    {
      "cell_type": "code",
      "execution_count": null,
      "metadata": {
        "colab": {
          "base_uri": "https://localhost:8080/"
        },
        "id": "DlAoj0VMmcvm",
        "outputId": "2e63bf4e-04fc-44d4-939e-698fe0b20111"
      },
      "outputs": [
        {
          "output_type": "stream",
          "name": "stdout",
          "text": [
            "34. Number of external transfer students (reported in Question 15)\n",
            "    who withdrew from CS1\n",
            "\n",
            "Series([], Name: eid, dtype: int64)\n",
            "\n",
            "Total: 0\n"
          ]
        }
      ],
      "source": [
        "#### 34. Number of external transfer students (reported in Question 15)\n",
        "####     who withdrew from CS1\n",
        "\n",
        "## number of records that meet the search criteria\n",
        "searchFlags = (semester_fl21) & (class_cs1) & (admission_transfer) & (pfd_drop)\n",
        "count_gender = df.loc[searchFlags].groupby('gender')['eid'].nunique()\n",
        "count_total = df.loc[searchFlags]['eid'].nunique()\n",
        "\n",
        "print(\n",
        "  '34. Number of external transfer students (reported in Question 15)'\n",
        "  '\\n    who withdrew from CS1'\n",
        "  '\\n\\n{}'\n",
        "  '\\n\\nTotal: {}'.format(count_gender, count_total)\n",
        ")"
      ]
    },
    {
      "cell_type": "code",
      "execution_count": null,
      "metadata": {
        "colab": {
          "base_uri": "https://localhost:8080/"
        },
        "id": "TXta5rSvmcvn",
        "outputId": "392f73f5-bde5-458a-9ada-fdce654205bc"
      },
      "outputs": [
        {
          "output_type": "stream",
          "name": "stdout",
          "text": [
            "35. Number of Computer Science majors who failed CS1\n",
            "\n",
            "gender\n",
            "F     5\n",
            "M    30\n",
            "Name: eid, dtype: int64\n",
            "\n",
            "Total: 35\n"
          ]
        }
      ],
      "source": [
        "#### 35. Number of Computer Science majors who failed CS1\n",
        "\n",
        "## number of records that meet the search criteria\n",
        "searchFlags = (semester_fl21) & (class_cs1) & (major_compsc) & (pfd_fail)\n",
        "count_gender = df.loc[searchFlags].groupby('gender')['eid'].nunique()\n",
        "count_total = df.loc[searchFlags]['eid'].nunique()\n",
        "\n",
        "print(\n",
        "  '35. Number of Computer Science majors who failed CS1'\n",
        "  '\\n\\n{}'\n",
        "  '\\n\\nTotal: {}'.format(count_gender, count_total)\n",
        ")"
      ]
    },
    {
      "cell_type": "code",
      "execution_count": null,
      "metadata": {
        "colab": {
          "base_uri": "https://localhost:8080/"
        },
        "id": "Dihcnnwqmcvo",
        "outputId": "e649cd76-0ea0-4fda-9155-66e5b0fa2a92"
      },
      "outputs": [
        {
          "output_type": "stream",
          "name": "stdout",
          "text": [
            "36. Number of Other Computing majors who failed CS1\n",
            "\n",
            "gender\n",
            "F    5\n",
            "M    3\n",
            "Name: eid, dtype: int64\n",
            "\n",
            "Total: 8\n"
          ]
        }
      ],
      "source": [
        "#### 36. Number of Other Computing majors who failed CS1\n",
        "\n",
        "## number of records that meet the search criteria\n",
        "searchFlags = (semester_fl21) & (class_cs1) & (major_othercomp) & (pfd_fail)\n",
        "count_gender = df.loc[searchFlags].groupby('gender')['eid'].nunique()\n",
        "count_total = df.loc[searchFlags]['eid'].nunique()\n",
        "\n",
        "print(\n",
        "  '36. Number of Other Computing majors who failed CS1'\n",
        "  '\\n\\n{}'\n",
        "  '\\n\\nTotal: {}'.format(count_gender, count_total)\n",
        ")"
      ]
    },
    {
      "cell_type": "code",
      "execution_count": null,
      "metadata": {
        "colab": {
          "base_uri": "https://localhost:8080/"
        },
        "id": "6Lj9uO2gmcvp",
        "outputId": "3725d2e6-2656-4b53-fefd-25c08b12fb21"
      },
      "outputs": [
        {
          "output_type": "stream",
          "name": "stdout",
          "text": [
            "37. Number of Non-Computing majors who failed CS1\n",
            "\n",
            "gender\n",
            "F    10\n",
            "M    17\n",
            "Name: eid, dtype: int64\n",
            "\n",
            "Total: 27\n"
          ]
        }
      ],
      "source": [
        "#### 37. Number of Non-Computing majors who failed CS1\n",
        "\n",
        "## number of records that meet the search criteria\n",
        "searchFlags = (semester_fl21) & (class_cs1) & (major_noncomp) & (pfd_fail)\n",
        "count_gender = df.loc[searchFlags].groupby('gender')['eid'].nunique()\n",
        "count_total = df.loc[searchFlags]['eid'].nunique()\n",
        "\n",
        "print(\n",
        "  '37. Number of Non-Computing majors who failed CS1'\n",
        "  '\\n\\n{}'\n",
        "  '\\n\\nTotal: {}'.format(count_gender, count_total)\n",
        ")"
      ]
    },
    {
      "cell_type": "code",
      "execution_count": null,
      "metadata": {
        "colab": {
          "base_uri": "https://localhost:8080/"
        },
        "id": "RjlZTPP0mcvq",
        "outputId": "cadb9a43-24bf-438e-d202-af882c4c0cfd"
      },
      "outputs": [
        {
          "output_type": "stream",
          "name": "stdout",
          "text": [
            "38. Number of Undeclared students who failed CS1\n",
            "\n",
            "gender\n",
            "F    5\n",
            "M    8\n",
            "Name: eid, dtype: int64\n",
            "\n",
            "Total: 13\n"
          ]
        }
      ],
      "source": [
        "#### 38. Number of Undeclared students who failed CS1\n",
        "\n",
        "## number of records that meet the search criteria\n",
        "searchFlags = (semester_fl21) & (class_cs1) & (major_undecl) & (pfd_fail)\n",
        "count_gender = df.loc[searchFlags].groupby('gender')['eid'].nunique()\n",
        "count_total = df.loc[searchFlags]['eid'].nunique()\n",
        "\n",
        "print(\n",
        "  '38. Number of Undeclared students who failed CS1'\n",
        "  '\\n\\n{}'\n",
        "  '\\n\\nTotal: {}'.format(count_gender, count_total)\n",
        ")"
      ]
    },
    {
      "cell_type": "code",
      "execution_count": null,
      "metadata": {
        "colab": {
          "base_uri": "https://localhost:8080/"
        },
        "id": "7OwEF8V1mcvq",
        "outputId": "9ba3b505-02c3-468e-c03e-cb8c36b1e82b"
      },
      "outputs": [
        {
          "output_type": "stream",
          "name": "stdout",
          "text": [
            "39. Number of external transfer students (reported in Question 15)\n",
            "    who failed CS1\n",
            "\n",
            "Series([], Name: eid, dtype: int64)\n",
            "\n",
            "Total: 0\n"
          ]
        }
      ],
      "source": [
        "#### 39. Number of external transfer students (reported in Question 15)\n",
        "####     who failed CS1\n",
        "\n",
        "## number of records that meet the search criteria\n",
        "searchFlags = (semester_fl21) & (class_cs1) & (admission_transfer) & (pfd_fail)\n",
        "count_gender = df.loc[searchFlags].groupby('gender')['eid'].nunique()\n",
        "count_total = df.loc[searchFlags]['eid'].nunique()\n",
        "\n",
        "print(\n",
        "  '39. Number of external transfer students (reported in Question 15)'\n",
        "  '\\n    who failed CS1'\n",
        "  '\\n\\n{}'\n",
        "  '\\n\\nTotal: {}'.format(count_gender, count_total)\n",
        ")"
      ]
    },
    {
      "cell_type": "markdown",
      "metadata": {
        "id": "4VD4a2DBm8sZ"
      },
      "source": [
        "## SP-22"
      ]
    },
    {
      "cell_type": "markdown",
      "metadata": {
        "id": "qL-GQptz7PM4"
      },
      "source": [
        "### a"
      ]
    },
    {
      "cell_type": "code",
      "execution_count": null,
      "metadata": {
        "colab": {
          "base_uri": "https://localhost:8080/"
        },
        "id": "RGEy_s2-JwAw",
        "outputId": "3b261a24-0e63-4098-917d-77afc2898b5e"
      },
      "outputs": [
        {
          "output_type": "stream",
          "name": "stdout",
          "text": [
            "3. Number of sections of CS1 offered this term\n",
            "\t14\n"
          ]
        }
      ],
      "source": [
        "# 3. Number of sections of CS1 offered this term\n",
        "\n",
        "## number of unique values within a column,\n",
        "##   counting inside a df that meets above search criteria\n",
        "searchFlags = (semester_sp22) & (class_cs1)\n",
        "count = df.loc[searchFlags]['section'].nunique()\n",
        "\n",
        "print(\n",
        "  '3. Number of sections of CS1 offered this term'\n",
        "  '\\n\\t{}'.format(count)\n",
        ")"
      ]
    },
    {
      "cell_type": "code",
      "execution_count": null,
      "metadata": {
        "colab": {
          "base_uri": "https://localhost:8080/"
        },
        "id": "ZCMEpkdfJvvd",
        "outputId": "1d2affe5-51d0-41da-a6e4-f523f63cf0c1"
      },
      "outputs": [
        {
          "output_type": "stream",
          "name": "stdout",
          "text": [
            "4. Number of tenured/tenure-track faculty teaching CS1 this term\n",
            "\t5\n"
          ]
        }
      ],
      "source": [
        "#4. Number of tenured/tenure-track faculty teaching CS1 this term\n",
        "\n",
        "## number of unique values within a column,\n",
        "##   counting inside a df that meets above search criteria\n",
        "searchFlags = (semester_sp22) & (class_cs1) & (instructor_tt)\n",
        "count = df.loc[searchFlags]['Instructor'].nunique()\n",
        "\n",
        "print(\n",
        "  '4. Number of tenured/tenure-track faculty teaching CS1 this term'\n",
        "  '\\n\\t{}'.format(count)\n",
        ")"
      ]
    },
    {
      "cell_type": "code",
      "execution_count": null,
      "metadata": {
        "colab": {
          "base_uri": "https://localhost:8080/"
        },
        "id": "FWX-VXR_JvUn",
        "outputId": "97ffbffe-3109-4dcd-847b-31d37f0d49fc"
      },
      "outputs": [
        {
          "output_type": "stream",
          "name": "stdout",
          "text": [
            "6. Number of part time faculty teaching CS1 this term\n",
            "\t5\n"
          ]
        }
      ],
      "source": [
        "#6. Number of part-time faculty teaching CS1 this term\n",
        "\n",
        "## number of unique values within a column,\n",
        "##   counting inside a df that meets above search criteria\n",
        "searchFlags = (semester_sp22) & (class_cs1) & (instructor_pt)\n",
        "count = df.loc[searchFlags]['Instructor'].nunique()\n",
        "\n",
        "print(\n",
        "  '6. Number of part time faculty teaching CS1 this term'\n",
        "  '\\n\\t{}'.format(count)\n",
        ")"
      ]
    },
    {
      "cell_type": "markdown",
      "metadata": {
        "id": "FkX1OBTs9aQD"
      },
      "source": [
        "### b"
      ]
    },
    {
      "cell_type": "code",
      "execution_count": null,
      "metadata": {
        "colab": {
          "base_uri": "https://localhost:8080/"
        },
        "id": "p_UwWFCdMAjD",
        "outputId": "0295f938-5ca3-46a6-9f7f-4530c52259ad"
      },
      "outputs": [
        {
          "output_type": "stream",
          "name": "stdout",
          "text": [
            "10. Number of students enrolled in CS1 on Day 1 of this Academic Term\n",
            "\n",
            "gender\n",
            "0      1\n",
            "F     97\n",
            "M    267\n",
            "T      1\n",
            "U      1\n",
            "Name: eid, dtype: int64\n",
            "\n",
            "Total: 367\n"
          ]
        }
      ],
      "source": [
        "#10. Number of students enrolled in CS1 on Day 1 of this Academic Term\n",
        "\n",
        "## number of records that meet the search criteria\n",
        "searchFlags = (semester_sp22) & (class_cs1) & (reg_sp22_first)\n",
        "count_gender = df.loc[searchFlags].groupby('gender')['eid'].nunique()\n",
        "count_total = df.loc[searchFlags]['eid'].nunique()\n",
        "\n",
        "## print statement\n",
        "print(\n",
        "  '10. Number of students enrolled in CS1 on Day 1 of this Academic Term'\n",
        "  '\\n\\n{}'\n",
        "  '\\n\\nTotal: {}'.format(count_gender, count_total)\n",
        ")"
      ]
    },
    {
      "cell_type": "code",
      "execution_count": null,
      "metadata": {
        "colab": {
          "base_uri": "https://localhost:8080/"
        },
        "id": "MBi0kZe5MAY4",
        "outputId": "0d23dfc8-d1db-47bd-8a77-de616cd2b872"
      },
      "outputs": [
        {
          "output_type": "stream",
          "name": "stdout",
          "text": [
            "11. Number of students who added the course by Official Enrollment Day, after Day 1\n",
            "\t20\n"
          ]
        }
      ],
      "source": [
        "#### 11. Changes in CS1 enrollment between Day 1 and Official Enrollment Day\n",
        "\n",
        "\n",
        "# Number of students who added the course by Official Enrollment Day\n",
        "registration_add = (df['registration_date'] > sp22_first) & (reg_sp22_oed)\n",
        "searchFlags_add = (semester_sp22) & (class_cs1) & (registration_add)\n",
        "count_add = df.loc[searchFlags_add]['eid'].nunique()\n",
        "\n",
        "print(\n",
        "'11. Number of students who added the course by Official Enrollment Day, after Day 1'\n",
        "'\\n\\t{}'.format(count_add)\n",
        ")\n",
        "\n",
        "# Number of students who dropped the course by Official Enrollment Day\n",
        "# - Unaswerable"
      ]
    },
    {
      "cell_type": "code",
      "execution_count": null,
      "metadata": {
        "colab": {
          "base_uri": "https://localhost:8080/"
        },
        "id": "0I77__OoMAMS",
        "outputId": "359886ea-8460-450d-87ff-b93e0497f293"
      },
      "outputs": [
        {
          "output_type": "stream",
          "name": "stdout",
          "text": [
            "12. Number of students enrolled in CS1 as of Official Enrollment Day\n",
            "\n",
            "gender\n",
            "0      1\n",
            "F    101\n",
            "M    279\n",
            "T      1\n",
            "U      1\n",
            "Name: eid, dtype: int64\n",
            "\n",
            "Total: 383\n"
          ]
        }
      ],
      "source": [
        "#12. Number of students enrolled in CS1 as of Official Enrollment Day\n",
        "\n",
        "## number of records that meet the search criteria\n",
        "searchFlags = (semester_sp22) & (class_cs1) & (reg_sp22_oed)\n",
        "count_gender = df.loc[searchFlags].groupby('gender')['eid'].nunique()\n",
        "count_total = df.loc[searchFlags]['eid'].nunique()\n",
        "\n",
        "print(\n",
        "  '12. Number of students enrolled in CS1 as of Official Enrollment Day'\n",
        "  '\\n\\n{}'\n",
        "  '\\n\\nTotal: {}'.format(count_gender, count_total)\n",
        ")"
      ]
    },
    {
      "cell_type": "code",
      "execution_count": null,
      "metadata": {
        "colab": {
          "base_uri": "https://localhost:8080/"
        },
        "id": "VfRyel6DL_0S",
        "outputId": "7b7dde4a-fa15-4a19-ff53-d046630b6e53"
      },
      "outputs": [
        {
          "output_type": "stream",
          "name": "stdout",
          "text": [
            "15. Number of students enrolled in CS1 who were external transfers\n",
            "\n",
            "Series([], Name: eid, dtype: int64)\n",
            "\n",
            "Total: 0\n"
          ]
        }
      ],
      "source": [
        "#15. Number of students enrolled in CS1 who were external transfers\n",
        "\n",
        "## number of records that meet the search criteria\n",
        "searchFlags = (semester_sp22) & (class_cs1)  & (admission_transfer)\n",
        "count_gender = df.loc[searchFlags].groupby('gender')['eid'].nunique()\n",
        "count_total = df.loc[searchFlags]['eid'].nunique()\n",
        "\n",
        "print(\n",
        "  '15. Number of students enrolled in CS1 who were external transfers'\n",
        "  '\\n\\n{}'\n",
        "  '\\n\\nTotal: {}'.format(count_gender, count_total)\n",
        ")"
      ]
    },
    {
      "cell_type": "code",
      "execution_count": null,
      "metadata": {
        "colab": {
          "base_uri": "https://localhost:8080/"
        },
        "id": "RFuY43mgL_vd",
        "outputId": "0260f7aa-e954-496e-d539-c1a79a559cd7"
      },
      "outputs": [
        {
          "output_type": "stream",
          "name": "stdout",
          "text": [
            "16. Number of declared Computer Science majors enrolled in CS1\n",
            "\n",
            "gender\n",
            "F     29\n",
            "M    145\n",
            "T      1\n",
            "Name: eid, dtype: int64\n",
            "\n",
            "Total: 175\n"
          ]
        }
      ],
      "source": [
        "#16. Number of declared Computer Science majors enrolled in CS1\n",
        "\n",
        "## number of records that meet the search criteria\n",
        "searchFlags = (semester_sp22) & (class_cs1)  & (major_compsc)\n",
        "count_gender = df.loc[searchFlags].groupby('gender')['eid'].nunique()\n",
        "count_total = df.loc[searchFlags]['eid'].nunique()\n",
        "\n",
        "print(\n",
        "  '16. Number of declared Computer Science majors enrolled in CS1'\n",
        "  '\\n\\n{}'\n",
        "  '\\n\\nTotal: {}'.format(count_gender, count_total)\n",
        ")"
      ]
    },
    {
      "cell_type": "code",
      "execution_count": null,
      "metadata": {
        "colab": {
          "base_uri": "https://localhost:8080/"
        },
        "id": "QYEBvHGQL_pv",
        "outputId": "63035546-9f1c-44d1-9d25-07e1c67b774f"
      },
      "outputs": [
        {
          "output_type": "stream",
          "name": "stdout",
          "text": [
            "17. Number of other Computing majors enrolled in CS1\n",
            "\n",
            "gender\n",
            "F     7\n",
            "M    19\n",
            "Name: eid, dtype: int64\n",
            "\n",
            "Total: 26\n"
          ]
        }
      ],
      "source": [
        "#17. Number of Other Computing majors enrolled in CS1\n",
        "\n",
        "## number of records that meet the search criteria\n",
        "searchFlags = (semester_sp22) & (class_cs1) & (major_othercomp)\n",
        "count_gender = df.loc[searchFlags].groupby('gender')['eid'].nunique()\n",
        "count_total = df.loc[searchFlags]['eid'].nunique()\n",
        "\n",
        "print(\n",
        "  '17. Number of other Computing majors enrolled in CS1'\n",
        "  '\\n\\n{}'\n",
        "  '\\n\\nTotal: {}'.format(count_gender, count_total)\n",
        ")"
      ]
    },
    {
      "cell_type": "code",
      "execution_count": null,
      "metadata": {
        "colab": {
          "base_uri": "https://localhost:8080/"
        },
        "id": "xPJbeqbhUUJT",
        "outputId": "21562415-9397-485e-f46d-402c85a5664e"
      },
      "outputs": [
        {
          "output_type": "stream",
          "name": "stdout",
          "text": [
            "18. Number of Non Computing majors enrolled in CS1\n",
            "\n",
            "gender\n",
            "0     1\n",
            "F    38\n",
            "M    56\n",
            "U     1\n",
            "Name: eid, dtype: int64\n",
            "\n",
            "Total: 96\n"
          ]
        }
      ],
      "source": [
        "#18. Number of Non-Computing majors enrolled in CS1\n",
        "\n",
        "## number of records that meet the search criteria\n",
        "searchFlags = (semester_sp22) & (class_cs1) &  (major_noncomp)\n",
        "count_gender = df.loc[searchFlags].groupby('gender')['eid'].nunique()\n",
        "count_total = df.loc[searchFlags]['eid'].nunique()\n",
        "\n",
        "print(\n",
        "  '18. Number of Non Computing majors enrolled in CS1'\n",
        "  '\\n\\n{}'\n",
        "  '\\n\\nTotal: {}'.format(count_gender, count_total)\n",
        ")"
      ]
    },
    {
      "cell_type": "code",
      "execution_count": null,
      "metadata": {
        "colab": {
          "base_uri": "https://localhost:8080/"
        },
        "id": "5f_3iuqZUT_O",
        "outputId": "2e778e2c-0c3c-4557-da96-e0688aa258d5"
      },
      "outputs": [
        {
          "output_type": "stream",
          "name": "stdout",
          "text": [
            "19. Number of undeclared student enrolled in CS1\n",
            "\n",
            "gender\n",
            "F    27\n",
            "M    59\n",
            "Name: eid, dtype: int64\n",
            "\n",
            "Total: 86\n"
          ]
        }
      ],
      "source": [
        "#19. Number of Undeclared students enrolled in CS1\n",
        "\n",
        "## number of records that meet the search criteria\n",
        "searchFlags = (semester_sp22) & (class_cs1) & (major_undecl)\n",
        "count_gender = df.loc[searchFlags].groupby('gender')['eid'].nunique()\n",
        "count_total = df.loc[searchFlags]['eid'].nunique()\n",
        "\n",
        "print(\n",
        "  '19. Number of undeclared student enrolled in CS1'\n",
        "  '\\n\\n{}'\n",
        "  '\\n\\nTotal: {}'.format(count_gender, count_total)\n",
        ")"
      ]
    },
    {
      "cell_type": "markdown",
      "metadata": {
        "id": "YsRnIFFQMlEB"
      },
      "source": [
        "### c"
      ]
    },
    {
      "cell_type": "code",
      "execution_count": null,
      "metadata": {
        "colab": {
          "base_uri": "https://localhost:8080/"
        },
        "id": "95YlWt7QMlEC",
        "outputId": "575716ea-8a9c-4a42-dfc0-d291731a0fac"
      },
      "outputs": [
        {
          "output_type": "stream",
          "name": "stdout",
          "text": [
            "20. Number of declared Computer Science majors who completed/passed CS1\n",
            "\n",
            "gender\n",
            "F    12\n",
            "M    56\n",
            "Name: eid, dtype: int64\n",
            "\n",
            "Total: 68\n"
          ]
        }
      ],
      "source": [
        "#### 20. Number of declared Computer Science majors who completed/passed CS1\n",
        "\n",
        "## number of records that meet the search criteria\n",
        "searchFlags = (semester_sp22) & (class_cs1) & (major_compsc) & (pfd_pass)\n",
        "count_gender = df.loc[searchFlags].groupby('gender')['eid'].nunique()\n",
        "count_total = df.loc[searchFlags]['eid'].nunique()\n",
        "\n",
        "print(\n",
        "  '20. Number of declared Computer Science majors who completed/passed CS1'\n",
        "  '\\n\\n{}'\n",
        "  '\\n\\nTotal: {}'.format(count_gender, count_total)\n",
        ")"
      ]
    },
    {
      "cell_type": "code",
      "execution_count": null,
      "metadata": {
        "colab": {
          "base_uri": "https://localhost:8080/"
        },
        "id": "R9jBeEG7MlED",
        "outputId": "b661a817-5ddf-4844-9908-e7e8f48df6ae"
      },
      "outputs": [
        {
          "output_type": "stream",
          "name": "stdout",
          "text": [
            "21. Number of Other Computing majors who completed/passed CS1\n",
            "\n",
            "gender\n",
            "F    3\n",
            "M    3\n",
            "Name: eid, dtype: int64\n",
            "\n",
            "Total: 6\n"
          ]
        }
      ],
      "source": [
        "#### 21. Number of Other Computing majors who completed/passed CS1\n",
        "\n",
        "## number of records that meet the search criteria\n",
        "searchFlags = (semester_sp22) & (class_cs1) & (major_othercomp) & (pfd_pass)\n",
        "count_gender = df.loc[searchFlags].groupby('gender')['eid'].nunique()\n",
        "count_total = df.loc[searchFlags]['eid'].nunique()\n",
        "\n",
        "print(\n",
        "  '21. Number of Other Computing majors who completed/passed CS1'\n",
        "  '\\n\\n{}'\n",
        "  '\\n\\nTotal: {}'.format(count_gender, count_total)\n",
        ")"
      ]
    },
    {
      "cell_type": "code",
      "execution_count": null,
      "metadata": {
        "colab": {
          "base_uri": "https://localhost:8080/"
        },
        "id": "o9ktPDlPMlEE",
        "outputId": "ea30efce-962a-4736-e0d9-c2599b711317"
      },
      "outputs": [
        {
          "output_type": "stream",
          "name": "stdout",
          "text": [
            "22. Number of Non-Computing majors who completed/passed CS1\n",
            "\n",
            "gender\n",
            "F     8\n",
            "M    16\n",
            "U     1\n",
            "Name: eid, dtype: int64\n",
            "\n",
            "Total: 25\n"
          ]
        }
      ],
      "source": [
        "#### 22. Number of Non-Computing majors who completed/passed CS1\n",
        "\n",
        "## number of records that meet the search criteria\n",
        "searchFlags = (semester_sp22) & (class_cs1) & (major_noncomp) & (pfd_pass)\n",
        "count_gender = df.loc[searchFlags].groupby('gender')['eid'].nunique()\n",
        "count_total = df.loc[searchFlags]['eid'].nunique()\n",
        "\n",
        "print(\n",
        "  '22. Number of Non-Computing majors who completed/passed CS1'\n",
        "  '\\n\\n{}'\n",
        "  '\\n\\nTotal: {}'.format(count_gender, count_total)\n",
        ")"
      ]
    },
    {
      "cell_type": "code",
      "execution_count": null,
      "metadata": {
        "colab": {
          "base_uri": "https://localhost:8080/"
        },
        "id": "0D56al54MlEF",
        "outputId": "c709783f-e6fe-4dfc-ba47-45a4991e4722"
      },
      "outputs": [
        {
          "output_type": "stream",
          "name": "stdout",
          "text": [
            "23. Number of Undeclared students who completed/passed CS1\n",
            "\n",
            "gender\n",
            "F    12\n",
            "M    27\n",
            "Name: eid, dtype: int64\n",
            "\n",
            "Total: 39\n"
          ]
        }
      ],
      "source": [
        "#### 23. Number of Undeclared students who completed/passed CS1\n",
        "\n",
        "## number of records that meet the search criteria\n",
        "searchFlags = (semester_sp22) & (class_cs1) & (major_undecl) & (pfd_pass)\n",
        "count_gender = df.loc[searchFlags].groupby('gender')['eid'].nunique()\n",
        "count_total = df.loc[searchFlags]['eid'].nunique()\n",
        "\n",
        "print(\n",
        "  '23. Number of Undeclared students who completed/passed CS1'\n",
        "  '\\n\\n{}'\n",
        "  '\\n\\nTotal: {}'.format(count_gender, count_total)\n",
        ")"
      ]
    },
    {
      "cell_type": "code",
      "execution_count": null,
      "metadata": {
        "colab": {
          "base_uri": "https://localhost:8080/"
        },
        "id": "yxMldSrPMlEG",
        "outputId": "807f50ae-6616-48d5-9f4c-e6d4c927901c"
      },
      "outputs": [
        {
          "output_type": "stream",
          "name": "stdout",
          "text": [
            "24. Number of external transfer students (reported in Question 15)\n",
            "    who completed/passed CS1\n",
            "\n",
            "Series([], Name: eid, dtype: int64)\n",
            "\n",
            "Total: 0\n"
          ]
        }
      ],
      "source": [
        "#### 24. Number of external transfer students (reported in Question 15)\n",
        "####     who completed/passed CS1\n",
        "\n",
        "## number of records that meet the search criteria\n",
        "searchFlags = (semester_sp22) & (class_cs1) & (admission_transfer) & (pfd_pass)\n",
        "count_gender = df.loc[searchFlags].groupby('gender')['eid'].nunique()\n",
        "count_total = df.loc[searchFlags]['eid'].nunique()\n",
        "\n",
        "print(\n",
        "  '24. Number of external transfer students (reported in Question 15)\\n'\n",
        "  '    who completed/passed CS1'\n",
        "  '\\n\\n{}'\n",
        "  '\\n\\nTotal: {}'.format(count_gender, count_total)\n",
        ")"
      ]
    },
    {
      "cell_type": "code",
      "execution_count": null,
      "metadata": {
        "colab": {
          "base_uri": "https://localhost:8080/"
        },
        "id": "L9XcEYIhMlEG",
        "outputId": "c186b55d-b957-450f-a3f7-593f4db6ad97"
      },
      "outputs": [
        {
          "output_type": "stream",
          "name": "stdout",
          "text": [
            "25. Number of declared Computer Science majors who completed CS1\n",
            "    and are already registered for CS2\n",
            "\n",
            "gender\n",
            "F     4\n",
            "M    20\n",
            "Name: eid, dtype: int64\n",
            "\n",
            "Total: 24\n"
          ]
        }
      ],
      "source": [
        "#### 25. Number of declared Computer Science majors who completed CS1\n",
        "####     and are already registered for CS2\n",
        "\n",
        "## number of records that meet the search criteria\n",
        "searchFlags_curr = (semester_sp22) & (class_cs1) & (major_compsc) & (pfd_pass)\n",
        "searchFlags_next = (semester_fl22) & (class_cs2) & (reg_sp22_last)\n",
        "bools = df.loc[searchFlags_curr]['eid'].isin(df.loc[searchFlags_next]['eid'])\n",
        "\n",
        "count_gender = df.loc[searchFlags_curr][bools.values].groupby('gender')['eid'].nunique()\n",
        "count_total = df.loc[searchFlags_curr][bools.values]['eid'].nunique()\n",
        "\n",
        "print(\n",
        "  '25. Number of declared Computer Science majors who completed CS1\\n'\n",
        "  '    and are already registered for CS2'\n",
        "  '\\n\\n{}'\n",
        "  '\\n\\nTotal: {}'.format(count_gender, count_total)\n",
        ")"
      ]
    },
    {
      "cell_type": "code",
      "execution_count": null,
      "metadata": {
        "colab": {
          "base_uri": "https://localhost:8080/"
        },
        "id": "4QOGtIrsMlEH",
        "outputId": "b34b6abb-f005-4766-b8a1-ba93b0bbd7d7"
      },
      "outputs": [
        {
          "output_type": "stream",
          "name": "stdout",
          "text": [
            "26. Number of Other Computing majors who completed CS1\n",
            "    and are already registered for CS2\n",
            "\n",
            "gender\n",
            "F    3\n",
            "Name: eid, dtype: int64\n",
            "\n",
            "Total: 3\n"
          ]
        }
      ],
      "source": [
        "#### 26. Number of Other Computing majors who completed CS1\n",
        "####     and are already registered for CS2\n",
        "\n",
        "## number of records that meet the search criteria\n",
        "searchFlags_curr = (semester_sp22) & (class_cs1) & (major_othercomp) & (pfd_pass)\n",
        "searchFlags_next = (semester_fl22) & (class_cs2) & (reg_sp22_last)\n",
        "bools = df.loc[searchFlags_curr]['eid'].isin(df.loc[searchFlags_next]['eid'])\n",
        "\n",
        "count_gender = df.loc[searchFlags_curr][bools.values].groupby('gender')['eid'].nunique()\n",
        "count_total = df.loc[searchFlags_curr][bools.values]['eid'].nunique()\n",
        "\n",
        "print(\n",
        "  '26. Number of Other Computing majors who completed CS1\\n'\n",
        "  '    and are already registered for CS2'\n",
        "  '\\n\\n{}'\n",
        "  '\\n\\nTotal: {}'.format(count_gender, count_total)\n",
        ")"
      ]
    },
    {
      "cell_type": "code",
      "execution_count": null,
      "metadata": {
        "colab": {
          "base_uri": "https://localhost:8080/"
        },
        "id": "jDZYZZHOMlEI",
        "outputId": "003df6d5-b95a-4598-c97d-f05414b4fea6"
      },
      "outputs": [
        {
          "output_type": "stream",
          "name": "stdout",
          "text": [
            "27. Number of Non-Computing majors who completed CS1\n",
            "    and are already registered for CS2\n",
            "\n",
            "gender\n",
            "F    2\n",
            "M    4\n",
            "Name: eid, dtype: int64\n",
            "\n",
            "Total: 6\n"
          ]
        }
      ],
      "source": [
        "#### 27. Number of Non-Computing majors who completed CS1\n",
        "####     and are already registered for CS2\n",
        "\n",
        "## number of records that meet the search criteria\n",
        "searchFlags_curr = (semester_sp22) & (class_cs1) & (major_noncomp) & (pfd_pass)\n",
        "searchFlags_next = (semester_fl22) & (class_cs2) & (reg_sp22_last)\n",
        "bools = df.loc[searchFlags_curr]['eid'].isin(df.loc[searchFlags_next]['eid'])\n",
        "\n",
        "count_gender = df.loc[searchFlags_curr][bools.values].groupby('gender')['eid'].nunique()\n",
        "count_total = df.loc[searchFlags_curr][bools.values]['eid'].nunique()\n",
        "\n",
        "print(\n",
        "  '27. Number of Non-Computing majors who completed CS1\\n'\n",
        "  '    and are already registered for CS2'\n",
        "  '\\n\\n{}'\n",
        "  '\\n\\nTotal: {}'.format(count_gender, count_total)\n",
        ")"
      ]
    },
    {
      "cell_type": "code",
      "execution_count": null,
      "metadata": {
        "colab": {
          "base_uri": "https://localhost:8080/"
        },
        "id": "lHNMjsSzMlEI",
        "outputId": "c825ba45-c60d-4487-a62a-5399ca002679"
      },
      "outputs": [
        {
          "output_type": "stream",
          "name": "stdout",
          "text": [
            "28. Number of Undeclared students who completed CS1\n",
            "    and are already registered for CS2\n",
            "\n",
            "gender\n",
            "F     6\n",
            "M    11\n",
            "Name: eid, dtype: int64\n",
            "\n",
            "Total: 17\n"
          ]
        }
      ],
      "source": [
        "#### 28. Number of Undeclared students who completed CS1\n",
        "####     and are already registered for CS2\n",
        "\n",
        "## number of records that meet the search criteria\n",
        "searchFlags_curr = (semester_sp22) & (class_cs1) & (major_undecl) & (pfd_pass)\n",
        "searchFlags_next = (semester_fl22) & (class_cs2) & (reg_sp22_last)\n",
        "bools = df.loc[searchFlags_curr]['eid'].isin(df.loc[searchFlags_next]['eid'])\n",
        "\n",
        "count_gender = df.loc[searchFlags_curr][bools.values].groupby('gender')['eid'].nunique()\n",
        "count_total = df.loc[searchFlags_curr][bools.values]['eid'].nunique()\n",
        "\n",
        "print(\n",
        "  '28. Number of Undeclared students who completed CS1\\n'\n",
        "  '    and are already registered for CS2'\n",
        "  '\\n\\n{}'\n",
        "  '\\n\\nTotal: {}'.format(count_gender, count_total)\n",
        ")"
      ]
    },
    {
      "cell_type": "code",
      "execution_count": null,
      "metadata": {
        "colab": {
          "base_uri": "https://localhost:8080/"
        },
        "id": "A00fBsw8MlEJ",
        "outputId": "900f890b-09e7-408f-c132-c74ce9f45163"
      },
      "outputs": [
        {
          "output_type": "stream",
          "name": "stdout",
          "text": [
            "29. Number of external transfer students (reported in Question 15)\n",
            "    who completed CS1 and are already registered for CS2\n",
            "\n",
            "Series([], Name: eid, dtype: int64)\n",
            "\n",
            "Total: 0\n"
          ]
        }
      ],
      "source": [
        "#### 29. Number of external transfer students (reported in Question 15)\n",
        "####     who completed CS1 and are already registered for CS2\n",
        "\n",
        "## number of records that meet the search criteria\n",
        "searchFlags_curr = (semester_sp22) & (class_cs1) & (admission_transfer) & (pfd_pass)\n",
        "searchFlags_next = (semester_fl22) & (class_cs2) & (reg_sp22_last)\n",
        "bools = df.loc[searchFlags_curr]['eid'].isin(df.loc[searchFlags_next]['eid'])\n",
        "\n",
        "count_gender = df.loc[searchFlags_curr][bools.values].groupby('gender')['eid'].nunique()\n",
        "count_total = df.loc[searchFlags_curr][bools.values]['eid'].nunique()\n",
        "\n",
        "print(\n",
        "  '29. Number of external transfer students (reported in Question 15)\\n'\n",
        "  '    who completed CS1 and are already registered for CS2'\n",
        "  '\\n\\n{}'\n",
        "  '\\n\\nTotal: {}'.format(count_gender, count_total)\n",
        ")"
      ]
    },
    {
      "cell_type": "markdown",
      "metadata": {
        "id": "c9eQE9JEnyPd"
      },
      "source": [
        "### d"
      ]
    },
    {
      "cell_type": "code",
      "execution_count": null,
      "metadata": {
        "colab": {
          "base_uri": "https://localhost:8080/"
        },
        "id": "2J-bnrounyPe",
        "outputId": "7c400fe4-6a17-4f3e-8df8-98817187dfc8"
      },
      "outputs": [
        {
          "output_type": "stream",
          "name": "stdout",
          "text": [
            "30. Number of declared Computer Science majors who withdrew from CS1\n",
            "\n",
            "gender\n",
            "F    12\n",
            "M    61\n",
            "Name: eid, dtype: int64\n",
            "\n",
            "Total: 73\n"
          ]
        }
      ],
      "source": [
        "#### 30. Number of declared Computer Science majors who withdrew from CS1\n",
        "\n",
        "## number of records that meet the search criteria\n",
        "searchFlags = (semester_sp22) & (class_cs1) & (major_compsc) & (pfd_drop)\n",
        "count_gender = df.loc[searchFlags].groupby('gender')['eid'].nunique()\n",
        "count_total = df.loc[searchFlags]['eid'].nunique()\n",
        "\n",
        "print(\n",
        "  '30. Number of declared Computer Science majors who withdrew from CS1'\n",
        "  '\\n\\n{}'\n",
        "  '\\n\\nTotal: {}'.format(count_gender, count_total)\n",
        ")"
      ]
    },
    {
      "cell_type": "code",
      "execution_count": null,
      "metadata": {
        "colab": {
          "base_uri": "https://localhost:8080/"
        },
        "id": "kZIV9sU3nyPf",
        "outputId": "fa26b35d-66dc-43a7-c5cb-c0e74c43e58f"
      },
      "outputs": [
        {
          "output_type": "stream",
          "name": "stdout",
          "text": [
            "31. Number of Other Computing majors who withdrew from CS1\n",
            "\n",
            "gender\n",
            "F    3\n",
            "M    8\n",
            "Name: eid, dtype: int64\n",
            "\n",
            "Total: 11\n"
          ]
        }
      ],
      "source": [
        "#### 31. Number of Other Computing majors who withdrew from CS1\n",
        "\n",
        "## number of records that meet the search criteria\n",
        "searchFlags = (semester_sp22) & (class_cs1) & (major_othercomp) & (pfd_drop)\n",
        "count_gender = df.loc[searchFlags].groupby('gender')['eid'].nunique()\n",
        "count_total = df.loc[searchFlags]['eid'].nunique()\n",
        "\n",
        "print(\n",
        "  '31. Number of Other Computing majors who withdrew from CS1'\n",
        "  '\\n\\n{}'\n",
        "  '\\n\\nTotal: {}'.format(count_gender, count_total)\n",
        ")"
      ]
    },
    {
      "cell_type": "code",
      "execution_count": null,
      "metadata": {
        "colab": {
          "base_uri": "https://localhost:8080/"
        },
        "id": "ixEuHEV6nyPg",
        "outputId": "b694b103-d43c-452b-f8fa-4f91784c8a04"
      },
      "outputs": [
        {
          "output_type": "stream",
          "name": "stdout",
          "text": [
            "32. Number of Non-Computing majors who withdrew from CS1\n",
            "\n",
            "gender\n",
            "F    23\n",
            "M    24\n",
            "Name: eid, dtype: int64\n",
            "\n",
            "Total: 47\n"
          ]
        }
      ],
      "source": [
        "#### 32. Number of Non-Computing majors who withdrew from CS1\n",
        "\n",
        "## number of records that meet the search criteria\n",
        "searchFlags = (semester_sp22) & (class_cs1) & (major_noncomp) & (pfd_drop)\n",
        "count_gender = df.loc[searchFlags].groupby('gender')['eid'].nunique()\n",
        "count_total = df.loc[searchFlags]['eid'].nunique()\n",
        "\n",
        "print(\n",
        "  '32. Number of Non-Computing majors who withdrew from CS1'\n",
        "  '\\n\\n{}'\n",
        "  '\\n\\nTotal: {}'.format(count_gender, count_total)\n",
        ")"
      ]
    },
    {
      "cell_type": "code",
      "execution_count": null,
      "metadata": {
        "colab": {
          "base_uri": "https://localhost:8080/"
        },
        "id": "-45L2WzTnyPg",
        "outputId": "d8170b55-d3bd-4390-9696-dd483b0691ee"
      },
      "outputs": [
        {
          "output_type": "stream",
          "name": "stdout",
          "text": [
            "33. Number of Undeclared students who withdrew from CS1\n",
            "\n",
            "gender\n",
            "F    12\n",
            "M    20\n",
            "Name: eid, dtype: int64\n",
            "\n",
            "Total: 32\n"
          ]
        }
      ],
      "source": [
        "#### 33. Number of Undeclared students who withdrew from CS1\n",
        "\n",
        "## number of records that meet the search criteria\n",
        "searchFlags = (semester_sp22) & (class_cs1) & (major_undecl) & (pfd_drop)\n",
        "count_gender = df.loc[searchFlags].groupby('gender')['eid'].nunique()\n",
        "count_total = df.loc[searchFlags]['eid'].nunique()\n",
        "\n",
        "print(\n",
        "  '33. Number of Undeclared students who withdrew from CS1'\n",
        "  '\\n\\n{}'\n",
        "  '\\n\\nTotal: {}'.format(count_gender, count_total)\n",
        ")"
      ]
    },
    {
      "cell_type": "code",
      "execution_count": null,
      "metadata": {
        "colab": {
          "base_uri": "https://localhost:8080/"
        },
        "id": "866JcqesnyPg",
        "outputId": "76b2f594-057c-4330-ce7a-46c1a09c0412"
      },
      "outputs": [
        {
          "output_type": "stream",
          "name": "stdout",
          "text": [
            "34. Number of external transfer students (reported in Question 15)\n",
            "    who withdrew from CS1\n",
            "\n",
            "Series([], Name: eid, dtype: int64)\n",
            "\n",
            "Total: 0\n"
          ]
        }
      ],
      "source": [
        "#### 34. Number of external transfer students (reported in Question 15)\n",
        "####     who withdrew from CS1\n",
        "\n",
        "## number of records that meet the search criteria\n",
        "searchFlags = (semester_sp22) & (class_cs1) & (admission_transfer) & (pfd_drop)\n",
        "count_gender = df.loc[searchFlags].groupby('gender')['eid'].nunique()\n",
        "count_total = df.loc[searchFlags]['eid'].nunique()\n",
        "\n",
        "print(\n",
        "  '34. Number of external transfer students (reported in Question 15)'\n",
        "  '\\n    who withdrew from CS1'\n",
        "  '\\n\\n{}'\n",
        "  '\\n\\nTotal: {}'.format(count_gender, count_total)\n",
        ")"
      ]
    },
    {
      "cell_type": "code",
      "execution_count": null,
      "metadata": {
        "colab": {
          "base_uri": "https://localhost:8080/"
        },
        "id": "UXMl8dQYnyPh",
        "outputId": "d309a309-e43a-4cbd-9215-0188bbea4b19"
      },
      "outputs": [
        {
          "output_type": "stream",
          "name": "stdout",
          "text": [
            "35. Number of Computer Science majors who failed CS1\n",
            "\n",
            "gender\n",
            "F     5\n",
            "M    30\n",
            "T     1\n",
            "Name: eid, dtype: int64\n",
            "\n",
            "Total: 36\n"
          ]
        }
      ],
      "source": [
        "#### 35. Number of Computer Science majors who failed CS1\n",
        "\n",
        "## number of records that meet the search criteria\n",
        "searchFlags = (semester_sp22) & (class_cs1) & (major_compsc) & (pfd_fail)\n",
        "count_gender = df.loc[searchFlags].groupby('gender')['eid'].nunique()\n",
        "count_total = df.loc[searchFlags]['eid'].nunique()\n",
        "\n",
        "print(\n",
        "  '35. Number of Computer Science majors who failed CS1'\n",
        "  '\\n\\n{}'\n",
        "  '\\n\\nTotal: {}'.format(count_gender, count_total)\n",
        ")"
      ]
    },
    {
      "cell_type": "code",
      "execution_count": null,
      "metadata": {
        "colab": {
          "base_uri": "https://localhost:8080/"
        },
        "id": "cZzfk0GonyPh",
        "outputId": "96f5c023-9b90-40ab-ebb8-7a3e0f03f390"
      },
      "outputs": [
        {
          "output_type": "stream",
          "name": "stdout",
          "text": [
            "36. Number of Other Computing majors who failed CS1\n",
            "\n",
            "gender\n",
            "F    1\n",
            "M    8\n",
            "Name: eid, dtype: int64\n",
            "\n",
            "Total: 9\n"
          ]
        }
      ],
      "source": [
        "#### 36. Number of Other Computing majors who failed CS1\n",
        "\n",
        "## number of records that meet the search criteria\n",
        "searchFlags = (semester_sp22) & (class_cs1) & (major_othercomp) & (pfd_fail)\n",
        "count_gender = df.loc[searchFlags].groupby('gender')['eid'].nunique()\n",
        "count_total = df.loc[searchFlags]['eid'].nunique()\n",
        "\n",
        "print(\n",
        "  '36. Number of Other Computing majors who failed CS1'\n",
        "  '\\n\\n{}'\n",
        "  '\\n\\nTotal: {}'.format(count_gender, count_total)\n",
        ")"
      ]
    },
    {
      "cell_type": "code",
      "execution_count": null,
      "metadata": {
        "colab": {
          "base_uri": "https://localhost:8080/"
        },
        "id": "g3YWjNXdnyPi",
        "outputId": "358ef430-1f0d-4a71-8475-42acd6438dff"
      },
      "outputs": [
        {
          "output_type": "stream",
          "name": "stdout",
          "text": [
            "37. Number of Non-Computing majors who failed CS1\n",
            "\n",
            "gender\n",
            "0     1\n",
            "F     7\n",
            "M    17\n",
            "Name: eid, dtype: int64\n",
            "\n",
            "Total: 25\n"
          ]
        }
      ],
      "source": [
        "#### 37. Number of Non-Computing majors who failed CS1\n",
        "\n",
        "## number of records that meet the search criteria\n",
        "searchFlags = (semester_sp22) & (class_cs1) & (major_noncomp) & (pfd_fail)\n",
        "count_gender = df.loc[searchFlags].groupby('gender')['eid'].nunique()\n",
        "count_total = df.loc[searchFlags]['eid'].nunique()\n",
        "\n",
        "print(\n",
        "  '37. Number of Non-Computing majors who failed CS1'\n",
        "  '\\n\\n{}'\n",
        "  '\\n\\nTotal: {}'.format(count_gender, count_total)\n",
        ")"
      ]
    },
    {
      "cell_type": "code",
      "execution_count": null,
      "metadata": {
        "colab": {
          "base_uri": "https://localhost:8080/"
        },
        "id": "WYp6HNxSnyPi",
        "outputId": "a779941b-e6a9-4580-8421-3660b2cba4e8"
      },
      "outputs": [
        {
          "output_type": "stream",
          "name": "stdout",
          "text": [
            "38. Number of Undeclared students who failed CS1\n",
            "\n",
            "gender\n",
            "F     4\n",
            "M    13\n",
            "Name: eid, dtype: int64\n",
            "\n",
            "Total: 17\n"
          ]
        }
      ],
      "source": [
        "#### 38. Number of Undeclared students who failed CS1\n",
        "\n",
        "## number of records that meet the search criteria\n",
        "searchFlags = (semester_sp22) & (class_cs1) & (major_undecl) & (pfd_fail)\n",
        "count_gender = df.loc[searchFlags].groupby('gender')['eid'].nunique()\n",
        "count_total = df.loc[searchFlags]['eid'].nunique()\n",
        "\n",
        "print(\n",
        "  '38. Number of Undeclared students who failed CS1'\n",
        "  '\\n\\n{}'\n",
        "  '\\n\\nTotal: {}'.format(count_gender, count_total)\n",
        ")"
      ]
    },
    {
      "cell_type": "code",
      "execution_count": null,
      "metadata": {
        "colab": {
          "base_uri": "https://localhost:8080/"
        },
        "id": "aTIXp5tYnyPk",
        "outputId": "562efd19-1ef9-43ce-a496-d340ac2f0652"
      },
      "outputs": [
        {
          "output_type": "stream",
          "name": "stdout",
          "text": [
            "39. Number of external transfer students (reported in Question 15)\n",
            "    who failed CS1\n",
            "\n",
            "Series([], Name: eid, dtype: int64)\n",
            "\n",
            "Total: 0\n"
          ]
        }
      ],
      "source": [
        "#### 39. Number of external transfer students (reported in Question 15)\n",
        "####     who failed CS1\n",
        "\n",
        "## number of records that meet the search criteria\n",
        "searchFlags = (semester_sp22) & (class_cs1) & (admission_transfer) & (pfd_fail)\n",
        "count_gender = df.loc[searchFlags].groupby('gender')['eid'].nunique()\n",
        "count_total = df.loc[searchFlags]['eid'].nunique()\n",
        "\n",
        "print(\n",
        "  '39. Number of external transfer students (reported in Question 15)'\n",
        "  '\\n    who failed CS1'\n",
        "  '\\n\\n{}'\n",
        "  '\\n\\nTotal: {}'.format(count_gender, count_total)\n",
        ")"
      ]
    },
    {
      "cell_type": "markdown",
      "metadata": {
        "id": "gZcCerIspkU8"
      },
      "source": [
        "## FL-22"
      ]
    },
    {
      "cell_type": "markdown",
      "metadata": {
        "id": "pjyx80bN7PM4"
      },
      "source": [
        "### a"
      ]
    },
    {
      "cell_type": "code",
      "execution_count": null,
      "metadata": {
        "colab": {
          "base_uri": "https://localhost:8080/"
        },
        "id": "3PGuuJo8J2U9",
        "outputId": "93f33971-a099-4d30-db1e-26e72c664567"
      },
      "outputs": [
        {
          "output_type": "stream",
          "name": "stdout",
          "text": [
            "3. Number of sections of CS1 offered this term\n",
            "\t14\n"
          ]
        }
      ],
      "source": [
        "# 3. Number of sections of CS1 offered this term\n",
        "\n",
        "## number of unique values within a column,\n",
        "##   counting inside a df that meets above search criteria\n",
        "searchFlags = (semester_fl22) & (class_cs1)\n",
        "count = df.loc[searchFlags]['section'].nunique()\n",
        "\n",
        "print(\n",
        "  '3. Number of sections of CS1 offered this term'\n",
        "  '\\n\\t{}'.format(count)\n",
        ")"
      ]
    },
    {
      "cell_type": "code",
      "execution_count": null,
      "metadata": {
        "colab": {
          "base_uri": "https://localhost:8080/"
        },
        "id": "u6BYq37TJ2Im",
        "outputId": "7b4d6b85-b896-4a5e-abee-ae8446d05bdd"
      },
      "outputs": [
        {
          "output_type": "stream",
          "name": "stdout",
          "text": [
            "4. Number of tenured/tenure-track faculty teaching CS1 this term\n",
            "\t8\n"
          ]
        }
      ],
      "source": [
        "#4. Number of tenured/tenure-track faculty teaching CS1 this term\n",
        "\n",
        "## number of unique values within a column,\n",
        "##   counting inside a df that meets above search criteria\n",
        "searchFlags = (semester_fl22) & (class_cs1) & (instructor_tt)\n",
        "count = df.loc[searchFlags]['Instructor'].nunique()\n",
        "\n",
        "print(\n",
        "  '4. Number of tenured/tenure-track faculty teaching CS1 this term'\n",
        "  '\\n\\t{}'.format(count)\n",
        ")"
      ]
    },
    {
      "cell_type": "code",
      "execution_count": null,
      "metadata": {
        "colab": {
          "base_uri": "https://localhost:8080/"
        },
        "id": "Xqdb3sg9J13x",
        "outputId": "916c7c61-8cc3-4be7-8d4b-3a1eb5f718b6"
      },
      "outputs": [
        {
          "output_type": "stream",
          "name": "stdout",
          "text": [
            "6. Number of part-time faculty teaching CS1 this term\n",
            "\t3\n"
          ]
        }
      ],
      "source": [
        "#6. Number of part-time faculty teaching CS1 this term\n",
        "\n",
        "## number of unique values within a column,\n",
        "##   counting inside a df that meets above search criteria\n",
        "searchFlags = (semester_fl22) & (class_cs1) & (instructor_pt)\n",
        "count = df.loc[searchFlags]['Instructor'].nunique()\n",
        "\n",
        "print(\n",
        "  '6. Number of part-time faculty teaching CS1 this term'\n",
        "  '\\n\\t{}'.format(count)\n",
        ")"
      ]
    },
    {
      "cell_type": "markdown",
      "metadata": {
        "id": "gvPC_uLq9aQD"
      },
      "source": [
        "### b"
      ]
    },
    {
      "cell_type": "code",
      "execution_count": null,
      "metadata": {
        "colab": {
          "base_uri": "https://localhost:8080/"
        },
        "id": "xH9T2ZsxMC40",
        "outputId": "b7df5118-fb3c-4575-85e3-cbf559094064"
      },
      "outputs": [
        {
          "output_type": "stream",
          "name": "stdout",
          "text": [
            "10. Number of students enrolled in CS1 on Day 1 of this Academic Term\n",
            "\n",
            "gender\n",
            "F    114\n",
            "M    274\n",
            "Name: eid, dtype: int64\n",
            "\n",
            "Total: 388\n"
          ]
        }
      ],
      "source": [
        "#10. Number of students enrolled in CS1 on Day 1 of this Academic Term\n",
        "\n",
        "## number of records that meet the search criteria\n",
        "searchFlags = (semester_fl22) & (class_cs1) & (reg_fl22_first)\n",
        "count_gender = df.loc[searchFlags].groupby('gender')['eid'].nunique()\n",
        "count_total = df.loc[searchFlags]['eid'].nunique()\n",
        "\n",
        "print(\n",
        "  '10. Number of students enrolled in CS1 on Day 1 of this Academic Term'\n",
        "  '\\n\\n{}'\n",
        "  '\\n\\nTotal: {}'.format(count_gender, count_total)\n",
        ")"
      ]
    },
    {
      "cell_type": "code",
      "execution_count": null,
      "metadata": {
        "colab": {
          "base_uri": "https://localhost:8080/"
        },
        "id": "abopXewZMCtV",
        "outputId": "237b4dd1-36e6-4591-887d-a55fbbbd9341"
      },
      "outputs": [
        {
          "output_type": "stream",
          "name": "stdout",
          "text": [
            "11. Number of students who added the course by Official Enrollment Day, after Day 1\n",
            "\t3\n"
          ]
        }
      ],
      "source": [
        "#### 11. Changes in CS1 enrollment between Day 1 and Official Enrollment Day\n",
        "\n",
        "\n",
        "# Number of students who added the course by Official Enrollment Day\n",
        "registration_add = (df['registration_date'] > fl22_first) & (reg_fl22_oed)\n",
        "searchFlags_add = (semester_fl22) & (class_cs1) & (registration_add)\n",
        "count_add = df.loc[searchFlags_add]['eid'].nunique()\n",
        "\n",
        "print(\n",
        "'11. Number of students who added the course by Official Enrollment Day, after Day 1'\n",
        "'\\n\\t{}'.format(count_add)\n",
        ")\n",
        "\n",
        "# Number of students who dropped the course by Official Enrollment Day\n",
        "# - Unaswerable"
      ]
    },
    {
      "cell_type": "code",
      "execution_count": null,
      "metadata": {
        "colab": {
          "base_uri": "https://localhost:8080/"
        },
        "id": "uQWTtQ9pMCms",
        "outputId": "60d688f2-8c37-49e3-bb59-c127ac38a0b4"
      },
      "outputs": [
        {
          "output_type": "stream",
          "name": "stdout",
          "text": [
            "12. Number of students enrolled in CS1 as of Official Enrollment Day\n",
            "\n",
            "gender\n",
            "F    114\n",
            "M    277\n",
            "Name: eid, dtype: int64\n",
            "\n",
            "Total: 391\n"
          ]
        }
      ],
      "source": [
        "#12. Number of students enrolled in CS1 as of Official Enrollment Day\n",
        "\n",
        "## number of records that meet the search criteria\n",
        "searchFlags = (semester_fl22) & (class_cs1) & (reg_fl22_oed)\n",
        "count_gender = df.loc[searchFlags].groupby('gender')['eid'].nunique()\n",
        "count_total = df.loc[searchFlags]['eid'].nunique()\n",
        "\n",
        "print(\n",
        "  '12. Number of students enrolled in CS1 as of Official Enrollment Day'\n",
        "  '\\n\\n{}'\n",
        "  '\\n\\nTotal: {}'.format(count_gender, count_total)\n",
        ")"
      ]
    },
    {
      "cell_type": "code",
      "execution_count": null,
      "metadata": {
        "colab": {
          "base_uri": "https://localhost:8080/"
        },
        "id": "yo71fPsNMCK5",
        "outputId": "78565c2e-0db1-4237-cdba-de6cb72c3596"
      },
      "outputs": [
        {
          "output_type": "stream",
          "name": "stdout",
          "text": [
            "15. Number of students enrolled in CS1 who were external transfers\n",
            "\n",
            "gender\n",
            "F    1\n",
            "M    3\n",
            "Name: eid, dtype: int64\n",
            "\n",
            "Total: 4\n"
          ]
        }
      ],
      "source": [
        "#15. Number of students enrolled in CS1 who were external transfers\n",
        "\n",
        "## number of records that meet the search criteria\n",
        "searchFlags = (semester_fl22) & (class_cs1) & (admission_transfer)\n",
        "count_gender = df.loc[searchFlags].groupby('gender')['eid'].nunique()\n",
        "count_total = df.loc[searchFlags]['eid'].nunique()\n",
        "\n",
        "print(\n",
        "  '15. Number of students enrolled in CS1 who were external transfers'\n",
        "  '\\n\\n{}'\n",
        "  '\\n\\nTotal: {}'.format(count_gender, count_total)\n",
        ")"
      ]
    },
    {
      "cell_type": "code",
      "execution_count": null,
      "metadata": {
        "colab": {
          "base_uri": "https://localhost:8080/"
        },
        "id": "gZQ58LvlMB2s",
        "outputId": "d7fe197b-f74f-46e9-f4c0-83c0272f198a"
      },
      "outputs": [
        {
          "output_type": "stream",
          "name": "stdout",
          "text": [
            "16. Number of declared Computer Science majors enrolled in CS1\n",
            "\n",
            "gender\n",
            "F     46\n",
            "M    151\n",
            "Name: eid, dtype: int64\n",
            "\n",
            "Total: 197\n"
          ]
        }
      ],
      "source": [
        "#16. Number of declared Computer Science majors enrolled in CS1\n",
        "\n",
        "## number of records that meet the search criteria\n",
        "searchFlags = (semester_fl22) & (class_cs1) & (major_compsc)\n",
        "count_gender = df.loc[searchFlags].groupby('gender')['eid'].nunique()\n",
        "count_total = df.loc[searchFlags]['eid'].nunique()\n",
        "\n",
        "print(\n",
        "  '16. Number of declared Computer Science majors enrolled in CS1'\n",
        "  '\\n\\n{}'\n",
        "  '\\n\\nTotal: {}'.format(count_gender, count_total)\n",
        ")"
      ]
    },
    {
      "cell_type": "code",
      "execution_count": null,
      "metadata": {
        "colab": {
          "base_uri": "https://localhost:8080/"
        },
        "id": "-kMElDfUUSk0",
        "outputId": "f579a256-a843-4b4a-d277-4066e3fc7e45"
      },
      "outputs": [
        {
          "output_type": "stream",
          "name": "stdout",
          "text": [
            "17. Number of other Computing majors enrolled in CS1\n",
            "\n",
            "gender\n",
            "F     6\n",
            "M    12\n",
            "Name: eid, dtype: int64\n",
            "\n",
            "Total: 18\n"
          ]
        }
      ],
      "source": [
        "#17. Number of Other Computing majors enrolled in CS1\n",
        "\n",
        "## number of records that meet the search criteria\n",
        "searchFlags = (semester_fl22) & (class_cs1) & (major_othercomp)\n",
        "count_gender = df.loc[searchFlags].groupby('gender')['eid'].nunique()\n",
        "count_total = df.loc[searchFlags]['eid'].nunique()\n",
        "\n",
        "print(\n",
        "  '17. Number of other Computing majors enrolled in CS1'\n",
        "  '\\n\\n{}'\n",
        "  '\\n\\nTotal: {}'.format(count_gender, count_total)\n",
        ")"
      ]
    },
    {
      "cell_type": "code",
      "execution_count": null,
      "metadata": {
        "colab": {
          "base_uri": "https://localhost:8080/"
        },
        "id": "Pl2RkITzUSb7",
        "outputId": "a09c331a-9d6a-4d7a-f5d0-123de8111c57"
      },
      "outputs": [
        {
          "output_type": "stream",
          "name": "stdout",
          "text": [
            "18. Number of non computing majors enrolled in CS1\n",
            "\n",
            "gender\n",
            "F    33\n",
            "M    53\n",
            "Name: eid, dtype: int64\n",
            "\n",
            "Total: 86\n"
          ]
        }
      ],
      "source": [
        "#18. Number of Non-Computing majors enrolled in CS1\n",
        "\n",
        "## number of records that meet the search criteria\n",
        "searchFlags = (semester_fl22) & (class_cs1) & (major_noncomp)\n",
        "count_gender = df.loc[searchFlags].groupby('gender')['eid'].nunique()\n",
        "count_total = df.loc[searchFlags]['eid'].nunique()\n",
        "\n",
        "print(\n",
        "  '18. Number of non computing majors enrolled in CS1'\n",
        "  '\\n\\n{}'\n",
        "  '\\n\\nTotal: {}'.format(count_gender, count_total)\n",
        ")"
      ]
    },
    {
      "cell_type": "code",
      "execution_count": null,
      "metadata": {
        "colab": {
          "base_uri": "https://localhost:8080/"
        },
        "id": "M8Y2ckJGUSWZ",
        "outputId": "0d4c0a20-47f1-4936-cd90-157401e606d4"
      },
      "outputs": [
        {
          "output_type": "stream",
          "name": "stdout",
          "text": [
            "19. Number of undeclared Student enrolled in CS1\n",
            "\n",
            "gender\n",
            "F    29\n",
            "M    61\n",
            "Name: eid, dtype: int64\n",
            "\n",
            "Total: 90\n"
          ]
        }
      ],
      "source": [
        "#19. Number of Undeclared students enrolled in CS1\n",
        "\n",
        "## number of records that meet the search criteria\n",
        "searchFlags = (semester_fl22) & (class_cs1) & (major_undecl)\n",
        "count_gender = df.loc[searchFlags].groupby('gender')['eid'].nunique()\n",
        "count_total = df.loc[searchFlags]['eid'].nunique()\n",
        "\n",
        "print(\n",
        "  '19. Number of undeclared Student enrolled in CS1'\n",
        "  '\\n\\n{}'\n",
        "  '\\n\\nTotal: {}'.format(count_gender, count_total)\n",
        ")"
      ]
    },
    {
      "cell_type": "markdown",
      "metadata": {
        "id": "aUHBmvmsNy7A"
      },
      "source": [
        "### c"
      ]
    },
    {
      "cell_type": "code",
      "execution_count": null,
      "metadata": {
        "colab": {
          "base_uri": "https://localhost:8080/"
        },
        "id": "6BHAbariNy7C",
        "outputId": "dd2b5adb-289d-4ed8-c120-15e2462638f4"
      },
      "outputs": [
        {
          "output_type": "stream",
          "name": "stdout",
          "text": [
            "20. Number of declared Computer Science majors who completed/passed CS1\n",
            "\n",
            "gender\n",
            "F    21\n",
            "M    69\n",
            "Name: eid, dtype: int64\n",
            "\n",
            "Total: 90\n"
          ]
        }
      ],
      "source": [
        "#### 20. Number of declared Computer Science majors who completed/passed CS1\n",
        "\n",
        "## number of records that meet the search criteria\n",
        "searchFlags = (semester_fl22) & (class_cs1) & (major_compsc) & (pfd_pass)\n",
        "count_gender = df.loc[searchFlags].groupby('gender')['eid'].nunique()\n",
        "count_total = df.loc[searchFlags]['eid'].nunique()\n",
        "\n",
        "print(\n",
        "  '20. Number of declared Computer Science majors who completed/passed CS1'\n",
        "  '\\n\\n{}'\n",
        "  '\\n\\nTotal: {}'.format(count_gender, count_total)\n",
        ")"
      ]
    },
    {
      "cell_type": "code",
      "execution_count": null,
      "metadata": {
        "colab": {
          "base_uri": "https://localhost:8080/"
        },
        "id": "T-0MXoAfNy7E",
        "outputId": "37c98715-1679-461c-8b93-d5480f182b1f"
      },
      "outputs": [
        {
          "output_type": "stream",
          "name": "stdout",
          "text": [
            "21. Number of Other Computing majors who completed/passed CS1\n",
            "\n",
            "gender\n",
            "F    4\n",
            "M    9\n",
            "Name: eid, dtype: int64\n",
            "\n",
            "Total: 13\n"
          ]
        }
      ],
      "source": [
        "#### 21. Number of Other Computing majors who completed/passed CS1\n",
        "\n",
        "## number of records that meet the search criteria\n",
        "searchFlags = (semester_fl22) & (class_cs1) & (major_othercomp) & (pfd_pass)\n",
        "count_gender = df.loc[searchFlags].groupby('gender')['eid'].nunique()\n",
        "count_total = df.loc[searchFlags]['eid'].nunique()\n",
        "\n",
        "print(\n",
        "  '21. Number of Other Computing majors who completed/passed CS1'\n",
        "  '\\n\\n{}'\n",
        "  '\\n\\nTotal: {}'.format(count_gender, count_total)\n",
        ")"
      ]
    },
    {
      "cell_type": "code",
      "execution_count": null,
      "metadata": {
        "colab": {
          "base_uri": "https://localhost:8080/"
        },
        "id": "vhIkYIxpNy7F",
        "outputId": "43b63fd4-524c-452c-e318-3580a91c940a"
      },
      "outputs": [
        {
          "output_type": "stream",
          "name": "stdout",
          "text": [
            "22. Number of Non-Computing majors who completed/passed CS1\n",
            "\n",
            "gender\n",
            "F    14\n",
            "M    19\n",
            "Name: eid, dtype: int64\n",
            "\n",
            "Total: 33\n"
          ]
        }
      ],
      "source": [
        "#### 22. Number of Non-Computing majors who completed/passed CS1\n",
        "\n",
        "## number of records that meet the search criteria\n",
        "searchFlags = (semester_fl22) & (class_cs1) & (major_noncomp) & (pfd_pass)\n",
        "count_gender = df.loc[searchFlags].groupby('gender')['eid'].nunique()\n",
        "count_total = df.loc[searchFlags]['eid'].nunique()\n",
        "\n",
        "print(\n",
        "  '22. Number of Non-Computing majors who completed/passed CS1'\n",
        "  '\\n\\n{}'\n",
        "  '\\n\\nTotal: {}'.format(count_gender, count_total)\n",
        ")"
      ]
    },
    {
      "cell_type": "code",
      "execution_count": null,
      "metadata": {
        "colab": {
          "base_uri": "https://localhost:8080/"
        },
        "id": "CFbcKQOFNy7F",
        "outputId": "c6e9389b-bb24-4bd4-a01d-751cb2b2eac8"
      },
      "outputs": [
        {
          "output_type": "stream",
          "name": "stdout",
          "text": [
            "23. Number of Undeclared students who completed/passed CS1\n",
            "\n",
            "gender\n",
            "F    18\n",
            "M    26\n",
            "Name: eid, dtype: int64\n",
            "\n",
            "Total: 44\n"
          ]
        }
      ],
      "source": [
        "#### 23. Number of Undeclared students who completed/passed CS1\n",
        "\n",
        "## number of records that meet the search criteria\n",
        "searchFlags = (semester_fl22) & (class_cs1) & (major_undecl) & (pfd_pass)\n",
        "count_gender = df.loc[searchFlags].groupby('gender')['eid'].nunique()\n",
        "count_total = df.loc[searchFlags]['eid'].nunique()\n",
        "\n",
        "print(\n",
        "  '23. Number of Undeclared students who completed/passed CS1'\n",
        "  '\\n\\n{}'\n",
        "  '\\n\\nTotal: {}'.format(count_gender, count_total)\n",
        ")"
      ]
    },
    {
      "cell_type": "code",
      "execution_count": null,
      "metadata": {
        "colab": {
          "base_uri": "https://localhost:8080/"
        },
        "id": "Jk-uc14pNy7G",
        "outputId": "14ad97fb-a9ad-4693-c101-2ec1a23c0c07"
      },
      "outputs": [
        {
          "output_type": "stream",
          "name": "stdout",
          "text": [
            "24. Number of external transfer students (reported in Question 15)\n",
            "    who completed/passed CS1\n",
            "\n",
            "Series([], Name: eid, dtype: int64)\n",
            "\n",
            "Total: 0\n"
          ]
        }
      ],
      "source": [
        "#### 24. Number of external transfer students (reported in Question 15)\n",
        "####     who completed/passed CS1\n",
        "\n",
        "## number of records that meet the search criteria\n",
        "searchFlags = (semester_fl22) & (class_cs1) & (admission_transfer) & (pfd_pass)\n",
        "count_gender = df.loc[searchFlags].groupby('gender')['eid'].nunique()\n",
        "count_total = df.loc[searchFlags]['eid'].nunique()\n",
        "\n",
        "print(\n",
        "  '24. Number of external transfer students (reported in Question 15)\\n'\n",
        "  '    who completed/passed CS1'\n",
        "  '\\n\\n{}'\n",
        "  '\\n\\nTotal: {}'.format(count_gender, count_total)\n",
        ")"
      ]
    },
    {
      "cell_type": "code",
      "execution_count": null,
      "metadata": {
        "id": "CSM2xTFAOwLq"
      },
      "outputs": [],
      "source": [
        "#### 25-29 cannot be answered without data from [Spring 2023]"
      ]
    },
    {
      "cell_type": "markdown",
      "metadata": {
        "id": "DDUVHeucpQuh"
      },
      "source": [
        "### d"
      ]
    },
    {
      "cell_type": "code",
      "execution_count": null,
      "metadata": {
        "colab": {
          "base_uri": "https://localhost:8080/"
        },
        "id": "bE-0NZ3ApQui",
        "outputId": "2741cc3a-0276-49a5-accd-4ff7ab4b01e9"
      },
      "outputs": [
        {
          "output_type": "stream",
          "name": "stdout",
          "text": [
            "30. Number of declared Computer Science majors who withdrew from CS1\n",
            "\n",
            "gender\n",
            "F    15\n",
            "M    49\n",
            "Name: eid, dtype: int64\n",
            "\n",
            "Total: 64\n"
          ]
        }
      ],
      "source": [
        "#### 30. Number of declared Computer Science majors who withdrew from CS1\n",
        "\n",
        "## number of records that meet the search criteria\n",
        "searchFlags = (semester_fl22) & (class_cs1) & (major_compsc) & (pfd_drop)\n",
        "count_gender = df.loc[searchFlags].groupby('gender')['eid'].nunique()\n",
        "count_total = df.loc[searchFlags]['eid'].nunique()\n",
        "\n",
        "print(\n",
        "  '30. Number of declared Computer Science majors who withdrew from CS1'\n",
        "  '\\n\\n{}'\n",
        "  '\\n\\nTotal: {}'.format(count_gender, count_total)\n",
        ")"
      ]
    },
    {
      "cell_type": "code",
      "execution_count": null,
      "metadata": {
        "colab": {
          "base_uri": "https://localhost:8080/"
        },
        "id": "2ZlukSo7pQuj",
        "outputId": "d47912d4-327a-4799-88f6-27906d5e6a64"
      },
      "outputs": [
        {
          "output_type": "stream",
          "name": "stdout",
          "text": [
            "31. Number of Other Computing majors who withdrew from CS1\n",
            "\n",
            "gender\n",
            "F    1\n",
            "M    2\n",
            "Name: eid, dtype: int64\n",
            "\n",
            "Total: 3\n"
          ]
        }
      ],
      "source": [
        "#### 31. Number of Other Computing majors who withdrew from CS1\n",
        "\n",
        "## number of records that meet the search criteria\n",
        "searchFlags = (semester_fl22) & (class_cs1) & (major_othercomp) & (pfd_drop)\n",
        "count_gender = df.loc[searchFlags].groupby('gender')['eid'].nunique()\n",
        "count_total = df.loc[searchFlags]['eid'].nunique()\n",
        "\n",
        "print(\n",
        "  '31. Number of Other Computing majors who withdrew from CS1'\n",
        "  '\\n\\n{}'\n",
        "  '\\n\\nTotal: {}'.format(count_gender, count_total)\n",
        ")"
      ]
    },
    {
      "cell_type": "code",
      "execution_count": null,
      "metadata": {
        "colab": {
          "base_uri": "https://localhost:8080/"
        },
        "id": "Q8ujS6qupQuj",
        "outputId": "0bc1a8b1-3259-482a-e68b-96dd525ae2dd"
      },
      "outputs": [
        {
          "output_type": "stream",
          "name": "stdout",
          "text": [
            "32. Number of Non-Computing majors who withdrew from CS1\n",
            "\n",
            "gender\n",
            "F    13\n",
            "M    20\n",
            "Name: eid, dtype: int64\n",
            "\n",
            "Total: 33\n"
          ]
        }
      ],
      "source": [
        "#### 32. Number of Non-Computing majors who withdrew from CS1\n",
        "\n",
        "## number of records that meet the search criteria\n",
        "searchFlags = (semester_fl22) & (class_cs1) & (major_noncomp) & (pfd_drop)\n",
        "count_gender = df.loc[searchFlags].groupby('gender')['eid'].nunique()\n",
        "count_total = df.loc[searchFlags]['eid'].nunique()\n",
        "\n",
        "print(\n",
        "  '32. Number of Non-Computing majors who withdrew from CS1'\n",
        "  '\\n\\n{}'\n",
        "  '\\n\\nTotal: {}'.format(count_gender, count_total)\n",
        ")"
      ]
    },
    {
      "cell_type": "code",
      "execution_count": null,
      "metadata": {
        "colab": {
          "base_uri": "https://localhost:8080/"
        },
        "id": "28d88TVDpQuk",
        "outputId": "4f1df75d-937d-4026-cd4e-1beb61991072"
      },
      "outputs": [
        {
          "output_type": "stream",
          "name": "stdout",
          "text": [
            "33. Number of Undeclared students who withdrew from CS1\n",
            "\n",
            "gender\n",
            "F     8\n",
            "M    20\n",
            "Name: eid, dtype: int64\n",
            "\n",
            "Total: 28\n"
          ]
        }
      ],
      "source": [
        "#### 33. Number of Undeclared students who withdrew from CS1\n",
        "\n",
        "## number of records that meet the search criteria\n",
        "searchFlags = (semester_fl22) & (class_cs1) & (major_undecl) & (pfd_drop)\n",
        "count_gender = df.loc[searchFlags].groupby('gender')['eid'].nunique()\n",
        "count_total = df.loc[searchFlags]['eid'].nunique()\n",
        "\n",
        "print(\n",
        "  '33. Number of Undeclared students who withdrew from CS1'\n",
        "  '\\n\\n{}'\n",
        "  '\\n\\nTotal: {}'.format(count_gender, count_total)\n",
        ")"
      ]
    },
    {
      "cell_type": "code",
      "execution_count": null,
      "metadata": {
        "colab": {
          "base_uri": "https://localhost:8080/"
        },
        "id": "6iZNkBvnpQul",
        "outputId": "b2cf9776-f272-49b7-834a-2659d1ab37f9"
      },
      "outputs": [
        {
          "output_type": "stream",
          "name": "stdout",
          "text": [
            "34. Number of external transfer students (reported in Question 15)\n",
            "    who withdrew from CS1\n",
            "\n",
            "gender\n",
            "M    1\n",
            "Name: eid, dtype: int64\n",
            "\n",
            "Total: 1\n"
          ]
        }
      ],
      "source": [
        "#### 34. Number of external transfer students (reported in Question 15)\n",
        "####     who withdrew from CS1\n",
        "\n",
        "## number of records that meet the search criteria\n",
        "searchFlags = (semester_fl22) & (class_cs1) & (admission_transfer) & (pfd_drop)\n",
        "count_gender = df.loc[searchFlags].groupby('gender')['eid'].nunique()\n",
        "count_total = df.loc[searchFlags]['eid'].nunique()\n",
        "\n",
        "print(\n",
        "  '34. Number of external transfer students (reported in Question 15)'\n",
        "  '\\n    who withdrew from CS1'\n",
        "  '\\n\\n{}'\n",
        "  '\\n\\nTotal: {}'.format(count_gender, count_total)\n",
        ")"
      ]
    },
    {
      "cell_type": "code",
      "execution_count": null,
      "metadata": {
        "colab": {
          "base_uri": "https://localhost:8080/"
        },
        "id": "LA0pJR86pQul",
        "outputId": "9ce75686-326b-4d3b-cb06-9a5e7a9d0835"
      },
      "outputs": [
        {
          "output_type": "stream",
          "name": "stdout",
          "text": [
            "35. Number of Computer Science majors who failed CS1\n",
            "\n",
            "gender\n",
            "F    10\n",
            "M    33\n",
            "Name: eid, dtype: int64\n",
            "\n",
            "Total: 43\n"
          ]
        }
      ],
      "source": [
        "#### 35. Number of Computer Science majors who failed CS1\n",
        "\n",
        "## number of records that meet the search criteria\n",
        "searchFlags = (semester_fl22) & (class_cs1) & (major_compsc) & (pfd_fail)\n",
        "count_gender = df.loc[searchFlags].groupby('gender')['eid'].nunique()\n",
        "count_total = df.loc[searchFlags]['eid'].nunique()\n",
        "\n",
        "print(\n",
        "  '35. Number of Computer Science majors who failed CS1'\n",
        "  '\\n\\n{}'\n",
        "  '\\n\\nTotal: {}'.format(count_gender, count_total)\n",
        ")"
      ]
    },
    {
      "cell_type": "code",
      "execution_count": null,
      "metadata": {
        "colab": {
          "base_uri": "https://localhost:8080/"
        },
        "id": "e2XlyYqJpQum",
        "outputId": "c5cbf5cd-cab2-451f-c320-669e9f3cbcb7"
      },
      "outputs": [
        {
          "output_type": "stream",
          "name": "stdout",
          "text": [
            "36. Number of Other Computing majors who failed CS1\n",
            "\n",
            "gender\n",
            "F    1\n",
            "M    1\n",
            "Name: eid, dtype: int64\n",
            "\n",
            "Total: 2\n"
          ]
        }
      ],
      "source": [
        "#### 36. Number of Other Computing majors who failed CS1\n",
        "\n",
        "## number of records that meet the search criteria\n",
        "searchFlags = (semester_fl22) & (class_cs1) & (major_othercomp) & (pfd_fail)\n",
        "count_gender = df.loc[searchFlags].groupby('gender')['eid'].nunique()\n",
        "count_total = df.loc[searchFlags]['eid'].nunique()\n",
        "\n",
        "print(\n",
        "  '36. Number of Other Computing majors who failed CS1'\n",
        "  '\\n\\n{}'\n",
        "  '\\n\\nTotal: {}'.format(count_gender, count_total)\n",
        ")"
      ]
    },
    {
      "cell_type": "code",
      "execution_count": null,
      "metadata": {
        "colab": {
          "base_uri": "https://localhost:8080/"
        },
        "id": "PC9GyTEgpQum",
        "outputId": "ff338a13-e894-4fdd-b75f-c59722446026"
      },
      "outputs": [
        {
          "output_type": "stream",
          "name": "stdout",
          "text": [
            "37. Number of Non-Computing majors who failed CS1\n",
            "\n",
            "gender\n",
            "F     6\n",
            "M    14\n",
            "Name: eid, dtype: int64\n",
            "\n",
            "Total: 20\n"
          ]
        }
      ],
      "source": [
        "#### 37. Number of Non-Computing majors who failed CS1\n",
        "\n",
        "## number of records that meet the search criteria\n",
        "searchFlags = (semester_fl22) & (class_cs1) & (major_noncomp) & (pfd_fail)\n",
        "count_gender = df.loc[searchFlags].groupby('gender')['eid'].nunique()\n",
        "count_total = df.loc[searchFlags]['eid'].nunique()\n",
        "\n",
        "print(\n",
        "  '37. Number of Non-Computing majors who failed CS1'\n",
        "  '\\n\\n{}'\n",
        "  '\\n\\nTotal: {}'.format(count_gender, count_total)\n",
        ")"
      ]
    },
    {
      "cell_type": "code",
      "execution_count": null,
      "metadata": {
        "colab": {
          "base_uri": "https://localhost:8080/"
        },
        "id": "k_fI7n-fpQun",
        "outputId": "a7537be1-85f6-4e59-9b6a-e2ece4102805"
      },
      "outputs": [
        {
          "output_type": "stream",
          "name": "stdout",
          "text": [
            "38. Number of Undeclared students who failed CS1\n",
            "\n",
            "gender\n",
            "F     3\n",
            "M    15\n",
            "Name: eid, dtype: int64\n",
            "\n",
            "Total: 18\n"
          ]
        }
      ],
      "source": [
        "#### 38. Number of Undeclared students who failed CS1\n",
        "\n",
        "## number of records that meet the search criteria\n",
        "searchFlags = (semester_fl22) & (class_cs1) & (major_undecl) & (pfd_fail)\n",
        "count_gender = df.loc[searchFlags].groupby('gender')['eid'].nunique()\n",
        "count_total = df.loc[searchFlags]['eid'].nunique()\n",
        "\n",
        "print(\n",
        "  '38. Number of Undeclared students who failed CS1'\n",
        "  '\\n\\n{}'\n",
        "  '\\n\\nTotal: {}'.format(count_gender, count_total)\n",
        ")"
      ]
    },
    {
      "cell_type": "code",
      "execution_count": null,
      "metadata": {
        "colab": {
          "base_uri": "https://localhost:8080/"
        },
        "id": "ZNhM6078pQuo",
        "outputId": "3c1e16aa-076e-4522-d0da-0219141edb23"
      },
      "outputs": [
        {
          "output_type": "stream",
          "name": "stdout",
          "text": [
            "39. Number of external transfer students (reported in Question 15)\n",
            "    who failed CS1\n",
            "\n",
            "gender\n",
            "F    1\n",
            "M    2\n",
            "Name: eid, dtype: int64\n",
            "\n",
            "Total: 3\n"
          ]
        }
      ],
      "source": [
        "#### 39. Number of external transfer students (reported in Question 15)\n",
        "####     who failed CS1\n",
        "\n",
        "## number of records that meet the search criteria\n",
        "searchFlags = (semester_fl22) & (class_cs1) & (admission_transfer) & (pfd_fail)\n",
        "count_gender = df.loc[searchFlags].groupby('gender')['eid'].nunique()\n",
        "count_total = df.loc[searchFlags]['eid'].nunique()\n",
        "\n",
        "print(\n",
        "  '39. Number of external transfer students (reported in Question 15)'\n",
        "  '\\n    who failed CS1'\n",
        "  '\\n\\n{}'\n",
        "  '\\n\\nTotal: {}'.format(count_gender, count_total)\n",
        ")"
      ]
    },
    {
      "cell_type": "markdown",
      "metadata": {
        "id": "ZGhulmqWqNn6"
      },
      "source": [
        "# CS2"
      ]
    },
    {
      "cell_type": "markdown",
      "metadata": {
        "id": "KH1TU7J4qVoh"
      },
      "source": [
        "## FL-21"
      ]
    },
    {
      "cell_type": "markdown",
      "metadata": {
        "id": "PnwY41j-yG3K"
      },
      "source": [
        "### a"
      ]
    },
    {
      "cell_type": "code",
      "execution_count": null,
      "metadata": {
        "colab": {
          "base_uri": "https://localhost:8080/"
        },
        "outputId": "ff2f352d-07c7-42cd-ea1f-5bd99832d8ca",
        "id": "Q7VUG8kJyG3L"
      },
      "outputs": [
        {
          "output_type": "stream",
          "name": "stdout",
          "text": [
            "3. Number of sections of CS2 offered this term\n",
            "\t5\n"
          ]
        }
      ],
      "source": [
        "# 3. Number of sections of CS2 offered this term\n",
        "\n",
        "## number of unique values within a column,\n",
        "##   counting inside a df that meets above search criteria\n",
        "searchFlags = (semester_fl21) & (class_cs2)\n",
        "count = df.loc[searchFlags]['section'].nunique()\n",
        "\n",
        "print(\n",
        "  '3. Number of sections of CS2 offered this term'\n",
        "  '\\n\\t{}'.format(count)\n",
        ")"
      ]
    },
    {
      "cell_type": "code",
      "execution_count": null,
      "metadata": {
        "colab": {
          "base_uri": "https://localhost:8080/"
        },
        "outputId": "0dc35cee-64ae-4676-d4d8-bf6c402b43ac",
        "id": "SPuaMtcHyG3N"
      },
      "outputs": [
        {
          "output_type": "stream",
          "name": "stdout",
          "text": [
            "4. Number of tenured/tenure-track faculty teaching CS2 this term\n",
            "\t4\n"
          ]
        }
      ],
      "source": [
        "#4. Number of tenured/tenure-track faculty teaching CS2 this term\n",
        "\n",
        "## number of unique values within a column,\n",
        "##   counting inside a df that meets above search criteria\n",
        "searchFlags = (semester_fl21) & (class_cs2) & (instructor_tt)\n",
        "count = df.loc[searchFlags]['Instructor'].nunique()\n",
        "\n",
        "print(\n",
        "  '4. Number of tenured/tenure-track faculty teaching CS2 this term'\n",
        "  '\\n\\t{}'.format(count)\n",
        ")"
      ]
    },
    {
      "cell_type": "code",
      "execution_count": null,
      "metadata": {
        "colab": {
          "base_uri": "https://localhost:8080/"
        },
        "outputId": "c452fe08-33aa-48fb-8d85-2aaed10b6fa1",
        "id": "cv6ZDYGhyG3O"
      },
      "outputs": [
        {
          "output_type": "stream",
          "name": "stdout",
          "text": [
            "6. Number of part-time faculty teaching CS2 this term\n",
            "\t1\n"
          ]
        }
      ],
      "source": [
        "#6. Number of part-time faculty teaching CS2 this term\n",
        "\n",
        "## number of unique values within a column,\n",
        "##   counting inside a df that meets above search criteria\n",
        "searchFlags = (semester_fl21) & (class_cs2) & (instructor_pt)\n",
        "count = df.loc[searchFlags]['Instructor'].nunique()\n",
        "\n",
        "print(\n",
        "  '6. Number of part-time faculty teaching CS2 this term'\n",
        "  '\\n\\t{}'.format(count)\n",
        ")"
      ]
    },
    {
      "cell_type": "markdown",
      "metadata": {
        "id": "cWZc9KgV0Bhh"
      },
      "source": [
        "### b"
      ]
    },
    {
      "cell_type": "code",
      "execution_count": null,
      "metadata": {
        "colab": {
          "base_uri": "https://localhost:8080/"
        },
        "outputId": "00c7e811-b1d7-46f4-95cf-01b2b612626d",
        "id": "BbmVlEPO0Bhj"
      },
      "outputs": [
        {
          "output_type": "stream",
          "name": "stdout",
          "text": [
            "10. Number of students enrolled in CS2 on Day 1 of this Academic Term\n",
            "\n",
            "gender\n",
            "F     32\n",
            "M    117\n",
            "Name: eid, dtype: int64\n",
            "\n",
            "Total: 149\n"
          ]
        }
      ],
      "source": [
        "#10. Number of students enrolled in CS2 on Day 1 of this Academic Term\n",
        "\n",
        "## number of records that meet the search criteria\n",
        "searchFlags = (semester_fl21) & (class_cs2) & (reg_fl21_first)\n",
        "count_gender = df.loc[searchFlags].groupby('gender')['eid'].nunique()\n",
        "count_total = df.loc[searchFlags]['eid'].nunique()\n",
        "\n",
        "print(\n",
        "  '10. Number of students enrolled in CS2 on Day 1 of this Academic Term'\n",
        "  '\\n\\n{}'\n",
        "  '\\n\\nTotal: {}'.format(count_gender, count_total)\n",
        ")"
      ]
    },
    {
      "cell_type": "code",
      "execution_count": null,
      "metadata": {
        "colab": {
          "base_uri": "https://localhost:8080/"
        },
        "outputId": "e63bfc07-aa05-4294-bc18-0ebd19d6e968",
        "id": "vPJqnFES0Bhk"
      },
      "outputs": [
        {
          "output_type": "stream",
          "name": "stdout",
          "text": [
            "11. Number of students who added the course by Official Enrollment Day, after Day 1\n",
            "\t4\n"
          ]
        }
      ],
      "source": [
        "#### 11. Changes in CS2 enrollment between Day 1 and Official Enrollment Day\n",
        "\n",
        "\n",
        "# Number of students who added the course by Official Enrollment Day\n",
        "registration_add = (df['registration_date'] > fl21_first) & (reg_fl21_oed)\n",
        "searchFlags_add = (semester_fl21) & (class_cs2) & (registration_add)\n",
        "count_add = df.loc[searchFlags_add]['eid'].nunique()\n",
        "\n",
        "print(\n",
        "'11. Number of students who added the course by Official Enrollment Day, after Day 1'\n",
        "'\\n\\t{}'.format(count_add)\n",
        ")\n",
        "\n",
        "# Number of students who dropped the course by Official Enrollment Day\n",
        "# - Unaswerable"
      ]
    },
    {
      "cell_type": "code",
      "execution_count": null,
      "metadata": {
        "colab": {
          "base_uri": "https://localhost:8080/"
        },
        "outputId": "b3a24c43-1ee8-46e6-ec8f-72bb78ff662a",
        "id": "chRVS9f40Bhm"
      },
      "outputs": [
        {
          "output_type": "stream",
          "name": "stdout",
          "text": [
            "12. Number of students enrolled in CS2 as of Official Enrollment Day\n",
            "\n",
            "gender\n",
            "F     34\n",
            "M    119\n",
            "Name: eid, dtype: int64\n",
            "\n",
            "Total: 153\n"
          ]
        }
      ],
      "source": [
        "#12. Number of students enrolled in CS2 as of Official Enrollment Day\n",
        "\n",
        "## number of records that meet the search criteria\n",
        "searchFlags = (semester_fl21) & (class_cs2) & (reg_fl21_oed)\n",
        "count_gender = df.loc[searchFlags].groupby('gender')['eid'].nunique()\n",
        "count_total = df.loc[searchFlags]['eid'].nunique()\n",
        "\n",
        "print(\n",
        "  '12. Number of students enrolled in CS2 as of Official Enrollment Day'\n",
        "  '\\n\\n{}'\n",
        "  '\\n\\nTotal: {}'.format(count_gender, count_total)\n",
        ")"
      ]
    },
    {
      "cell_type": "code",
      "execution_count": null,
      "metadata": {
        "colab": {
          "base_uri": "https://localhost:8080/"
        },
        "outputId": "1d2ba87e-2d4d-4fd5-cd9f-f7764968bcd1",
        "id": "GYRXARcA0Bho"
      },
      "outputs": [
        {
          "output_type": "stream",
          "name": "stdout",
          "text": [
            "14. Number of students enrolled in CS2 who were external transfers\n",
            "\n",
            "Series([], Name: eid, dtype: int64)\n",
            "\n",
            "Total: 0\n"
          ]
        }
      ],
      "source": [
        "#14. Number of external transfers enrolled in CS2\n",
        "\n",
        "## number of records that meet the search criteria\n",
        "searchFlags = (semester_fl21) & (class_cs2) & (admission_transfer)\n",
        "count_gender = df.loc[searchFlags].groupby('gender')['eid'].nunique()\n",
        "count_total = df.loc[searchFlags]['eid'].nunique()\n",
        "\n",
        "print(\n",
        "  '14. Number of students enrolled in CS2 who were external transfers'\n",
        "  '\\n\\n{}'\n",
        "  '\\n\\nTotal: {}'.format(count_gender, count_total)\n",
        ")"
      ]
    },
    {
      "cell_type": "code",
      "execution_count": null,
      "metadata": {
        "colab": {
          "base_uri": "https://localhost:8080/"
        },
        "outputId": "d65e6709-7371-4f38-dc40-ca7c9ba9e912",
        "id": "d-s2U7CE0Bhp"
      },
      "outputs": [
        {
          "output_type": "stream",
          "name": "stdout",
          "text": [
            "15. Number of declared Computer Science majors enrolled in CS2\n",
            "\n",
            "gender\n",
            "F    20\n",
            "M    83\n",
            "Name: eid, dtype: int64\n",
            "\n",
            "Total: 103\n"
          ]
        }
      ],
      "source": [
        "#15. Number of declared Computer Science majors enrolled in CS2\n",
        "\n",
        "\n",
        "## number of records that meet the search criteria\n",
        "searchFlags = (semester_fl21) & (class_cs2) & (major_compsc)\n",
        "count_gender = df.loc[searchFlags].groupby('gender')['eid'].nunique()\n",
        "count_total = df.loc[searchFlags]['eid'].nunique()\n",
        "\n",
        "print(\n",
        "  '15. Number of declared Computer Science majors enrolled in CS2'\n",
        "  '\\n\\n{}'\n",
        "  '\\n\\nTotal: {}'.format(count_gender, count_total)\n",
        ")"
      ]
    },
    {
      "cell_type": "code",
      "execution_count": null,
      "metadata": {
        "colab": {
          "base_uri": "https://localhost:8080/"
        },
        "outputId": "f5d4f287-7f7e-448d-b4a5-7edfa81942d9",
        "id": "aiD0PakP0Bhq"
      },
      "outputs": [
        {
          "output_type": "stream",
          "name": "stdout",
          "text": [
            "16. Number of other Computing Science majors enrolled in CS2\n",
            "\n",
            "gender\n",
            "F     7\n",
            "M    15\n",
            "Name: eid, dtype: int64\n",
            "\n",
            "Total: 22\n"
          ]
        }
      ],
      "source": [
        "#16. Number of Other Computing majors enrolled in CS2\n",
        "\n",
        "## number of records that meet the search criteria\n",
        "searchFlags = (semester_fl21) & (class_cs2) & (major_othercomp)\n",
        "count_gender = df.loc[searchFlags].groupby('gender')['eid'].nunique()\n",
        "count_total = df.loc[searchFlags]['eid'].nunique()\n",
        "\n",
        "print(\n",
        "  '16. Number of other Computing Science majors enrolled in CS2'\n",
        "  '\\n\\n{}'\n",
        "  '\\n\\nTotal: {}'.format(count_gender, count_total)\n",
        ")"
      ]
    },
    {
      "cell_type": "code",
      "execution_count": null,
      "metadata": {
        "colab": {
          "base_uri": "https://localhost:8080/"
        },
        "outputId": "4ccb4c65-c5dd-4b20-9be8-8f24b3f85b03",
        "id": "dxDi-otY0Bhr"
      },
      "outputs": [
        {
          "output_type": "stream",
          "name": "stdout",
          "text": [
            "17. Number of Non-Computing Science majors enrolled in CS2\n",
            "\n",
            "gender\n",
            "F    2\n",
            "M    6\n",
            "Name: eid, dtype: int64\n",
            "\n",
            "Total: 8\n"
          ]
        }
      ],
      "source": [
        "#17. Number of Non-Computing majors enrolled in CS2\n",
        "\n",
        "## number of records that meet the search criteria\n",
        "searchFlags = (semester_fl21) & (class_cs2) & (major_noncomp)\n",
        "count_gender = df.loc[searchFlags].groupby('gender')['eid'].nunique()\n",
        "count_total = df.loc[searchFlags]['eid'].nunique()\n",
        "\n",
        "print(\n",
        "  '17. Number of Non-Computing Science majors enrolled in CS2'\n",
        "  '\\n\\n{}'\n",
        "  '\\n\\nTotal: {}'.format(count_gender, count_total)\n",
        ")"
      ]
    },
    {
      "cell_type": "code",
      "execution_count": null,
      "metadata": {
        "colab": {
          "base_uri": "https://localhost:8080/"
        },
        "outputId": "9a7d918c-3152-41d0-a17f-decdbf5fbba5",
        "id": "VOLsefep0Bhs"
      },
      "outputs": [
        {
          "output_type": "stream",
          "name": "stdout",
          "text": [
            "18. Number of undeclared student enrolled in CS2\n",
            "\n",
            "gender\n",
            "F     6\n",
            "M    15\n",
            "Name: eid, dtype: int64\n",
            "\n",
            "Total: 21\n"
          ]
        }
      ],
      "source": [
        "#18. Number of Undeclared students enrolled in CS2\n",
        " \n",
        "## number of records that meet the search criteria\n",
        "searchFlags = (semester_fl21) & (class_cs2) & (major_undecl)\n",
        "count_gender = df.loc[searchFlags].groupby('gender')['eid'].nunique()\n",
        "count_total = df.loc[searchFlags]['eid'].nunique()\n",
        "\n",
        "print(\n",
        "  '18. Number of undeclared student enrolled in CS2'\n",
        "  '\\n\\n{}'\n",
        "  '\\n\\nTotal: {}'.format(count_gender, count_total)\n",
        ")"
      ]
    },
    {
      "cell_type": "markdown",
      "metadata": {
        "id": "kjRIYCXE1uVk"
      },
      "source": [
        "### c"
      ]
    },
    {
      "cell_type": "code",
      "execution_count": null,
      "metadata": {
        "colab": {
          "base_uri": "https://localhost:8080/"
        },
        "outputId": "aa54ca60-7759-482b-f9fe-775f3d902d84",
        "id": "8LEWW9HP1uVm"
      },
      "outputs": [
        {
          "output_type": "stream",
          "name": "stdout",
          "text": [
            "19. Number of declared Computer Science majors who completed/passed CS2\n",
            "\n",
            "gender\n",
            "F    12\n",
            "M    53\n",
            "Name: eid, dtype: int64\n",
            "\n",
            "Total: 65\n"
          ]
        }
      ],
      "source": [
        "#### 19. Number of declared Computer Science majors who completed/passed CS2\n",
        "\n",
        "## number of records that meet the search criteria\n",
        "searchFlags = (semester_fl21) & (class_cs2) & (major_compsc) & (pfd_pass)\n",
        "count_gender = df.loc[searchFlags].groupby('gender')['eid'].nunique()\n",
        "count_total = df.loc[searchFlags]['eid'].nunique()\n",
        "\n",
        "print(\n",
        "  '19. Number of declared Computer Science majors who completed/passed CS2'\n",
        "  '\\n\\n{}'\n",
        "  '\\n\\nTotal: {}'.format(count_gender, count_total)\n",
        ")"
      ]
    },
    {
      "cell_type": "code",
      "execution_count": null,
      "metadata": {
        "colab": {
          "base_uri": "https://localhost:8080/"
        },
        "outputId": "0f8611d0-c646-456e-e25b-da30a781fac7",
        "id": "nUhaVpTZ1uVn"
      },
      "outputs": [
        {
          "output_type": "stream",
          "name": "stdout",
          "text": [
            "20. Number of Other Computing majors who completed/passed CS2\n",
            "\n",
            "gender\n",
            "F    4\n",
            "M    6\n",
            "Name: eid, dtype: int64\n",
            "\n",
            "Total: 10\n"
          ]
        }
      ],
      "source": [
        "#### 20. Number of Other Computing majors who completed/passed CS2\n",
        "\n",
        "## number of records that meet the search criteria\n",
        "searchFlags = (semester_fl21) & (class_cs2) & (major_othercomp) & (pfd_pass)\n",
        "count_gender = df.loc[searchFlags].groupby('gender')['eid'].nunique()\n",
        "count_total = df.loc[searchFlags]['eid'].nunique()\n",
        "\n",
        "print(\n",
        "  '20. Number of Other Computing majors who completed/passed CS2'\n",
        "  '\\n\\n{}'\n",
        "  '\\n\\nTotal: {}'.format(count_gender, count_total)\n",
        ")"
      ]
    },
    {
      "cell_type": "code",
      "execution_count": null,
      "metadata": {
        "colab": {
          "base_uri": "https://localhost:8080/"
        },
        "outputId": "2a6906c4-3cf8-475c-b289-3cc0bce8127b",
        "id": "XmsOrkUO1uVo"
      },
      "outputs": [
        {
          "output_type": "stream",
          "name": "stdout",
          "text": [
            "21. Number of Non-Computing majors who completed/passed CS2\n",
            "\n",
            "gender\n",
            "F    2\n",
            "M    5\n",
            "Name: eid, dtype: int64\n",
            "\n",
            "Total: 7\n"
          ]
        }
      ],
      "source": [
        "#### 21. Number of Non-Computing majors who completed/passed CS2\n",
        "\n",
        "## number of records that meet the search criteria\n",
        "searchFlags = (semester_fl21) & (class_cs2) & (major_noncomp) & (pfd_pass)\n",
        "count_gender = df.loc[searchFlags].groupby('gender')['eid'].nunique()\n",
        "count_total = df.loc[searchFlags]['eid'].nunique()\n",
        "\n",
        "print(\n",
        "  '21. Number of Non-Computing majors who completed/passed CS2'\n",
        "  '\\n\\n{}'\n",
        "  '\\n\\nTotal: {}'.format(count_gender, count_total)\n",
        ")"
      ]
    },
    {
      "cell_type": "code",
      "execution_count": null,
      "metadata": {
        "colab": {
          "base_uri": "https://localhost:8080/"
        },
        "outputId": "0b50614f-3834-4b91-d506-a16f2f35a589",
        "id": "7ym-mPD-1uVp"
      },
      "outputs": [
        {
          "output_type": "stream",
          "name": "stdout",
          "text": [
            "22. Number of Undeclared students who completed/passed CS2\n",
            "\n",
            "gender\n",
            "F    3\n",
            "M    8\n",
            "Name: eid, dtype: int64\n",
            "\n",
            "Total: 11\n"
          ]
        }
      ],
      "source": [
        "#### 22. Number of Undeclared students who completed/passed CS2\n",
        "\n",
        "## number of records that meet the search criteria\n",
        "searchFlags = (semester_fl21) & (class_cs2) & (major_undecl) & (pfd_pass)\n",
        "count_gender = df.loc[searchFlags].groupby('gender')['eid'].nunique()\n",
        "count_total = df.loc[searchFlags]['eid'].nunique()\n",
        "\n",
        "print(\n",
        "  '22. Number of Undeclared students who completed/passed CS2'\n",
        "  '\\n\\n{}'\n",
        "  '\\n\\nTotal: {}'.format(count_gender, count_total)\n",
        ")"
      ]
    },
    {
      "cell_type": "code",
      "execution_count": null,
      "metadata": {
        "colab": {
          "base_uri": "https://localhost:8080/"
        },
        "outputId": "ede10702-2d16-488f-993b-76e2d4f28805",
        "id": "loEbJndk1uVp"
      },
      "outputs": [
        {
          "output_type": "stream",
          "name": "stdout",
          "text": [
            "23. Number of external transfer students (reported in Question 14)\n",
            "    who completed/passed CS2\n",
            "\n",
            "Series([], Name: eid, dtype: int64)\n",
            "\n",
            "Total: 0\n"
          ]
        }
      ],
      "source": [
        "#### 23. Number of external transfer students (reported in Question 14)\n",
        "####     who completed/passed CS2\n",
        "\n",
        "## number of records that meet the search criteria\n",
        "searchFlags = (semester_fl21) & (class_cs2) & (admission_transfer) & (pfd_pass)\n",
        "count_gender = df.loc[searchFlags].groupby('gender')['eid'].nunique()\n",
        "count_total = df.loc[searchFlags]['eid'].nunique()\n",
        "\n",
        "print(\n",
        "  '23. Number of external transfer students (reported in Question 14)\\n'\n",
        "  '    who completed/passed CS2'\n",
        "  '\\n\\n{}'\n",
        "  '\\n\\nTotal: {}'.format(count_gender, count_total)\n",
        ")"
      ]
    },
    {
      "cell_type": "code",
      "execution_count": null,
      "metadata": {
        "colab": {
          "base_uri": "https://localhost:8080/"
        },
        "outputId": "b0e6a3e9-9320-44bc-d907-09e110bff8fc",
        "id": "mROyJavB1uVq"
      },
      "outputs": [
        {
          "output_type": "stream",
          "name": "stdout",
          "text": [
            "24. Number of declared Computer Science majors who completed CS2\n",
            "    and are already registered for CS3\n",
            "\n",
            "gender\n",
            "F    10\n",
            "M    42\n",
            "Name: eid, dtype: int64\n",
            "\n",
            "Total: 52\n"
          ]
        }
      ],
      "source": [
        "#### 24. Number of declared Computer Science majors who completed CS2\n",
        "####     and are already registered for CS3\n",
        "\n",
        "## number of records that meet the search criteria\n",
        "searchFlags_curr = (semester_fl21) & (class_cs2) & (major_compsc) & (pfd_pass)\n",
        "searchFlags_next = (semester_sp22) & (class_cs3) & (reg_fl21_last)\n",
        "bools = df.loc[searchFlags_curr]['eid'].isin(df.loc[searchFlags_next]['eid'])\n",
        "\n",
        "count_gender = df.loc[searchFlags_curr][bools.values].groupby('gender')['eid'].nunique()\n",
        "count_total = df.loc[searchFlags_curr][bools.values]['eid'].nunique()\n",
        "\n",
        "print(\n",
        "  '24. Number of declared Computer Science majors who completed CS2\\n'\n",
        "  '    and are already registered for CS3'\n",
        "  '\\n\\n{}'\n",
        "  '\\n\\nTotal: {}'.format(count_gender, count_total)\n",
        ")"
      ]
    },
    {
      "cell_type": "code",
      "execution_count": null,
      "metadata": {
        "colab": {
          "base_uri": "https://localhost:8080/"
        },
        "outputId": "8b857833-249e-4bcc-ab6b-56a6f9d03673",
        "id": "s023ipj41uVq"
      },
      "outputs": [
        {
          "output_type": "stream",
          "name": "stdout",
          "text": [
            "25. Number of Other Computing majors who completed CS2\n",
            "    and are already registered for CS3\n",
            "\n",
            "gender\n",
            "F    4\n",
            "M    3\n",
            "Name: eid, dtype: int64\n",
            "\n",
            "Total: 7\n"
          ]
        }
      ],
      "source": [
        "#### 25. Number of Other Computing majors who completed CS2\n",
        "####     and are already registered for CS3\n",
        "\n",
        "## number of records that meet the search criteria\n",
        "searchFlags_curr = (semester_fl21) & (class_cs2) & (major_othercomp) & (pfd_pass)\n",
        "searchFlags_next = (semester_sp22) & (class_cs3) & (reg_fl21_last)\n",
        "bools = df.loc[searchFlags_curr]['eid'].isin(df.loc[searchFlags_next]['eid'])\n",
        "\n",
        "count_gender = df.loc[searchFlags_curr][bools.values].groupby('gender')['eid'].nunique()\n",
        "count_total = df.loc[searchFlags_curr][bools.values]['eid'].nunique()\n",
        "\n",
        "print(\n",
        "  '25. Number of Other Computing majors who completed CS2\\n'\n",
        "  '    and are already registered for CS3'\n",
        "  '\\n\\n{}'\n",
        "  '\\n\\nTotal: {}'.format(count_gender, count_total)\n",
        ")"
      ]
    },
    {
      "cell_type": "code",
      "execution_count": null,
      "metadata": {
        "colab": {
          "base_uri": "https://localhost:8080/"
        },
        "outputId": "ca72e41b-96cc-4a89-c1ca-60f86b396512",
        "id": "3P9NvjEB1uVr"
      },
      "outputs": [
        {
          "output_type": "stream",
          "name": "stdout",
          "text": [
            "26. Number of Non-Computing majors who completed CS2\n",
            "    and are already registered for CS3\n",
            "\n",
            "gender\n",
            "F    2\n",
            "M    4\n",
            "Name: eid, dtype: int64\n",
            "\n",
            "Total: 6\n"
          ]
        }
      ],
      "source": [
        "#### 26. Number of Non-Computing majors who completed CS2\n",
        "####     and are already registered for CS3\n",
        "\n",
        "## number of records that meet the search criteria\n",
        "searchFlags_curr = (semester_fl21) & (class_cs2) & (major_noncomp) & (pfd_pass)\n",
        "searchFlags_next = (semester_sp22) & (class_cs3) & (reg_fl21_last)\n",
        "bools = df.loc[searchFlags_curr]['eid'].isin(df.loc[searchFlags_next]['eid'])\n",
        "\n",
        "count_gender = df.loc[searchFlags_curr][bools.values].groupby('gender')['eid'].nunique()\n",
        "count_total = df.loc[searchFlags_curr][bools.values]['eid'].nunique()\n",
        "\n",
        "print(\n",
        "  '26. Number of Non-Computing majors who completed CS2\\n'\n",
        "  '    and are already registered for CS3'\n",
        "  '\\n\\n{}'\n",
        "  '\\n\\nTotal: {}'.format(count_gender, count_total)\n",
        ")"
      ]
    },
    {
      "cell_type": "code",
      "execution_count": null,
      "metadata": {
        "colab": {
          "base_uri": "https://localhost:8080/"
        },
        "outputId": "87e185d9-a495-4386-ff07-d9c60b144af7",
        "id": "PELd9Rs71uVs"
      },
      "outputs": [
        {
          "output_type": "stream",
          "name": "stdout",
          "text": [
            "27. Number of Undeclared students who completed CS2\n",
            "    and are already registered for CS3\n",
            "\n",
            "gender\n",
            "F    2\n",
            "M    6\n",
            "Name: eid, dtype: int64\n",
            "\n",
            "Total: 8\n"
          ]
        }
      ],
      "source": [
        "#### 27. Number of Undeclared students who completed CS2\n",
        "####     and are already registered for CS3\n",
        "\n",
        "## number of records that meet the search criteria\n",
        "searchFlags_curr = (semester_fl21) & (class_cs2) & (major_undecl) & (pfd_pass)\n",
        "searchFlags_next = (semester_sp22) & (class_cs3) & (reg_fl21_last)\n",
        "bools = df.loc[searchFlags_curr]['eid'].isin(df.loc[searchFlags_next]['eid'])\n",
        "\n",
        "count_gender = df.loc[searchFlags_curr][bools.values].groupby('gender')['eid'].nunique()\n",
        "count_total = df.loc[searchFlags_curr][bools.values]['eid'].nunique()\n",
        "\n",
        "print(\n",
        "  '27. Number of Undeclared students who completed CS2\\n'\n",
        "  '    and are already registered for CS3'\n",
        "  '\\n\\n{}'\n",
        "  '\\n\\nTotal: {}'.format(count_gender, count_total)\n",
        ")"
      ]
    },
    {
      "cell_type": "code",
      "execution_count": null,
      "metadata": {
        "colab": {
          "base_uri": "https://localhost:8080/"
        },
        "outputId": "03360566-ac27-4c58-9709-1c7f73a37379",
        "id": "fizTIQH01uVt"
      },
      "outputs": [
        {
          "output_type": "stream",
          "name": "stdout",
          "text": [
            "28. Number of external transfer students (reported in Question 14)\n",
            "    who completed CS2 and are already registered for CS3\n",
            "\n",
            "Series([], Name: eid, dtype: int64)\n",
            "\n",
            "Total: 0\n"
          ]
        }
      ],
      "source": [
        "#### 28. Number of external transfer students (reported in Question 14)\n",
        "####     who completed CS2 and are already registered for CS3\n",
        "\n",
        "## number of records that meet the search criteria\n",
        "searchFlags_curr = (semester_fl21) & (class_cs2) & (admission_transfer) & (pfd_pass)\n",
        "searchFlags_next = (semester_sp22) & (class_cs3) & (reg_fl21_last)\n",
        "bools = df.loc[searchFlags_curr]['eid'].isin(df.loc[searchFlags_next]['eid'])\n",
        "\n",
        "count_gender = df.loc[searchFlags_curr][bools.values].groupby('gender')['eid'].nunique()\n",
        "count_total = df.loc[searchFlags_curr][bools.values]['eid'].nunique()\n",
        "\n",
        "print(\n",
        "  '28. Number of external transfer students (reported in Question 14)\\n'\n",
        "  '    who completed CS2 and are already registered for CS3'\n",
        "  '\\n\\n{}'\n",
        "  '\\n\\nTotal: {}'.format(count_gender, count_total)\n",
        ")"
      ]
    },
    {
      "cell_type": "markdown",
      "metadata": {
        "id": "JN7DLzIc38Gr"
      },
      "source": [
        "### d"
      ]
    },
    {
      "cell_type": "code",
      "execution_count": null,
      "metadata": {
        "colab": {
          "base_uri": "https://localhost:8080/"
        },
        "outputId": "0277d296-d504-4388-beec-ad71d61bae17",
        "id": "wGZL23h938Gs"
      },
      "outputs": [
        {
          "output_type": "stream",
          "name": "stdout",
          "text": [
            "29. Number of declared Computer Science majors who withdrew from CS2\n",
            "\n",
            "gender\n",
            "F     5\n",
            "M    18\n",
            "Name: eid, dtype: int64\n",
            "\n",
            "Total: 23\n"
          ]
        }
      ],
      "source": [
        "#### 29. Number of declared Computer Science majors who withdrew from CS2\n",
        "\n",
        "## number of records that meet the search criteria\n",
        "searchFlags = (semester_fl21) & (class_cs2) & (major_compsc) & (pfd_drop)\n",
        "count_gender = df.loc[searchFlags].groupby('gender')['eid'].nunique()\n",
        "count_total = df.loc[searchFlags]['eid'].nunique()\n",
        "\n",
        "print(\n",
        "  '29. Number of declared Computer Science majors who withdrew from CS2'\n",
        "  '\\n\\n{}'\n",
        "  '\\n\\nTotal: {}'.format(count_gender, count_total)\n",
        ")"
      ]
    },
    {
      "cell_type": "code",
      "execution_count": null,
      "metadata": {
        "colab": {
          "base_uri": "https://localhost:8080/"
        },
        "outputId": "99e6f35d-a5d8-4631-b488-6f84169fbbc8",
        "id": "81F-VoYT38Gt"
      },
      "outputs": [
        {
          "output_type": "stream",
          "name": "stdout",
          "text": [
            "30. Number of Other Computing majors who withdrew from CS2\n",
            "\n",
            "gender\n",
            "F    2\n",
            "M    6\n",
            "Name: eid, dtype: int64\n",
            "\n",
            "Total: 8\n"
          ]
        }
      ],
      "source": [
        "#### 30. Number of Other Computing majors who withdrew from CS2\n",
        "\n",
        "## number of records that meet the search criteria\n",
        "searchFlags = (semester_fl21) & (class_cs2) & (major_othercomp) & (pfd_drop)\n",
        "count_gender = df.loc[searchFlags].groupby('gender')['eid'].nunique()\n",
        "count_total = df.loc[searchFlags]['eid'].nunique()\n",
        "\n",
        "print(\n",
        "  '30. Number of Other Computing majors who withdrew from CS2'\n",
        "  '\\n\\n{}'\n",
        "  '\\n\\nTotal: {}'.format(count_gender, count_total)\n",
        ")"
      ]
    },
    {
      "cell_type": "code",
      "execution_count": null,
      "metadata": {
        "colab": {
          "base_uri": "https://localhost:8080/"
        },
        "outputId": "d8409d37-832f-44c9-b7a0-c1b691f403a9",
        "id": "l4yETAoU38Gu"
      },
      "outputs": [
        {
          "output_type": "stream",
          "name": "stdout",
          "text": [
            "31. Number of Non-Computing majors who withdrew from CS2\n",
            "\n",
            "gender\n",
            "M    1\n",
            "Name: eid, dtype: int64\n",
            "\n",
            "Total: 1\n"
          ]
        }
      ],
      "source": [
        "#### 31. Number of Non-Computing majors who withdrew from CS2\n",
        "\n",
        "## number of records that meet the search criteria\n",
        "searchFlags = (semester_fl21) & (class_cs2) & (major_noncomp) & (pfd_drop)\n",
        "count_gender = df.loc[searchFlags].groupby('gender')['eid'].nunique()\n",
        "count_total = df.loc[searchFlags]['eid'].nunique()\n",
        "\n",
        "print(\n",
        "  '31. Number of Non-Computing majors who withdrew from CS2'\n",
        "  '\\n\\n{}'\n",
        "  '\\n\\nTotal: {}'.format(count_gender, count_total)\n",
        ")"
      ]
    },
    {
      "cell_type": "code",
      "execution_count": null,
      "metadata": {
        "colab": {
          "base_uri": "https://localhost:8080/"
        },
        "outputId": "6f1b0c27-f6bb-4a46-8862-730387bd0e2b",
        "id": "3rK4zf2L38Gu"
      },
      "outputs": [
        {
          "output_type": "stream",
          "name": "stdout",
          "text": [
            "32. Number of Undeclared students who withdrew from CS2\n",
            "\n",
            "gender\n",
            "F    2\n",
            "M    3\n",
            "Name: eid, dtype: int64\n",
            "\n",
            "Total: 5\n"
          ]
        }
      ],
      "source": [
        "#### 32. Number of Undeclared students who withdrew from CS2\n",
        "\n",
        "## number of records that meet the search criteria\n",
        "searchFlags = (semester_fl21) & (class_cs2) & (major_undecl) & (pfd_drop)\n",
        "count_gender = df.loc[searchFlags].groupby('gender')['eid'].nunique()\n",
        "count_total = df.loc[searchFlags]['eid'].nunique()\n",
        "\n",
        "print(\n",
        "  '32. Number of Undeclared students who withdrew from CS2'\n",
        "  '\\n\\n{}'\n",
        "  '\\n\\nTotal: {}'.format(count_gender, count_total)\n",
        ")"
      ]
    },
    {
      "cell_type": "code",
      "execution_count": null,
      "metadata": {
        "colab": {
          "base_uri": "https://localhost:8080/"
        },
        "outputId": "9fed644c-8902-41e0-e42a-a7c7869f8a55",
        "id": "BThD8Wz_38Gv"
      },
      "outputs": [
        {
          "output_type": "stream",
          "name": "stdout",
          "text": [
            "33. Number of external transfer students (reported in Question 14)\n",
            "    who withdrew from CS2\n",
            "\n",
            "Series([], Name: eid, dtype: int64)\n",
            "\n",
            "Total: 0\n"
          ]
        }
      ],
      "source": [
        "#### 33. Number of external transfer students (reported in Question 14)\n",
        "####     who withdrew from CS2\n",
        "\n",
        "## number of records that meet the search criteria\n",
        "searchFlags = (semester_fl21) & (class_cs2) & (admission_transfer) & (pfd_drop)\n",
        "count_gender = df.loc[searchFlags].groupby('gender')['eid'].nunique()\n",
        "count_total = df.loc[searchFlags]['eid'].nunique()\n",
        "\n",
        "print(\n",
        "  '33. Number of external transfer students (reported in Question 14)'\n",
        "  '\\n    who withdrew from CS2'\n",
        "  '\\n\\n{}'\n",
        "  '\\n\\nTotal: {}'.format(count_gender, count_total)\n",
        ")"
      ]
    },
    {
      "cell_type": "code",
      "execution_count": null,
      "metadata": {
        "colab": {
          "base_uri": "https://localhost:8080/"
        },
        "outputId": "dedc2de3-9f4d-4acb-f203-8d915c01736d",
        "id": "ipssKsC-38Gv"
      },
      "outputs": [
        {
          "output_type": "stream",
          "name": "stdout",
          "text": [
            "34. Number of Computer Science majors who failed CS2\n",
            "\n",
            "gender\n",
            "F     3\n",
            "M    12\n",
            "Name: eid, dtype: int64\n",
            "\n",
            "Total: 15\n"
          ]
        }
      ],
      "source": [
        "#### 34. Number of Computer Science majors who failed CS2\n",
        "\n",
        "## number of records that meet the search criteria\n",
        "searchFlags = (semester_fl21) & (class_cs2) & (major_compsc) & (pfd_fail)\n",
        "count_gender = df.loc[searchFlags].groupby('gender')['eid'].nunique()\n",
        "count_total = df.loc[searchFlags]['eid'].nunique()\n",
        "\n",
        "print(\n",
        "  '34. Number of Computer Science majors who failed CS2'\n",
        "  '\\n\\n{}'\n",
        "  '\\n\\nTotal: {}'.format(count_gender, count_total)\n",
        ")"
      ]
    },
    {
      "cell_type": "code",
      "execution_count": null,
      "metadata": {
        "colab": {
          "base_uri": "https://localhost:8080/"
        },
        "outputId": "3ca39203-c524-4a09-dcdc-b7ebfb2ed400",
        "id": "8BAMneep38Gv"
      },
      "outputs": [
        {
          "output_type": "stream",
          "name": "stdout",
          "text": [
            "35. Number of Other Computing majors who failed CS2\n",
            "\n",
            "gender\n",
            "F    1\n",
            "M    3\n",
            "Name: eid, dtype: int64\n",
            "\n",
            "Total: 4\n"
          ]
        }
      ],
      "source": [
        "#### 35. Number of Other Computing majors who failed CS2\n",
        "\n",
        "## number of records that meet the search criteria\n",
        "searchFlags = (semester_fl21) & (class_cs2) & (major_othercomp) & (pfd_fail)\n",
        "count_gender = df.loc[searchFlags].groupby('gender')['eid'].nunique()\n",
        "count_total = df.loc[searchFlags]['eid'].nunique()\n",
        "\n",
        "print(\n",
        "  '35. Number of Other Computing majors who failed CS2'\n",
        "  '\\n\\n{}'\n",
        "  '\\n\\nTotal: {}'.format(count_gender, count_total)\n",
        ")"
      ]
    },
    {
      "cell_type": "code",
      "execution_count": null,
      "metadata": {
        "colab": {
          "base_uri": "https://localhost:8080/"
        },
        "outputId": "efb9cb2a-68f1-46e7-8990-cca3e97bad8d",
        "id": "PLxFhA_M38Gw"
      },
      "outputs": [
        {
          "output_type": "stream",
          "name": "stdout",
          "text": [
            "36. Number of Non-Computing majors who failed CS2\n",
            "\n",
            "Series([], Name: eid, dtype: int64)\n",
            "\n",
            "Total: 0\n"
          ]
        }
      ],
      "source": [
        "#### 36. Number of Non-Computing majors who failed CS2\n",
        "\n",
        "## number of records that meet the search criteria\n",
        "searchFlags = (semester_fl21) & (class_cs2) & (major_noncomp) & (pfd_fail)\n",
        "count_gender = df.loc[searchFlags].groupby('gender')['eid'].nunique()\n",
        "count_total = df.loc[searchFlags]['eid'].nunique()\n",
        "\n",
        "print(\n",
        "  '36. Number of Non-Computing majors who failed CS2'\n",
        "  '\\n\\n{}'\n",
        "  '\\n\\nTotal: {}'.format(count_gender, count_total)\n",
        ")"
      ]
    },
    {
      "cell_type": "code",
      "execution_count": null,
      "metadata": {
        "colab": {
          "base_uri": "https://localhost:8080/"
        },
        "outputId": "91b818ad-a642-4acd-a388-3727f95b4e8f",
        "id": "vPJ-y1Cy38Gw"
      },
      "outputs": [
        {
          "output_type": "stream",
          "name": "stdout",
          "text": [
            "37. Number of Undeclared students who failed CS2\n",
            "\n",
            "gender\n",
            "F    1\n",
            "M    4\n",
            "Name: eid, dtype: int64\n",
            "\n",
            "Total: 5\n"
          ]
        }
      ],
      "source": [
        "#### 37. Number of Undeclared students who failed CS2\n",
        "\n",
        "## number of records that meet the search criteria\n",
        "searchFlags = (semester_fl21) & (class_cs2) & (major_undecl) & (pfd_fail)\n",
        "count_gender = df.loc[searchFlags].groupby('gender')['eid'].nunique()\n",
        "count_total = df.loc[searchFlags]['eid'].nunique()\n",
        "\n",
        "print(\n",
        "  '37. Number of Undeclared students who failed CS2'\n",
        "  '\\n\\n{}'\n",
        "  '\\n\\nTotal: {}'.format(count_gender, count_total)\n",
        ")"
      ]
    },
    {
      "cell_type": "code",
      "execution_count": null,
      "metadata": {
        "colab": {
          "base_uri": "https://localhost:8080/"
        },
        "outputId": "2cdc9540-cd7f-461a-9314-6b16a06228ca",
        "id": "X3ktcC1x38Gx"
      },
      "outputs": [
        {
          "output_type": "stream",
          "name": "stdout",
          "text": [
            "38. Number of external transfer students (reported in Question 14)\n",
            "    who failed CS2\n",
            "\n",
            "Series([], Name: eid, dtype: int64)\n",
            "\n",
            "Total: 0\n"
          ]
        }
      ],
      "source": [
        "#### 38. Number of external transfer students (reported in Question 14)\n",
        "####     who failed CS2\n",
        "\n",
        "## number of records that meet the search criteria\n",
        "searchFlags = (semester_fl21) & (class_cs2) & (admission_transfer) & (pfd_fail)\n",
        "count_gender = df.loc[searchFlags].groupby('gender')['eid'].nunique()\n",
        "count_total = df.loc[searchFlags]['eid'].nunique()\n",
        "\n",
        "print(\n",
        "  '38. Number of external transfer students (reported in Question 14)'\n",
        "  '\\n    who failed CS2'\n",
        "  '\\n\\n{}'\n",
        "  '\\n\\nTotal: {}'.format(count_gender, count_total)\n",
        ")"
      ]
    },
    {
      "cell_type": "markdown",
      "metadata": {
        "id": "ARZ_iipCqaG2"
      },
      "source": [
        "## SP-22"
      ]
    },
    {
      "cell_type": "markdown",
      "metadata": {
        "id": "vbp1QaB_9l5h"
      },
      "source": [
        "### a"
      ]
    },
    {
      "cell_type": "code",
      "execution_count": null,
      "metadata": {
        "colab": {
          "base_uri": "https://localhost:8080/"
        },
        "id": "DDIk6ETGKS8g",
        "outputId": "dae6dd57-c27a-4ac2-d27a-5e2d2c15d87e"
      },
      "outputs": [
        {
          "output_type": "stream",
          "name": "stdout",
          "text": [
            "3. Number of sections of CS2 offered this term\n",
            "\t5\n"
          ]
        }
      ],
      "source": [
        "# 3. Number of sections of CS2 offered this term\n",
        "\n",
        "## number of unique values within a column,\n",
        "##   counting inside a df that meets above search criteria\n",
        "searchFlags = (semester_sp22) & (class_cs2)\n",
        "count = df.loc[searchFlags]['section'].nunique()\n",
        "\n",
        "print(\n",
        "  '3. Number of sections of CS2 offered this term'\n",
        "  '\\n\\t{}'.format(count)\n",
        ")"
      ]
    },
    {
      "cell_type": "code",
      "execution_count": null,
      "metadata": {
        "colab": {
          "base_uri": "https://localhost:8080/"
        },
        "id": "a4EDGVRtKSvy",
        "outputId": "744dc40a-76a4-459a-8dd7-50c1c2fb0425"
      },
      "outputs": [
        {
          "output_type": "stream",
          "name": "stdout",
          "text": [
            "4. Number of tenured/tenure-track faculty teaching CS2 this term\n",
            "\t2\n"
          ]
        }
      ],
      "source": [
        "#4. Number of tenured/tenure-track faculty teaching CS2 this term\n",
        "\n",
        "## number of unique values within a column,\n",
        "##   counting inside a df that meets above search criteria\n",
        "searchFlags = (semester_sp22) & (class_cs2) & (instructor_tt)\n",
        "count = df.loc[searchFlags]['Instructor'].nunique()\n",
        "\n",
        "print(\n",
        "  '4. Number of tenured/tenure-track faculty teaching CS2 this term'\n",
        "  '\\n\\t{}'.format(count)\n",
        ")"
      ]
    },
    {
      "cell_type": "code",
      "execution_count": null,
      "metadata": {
        "colab": {
          "base_uri": "https://localhost:8080/"
        },
        "id": "S2MCb2jEKSbv",
        "outputId": "8c58616f-91fe-46e1-ba47-66b7a5cff337"
      },
      "outputs": [
        {
          "output_type": "stream",
          "name": "stdout",
          "text": [
            "6. Number of part-time faculty teaching CS2 this term\n",
            "\t3\n"
          ]
        }
      ],
      "source": [
        "#6. Number of part-time faculty teaching CS2 this term\n",
        "\n",
        "## number of unique values within a column,\n",
        "##   counting inside a df that meets above search criteria\n",
        "searchFlags = (semester_sp22) & (class_cs2) & (instructor_pt)\n",
        "count = df.loc[searchFlags]['Instructor'].nunique()\n",
        "\n",
        "print(\n",
        "  '6. Number of part-time faculty teaching CS2 this term'\n",
        "  '\\n\\t{}'.format(count)\n",
        ")"
      ]
    },
    {
      "cell_type": "markdown",
      "metadata": {
        "id": "wKepqAZapqPw"
      },
      "source": [
        "### b"
      ]
    },
    {
      "cell_type": "code",
      "execution_count": null,
      "metadata": {
        "colab": {
          "base_uri": "https://localhost:8080/"
        },
        "outputId": "afb2ab40-8318-4072-8ef0-d9994ee07eb8",
        "id": "cAvy5S_GpqPx"
      },
      "outputs": [
        {
          "output_type": "stream",
          "name": "stdout",
          "text": [
            "10. Number of students enrolled in CS2 on Day 1 of this Academic Term\n",
            "\n",
            "gender\n",
            "F     45\n",
            "M    117\n",
            "T      1\n",
            "Name: eid, dtype: int64\n",
            "\n",
            "Total: 163\n"
          ]
        }
      ],
      "source": [
        "#10. Number of students enrolled in CS2 on Day 1 of this Academic Term\n",
        "\n",
        "## number of records that meet the search criteria\n",
        "searchFlags = (semester_sp22) & (class_cs2) & (reg_sp22_first)\n",
        "count_gender = df.loc[searchFlags].groupby('gender')['eid'].nunique()\n",
        "count_total = df.loc[searchFlags]['eid'].nunique()\n",
        "\n",
        "## print statement\n",
        "print(\n",
        "  '10. Number of students enrolled in CS2 on Day 1 of this Academic Term'\n",
        "  '\\n\\n{}'\n",
        "  '\\n\\nTotal: {}'.format(count_gender, count_total)\n",
        ")"
      ]
    },
    {
      "cell_type": "code",
      "execution_count": null,
      "metadata": {
        "colab": {
          "base_uri": "https://localhost:8080/"
        },
        "outputId": "c6e70f78-81a1-4f23-dcfa-4c15da248d26",
        "id": "LRWR46IVpqPy"
      },
      "outputs": [
        {
          "output_type": "stream",
          "name": "stdout",
          "text": [
            "11. Number of students who added the course by Official Enrollment Day, after Day 1\n",
            "\t6\n"
          ]
        }
      ],
      "source": [
        "#### 11. Changes in CS2 enrollment between Day 1 and Official Enrollment Day\n",
        "\n",
        "\n",
        "# Number of students who added the course by Official Enrollment Day\n",
        "registration_add = (df['registration_date'] > sp22_first) & (reg_sp22_oed)\n",
        "searchFlags_add = (semester_sp22) & (class_cs2) & (registration_add)\n",
        "count_add = df.loc[searchFlags_add]['eid'].nunique()\n",
        "\n",
        "print(\n",
        "'11. Number of students who added the course by Official Enrollment Day, after Day 1'\n",
        "'\\n\\t{}'.format(count_add)\n",
        ")\n",
        "\n",
        "# Number of students who dropped the course by Official Enrollment Day\n",
        "# - Unaswerable"
      ]
    },
    {
      "cell_type": "code",
      "execution_count": null,
      "metadata": {
        "colab": {
          "base_uri": "https://localhost:8080/"
        },
        "outputId": "9a1cf25f-6582-46c2-96d8-c81ea660822a",
        "id": "ePXPflfepqPz"
      },
      "outputs": [
        {
          "output_type": "stream",
          "name": "stdout",
          "text": [
            "12. Number of students enrolled in CS2 as of Official Enrollment Day\n",
            "\n",
            "gender\n",
            "F     47\n",
            "M    121\n",
            "T      1\n",
            "Name: eid, dtype: int64\n",
            "\n",
            "Total: 169\n"
          ]
        }
      ],
      "source": [
        "#12. Number of students enrolled in CS2 as of Official Enrollment Day\n",
        "\n",
        "## number of records that meet the search criteria\n",
        "searchFlags = (semester_sp22) & (class_cs2) & (reg_sp22_oed)\n",
        "count_gender = df.loc[searchFlags].groupby('gender')['eid'].nunique()\n",
        "count_total = df.loc[searchFlags]['eid'].nunique()\n",
        "\n",
        "print(\n",
        "  '12. Number of students enrolled in CS2 as of Official Enrollment Day'\n",
        "  '\\n\\n{}'\n",
        "  '\\n\\nTotal: {}'.format(count_gender, count_total)\n",
        ")"
      ]
    },
    {
      "cell_type": "code",
      "execution_count": null,
      "metadata": {
        "colab": {
          "base_uri": "https://localhost:8080/"
        },
        "outputId": "74de522d-9c48-4615-d0b7-0b41a48321ae",
        "id": "62fgkf9_pqP0"
      },
      "outputs": [
        {
          "output_type": "stream",
          "name": "stdout",
          "text": [
            "14. Number of students enrolled in CS2 who were external transfers\n",
            "\n",
            "gender\n",
            "M    1\n",
            "Name: eid, dtype: int64\n",
            "\n",
            "Total: 1\n"
          ]
        }
      ],
      "source": [
        "#14. Number of students enrolled in CS2 who were external transfers\n",
        "\n",
        "## number of records that meet the search criteria\n",
        "searchFlags = (semester_sp22) & (class_cs2) & (admission_transfer)\n",
        "count_gender = df.loc[searchFlags].groupby('gender')['eid'].nunique()\n",
        "count_total = df.loc[searchFlags]['eid'].nunique()\n",
        "\n",
        "print(\n",
        "  '14. Number of students enrolled in CS2 who were external transfers'\n",
        "  '\\n\\n{}'\n",
        "  '\\n\\nTotal: {}'.format(count_gender, count_total)\n",
        ")"
      ]
    },
    {
      "cell_type": "code",
      "execution_count": null,
      "metadata": {
        "colab": {
          "base_uri": "https://localhost:8080/"
        },
        "outputId": "876ac44f-298a-4cc2-e372-86b91a23cccd",
        "id": "DfohvtRepqP1"
      },
      "outputs": [
        {
          "output_type": "stream",
          "name": "stdout",
          "text": [
            "15. Number of declared Computer Science majors enrolled in CS2\n",
            "\n",
            "gender\n",
            "F    28\n",
            "M    82\n",
            "T     1\n",
            "Name: eid, dtype: int64\n",
            "\n",
            "Total: 111\n"
          ]
        }
      ],
      "source": [
        "#15. Number of declared Computer Science majors enrolled in CS2\n",
        "\n",
        "## number of records that meet the search criteria\n",
        "searchFlags = (semester_sp22) & (class_cs2) & (major_compsc)\n",
        "count_gender = df.loc[searchFlags].groupby('gender')['eid'].nunique()\n",
        "count_total = df.loc[searchFlags]['eid'].nunique()\n",
        "\n",
        "print(\n",
        "  '15. Number of declared Computer Science majors enrolled in CS2'\n",
        "  '\\n\\n{}'\n",
        "  '\\n\\nTotal: {}'.format(count_gender, count_total)\n",
        ")"
      ]
    },
    {
      "cell_type": "code",
      "execution_count": null,
      "metadata": {
        "colab": {
          "base_uri": "https://localhost:8080/"
        },
        "outputId": "62e05e3c-396b-44e3-bfcb-e89925acaa75",
        "id": "eVTU65cKpqP2"
      },
      "outputs": [
        {
          "output_type": "stream",
          "name": "stdout",
          "text": [
            "16. Number of other Computing majors enrolled in CS2\n",
            "\n",
            "gender\n",
            "F     5\n",
            "M    10\n",
            "Name: eid, dtype: int64\n",
            "\n",
            "Total: 15\n"
          ]
        }
      ],
      "source": [
        "#16. Number of Other Computing majors enrolled in CS2\n",
        "\n",
        "## number of records that meet the search criteria\n",
        "searchFlags = (semester_sp22) & (class_cs2) & (major_othercomp)\n",
        "count_gender = df.loc[searchFlags].groupby('gender')['eid'].nunique()\n",
        "count_total = df.loc[searchFlags]['eid'].nunique()\n",
        "\n",
        "print(\n",
        "  '16. Number of other Computing majors enrolled in CS2'\n",
        "  '\\n\\n{}'\n",
        "  '\\n\\nTotal: {}'.format(count_gender, count_total)\n",
        ")"
      ]
    },
    {
      "cell_type": "code",
      "execution_count": null,
      "metadata": {
        "colab": {
          "base_uri": "https://localhost:8080/"
        },
        "outputId": "b6093912-0896-4fae-bfac-c2bb3cafa9a8",
        "id": "MwmaSUocpqP2"
      },
      "outputs": [
        {
          "output_type": "stream",
          "name": "stdout",
          "text": [
            "17. Number of Non Computing majors enrolled in CS2\n",
            "\n",
            "gender\n",
            "F    7\n",
            "M    7\n",
            "Name: eid, dtype: int64\n",
            "\n",
            "Total: 14\n"
          ]
        }
      ],
      "source": [
        "#17. Number of Non-Computing majors enrolled in CS2\n",
        "\n",
        "## number of records that meet the search criteria\n",
        "searchFlags = (semester_sp22) & (class_cs2) & (major_noncomp)\n",
        "count_gender = df.loc[searchFlags].groupby('gender')['eid'].nunique()\n",
        "count_total = df.loc[searchFlags]['eid'].nunique()\n",
        "\n",
        "print(\n",
        "  '17. Number of Non Computing majors enrolled in CS2'\n",
        "  '\\n\\n{}'\n",
        "  '\\n\\nTotal: {}'.format(count_gender, count_total)\n",
        ")"
      ]
    },
    {
      "cell_type": "code",
      "execution_count": null,
      "metadata": {
        "colab": {
          "base_uri": "https://localhost:8080/"
        },
        "outputId": "45b211cd-923b-4608-9666-a0918bec2022",
        "id": "uYhZ1E4XpqP3"
      },
      "outputs": [
        {
          "output_type": "stream",
          "name": "stdout",
          "text": [
            "18. Number of undeclared student enrolled in CS2\n",
            "\n",
            "gender\n",
            "F     7\n",
            "M    22\n",
            "Name: eid, dtype: int64\n",
            "\n",
            "Total: 29\n"
          ]
        }
      ],
      "source": [
        "#18. Number of Undeclared students enrolled in CS2\n",
        "\n",
        "## number of records that meet the search criteria\n",
        "searchFlags = (semester_sp22) & (class_cs2) & (major_undecl)\n",
        "count_gender = df.loc[searchFlags].groupby('gender')['eid'].nunique()\n",
        "count_total = df.loc[searchFlags]['eid'].nunique()\n",
        "\n",
        "print(\n",
        "  '18. Number of undeclared student enrolled in CS2'\n",
        "  '\\n\\n{}'\n",
        "  '\\n\\nTotal: {}'.format(count_gender, count_total)\n",
        ")"
      ]
    },
    {
      "cell_type": "markdown",
      "metadata": {
        "id": "WIxasqsiv6lM"
      },
      "source": [
        "### c"
      ]
    },
    {
      "cell_type": "code",
      "execution_count": null,
      "metadata": {
        "colab": {
          "base_uri": "https://localhost:8080/"
        },
        "outputId": "14a4649e-1bfd-4a43-a477-a674e3033d25",
        "id": "O6gHBaSav6lN"
      },
      "outputs": [
        {
          "output_type": "stream",
          "name": "stdout",
          "text": [
            "19. Number of declared Computer Science majors who completed/passed CS2\n",
            "\n",
            "gender\n",
            "F    20\n",
            "M    60\n",
            "T     1\n",
            "Name: eid, dtype: int64\n",
            "\n",
            "Total: 81\n"
          ]
        }
      ],
      "source": [
        "#### 19. Number of declared Computer Science majors who completed/passed CS2\n",
        "\n",
        "## number of records that meet the search criteria\n",
        "searchFlags = (semester_sp22) & (class_cs2) & (major_compsc) & (pfd_pass)\n",
        "count_gender = df.loc[searchFlags].groupby('gender')['eid'].nunique()\n",
        "count_total = df.loc[searchFlags]['eid'].nunique()\n",
        "\n",
        "print(\n",
        "  '19. Number of declared Computer Science majors who completed/passed CS2'\n",
        "  '\\n\\n{}'\n",
        "  '\\n\\nTotal: {}'.format(count_gender, count_total)\n",
        ")"
      ]
    },
    {
      "cell_type": "code",
      "execution_count": null,
      "metadata": {
        "colab": {
          "base_uri": "https://localhost:8080/"
        },
        "outputId": "af5d9598-a10c-4869-afe7-76f14b1d0142",
        "id": "2cgKXmJHv6lO"
      },
      "outputs": [
        {
          "output_type": "stream",
          "name": "stdout",
          "text": [
            "20. Number of Other Computing majors who completed/passed CS2\n",
            "\n",
            "gender\n",
            "F    4\n",
            "M    5\n",
            "Name: eid, dtype: int64\n",
            "\n",
            "Total: 9\n"
          ]
        }
      ],
      "source": [
        "#### 20. Number of Other Computing majors who completed/passed CS2\n",
        "\n",
        "## number of records that meet the search criteria\n",
        "searchFlags = (semester_sp22) & (class_cs2) & (major_othercomp) & (pfd_pass)\n",
        "count_gender = df.loc[searchFlags].groupby('gender')['eid'].nunique()\n",
        "count_total = df.loc[searchFlags]['eid'].nunique()\n",
        "\n",
        "print(\n",
        "  '20. Number of Other Computing majors who completed/passed CS2'\n",
        "  '\\n\\n{}'\n",
        "  '\\n\\nTotal: {}'.format(count_gender, count_total)\n",
        ")"
      ]
    },
    {
      "cell_type": "code",
      "execution_count": null,
      "metadata": {
        "colab": {
          "base_uri": "https://localhost:8080/"
        },
        "outputId": "5d1e3086-e9ab-499c-d1e0-5d1c5c714f99",
        "id": "oR7NKdP-v6lP"
      },
      "outputs": [
        {
          "output_type": "stream",
          "name": "stdout",
          "text": [
            "21. Number of Non-Computing majors who completed/passed CS2\n",
            "\n",
            "gender\n",
            "F    4\n",
            "M    3\n",
            "Name: eid, dtype: int64\n",
            "\n",
            "Total: 7\n"
          ]
        }
      ],
      "source": [
        "#### 21. Number of Non-Computing majors who completed/passed CS2\n",
        "\n",
        "## number of records that meet the search criteria\n",
        "searchFlags = (semester_sp22) & (class_cs2) & (major_noncomp) & (pfd_pass)\n",
        "count_gender = df.loc[searchFlags].groupby('gender')['eid'].nunique()\n",
        "count_total = df.loc[searchFlags]['eid'].nunique()\n",
        "\n",
        "print(\n",
        "  '21. Number of Non-Computing majors who completed/passed CS2'\n",
        "  '\\n\\n{}'\n",
        "  '\\n\\nTotal: {}'.format(count_gender, count_total)\n",
        ")"
      ]
    },
    {
      "cell_type": "code",
      "execution_count": null,
      "metadata": {
        "colab": {
          "base_uri": "https://localhost:8080/"
        },
        "outputId": "942dc431-e537-416c-bd89-763107ce2b17",
        "id": "HPrNEzhSv6lQ"
      },
      "outputs": [
        {
          "output_type": "stream",
          "name": "stdout",
          "text": [
            "22. Number of Undeclared students who completed/passed CS2\n",
            "\n",
            "gender\n",
            "F     5\n",
            "M    14\n",
            "Name: eid, dtype: int64\n",
            "\n",
            "Total: 19\n"
          ]
        }
      ],
      "source": [
        "#### 22. Number of Undeclared students who completed/passed CS2\n",
        "\n",
        "## number of records that meet the search criteria\n",
        "searchFlags = (semester_sp22) & (class_cs2) & (major_undecl) & (pfd_pass)\n",
        "count_gender = df.loc[searchFlags].groupby('gender')['eid'].nunique()\n",
        "count_total = df.loc[searchFlags]['eid'].nunique()\n",
        "\n",
        "print(\n",
        "  '22. Number of Undeclared students who completed/passed CS2'\n",
        "  '\\n\\n{}'\n",
        "  '\\n\\nTotal: {}'.format(count_gender, count_total)\n",
        ")"
      ]
    },
    {
      "cell_type": "code",
      "execution_count": null,
      "metadata": {
        "colab": {
          "base_uri": "https://localhost:8080/"
        },
        "outputId": "f8cf1eb9-78f7-4ae9-97e8-8ffce5c0d9fb",
        "id": "JK2DGDD6v6lQ"
      },
      "outputs": [
        {
          "output_type": "stream",
          "name": "stdout",
          "text": [
            "23. Number of external transfer students (reported in Question 14)\n",
            "    who completed/passed CS2\n",
            "\n",
            "Series([], Name: eid, dtype: int64)\n",
            "\n",
            "Total: 0\n"
          ]
        }
      ],
      "source": [
        "#### 23. Number of external transfer students (reported in Question 14)\n",
        "####     who completed/passed CS2\n",
        "\n",
        "## number of records that meet the search criteria\n",
        "searchFlags = (semester_sp22) & (class_cs2) & (admission_transfer) & (pfd_pass)\n",
        "count_gender = df.loc[searchFlags].groupby('gender')['eid'].nunique()\n",
        "count_total = df.loc[searchFlags]['eid'].nunique()\n",
        "\n",
        "print(\n",
        "  '23. Number of external transfer students (reported in Question 14)\\n'\n",
        "  '    who completed/passed CS2'\n",
        "  '\\n\\n{}'\n",
        "  '\\n\\nTotal: {}'.format(count_gender, count_total)\n",
        ")"
      ]
    },
    {
      "cell_type": "code",
      "execution_count": null,
      "metadata": {
        "colab": {
          "base_uri": "https://localhost:8080/"
        },
        "outputId": "0f86f207-0823-4be2-f932-f8540c7692b2",
        "id": "f1mlImg-v6lR"
      },
      "outputs": [
        {
          "output_type": "stream",
          "name": "stdout",
          "text": [
            "24. Number of declared Computer Science majors who completed CS2\n",
            "    and are already registered for CS3\n",
            "\n",
            "gender\n",
            "F    15\n",
            "M    41\n",
            "T     1\n",
            "Name: eid, dtype: int64\n",
            "\n",
            "Total: 57\n"
          ]
        }
      ],
      "source": [
        "#### 24. Number of declared Computer Science majors who completed CS2\n",
        "####     and are already registered for CS3\n",
        "\n",
        "## number of records that meet the search criteria\n",
        "searchFlags_curr = (semester_sp22) & (class_cs2) & (major_compsc) & (pfd_pass)\n",
        "searchFlags_next = (semester_fl22) & (class_cs3) & (reg_sp22_last)\n",
        "bools = df.loc[searchFlags_curr]['eid'].isin(df.loc[searchFlags_next]['eid'])\n",
        "\n",
        "count_gender = df.loc[searchFlags_curr][bools.values].groupby('gender')['eid'].nunique()\n",
        "count_total = df.loc[searchFlags_curr][bools.values]['eid'].nunique()\n",
        "\n",
        "print(\n",
        "  '24. Number of declared Computer Science majors who completed CS2\\n'\n",
        "  '    and are already registered for CS3'\n",
        "  '\\n\\n{}'\n",
        "  '\\n\\nTotal: {}'.format(count_gender, count_total)\n",
        ")"
      ]
    },
    {
      "cell_type": "code",
      "execution_count": null,
      "metadata": {
        "colab": {
          "base_uri": "https://localhost:8080/"
        },
        "outputId": "31706172-7b7a-49f6-b023-e6be69123026",
        "id": "3qB-Oxfuv6lS"
      },
      "outputs": [
        {
          "output_type": "stream",
          "name": "stdout",
          "text": [
            "25. Number of Other Computing majors who completed CS2\n",
            "    and are already registered for CS3\n",
            "\n",
            "gender\n",
            "F    2\n",
            "M    4\n",
            "Name: eid, dtype: int64\n",
            "\n",
            "Total: 6\n"
          ]
        }
      ],
      "source": [
        "#### 25. Number of Other Computing majors who completed CS2\n",
        "####     and are already registered for CS3\n",
        "\n",
        "## number of records that meet the search criteria\n",
        "searchFlags_curr = (semester_sp22) & (class_cs2) & (major_othercomp) & (pfd_pass)\n",
        "searchFlags_next = (semester_fl22) & (class_cs3) & (reg_sp22_last)\n",
        "bools = df.loc[searchFlags_curr]['eid'].isin(df.loc[searchFlags_next]['eid'])\n",
        "\n",
        "count_gender = df.loc[searchFlags_curr][bools.values].groupby('gender')['eid'].nunique()\n",
        "count_total = df.loc[searchFlags_curr][bools.values]['eid'].nunique()\n",
        "\n",
        "print(\n",
        "  '25. Number of Other Computing majors who completed CS2\\n'\n",
        "  '    and are already registered for CS3'\n",
        "  '\\n\\n{}'\n",
        "  '\\n\\nTotal: {}'.format(count_gender, count_total)\n",
        ")"
      ]
    },
    {
      "cell_type": "code",
      "execution_count": null,
      "metadata": {
        "colab": {
          "base_uri": "https://localhost:8080/"
        },
        "outputId": "45dd2fc7-d0d2-4d93-aadd-03ca37c44a46",
        "id": "L_DrPl3ov6lS"
      },
      "outputs": [
        {
          "output_type": "stream",
          "name": "stdout",
          "text": [
            "26. Number of Non-Computing majors who completed CS2\n",
            "    and are already registered for CS3\n",
            "\n",
            "gender\n",
            "F    2\n",
            "M    2\n",
            "Name: eid, dtype: int64\n",
            "\n",
            "Total: 4\n"
          ]
        }
      ],
      "source": [
        "#### 26. Number of Non-Computing majors who completed CS2\n",
        "####     and are already registered for CS3\n",
        "\n",
        "## number of records that meet the search criteria\n",
        "searchFlags_curr = (semester_sp22) & (class_cs2) & (major_noncomp) & (pfd_pass)\n",
        "searchFlags_next = (semester_fl22) & (class_cs3) & (reg_sp22_last)\n",
        "bools = df.loc[searchFlags_curr]['eid'].isin(df.loc[searchFlags_next]['eid'])\n",
        "\n",
        "count_gender = df.loc[searchFlags_curr][bools.values].groupby('gender')['eid'].nunique()\n",
        "count_total = df.loc[searchFlags_curr][bools.values]['eid'].nunique()\n",
        "\n",
        "print(\n",
        "  '26. Number of Non-Computing majors who completed CS2\\n'\n",
        "  '    and are already registered for CS3'\n",
        "  '\\n\\n{}'\n",
        "  '\\n\\nTotal: {}'.format(count_gender, count_total)\n",
        ")"
      ]
    },
    {
      "cell_type": "code",
      "execution_count": null,
      "metadata": {
        "colab": {
          "base_uri": "https://localhost:8080/"
        },
        "outputId": "f2bac075-3960-4abb-c9ed-f4a5766eec06",
        "id": "z5HydwUsv6lT"
      },
      "outputs": [
        {
          "output_type": "stream",
          "name": "stdout",
          "text": [
            "27. Number of Undeclared students who completed CS2\n",
            "    and are already registered for CS3\n",
            "\n",
            "gender\n",
            "F    3\n",
            "M    9\n",
            "Name: eid, dtype: int64\n",
            "\n",
            "Total: 12\n"
          ]
        }
      ],
      "source": [
        "#### 27. Number of Undeclared students who completed CS2\n",
        "####     and are already registered for CS3\n",
        "\n",
        "## number of records that meet the search criteria\n",
        "searchFlags_curr = (semester_sp22) & (class_cs2) & (major_undecl) & (pfd_pass)\n",
        "searchFlags_next = (semester_fl22) & (class_cs3) & (reg_sp22_last)\n",
        "bools = df.loc[searchFlags_curr]['eid'].isin(df.loc[searchFlags_next]['eid'])\n",
        "\n",
        "count_gender = df.loc[searchFlags_curr][bools.values].groupby('gender')['eid'].nunique()\n",
        "count_total = df.loc[searchFlags_curr][bools.values]['eid'].nunique()\n",
        "\n",
        "print(\n",
        "  '27. Number of Undeclared students who completed CS2\\n'\n",
        "  '    and are already registered for CS3'\n",
        "  '\\n\\n{}'\n",
        "  '\\n\\nTotal: {}'.format(count_gender, count_total)\n",
        ")"
      ]
    },
    {
      "cell_type": "code",
      "execution_count": null,
      "metadata": {
        "colab": {
          "base_uri": "https://localhost:8080/"
        },
        "outputId": "f11b3647-6e85-455f-a41d-4a93579b4994",
        "id": "zrtLo6JMv6lU"
      },
      "outputs": [
        {
          "output_type": "stream",
          "name": "stdout",
          "text": [
            "28. Number of external transfer students (reported in Question 14)\n",
            "    who completed CS2 and are already registered for CS3\n",
            "\n",
            "Series([], Name: eid, dtype: int64)\n",
            "\n",
            "Total: 0\n"
          ]
        }
      ],
      "source": [
        "#### 28. Number of external transfer students (reported in Question 14)\n",
        "####     who completed CS2 and are already registered for CS3\n",
        "\n",
        "## number of records that meet the search criteria\n",
        "searchFlags_curr = (semester_sp22) & (class_cs2) & (admission_transfer) & (pfd_pass)\n",
        "searchFlags_next = (semester_fl22) & (class_cs3) & (reg_sp22_last)\n",
        "bools = df.loc[searchFlags_curr]['eid'].isin(df.loc[searchFlags_next]['eid'])\n",
        "\n",
        "count_gender = df.loc[searchFlags_curr][bools.values].groupby('gender')['eid'].nunique()\n",
        "count_total = df.loc[searchFlags_curr][bools.values]['eid'].nunique()\n",
        "\n",
        "print(\n",
        "  '28. Number of external transfer students (reported in Question 14)\\n'\n",
        "  '    who completed CS2 and are already registered for CS3'\n",
        "  '\\n\\n{}'\n",
        "  '\\n\\nTotal: {}'.format(count_gender, count_total)\n",
        ")"
      ]
    },
    {
      "cell_type": "markdown",
      "metadata": {
        "id": "7-pxP0CBykrv"
      },
      "source": [
        "### d"
      ]
    },
    {
      "cell_type": "code",
      "execution_count": null,
      "metadata": {
        "colab": {
          "base_uri": "https://localhost:8080/"
        },
        "outputId": "3f8ee1cb-8b42-4389-edf2-4eacbacf7ef1",
        "id": "kQnHcG9cykrw"
      },
      "outputs": [
        {
          "output_type": "stream",
          "name": "stdout",
          "text": [
            "29. Number of declared Computer Science majors who withdrew from CS2\n",
            "\n",
            "gender\n",
            "F     4\n",
            "M    19\n",
            "Name: eid, dtype: int64\n",
            "\n",
            "Total: 23\n"
          ]
        }
      ],
      "source": [
        "#### 29. Number of declared Computer Science majors who withdrew from CS2\n",
        "\n",
        "## number of records that meet the search criteria\n",
        "searchFlags = (semester_sp22) & (class_cs2) & (major_compsc) & (pfd_drop)\n",
        "count_gender = df.loc[searchFlags].groupby('gender')['eid'].nunique()\n",
        "count_total = df.loc[searchFlags]['eid'].nunique()\n",
        "\n",
        "print(\n",
        "  '29. Number of declared Computer Science majors who withdrew from CS2'\n",
        "  '\\n\\n{}'\n",
        "  '\\n\\nTotal: {}'.format(count_gender, count_total)\n",
        ")"
      ]
    },
    {
      "cell_type": "code",
      "execution_count": null,
      "metadata": {
        "colab": {
          "base_uri": "https://localhost:8080/"
        },
        "outputId": "256669dc-df17-4e1c-9a19-138f76ce3f73",
        "id": "Gt3yPYXsykrx"
      },
      "outputs": [
        {
          "output_type": "stream",
          "name": "stdout",
          "text": [
            "30. Number of Other Computing majors who withdrew from CS2\n",
            "\n",
            "gender\n",
            "M    5\n",
            "Name: eid, dtype: int64\n",
            "\n",
            "Total: 5\n"
          ]
        }
      ],
      "source": [
        "#### 30. Number of Other Computing majors who withdrew from CS2\n",
        "\n",
        "## number of records that meet the search criteria\n",
        "searchFlags = (semester_sp22) & (class_cs2) & (major_othercomp) & (pfd_drop)\n",
        "count_gender = df.loc[searchFlags].groupby('gender')['eid'].nunique()\n",
        "count_total = df.loc[searchFlags]['eid'].nunique()\n",
        "\n",
        "print(\n",
        "  '30. Number of Other Computing majors who withdrew from CS2'\n",
        "  '\\n\\n{}'\n",
        "  '\\n\\nTotal: {}'.format(count_gender, count_total)\n",
        ")"
      ]
    },
    {
      "cell_type": "code",
      "execution_count": null,
      "metadata": {
        "colab": {
          "base_uri": "https://localhost:8080/"
        },
        "outputId": "71cb5a0c-5f03-4997-bf57-571b03168717",
        "id": "iyMSoiolykry"
      },
      "outputs": [
        {
          "output_type": "stream",
          "name": "stdout",
          "text": [
            "31. Number of Non-Computing majors who withdrew from CS2\n",
            "\n",
            "gender\n",
            "F    3\n",
            "M    2\n",
            "Name: eid, dtype: int64\n",
            "\n",
            "Total: 5\n"
          ]
        }
      ],
      "source": [
        "#### 31. Number of Non-Computing majors who withdrew from CS2\n",
        "\n",
        "## number of records that meet the search criteria\n",
        "searchFlags = (semester_sp22) & (class_cs2) & (major_noncomp) & (pfd_drop)\n",
        "count_gender = df.loc[searchFlags].groupby('gender')['eid'].nunique()\n",
        "count_total = df.loc[searchFlags]['eid'].nunique()\n",
        "\n",
        "print(\n",
        "  '31. Number of Non-Computing majors who withdrew from CS2'\n",
        "  '\\n\\n{}'\n",
        "  '\\n\\nTotal: {}'.format(count_gender, count_total)\n",
        ")"
      ]
    },
    {
      "cell_type": "code",
      "execution_count": null,
      "metadata": {
        "colab": {
          "base_uri": "https://localhost:8080/"
        },
        "outputId": "b4004035-71c6-4316-9c67-aca04579631d",
        "id": "sd-Z9BTiykrz"
      },
      "outputs": [
        {
          "output_type": "stream",
          "name": "stdout",
          "text": [
            "32. Number of Undeclared students who withdrew from CS2\n",
            "\n",
            "gender\n",
            "F    2\n",
            "M    6\n",
            "Name: eid, dtype: int64\n",
            "\n",
            "Total: 8\n"
          ]
        }
      ],
      "source": [
        "#### 32. Number of Undeclared students who withdrew from CS2\n",
        "\n",
        "## number of records that meet the search criteria\n",
        "searchFlags = (semester_sp22) & (class_cs2) & (major_undecl) & (pfd_drop)\n",
        "count_gender = df.loc[searchFlags].groupby('gender')['eid'].nunique()\n",
        "count_total = df.loc[searchFlags]['eid'].nunique()\n",
        "\n",
        "print(\n",
        "  '32. Number of Undeclared students who withdrew from CS2'\n",
        "  '\\n\\n{}'\n",
        "  '\\n\\nTotal: {}'.format(count_gender, count_total)\n",
        ")"
      ]
    },
    {
      "cell_type": "code",
      "execution_count": null,
      "metadata": {
        "colab": {
          "base_uri": "https://localhost:8080/"
        },
        "outputId": "a91cf807-6351-4506-d5b9-01b1e5d9ab15",
        "id": "CuX1izpvykr0"
      },
      "outputs": [
        {
          "output_type": "stream",
          "name": "stdout",
          "text": [
            "33. Number of external transfer students (reported in Question 14)\n",
            "    who withdrew from CS2\n",
            "\n",
            "gender\n",
            "M    1\n",
            "Name: eid, dtype: int64\n",
            "\n",
            "Total: 1\n"
          ]
        }
      ],
      "source": [
        "#### 33. Number of external transfer students (reported in Question 14)\n",
        "####     who withdrew from CS2\n",
        "\n",
        "## number of records that meet the search criteria\n",
        "searchFlags = (semester_sp22) & (class_cs2) & (admission_transfer) & (pfd_drop)\n",
        "count_gender = df.loc[searchFlags].groupby('gender')['eid'].nunique()\n",
        "count_total = df.loc[searchFlags]['eid'].nunique()\n",
        "\n",
        "print(\n",
        "  '33. Number of external transfer students (reported in Question 14)'\n",
        "  '\\n    who withdrew from CS2'\n",
        "  '\\n\\n{}'\n",
        "  '\\n\\nTotal: {}'.format(count_gender, count_total)\n",
        ")"
      ]
    },
    {
      "cell_type": "code",
      "execution_count": null,
      "metadata": {
        "colab": {
          "base_uri": "https://localhost:8080/"
        },
        "outputId": "84954611-b814-4091-c8d7-57a48eac355b",
        "id": "NYFEyHqpykr1"
      },
      "outputs": [
        {
          "output_type": "stream",
          "name": "stdout",
          "text": [
            "34. Number of Computer Science majors who failed CS2\n",
            "\n",
            "gender\n",
            "F    4\n",
            "M    3\n",
            "Name: eid, dtype: int64\n",
            "\n",
            "Total: 7\n"
          ]
        }
      ],
      "source": [
        "#### 34. Number of Computer Science majors who failed CS2\n",
        "\n",
        "## number of records that meet the search criteria\n",
        "searchFlags = (semester_sp22) & (class_cs2) & (major_compsc) & (pfd_fail)\n",
        "count_gender = df.loc[searchFlags].groupby('gender')['eid'].nunique()\n",
        "count_total = df.loc[searchFlags]['eid'].nunique()\n",
        "\n",
        "print(\n",
        "  '34. Number of Computer Science majors who failed CS2'\n",
        "  '\\n\\n{}'\n",
        "  '\\n\\nTotal: {}'.format(count_gender, count_total)\n",
        ")"
      ]
    },
    {
      "cell_type": "code",
      "execution_count": null,
      "metadata": {
        "colab": {
          "base_uri": "https://localhost:8080/"
        },
        "outputId": "9a4f1452-e36e-4257-c7cb-182643785c74",
        "id": "01n6F3Otykr1"
      },
      "outputs": [
        {
          "output_type": "stream",
          "name": "stdout",
          "text": [
            "35. Number of Other Computing majors who failed CS2\n",
            "\n",
            "gender\n",
            "F    1\n",
            "Name: eid, dtype: int64\n",
            "\n",
            "Total: 1\n"
          ]
        }
      ],
      "source": [
        "#### 35. Number of Other Computing majors who failed CS2\n",
        "\n",
        "## number of records that meet the search criteria\n",
        "searchFlags = (semester_sp22) & (class_cs2) & (major_othercomp) & (pfd_fail)\n",
        "count_gender = df.loc[searchFlags].groupby('gender')['eid'].nunique()\n",
        "count_total = df.loc[searchFlags]['eid'].nunique()\n",
        "\n",
        "print(\n",
        "  '35. Number of Other Computing majors who failed CS2'\n",
        "  '\\n\\n{}'\n",
        "  '\\n\\nTotal: {}'.format(count_gender, count_total)\n",
        ")"
      ]
    },
    {
      "cell_type": "code",
      "execution_count": null,
      "metadata": {
        "colab": {
          "base_uri": "https://localhost:8080/"
        },
        "outputId": "7c27f528-aff2-46c9-d4c9-6cacee9c0b1e",
        "id": "sf1Mh_TOykr2"
      },
      "outputs": [
        {
          "output_type": "stream",
          "name": "stdout",
          "text": [
            "36. Number of Non-Computing majors who failed CS2\n",
            "\n",
            "gender\n",
            "M    2\n",
            "Name: eid, dtype: int64\n",
            "\n",
            "Total: 2\n"
          ]
        }
      ],
      "source": [
        "#### 36. Number of Non-Computing majors who failed CS2\n",
        "\n",
        "## number of records that meet the search criteria\n",
        "searchFlags = (semester_sp22) & (class_cs2) & (major_noncomp) & (pfd_fail)\n",
        "count_gender = df.loc[searchFlags].groupby('gender')['eid'].nunique()\n",
        "count_total = df.loc[searchFlags]['eid'].nunique()\n",
        "\n",
        "print(\n",
        "  '36. Number of Non-Computing majors who failed CS2'\n",
        "  '\\n\\n{}'\n",
        "  '\\n\\nTotal: {}'.format(count_gender, count_total)\n",
        ")"
      ]
    },
    {
      "cell_type": "code",
      "execution_count": null,
      "metadata": {
        "colab": {
          "base_uri": "https://localhost:8080/"
        },
        "outputId": "66fa3cfd-1f4a-435c-80cd-963b4c576eb1",
        "id": "YB-FwkRaykr2"
      },
      "outputs": [
        {
          "output_type": "stream",
          "name": "stdout",
          "text": [
            "37. Number of Undeclared students who failed CS2\n",
            "\n",
            "gender\n",
            "M    2\n",
            "Name: eid, dtype: int64\n",
            "\n",
            "Total: 2\n"
          ]
        }
      ],
      "source": [
        "#### 37. Number of Undeclared students who failed CS2\n",
        "\n",
        "## number of records that meet the search criteria\n",
        "searchFlags = (semester_sp22) & (class_cs2) & (major_undecl) & (pfd_fail)\n",
        "count_gender = df.loc[searchFlags].groupby('gender')['eid'].nunique()\n",
        "count_total = df.loc[searchFlags]['eid'].nunique()\n",
        "\n",
        "print(\n",
        "  '37. Number of Undeclared students who failed CS2'\n",
        "  '\\n\\n{}'\n",
        "  '\\n\\nTotal: {}'.format(count_gender, count_total)\n",
        ")"
      ]
    },
    {
      "cell_type": "code",
      "execution_count": null,
      "metadata": {
        "colab": {
          "base_uri": "https://localhost:8080/"
        },
        "outputId": "b00851a7-c345-4cba-b2f6-101d80203198",
        "id": "r25_6JMeykr2"
      },
      "outputs": [
        {
          "output_type": "stream",
          "name": "stdout",
          "text": [
            "38. Number of external transfer students (reported in Question 14)\n",
            "    who failed CS2\n",
            "\n",
            "Series([], Name: eid, dtype: int64)\n",
            "\n",
            "Total: 0\n"
          ]
        }
      ],
      "source": [
        "#### 38. Number of external transfer students (reported in Question 14)\n",
        "####     who failed CS2\n",
        "\n",
        "## number of records that meet the search criteria\n",
        "searchFlags = (semester_sp22) & (class_cs2) & (admission_transfer) & (pfd_fail)\n",
        "count_gender = df.loc[searchFlags].groupby('gender')['eid'].nunique()\n",
        "count_total = df.loc[searchFlags]['eid'].nunique()\n",
        "\n",
        "print(\n",
        "  '38. Number of external transfer students (reported in Question 14)'\n",
        "  '\\n    who failed CS2'\n",
        "  '\\n\\n{}'\n",
        "  '\\n\\nTotal: {}'.format(count_gender, count_total)\n",
        ")"
      ]
    },
    {
      "cell_type": "markdown",
      "metadata": {
        "id": "8HFl6vrNqafp"
      },
      "source": [
        "## FL-22"
      ]
    },
    {
      "cell_type": "markdown",
      "metadata": {
        "id": "naUiF7tL9l5h"
      },
      "source": [
        "### a"
      ]
    },
    {
      "cell_type": "code",
      "execution_count": null,
      "metadata": {
        "colab": {
          "base_uri": "https://localhost:8080/"
        },
        "id": "_EMWqQx1KUxZ",
        "outputId": "47df397d-c719-48da-b5e9-65232ebe1b94"
      },
      "outputs": [
        {
          "output_type": "stream",
          "name": "stdout",
          "text": [
            "3. Number of sections of CS2 offered this term\n",
            "\t5\n"
          ]
        }
      ],
      "source": [
        "# 3. Number of sections of CS2 offered this term\n",
        "\n",
        "## number of unique values within a column,\n",
        "##   counting inside a df that meets above search criteria\n",
        "searchFlags = (semester_fl22) & (class_cs2)\n",
        "count = df.loc[searchFlags]['section'].nunique()\n",
        "\n",
        "print(\n",
        "  '3. Number of sections of CS2 offered this term'\n",
        "  '\\n\\t{}'.format(count)\n",
        ")"
      ]
    },
    {
      "cell_type": "code",
      "execution_count": null,
      "metadata": {
        "colab": {
          "base_uri": "https://localhost:8080/"
        },
        "id": "7Q028oyLKUlk",
        "outputId": "7f23eb0c-39aa-4258-a6f9-01111da3cca4"
      },
      "outputs": [
        {
          "output_type": "stream",
          "name": "stdout",
          "text": [
            "4. Number of tenured/tenure-track faculty teaching CS2 this term\n",
            "\t4\n"
          ]
        }
      ],
      "source": [
        "#4. Number of tenured/tenure-track faculty teaching CS2 this term\n",
        "\n",
        "## number of unique values within a column,\n",
        "##   counting inside a df that meets above search criteria\n",
        "searchFlags = (semester_fl22) & (class_cs2) & (instructor_tt)\n",
        "count = df.loc[searchFlags]['Instructor'].nunique()\n",
        "\n",
        "print(\n",
        "  '4. Number of tenured/tenure-track faculty teaching CS2 this term'\n",
        "  '\\n\\t{}'.format(count)\n",
        ")"
      ]
    },
    {
      "cell_type": "code",
      "execution_count": null,
      "metadata": {
        "colab": {
          "base_uri": "https://localhost:8080/"
        },
        "id": "PE49DzNOKUSu",
        "outputId": "5f928792-f6af-448b-d300-b7cca8119a87"
      },
      "outputs": [
        {
          "output_type": "stream",
          "name": "stdout",
          "text": [
            "6. Number of Part-time faculty teaching CS2 this term\n",
            "\t1\n"
          ]
        }
      ],
      "source": [
        "#6. Number of part-time faculty teaching CS2 this term\n",
        "\n",
        "## number of unique values within a column,\n",
        "##   counting inside a df that meets above search criteria\n",
        "searchFlags = (semester_fl22) & (class_cs2) & (instructor_pt)\n",
        "count = df.loc[searchFlags]['Instructor'].nunique()\n",
        "\n",
        "print(\n",
        "  '6. Number of Part-time faculty teaching CS2 this term'\n",
        "  '\\n\\t{}'.format(count)\n",
        ")"
      ]
    },
    {
      "cell_type": "markdown",
      "metadata": {
        "id": "ByVf_jdD1F98"
      },
      "source": [
        "### b"
      ]
    },
    {
      "cell_type": "code",
      "execution_count": null,
      "metadata": {
        "colab": {
          "base_uri": "https://localhost:8080/"
        },
        "outputId": "29018f20-087f-4da5-aade-647a15436545",
        "id": "xnF6Y71C1F99"
      },
      "outputs": [
        {
          "output_type": "stream",
          "name": "stdout",
          "text": [
            "10. Number of students enrolled in CS2 on Day 1 of this Academic Term\n",
            "\n",
            "gender\n",
            "F     31\n",
            "M    108\n",
            "Name: eid, dtype: int64\n",
            "\n",
            "Total: 139\n"
          ]
        }
      ],
      "source": [
        "#10. Number of students enrolled in CS2 on Day 1 of this Academic Term\n",
        "\n",
        "## number of records that meet the search criteria\n",
        "searchFlags = (semester_fl22) & (class_cs2) & (reg_fl22_first)\n",
        "count_gender = df.loc[searchFlags].groupby('gender')['eid'].nunique()\n",
        "count_total = df.loc[searchFlags]['eid'].nunique()\n",
        "\n",
        "print(\n",
        "  '10. Number of students enrolled in CS2 on Day 1 of this Academic Term'\n",
        "  '\\n\\n{}'\n",
        "  '\\n\\nTotal: {}'.format(count_gender, count_total)\n",
        ")"
      ]
    },
    {
      "cell_type": "code",
      "execution_count": null,
      "metadata": {
        "colab": {
          "base_uri": "https://localhost:8080/"
        },
        "outputId": "7aeb9d68-133a-4934-c1fa-bef52bc16ee3",
        "id": "2k0PV18c1F9-"
      },
      "outputs": [
        {
          "output_type": "stream",
          "name": "stdout",
          "text": [
            "11. Number of students who added the course by Official Enrollment Day, after Day 1\n",
            "\t8\n"
          ]
        }
      ],
      "source": [
        "#### 11. Changes in CS2 enrollment between Day 1 and Official Enrollment Day\n",
        "\n",
        "\n",
        "# Number of students who added the course by Official Enrollment Day\n",
        "registration_add = (df['registration_date'] > fl22_first) & (reg_fl22_oed)\n",
        "searchFlags_add = (semester_fl22) & (class_cs2) & (registration_add)\n",
        "count_add = df.loc[searchFlags_add]['eid'].nunique()\n",
        "\n",
        "print(\n",
        "'11. Number of students who added the course by Official Enrollment Day, after Day 1'\n",
        "'\\n\\t{}'.format(count_add)\n",
        ")\n",
        "\n",
        "# Number of students who dropped the course by Official Enrollment Day\n",
        "# - Unaswerable"
      ]
    },
    {
      "cell_type": "code",
      "execution_count": null,
      "metadata": {
        "colab": {
          "base_uri": "https://localhost:8080/"
        },
        "outputId": "26a8ecf9-00d2-4570-fb75-ea7107dfac2f",
        "id": "GsirrHoq1F9-"
      },
      "outputs": [
        {
          "output_type": "stream",
          "name": "stdout",
          "text": [
            "12. Number of students enrolled in CS2 as of Official Enrollment Day\n",
            "\n",
            "gender\n",
            "F     33\n",
            "M    113\n",
            "U      1\n",
            "Name: eid, dtype: int64\n",
            "\n",
            "Total: 147\n"
          ]
        }
      ],
      "source": [
        "#12. Number of students enrolled in CS2 as of Official Enrollment Day\n",
        "\n",
        "## number of records that meet the search criteria\n",
        "searchFlags = (semester_fl22) & (class_cs2) & (reg_fl22_oed)\n",
        "count_gender = df.loc[searchFlags].groupby('gender')['eid'].nunique()\n",
        "count_total = df.loc[searchFlags]['eid'].nunique()\n",
        "\n",
        "print(\n",
        "  '12. Number of students enrolled in CS2 as of Official Enrollment Day'\n",
        "  '\\n\\n{}'\n",
        "  '\\n\\nTotal: {}'.format(count_gender, count_total)\n",
        ")"
      ]
    },
    {
      "cell_type": "code",
      "execution_count": null,
      "metadata": {
        "colab": {
          "base_uri": "https://localhost:8080/"
        },
        "outputId": "bd708c73-e10c-44d7-c0c3-280b3cf102db",
        "id": "2JaRGYLo1F-A"
      },
      "outputs": [
        {
          "output_type": "stream",
          "name": "stdout",
          "text": [
            "14. Number of external transfers enrolled in CS2\n",
            "\n",
            "gender\n",
            "M    2\n",
            "Name: eid, dtype: int64\n",
            "\n",
            "Total: 2\n"
          ]
        }
      ],
      "source": [
        "#14. Number of external transfers enrolled in CS2\n",
        "\n",
        "## number of records that meet the search criteria\n",
        "searchFlags = (semester_fl22) & (class_cs2) & (admission_transfer)\n",
        "count_gender = df.loc[searchFlags].groupby('gender')['eid'].nunique()\n",
        "count_total = df.loc[searchFlags]['eid'].nunique()\n",
        "\n",
        "print(\n",
        "  '14. Number of external transfers enrolled in CS2'\n",
        "  '\\n\\n{}'\n",
        "  '\\n\\nTotal: {}'.format(count_gender, count_total)\n",
        ")"
      ]
    },
    {
      "cell_type": "code",
      "execution_count": null,
      "metadata": {
        "colab": {
          "base_uri": "https://localhost:8080/"
        },
        "outputId": "5e27ce9e-1dbb-419c-ed7d-cb720f18b18f",
        "id": "XhiU6_DG1F-B"
      },
      "outputs": [
        {
          "output_type": "stream",
          "name": "stdout",
          "text": [
            "15. Number of declared Computer Science majors enrolled in CS2\n",
            "\n",
            "gender\n",
            "F    16\n",
            "M    66\n",
            "Name: eid, dtype: int64\n",
            "\n",
            "Total: 82\n"
          ]
        }
      ],
      "source": [
        "#15. Number of declared Computer Science majors enrolled in CS2\n",
        "\n",
        "## number of records that meet the search criteria\n",
        "searchFlags = (semester_fl22) & (class_cs2) & (major_compsc)\n",
        "count_gender = df.loc[searchFlags].groupby('gender')['eid'].nunique()\n",
        "count_total = df.loc[searchFlags]['eid'].nunique()\n",
        "\n",
        "print(\n",
        "  '15. Number of declared Computer Science majors enrolled in CS2'\n",
        "  '\\n\\n{}'\n",
        "  '\\n\\nTotal: {}'.format(count_gender, count_total)\n",
        ")"
      ]
    },
    {
      "cell_type": "code",
      "execution_count": null,
      "metadata": {
        "colab": {
          "base_uri": "https://localhost:8080/"
        },
        "outputId": "e46733df-4da1-4377-948f-23f0f2064789",
        "id": "PyVuoHtm1F-B"
      },
      "outputs": [
        {
          "output_type": "stream",
          "name": "stdout",
          "text": [
            "16. Number of other Computing majors enrolled in CS2\n",
            "\n",
            "gender\n",
            "F     5\n",
            "M    10\n",
            "U     1\n",
            "Name: eid, dtype: int64\n",
            "\n",
            "Total: 16\n"
          ]
        }
      ],
      "source": [
        "#16. Number of Other Computing majors enrolled in CS2\n",
        "\n",
        "## number of records that meet the search criteria\n",
        "searchFlags = (semester_fl22) & (class_cs2) & (major_othercomp)\n",
        "count_gender = df.loc[searchFlags].groupby('gender')['eid'].nunique()\n",
        "count_total = df.loc[searchFlags]['eid'].nunique()\n",
        "\n",
        "print(\n",
        "  '16. Number of other Computing majors enrolled in CS2'\n",
        "  '\\n\\n{}'\n",
        "  '\\n\\nTotal: {}'.format(count_gender, count_total)\n",
        ")"
      ]
    },
    {
      "cell_type": "code",
      "execution_count": null,
      "metadata": {
        "colab": {
          "base_uri": "https://localhost:8080/"
        },
        "outputId": "6f069d02-223b-4c71-e938-b7efde0a1577",
        "id": "SMPuHd4u1F-B"
      },
      "outputs": [
        {
          "output_type": "stream",
          "name": "stdout",
          "text": [
            "17. Number of non computing majors enrolled in CS2\n",
            "\n",
            "gender\n",
            "F     3\n",
            "M    11\n",
            "Name: eid, dtype: int64\n",
            "\n",
            "Total: 14\n"
          ]
        }
      ],
      "source": [
        "#17. Number of Non-Computing majors enrolled in CS2\n",
        "\n",
        "## number of records that meet the search criteria\n",
        "searchFlags = (semester_fl22) & (class_cs2) & (major_noncomp)\n",
        "count_gender = df.loc[searchFlags].groupby('gender')['eid'].nunique()\n",
        "count_total = df.loc[searchFlags]['eid'].nunique()\n",
        "\n",
        "print(\n",
        "  '17. Number of non computing majors enrolled in CS2'\n",
        "  '\\n\\n{}'\n",
        "  '\\n\\nTotal: {}'.format(count_gender, count_total)\n",
        ")"
      ]
    },
    {
      "cell_type": "code",
      "execution_count": null,
      "metadata": {
        "colab": {
          "base_uri": "https://localhost:8080/"
        },
        "outputId": "da6d4e12-f3d8-4a66-f52b-9cd7a9fc44f1",
        "id": "Rr6TD_kA1F-C"
      },
      "outputs": [
        {
          "output_type": "stream",
          "name": "stdout",
          "text": [
            "18. Number of undeclared Student enrolled in CS2\n",
            "\n",
            "gender\n",
            "F     9\n",
            "M    26\n",
            "Name: eid, dtype: int64\n",
            "\n",
            "Total: 35\n"
          ]
        }
      ],
      "source": [
        "#18. Number of Undeclared students enrolled in CS2\n",
        "\n",
        "## number of records that meet the search criteria\n",
        "searchFlags = (semester_fl22) & (class_cs2) & (major_undecl)\n",
        "count_gender = df.loc[searchFlags].groupby('gender')['eid'].nunique()\n",
        "count_total = df.loc[searchFlags]['eid'].nunique()\n",
        "\n",
        "print(\n",
        "  '18. Number of undeclared Student enrolled in CS2'\n",
        "  '\\n\\n{}'\n",
        "  '\\n\\nTotal: {}'.format(count_gender, count_total)\n",
        ")"
      ]
    },
    {
      "cell_type": "markdown",
      "metadata": {
        "id": "zoltIe2G9lfn"
      },
      "source": [
        "### c"
      ]
    },
    {
      "cell_type": "code",
      "execution_count": null,
      "metadata": {
        "colab": {
          "base_uri": "https://localhost:8080/"
        },
        "outputId": "75d3039a-475c-481e-ce82-64e457a98de7",
        "id": "8BaQHOj89lfo"
      },
      "outputs": [
        {
          "output_type": "stream",
          "name": "stdout",
          "text": [
            "19. Number of declared Computer Science majors who completed/passed CS2\n",
            "\n",
            "gender\n",
            "F     5\n",
            "M    32\n",
            "Name: eid, dtype: int64\n",
            "\n",
            "Total: 37\n"
          ]
        }
      ],
      "source": [
        "#### 19. Number of declared Computer Science majors who completed/passed CS2\n",
        "\n",
        "## number of records that meet the search criteria\n",
        "searchFlags = (semester_fl22) & (class_cs2) & (major_compsc) & (pfd_pass)\n",
        "count_gender = df.loc[searchFlags].groupby('gender')['eid'].nunique()\n",
        "count_total = df.loc[searchFlags]['eid'].nunique()\n",
        "\n",
        "print(\n",
        "  '19. Number of declared Computer Science majors who completed/passed CS2'\n",
        "  '\\n\\n{}'\n",
        "  '\\n\\nTotal: {}'.format(count_gender, count_total)\n",
        ")"
      ]
    },
    {
      "cell_type": "code",
      "execution_count": null,
      "metadata": {
        "colab": {
          "base_uri": "https://localhost:8080/"
        },
        "outputId": "60290a73-c2bd-4f03-c5aa-62af3daf8f17",
        "id": "B_Iuzom-9lfq"
      },
      "outputs": [
        {
          "output_type": "stream",
          "name": "stdout",
          "text": [
            "20. Number of Other Computing majors who completed/passed CS2\n",
            "\n",
            "gender\n",
            "F    1\n",
            "M    3\n",
            "Name: eid, dtype: int64\n",
            "\n",
            "Total: 4\n"
          ]
        }
      ],
      "source": [
        "#### 20. Number of Other Computing majors who completed/passed CS2\n",
        "\n",
        "## number of records that meet the search criteria\n",
        "searchFlags = (semester_fl22) & (class_cs2) & (major_othercomp) & (pfd_pass)\n",
        "count_gender = df.loc[searchFlags].groupby('gender')['eid'].nunique()\n",
        "count_total = df.loc[searchFlags]['eid'].nunique()\n",
        "\n",
        "print(\n",
        "  '20. Number of Other Computing majors who completed/passed CS2'\n",
        "  '\\n\\n{}'\n",
        "  '\\n\\nTotal: {}'.format(count_gender, count_total)\n",
        ")"
      ]
    },
    {
      "cell_type": "code",
      "execution_count": null,
      "metadata": {
        "colab": {
          "base_uri": "https://localhost:8080/"
        },
        "outputId": "4870f720-6a1f-468c-f8e5-cb15d11be403",
        "id": "6HP7GcyM9lfr"
      },
      "outputs": [
        {
          "output_type": "stream",
          "name": "stdout",
          "text": [
            "21. Number of Non-Computing majors who completed/passed CS2\n",
            "\n",
            "gender\n",
            "F    2\n",
            "M    7\n",
            "Name: eid, dtype: int64\n",
            "\n",
            "Total: 9\n"
          ]
        }
      ],
      "source": [
        "#### 21. Number of Non-Computing majors who completed/passed CS2\n",
        "\n",
        "## number of records that meet the search criteria\n",
        "searchFlags = (semester_fl22) & (class_cs2) & (major_noncomp) & (pfd_pass)\n",
        "count_gender = df.loc[searchFlags].groupby('gender')['eid'].nunique()\n",
        "count_total = df.loc[searchFlags]['eid'].nunique()\n",
        "\n",
        "print(\n",
        "  '21. Number of Non-Computing majors who completed/passed CS2'\n",
        "  '\\n\\n{}'\n",
        "  '\\n\\nTotal: {}'.format(count_gender, count_total)\n",
        ")"
      ]
    },
    {
      "cell_type": "code",
      "execution_count": null,
      "metadata": {
        "colab": {
          "base_uri": "https://localhost:8080/"
        },
        "outputId": "1bb410bc-b951-492e-e2c8-7d3950a41742",
        "id": "VDujPHQk9lfs"
      },
      "outputs": [
        {
          "output_type": "stream",
          "name": "stdout",
          "text": [
            "22. Number of Undeclared students who completed/passed CS2\n",
            "\n",
            "gender\n",
            "F     6\n",
            "M    14\n",
            "Name: eid, dtype: int64\n",
            "\n",
            "Total: 20\n"
          ]
        }
      ],
      "source": [
        "#### 22. Number of Undeclared students who completed/passed CS2\n",
        "\n",
        "## number of records that meet the search criteria\n",
        "searchFlags = (semester_fl22) & (class_cs2) & (major_undecl) & (pfd_pass)\n",
        "count_gender = df.loc[searchFlags].groupby('gender')['eid'].nunique()\n",
        "count_total = df.loc[searchFlags]['eid'].nunique()\n",
        "\n",
        "print(\n",
        "  '22. Number of Undeclared students who completed/passed CS2'\n",
        "  '\\n\\n{}'\n",
        "  '\\n\\nTotal: {}'.format(count_gender, count_total)\n",
        ")"
      ]
    },
    {
      "cell_type": "code",
      "execution_count": null,
      "metadata": {
        "colab": {
          "base_uri": "https://localhost:8080/"
        },
        "outputId": "53362569-beed-4efb-82b0-db3c6330c1c9",
        "id": "3cDY7ewP9lfs"
      },
      "outputs": [
        {
          "output_type": "stream",
          "name": "stdout",
          "text": [
            "23. Number of external transfer students (reported in Question 14)\n",
            "    who completed/passed CS2\n",
            "\n",
            "gender\n",
            "M    2\n",
            "Name: eid, dtype: int64\n",
            "\n",
            "Total: 2\n"
          ]
        }
      ],
      "source": [
        "#### 23. Number of external transfer students (reported in Question 14)\n",
        "####     who completed/passed CS2\n",
        "\n",
        "## number of records that meet the search criteria\n",
        "searchFlags = (semester_fl22) & (class_cs2) & (admission_transfer) & (pfd_pass)\n",
        "count_gender = df.loc[searchFlags].groupby('gender')['eid'].nunique()\n",
        "count_total = df.loc[searchFlags]['eid'].nunique()\n",
        "\n",
        "print(\n",
        "  '23. Number of external transfer students (reported in Question 14)\\n'\n",
        "  '    who completed/passed CS2'\n",
        "  '\\n\\n{}'\n",
        "  '\\n\\nTotal: {}'.format(count_gender, count_total)\n",
        ")"
      ]
    },
    {
      "cell_type": "code",
      "execution_count": null,
      "metadata": {
        "id": "NPWvnEA99lfs"
      },
      "outputs": [],
      "source": [
        "#### 25-29 cannot be answered without data from [Spring 2023]"
      ]
    },
    {
      "cell_type": "markdown",
      "metadata": {
        "id": "4PijyUEhAY9S"
      },
      "source": [
        "### d"
      ]
    },
    {
      "cell_type": "code",
      "execution_count": null,
      "metadata": {
        "colab": {
          "base_uri": "https://localhost:8080/"
        },
        "outputId": "36e316fb-6723-4fd2-e2d5-d11b45af608f",
        "id": "1NyO7dtIAY9T"
      },
      "outputs": [
        {
          "output_type": "stream",
          "name": "stdout",
          "text": [
            "29. Number of declared Computer Science majors who withdrew from CS2\n",
            "\n",
            "gender\n",
            "F     7\n",
            "M    26\n",
            "Name: eid, dtype: int64\n",
            "\n",
            "Total: 33\n"
          ]
        }
      ],
      "source": [
        "#### 29. Number of declared Computer Science majors who withdrew from CS2\n",
        "\n",
        "## number of records that meet the search criteria\n",
        "searchFlags = (semester_fl22) & (class_cs2) & (major_compsc) & (pfd_drop)\n",
        "count_gender = df.loc[searchFlags].groupby('gender')['eid'].nunique()\n",
        "count_total = df.loc[searchFlags]['eid'].nunique()\n",
        "\n",
        "print(\n",
        "  '29. Number of declared Computer Science majors who withdrew from CS2'\n",
        "  '\\n\\n{}'\n",
        "  '\\n\\nTotal: {}'.format(count_gender, count_total)\n",
        ")"
      ]
    },
    {
      "cell_type": "code",
      "execution_count": null,
      "metadata": {
        "colab": {
          "base_uri": "https://localhost:8080/"
        },
        "outputId": "e5b8a896-1a03-42bb-da98-0a24ab772450",
        "id": "ikSiekzsAY9U"
      },
      "outputs": [
        {
          "output_type": "stream",
          "name": "stdout",
          "text": [
            "30. Number of Other Computing majors who withdrew from CS2\n",
            "\n",
            "gender\n",
            "F    2\n",
            "M    5\n",
            "U    1\n",
            "Name: eid, dtype: int64\n",
            "\n",
            "Total: 8\n"
          ]
        }
      ],
      "source": [
        "#### 30. Number of Other Computing majors who withdrew from CS2\n",
        "\n",
        "## number of records that meet the search criteria\n",
        "searchFlags = (semester_fl22) & (class_cs2) & (major_othercomp) & (pfd_drop)\n",
        "count_gender = df.loc[searchFlags].groupby('gender')['eid'].nunique()\n",
        "count_total = df.loc[searchFlags]['eid'].nunique()\n",
        "\n",
        "print(\n",
        "  '30. Number of Other Computing majors who withdrew from CS2'\n",
        "  '\\n\\n{}'\n",
        "  '\\n\\nTotal: {}'.format(count_gender, count_total)\n",
        ")"
      ]
    },
    {
      "cell_type": "code",
      "execution_count": null,
      "metadata": {
        "colab": {
          "base_uri": "https://localhost:8080/"
        },
        "outputId": "ff50ef52-43ec-45b3-8fab-974df3734acb",
        "id": "db8-cqkTAY9U"
      },
      "outputs": [
        {
          "output_type": "stream",
          "name": "stdout",
          "text": [
            "31. Number of Non-Computing majors who withdrew from CS2\n",
            "\n",
            "gender\n",
            "F    1\n",
            "M    3\n",
            "Name: eid, dtype: int64\n",
            "\n",
            "Total: 4\n"
          ]
        }
      ],
      "source": [
        "#### 31. Number of Non-Computing majors who withdrew from CS2\n",
        "\n",
        "## number of records that meet the search criteria\n",
        "searchFlags = (semester_fl22) & (class_cs2) & (major_noncomp) & (pfd_drop)\n",
        "count_gender = df.loc[searchFlags].groupby('gender')['eid'].nunique()\n",
        "count_total = df.loc[searchFlags]['eid'].nunique()\n",
        "\n",
        "print(\n",
        "  '31. Number of Non-Computing majors who withdrew from CS2'\n",
        "  '\\n\\n{}'\n",
        "  '\\n\\nTotal: {}'.format(count_gender, count_total)\n",
        ")"
      ]
    },
    {
      "cell_type": "code",
      "execution_count": null,
      "metadata": {
        "colab": {
          "base_uri": "https://localhost:8080/"
        },
        "outputId": "a8ad4201-f43e-4850-a026-fcef36b664f8",
        "id": "ZN40cW15AY9V"
      },
      "outputs": [
        {
          "output_type": "stream",
          "name": "stdout",
          "text": [
            "32. Number of Undeclared students who withdrew from CS2\n",
            "\n",
            "gender\n",
            "F    3\n",
            "M    9\n",
            "Name: eid, dtype: int64\n",
            "\n",
            "Total: 12\n"
          ]
        }
      ],
      "source": [
        "#### 32. Number of Undeclared students who withdrew from CS2\n",
        "\n",
        "## number of records that meet the search criteria\n",
        "searchFlags = (semester_fl22) & (class_cs2) & (major_undecl) & (pfd_drop)\n",
        "count_gender = df.loc[searchFlags].groupby('gender')['eid'].nunique()\n",
        "count_total = df.loc[searchFlags]['eid'].nunique()\n",
        "\n",
        "print(\n",
        "  '32. Number of Undeclared students who withdrew from CS2'\n",
        "  '\\n\\n{}'\n",
        "  '\\n\\nTotal: {}'.format(count_gender, count_total)\n",
        ")"
      ]
    },
    {
      "cell_type": "code",
      "execution_count": null,
      "metadata": {
        "colab": {
          "base_uri": "https://localhost:8080/"
        },
        "outputId": "b53fcd58-eaff-490e-c6ff-7f609e45a470",
        "id": "1cRWM16NAY9V"
      },
      "outputs": [
        {
          "output_type": "stream",
          "name": "stdout",
          "text": [
            "33. Number of external transfer students (reported in Question 14)\n",
            "    who withdrew from CS2\n",
            "\n",
            "Series([], Name: eid, dtype: int64)\n",
            "\n",
            "Total: 0\n"
          ]
        }
      ],
      "source": [
        "#### 33. Number of external transfer students (reported in Question 14)\n",
        "####     who withdrew from CS2\n",
        "\n",
        "## number of records that meet the search criteria\n",
        "searchFlags = (semester_fl22) & (class_cs2) & (admission_transfer) & (pfd_drop)\n",
        "count_gender = df.loc[searchFlags].groupby('gender')['eid'].nunique()\n",
        "count_total = df.loc[searchFlags]['eid'].nunique()\n",
        "\n",
        "print(\n",
        "  '33. Number of external transfer students (reported in Question 14)'\n",
        "  '\\n    who withdrew from CS2'\n",
        "  '\\n\\n{}'\n",
        "  '\\n\\nTotal: {}'.format(count_gender, count_total)\n",
        ")"
      ]
    },
    {
      "cell_type": "code",
      "execution_count": null,
      "metadata": {
        "colab": {
          "base_uri": "https://localhost:8080/"
        },
        "outputId": "4e02cdd9-34ed-4178-bf3f-8ef0d8430ab4",
        "id": "CP-zdp-uAY9W"
      },
      "outputs": [
        {
          "output_type": "stream",
          "name": "stdout",
          "text": [
            "34. Number of Computer Science majors who failed CS2\n",
            "\n",
            "gender\n",
            "F    4\n",
            "M    8\n",
            "Name: eid, dtype: int64\n",
            "\n",
            "Total: 12\n"
          ]
        }
      ],
      "source": [
        "#### 34. Number of Computer Science majors who failed CS2\n",
        "\n",
        "## number of records that meet the search criteria\n",
        "searchFlags = (semester_fl22) & (class_cs2) & (major_compsc) & (pfd_fail)\n",
        "count_gender = df.loc[searchFlags].groupby('gender')['eid'].nunique()\n",
        "count_total = df.loc[searchFlags]['eid'].nunique()\n",
        "\n",
        "print(\n",
        "  '34. Number of Computer Science majors who failed CS2'\n",
        "  '\\n\\n{}'\n",
        "  '\\n\\nTotal: {}'.format(count_gender, count_total)\n",
        ")"
      ]
    },
    {
      "cell_type": "code",
      "execution_count": null,
      "metadata": {
        "colab": {
          "base_uri": "https://localhost:8080/"
        },
        "outputId": "c2793af2-bc1c-4da2-8278-02d48dd63456",
        "id": "fnnh0zRiAY9X"
      },
      "outputs": [
        {
          "output_type": "stream",
          "name": "stdout",
          "text": [
            "35. Number of Other Computing majors who failed CS2\n",
            "\n",
            "gender\n",
            "F    2\n",
            "M    2\n",
            "Name: eid, dtype: int64\n",
            "\n",
            "Total: 4\n"
          ]
        }
      ],
      "source": [
        "#### 35. Number of Other Computing majors who failed CS2\n",
        "\n",
        "## number of records that meet the search criteria\n",
        "searchFlags = (semester_fl22) & (class_cs2) & (major_othercomp) & (pfd_fail)\n",
        "count_gender = df.loc[searchFlags].groupby('gender')['eid'].nunique()\n",
        "count_total = df.loc[searchFlags]['eid'].nunique()\n",
        "\n",
        "print(\n",
        "  '35. Number of Other Computing majors who failed CS2'\n",
        "  '\\n\\n{}'\n",
        "  '\\n\\nTotal: {}'.format(count_gender, count_total)\n",
        ")"
      ]
    },
    {
      "cell_type": "code",
      "execution_count": null,
      "metadata": {
        "colab": {
          "base_uri": "https://localhost:8080/"
        },
        "outputId": "360d270f-937e-4a5a-bffa-f041b35c4a29",
        "id": "FDci1cwQAY9X"
      },
      "outputs": [
        {
          "output_type": "stream",
          "name": "stdout",
          "text": [
            "36. Number of Non-Computing majors who failed CS2\n",
            "\n",
            "gender\n",
            "M    1\n",
            "Name: eid, dtype: int64\n",
            "\n",
            "Total: 1\n"
          ]
        }
      ],
      "source": [
        "#### 36. Number of Non-Computing majors who failed CS2\n",
        "\n",
        "## number of records that meet the search criteria\n",
        "searchFlags = (semester_fl22) & (class_cs2) & (major_noncomp) & (pfd_fail)\n",
        "count_gender = df.loc[searchFlags].groupby('gender')['eid'].nunique()\n",
        "count_total = df.loc[searchFlags]['eid'].nunique()\n",
        "\n",
        "print(\n",
        "  '36. Number of Non-Computing majors who failed CS2'\n",
        "  '\\n\\n{}'\n",
        "  '\\n\\nTotal: {}'.format(count_gender, count_total)\n",
        ")"
      ]
    },
    {
      "cell_type": "code",
      "execution_count": null,
      "metadata": {
        "colab": {
          "base_uri": "https://localhost:8080/"
        },
        "outputId": "e9d58b9e-d927-4205-a86e-a0839cbe4859",
        "id": "JC5F2F9iAY9Y"
      },
      "outputs": [
        {
          "output_type": "stream",
          "name": "stdout",
          "text": [
            "37. Number of Undeclared students who failed CS2\n",
            "\n",
            "gender\n",
            "M    3\n",
            "Name: eid, dtype: int64\n",
            "\n",
            "Total: 3\n"
          ]
        }
      ],
      "source": [
        "#### 37. Number of Undeclared students who failed CS2\n",
        "\n",
        "## number of records that meet the search criteria\n",
        "searchFlags = (semester_fl22) & (class_cs2) & (major_undecl) & (pfd_fail)\n",
        "count_gender = df.loc[searchFlags].groupby('gender')['eid'].nunique()\n",
        "count_total = df.loc[searchFlags]['eid'].nunique()\n",
        "\n",
        "print(\n",
        "  '37. Number of Undeclared students who failed CS2'\n",
        "  '\\n\\n{}'\n",
        "  '\\n\\nTotal: {}'.format(count_gender, count_total)\n",
        ")"
      ]
    },
    {
      "cell_type": "code",
      "execution_count": null,
      "metadata": {
        "colab": {
          "base_uri": "https://localhost:8080/"
        },
        "outputId": "f83d7465-00c6-497b-ae65-fd29aad573d9",
        "id": "HZtUy0WwAY9Y"
      },
      "outputs": [
        {
          "output_type": "stream",
          "name": "stdout",
          "text": [
            "38. Number of external transfer students (reported in Question 14)\n",
            "    who failed CS2\n",
            "\n",
            "Series([], Name: eid, dtype: int64)\n",
            "\n",
            "Total: 0\n"
          ]
        }
      ],
      "source": [
        "#### 38. Number of external transfer students (reported in Question 14)\n",
        "####     who failed CS2\n",
        "\n",
        "## number of records that meet the search criteria\n",
        "searchFlags = (semester_fl22) & (class_cs2) & (admission_transfer) & (pfd_fail)\n",
        "count_gender = df.loc[searchFlags].groupby('gender')['eid'].nunique()\n",
        "count_total = df.loc[searchFlags]['eid'].nunique()\n",
        "\n",
        "print(\n",
        "  '38. Number of external transfer students (reported in Question 14)'\n",
        "  '\\n    who failed CS2'\n",
        "  '\\n\\n{}'\n",
        "  '\\n\\nTotal: {}'.format(count_gender, count_total)\n",
        ")"
      ]
    },
    {
      "cell_type": "markdown",
      "metadata": {
        "id": "AH6_wx6erkIY"
      },
      "source": [
        "# CS3"
      ]
    },
    {
      "cell_type": "markdown",
      "metadata": {
        "id": "zX-l9joyrnRs"
      },
      "source": [
        "## SP-22"
      ]
    },
    {
      "cell_type": "markdown",
      "metadata": {
        "id": "9TUXhxDD9vWQ"
      },
      "source": [
        "### a"
      ]
    },
    {
      "cell_type": "code",
      "execution_count": null,
      "metadata": {
        "colab": {
          "base_uri": "https://localhost:8080/"
        },
        "id": "sauaBBq5KbAL",
        "outputId": "2a0cb81d-db48-4ab0-876c-6f0adc92675e"
      },
      "outputs": [
        {
          "output_type": "stream",
          "name": "stdout",
          "text": [
            "3. Number of sections of CS3 offered this term\n",
            "\t4\n"
          ]
        }
      ],
      "source": [
        "# 3. Number of sections of CS3 offered this term\n",
        "\n",
        "## number of unique values within a column,\n",
        "##   counting inside a df that meets above search criteria\n",
        "searchFlags = (semester_sp22) & (class_cs3)\n",
        "count = df.loc[searchFlags]['section'].nunique()\n",
        "\n",
        "print(\n",
        "  '3. Number of sections of CS3 offered this term'\n",
        "  '\\n\\t{}'.format(count)\n",
        ")"
      ]
    },
    {
      "cell_type": "code",
      "execution_count": null,
      "metadata": {
        "colab": {
          "base_uri": "https://localhost:8080/"
        },
        "id": "uaJJdSZpKa0j",
        "outputId": "d4b45e94-a4ae-4ba3-80e7-7d1a2446e8f8"
      },
      "outputs": [
        {
          "output_type": "stream",
          "name": "stdout",
          "text": [
            "4. Number of tenured/tenure-track faculty teaching CS3 this term\n",
            "\t1\n"
          ]
        }
      ],
      "source": [
        "#4. Number of tenured/tenure-track faculty teaching CS3 this term\n",
        "\n",
        "## number of unique values within a column,\n",
        "##   counting inside a df that meets above search criteria\n",
        "searchFlags = (semester_sp22) & (class_cs3) & (instructor_tt)\n",
        "count = df.loc[searchFlags]['Instructor'].nunique()\n",
        "\n",
        "print(\n",
        "  '4. Number of tenured/tenure-track faculty teaching CS3 this term'\n",
        "  '\\n\\t{}'.format(count)\n",
        ")"
      ]
    },
    {
      "cell_type": "code",
      "execution_count": null,
      "metadata": {
        "colab": {
          "base_uri": "https://localhost:8080/"
        },
        "id": "_tYw9JYYKaas",
        "outputId": "ca0c5b1f-d45c-41fe-d5d6-72c80464504c"
      },
      "outputs": [
        {
          "output_type": "stream",
          "name": "stdout",
          "text": [
            "6. Number of Part-time faculty teaching CS3 this term\n",
            "\t3\n"
          ]
        }
      ],
      "source": [
        "#6. Number of part-time faculty teaching CS3 this term\n",
        "\n",
        "## number of unique values within a column,\n",
        "##   counting inside a df that meets above search criteria\n",
        "searchFlags = (semester_sp22) & (class_cs3) & (instructor_pt)\n",
        "count = df.loc[searchFlags]['Instructor'].nunique()\n",
        "\n",
        "print(\n",
        "  '6. Number of Part-time faculty teaching CS3 this term'\n",
        "  '\\n\\t{}'.format(count)\n",
        ")"
      ]
    },
    {
      "cell_type": "markdown",
      "metadata": {
        "id": "IRuJ3wLtumdU"
      },
      "source": [
        "### b"
      ]
    },
    {
      "cell_type": "code",
      "execution_count": null,
      "metadata": {
        "colab": {
          "base_uri": "https://localhost:8080/"
        },
        "outputId": "3b6b07f6-46e4-410e-f382-a906da02b886",
        "id": "JBHhix0SumdV"
      },
      "outputs": [
        {
          "output_type": "stream",
          "name": "stdout",
          "text": [
            "10. Number of students enrolled in CS3 on Day 1 of this Academic Term\n",
            "\n",
            "gender\n",
            "F     32\n",
            "M    105\n",
            "Name: eid, dtype: int64\n",
            "\n",
            "Total: 137\n"
          ]
        }
      ],
      "source": [
        "#10. Number of students enrolled in CS3 on Day 1 of this Academic Term\n",
        "\n",
        "## number of records that meet the search criteria\n",
        "searchFlags = (semester_sp22) & (class_cs3) & (reg_sp22_first)\n",
        "count_gender = df.loc[searchFlags].groupby('gender')['eid'].nunique()\n",
        "count_total = df.loc[searchFlags]['eid'].nunique()\n",
        "\n",
        "## print statement\n",
        "print(\n",
        "  '10. Number of students enrolled in CS3 on Day 1 of this Academic Term'\n",
        "  '\\n\\n{}'\n",
        "  '\\n\\nTotal: {}'.format(count_gender, count_total)\n",
        ")"
      ]
    },
    {
      "cell_type": "code",
      "execution_count": null,
      "metadata": {
        "colab": {
          "base_uri": "https://localhost:8080/"
        },
        "outputId": "9cb22914-7bdf-49fa-c47a-1df94bf69d1a",
        "id": "TDO3HsrtumdX"
      },
      "outputs": [
        {
          "output_type": "stream",
          "name": "stdout",
          "text": [
            "11. Number of students who added the course by Official Enrollment Day, after Day 1\n",
            "\t4\n"
          ]
        }
      ],
      "source": [
        "#### 11. Changes in CS3 enrollment between Day 1 and Official Enrollment Day\n",
        "\n",
        "\n",
        "# Number of students who added the course by Official Enrollment Day\n",
        "registration_add = (df['registration_date'] > sp22_first) & (reg_sp22_oed)\n",
        "searchFlags_add = (semester_sp22) & (class_cs3) & (registration_add)\n",
        "count_add = df.loc[searchFlags_add]['eid'].nunique()\n",
        "\n",
        "print(\n",
        "'11. Number of students who added the course by Official Enrollment Day, after Day 1'\n",
        "'\\n\\t{}'.format(count_add)\n",
        ")\n",
        "\n",
        "# Number of students who dropped the course by Official Enrollment Day\n",
        "# - Unaswerable"
      ]
    },
    {
      "cell_type": "code",
      "execution_count": null,
      "metadata": {
        "colab": {
          "base_uri": "https://localhost:8080/"
        },
        "outputId": "e6904705-6ccd-41ff-ecfb-1cdf7eb30c64",
        "id": "EE_bs4j0umdY"
      },
      "outputs": [
        {
          "output_type": "stream",
          "name": "stdout",
          "text": [
            "12. Number of students enrolled in CS3 as of Official Enrollment Day\n",
            "\n",
            "gender\n",
            "F     32\n",
            "M    109\n",
            "Name: eid, dtype: int64\n",
            "\n",
            "Total: 141\n"
          ]
        }
      ],
      "source": [
        "#12. Number of students enrolled in CS3 as of Official Enrollment Day\n",
        "\n",
        "## number of records that meet the search criteria\n",
        "searchFlags = (semester_sp22) & (class_cs3) & (reg_sp22_oed)\n",
        "count_gender = df.loc[searchFlags].groupby('gender')['eid'].nunique()\n",
        "count_total = df.loc[searchFlags]['eid'].nunique()\n",
        "\n",
        "print(\n",
        "  '12. Number of students enrolled in CS3 as of Official Enrollment Day'\n",
        "  '\\n\\n{}'\n",
        "  '\\n\\nTotal: {}'.format(count_gender, count_total)\n",
        ")"
      ]
    },
    {
      "cell_type": "code",
      "execution_count": null,
      "metadata": {
        "colab": {
          "base_uri": "https://localhost:8080/"
        },
        "outputId": "446d86e8-b15c-4553-b117-924b9e0ab14a",
        "id": "QCe62Pg3umdY"
      },
      "outputs": [
        {
          "output_type": "stream",
          "name": "stdout",
          "text": [
            "13. Number of external transfers enrolled in CS3\n",
            "\n",
            "Series([], Name: eid, dtype: int64)\n",
            "\n",
            "Total: 0\n"
          ]
        }
      ],
      "source": [
        "#13. Number of external transfers enrolled in CS3\n",
        "\n",
        "## number of records that meet the search criteria\n",
        "searchFlags = (semester_sp22) & (class_cs3) & (admission_transfer)\n",
        "count_gender = df.loc[searchFlags].groupby('gender')['eid'].nunique()\n",
        "count_total = df.loc[searchFlags]['eid'].nunique()\n",
        "\n",
        "print(\n",
        "  '13. Number of external transfers enrolled in CS3'\n",
        "  '\\n\\n{}'\n",
        "  '\\n\\nTotal: {}'.format(count_gender, count_total)\n",
        ")"
      ]
    },
    {
      "cell_type": "code",
      "execution_count": null,
      "metadata": {
        "colab": {
          "base_uri": "https://localhost:8080/"
        },
        "outputId": "69e81ebd-7934-4cd8-c628-d51ba8fa2728",
        "id": "KLHMlhOFumdZ"
      },
      "outputs": [
        {
          "output_type": "stream",
          "name": "stdout",
          "text": [
            "14. Number of declared Computer Science majors enrolled in CS3\n",
            "\n",
            "gender\n",
            "F    20\n",
            "M    80\n",
            "Name: eid, dtype: int64\n",
            "\n",
            "Total: 100\n"
          ]
        }
      ],
      "source": [
        "#14. Number of declared Computer Science majors enrolled in CS3\n",
        "\n",
        "## number of records that meet the search criteria\n",
        "searchFlags = (semester_sp22) & (class_cs3) & (major_compsc)\n",
        "count_gender = df.loc[searchFlags].groupby('gender')['eid'].nunique()\n",
        "count_total = df.loc[searchFlags]['eid'].nunique()\n",
        "\n",
        "print(\n",
        "  '14. Number of declared Computer Science majors enrolled in CS3'\n",
        "  '\\n\\n{}'\n",
        "  '\\n\\nTotal: {}'.format(count_gender, count_total)\n",
        ")"
      ]
    },
    {
      "cell_type": "code",
      "execution_count": null,
      "metadata": {
        "colab": {
          "base_uri": "https://localhost:8080/"
        },
        "outputId": "2d93578d-8636-45d0-e883-c8d9619f7a1d",
        "id": "aBJ2YQEhumdZ"
      },
      "outputs": [
        {
          "output_type": "stream",
          "name": "stdout",
          "text": [
            "15. Number of other Computing majors enrolled in CS3\n",
            "\n",
            "gender\n",
            "F     6\n",
            "M    12\n",
            "Name: eid, dtype: int64\n",
            "\n",
            "Total: 18\n"
          ]
        }
      ],
      "source": [
        "#15. Number of Other Computing majors enrolled in CS3\n",
        "\n",
        "## number of records that meet the search criteria\n",
        "searchFlags = (semester_sp22) & (class_cs3) & (major_othercomp)\n",
        "count_gender = df.loc[searchFlags].groupby('gender')['eid'].nunique()\n",
        "count_total = df.loc[searchFlags]['eid'].nunique()\n",
        "\n",
        "print(\n",
        "  '15. Number of other Computing majors enrolled in CS3'\n",
        "  '\\n\\n{}'\n",
        "  '\\n\\nTotal: {}'.format(count_gender, count_total)\n",
        ")"
      ]
    },
    {
      "cell_type": "code",
      "execution_count": null,
      "metadata": {
        "colab": {
          "base_uri": "https://localhost:8080/"
        },
        "outputId": "33aafeb0-cf07-490a-f3a8-4b9d0e554412",
        "id": "yvNJkOjuumdZ"
      },
      "outputs": [
        {
          "output_type": "stream",
          "name": "stdout",
          "text": [
            "16. Number of Non Computing majors enrolled in CS3\n",
            "\n",
            "gender\n",
            "F    3\n",
            "M    5\n",
            "Name: eid, dtype: int64\n",
            "\n",
            "Total: 8\n"
          ]
        }
      ],
      "source": [
        "#16. Number of Non-Computing majors enrolled in CS3\n",
        "\n",
        "## number of records that meet the search criteria\n",
        "searchFlags = (semester_sp22) & (class_cs3) & (major_noncomp)\n",
        "count_gender = df.loc[searchFlags].groupby('gender')['eid'].nunique()\n",
        "count_total = df.loc[searchFlags]['eid'].nunique()\n",
        "\n",
        "print(\n",
        "  '16. Number of Non Computing majors enrolled in CS3'\n",
        "  '\\n\\n{}'\n",
        "  '\\n\\nTotal: {}'.format(count_gender, count_total)\n",
        ")"
      ]
    },
    {
      "cell_type": "code",
      "execution_count": null,
      "metadata": {
        "colab": {
          "base_uri": "https://localhost:8080/"
        },
        "outputId": "df54d493-e106-479b-8182-15a0f4193d10",
        "id": "WMWJ6U_humda"
      },
      "outputs": [
        {
          "output_type": "stream",
          "name": "stdout",
          "text": [
            "17. Number of undeclared student enrolled in CS3\n",
            "\n",
            "gender\n",
            "F     4\n",
            "M    12\n",
            "Name: eid, dtype: int64\n",
            "\n",
            "Total: 16\n"
          ]
        }
      ],
      "source": [
        "#17. Number of Undeclared students enrolled in CS3\n",
        "\n",
        "## number of records that meet the search criteria\n",
        "searchFlags = (semester_sp22) & (class_cs3) & (major_undecl)\n",
        "count_gender = df.loc[searchFlags].groupby('gender')['eid'].nunique()\n",
        "count_total = df.loc[searchFlags]['eid'].nunique()\n",
        "\n",
        "print(\n",
        "  '17. Number of undeclared student enrolled in CS3'\n",
        "  '\\n\\n{}'\n",
        "  '\\n\\nTotal: {}'.format(count_gender, count_total)\n",
        ")"
      ]
    },
    {
      "cell_type": "markdown",
      "metadata": {
        "id": "l66OVYOcw_c6"
      },
      "source": [
        "### c"
      ]
    },
    {
      "cell_type": "code",
      "execution_count": null,
      "metadata": {
        "colab": {
          "base_uri": "https://localhost:8080/"
        },
        "outputId": "08bd6e0c-f713-4ac0-dca8-ba9dcd5d41ff",
        "id": "hl_cvi8Ow_c7"
      },
      "outputs": [
        {
          "output_type": "stream",
          "name": "stdout",
          "text": [
            "18. Number of declared Computer Science majors who completed/passed CS3\n",
            "\n",
            "gender\n",
            "F    15\n",
            "M    44\n",
            "Name: eid, dtype: int64\n",
            "\n",
            "Total: 59\n"
          ]
        }
      ],
      "source": [
        "#### 18. Number of declared Computer Science majors who completed/passed CS3\n",
        "\n",
        "## number of records that meet the search criteria\n",
        "searchFlags = (semester_sp22) & (class_cs3) & (major_compsc) & (pfd_pass)\n",
        "count_gender = df.loc[searchFlags].groupby('gender')['eid'].nunique()\n",
        "count_total = df.loc[searchFlags]['eid'].nunique()\n",
        "\n",
        "print(\n",
        "  '18. Number of declared Computer Science majors who completed/passed CS3'\n",
        "  '\\n\\n{}'\n",
        "  '\\n\\nTotal: {}'.format(count_gender, count_total)\n",
        ")"
      ]
    },
    {
      "cell_type": "code",
      "execution_count": null,
      "metadata": {
        "colab": {
          "base_uri": "https://localhost:8080/"
        },
        "outputId": "16113d3c-ebfd-4982-a9c0-addcf3ba9880",
        "id": "hDny0oLrw_c8"
      },
      "outputs": [
        {
          "output_type": "stream",
          "name": "stdout",
          "text": [
            "19. Number of Other Computing majors who completed/passed CS3\n",
            "\n",
            "gender\n",
            "F    5\n",
            "M    5\n",
            "Name: eid, dtype: int64\n",
            "\n",
            "Total: 10\n"
          ]
        }
      ],
      "source": [
        "#### 19. Number of Other Computing majors who completed/passed CS3\n",
        "\n",
        "## number of records that meet the search criteria\n",
        "searchFlags = (semester_sp22) & (class_cs3) & (major_othercomp) & (pfd_pass)\n",
        "count_gender = df.loc[searchFlags].groupby('gender')['eid'].nunique()\n",
        "count_total = df.loc[searchFlags]['eid'].nunique()\n",
        "\n",
        "print(\n",
        "  '19. Number of Other Computing majors who completed/passed CS3'\n",
        "  '\\n\\n{}'\n",
        "  '\\n\\nTotal: {}'.format(count_gender, count_total)\n",
        ")"
      ]
    },
    {
      "cell_type": "code",
      "execution_count": null,
      "metadata": {
        "colab": {
          "base_uri": "https://localhost:8080/"
        },
        "outputId": "b13289bd-a873-4b5c-aa2d-eb5989792c94",
        "id": "5eg_1E_gw_c9"
      },
      "outputs": [
        {
          "output_type": "stream",
          "name": "stdout",
          "text": [
            "20. Number of Non-Computing majors who completed/passed CS3\n",
            "\n",
            "gender\n",
            "F    2\n",
            "M    4\n",
            "Name: eid, dtype: int64\n",
            "\n",
            "Total: 6\n"
          ]
        }
      ],
      "source": [
        "#### 20. Number of Non-Computing majors who completed/passed CS3\n",
        "\n",
        "## number of records that meet the search criteria\n",
        "searchFlags = (semester_sp22) & (class_cs3) & (major_noncomp) & (pfd_pass)\n",
        "count_gender = df.loc[searchFlags].groupby('gender')['eid'].nunique()\n",
        "count_total = df.loc[searchFlags]['eid'].nunique()\n",
        "\n",
        "print(\n",
        "  '20. Number of Non-Computing majors who completed/passed CS3'\n",
        "  '\\n\\n{}'\n",
        "  '\\n\\nTotal: {}'.format(count_gender, count_total)\n",
        ")"
      ]
    },
    {
      "cell_type": "code",
      "execution_count": null,
      "metadata": {
        "colab": {
          "base_uri": "https://localhost:8080/"
        },
        "outputId": "bdcb37ec-c94e-4f6c-85b3-4df4fd9f6493",
        "id": "-fWDGBKkw_c9"
      },
      "outputs": [
        {
          "output_type": "stream",
          "name": "stdout",
          "text": [
            "21. Number of Undeclared students who completed/passed CS3\n",
            "\n",
            "gender\n",
            "F    4\n",
            "M    6\n",
            "Name: eid, dtype: int64\n",
            "\n",
            "Total: 10\n"
          ]
        }
      ],
      "source": [
        "#### 21. Number of Undeclared students who completed/passed CS3\n",
        "\n",
        "## number of records that meet the search criteria\n",
        "searchFlags = (semester_sp22) & (class_cs3) & (major_undecl) & (pfd_pass)\n",
        "count_gender = df.loc[searchFlags].groupby('gender')['eid'].nunique()\n",
        "count_total = df.loc[searchFlags]['eid'].nunique()\n",
        "\n",
        "print(\n",
        "  '21. Number of Undeclared students who completed/passed CS3'\n",
        "  '\\n\\n{}'\n",
        "  '\\n\\nTotal: {}'.format(count_gender, count_total)\n",
        ")"
      ]
    },
    {
      "cell_type": "code",
      "execution_count": null,
      "metadata": {
        "colab": {
          "base_uri": "https://localhost:8080/"
        },
        "outputId": "765b6d9d-bee5-43da-8c0f-32e5eeb34bb1",
        "id": "jmd6lGsLw_c-"
      },
      "outputs": [
        {
          "output_type": "stream",
          "name": "stdout",
          "text": [
            "22. Number of external transfer students (reported in Question 13)\n",
            "    who completed/passed CS3\n",
            "\n",
            "Series([], Name: eid, dtype: int64)\n",
            "\n",
            "Total: 0\n"
          ]
        }
      ],
      "source": [
        "#### 22. Number of external transfer students (reported in Question 13)\n",
        "####     who completed/passed CS3\n",
        "\n",
        "## number of records that meet the search criteria\n",
        "searchFlags = (semester_sp22) & (class_cs3) & (admission_transfer) & (pfd_pass)\n",
        "count_gender = df.loc[searchFlags].groupby('gender')['eid'].nunique()\n",
        "count_total = df.loc[searchFlags]['eid'].nunique()\n",
        "\n",
        "print(\n",
        "  '22. Number of external transfer students (reported in Question 13)\\n'\n",
        "  '    who completed/passed CS3'\n",
        "  '\\n\\n{}'\n",
        "  '\\n\\nTotal: {}'.format(count_gender, count_total)\n",
        ")"
      ]
    },
    {
      "cell_type": "code",
      "execution_count": null,
      "metadata": {
        "colab": {
          "base_uri": "https://localhost:8080/"
        },
        "outputId": "b1f134c3-f3cc-49cd-89d8-558f17d0f335",
        "id": "4SG_8GzTw_c-"
      },
      "outputs": [
        {
          "output_type": "stream",
          "name": "stdout",
          "text": [
            "23. Number of declared Computer Science majors who completed CS3\n",
            "    and are already registered for another CS course next term\n",
            "\n",
            "Series([], Name: eid, dtype: int64)\n",
            "\n",
            "Total: 0\n"
          ]
        }
      ],
      "source": [
        "#### 23. Number of declared Computer Science majors who completed CS3\n",
        "####     and are already registered for another CS course next term\n",
        "\n",
        "## number of records that meet the search criteria\n",
        "searchFlags_curr = (semester_sp22) & (class_cs3) & (major_compsc) & (pfd_pass)\n",
        "searchFlags_next = (semester_fl22) & (reg_sp22_last)\n",
        "bools = df.loc[searchFlags_curr]['eid'].isin(df.loc[searchFlags_next]['eid'])\n",
        "\n",
        "count_gender = df.loc[searchFlags_curr][bools.values].groupby('gender')['eid'].nunique()\n",
        "count_total = df.loc[searchFlags_curr][bools.values]['eid'].nunique()\n",
        "\n",
        "print(\n",
        "  '23. Number of declared Computer Science majors who completed CS3\\n'\n",
        "  '    and are already registered for another CS course next term'\n",
        "  '\\n\\n{}'\n",
        "  '\\n\\nTotal: {}'.format(count_gender, count_total)\n",
        ")"
      ]
    },
    {
      "cell_type": "code",
      "execution_count": null,
      "metadata": {
        "colab": {
          "base_uri": "https://localhost:8080/"
        },
        "outputId": "03c74772-74cf-4072-cb90-1e767fd7a067",
        "id": "th-v1DlNw_c_"
      },
      "outputs": [
        {
          "output_type": "stream",
          "name": "stdout",
          "text": [
            "24. Number of Other Computing majors who completed CS3\n",
            "    and are already registered for another CS course next term\n",
            "\n",
            "Series([], Name: eid, dtype: int64)\n",
            "\n",
            "Total: 0\n"
          ]
        }
      ],
      "source": [
        "#### 24. Number of Other Computing majors who completed CS3\n",
        "####     and are already registered for another CS course next term\n",
        "\n",
        "## number of records that meet the search criteria\n",
        "searchFlags_curr = (semester_sp22) & (class_cs3) & (major_othercomp) & (pfd_pass)\n",
        "searchFlags_next = (semester_fl22) & (reg_sp22_last)\n",
        "bools = df.loc[searchFlags_curr]['eid'].isin(df.loc[searchFlags_next]['eid'])\n",
        "\n",
        "count_gender = df.loc[searchFlags_curr][bools.values].groupby('gender')['eid'].nunique()\n",
        "count_total = df.loc[searchFlags_curr][bools.values]['eid'].nunique()\n",
        "\n",
        "print(\n",
        "  '24. Number of Other Computing majors who completed CS3\\n'\n",
        "  '    and are already registered for another CS course next term'\n",
        "  '\\n\\n{}'\n",
        "  '\\n\\nTotal: {}'.format(count_gender, count_total)\n",
        ")"
      ]
    },
    {
      "cell_type": "code",
      "execution_count": null,
      "metadata": {
        "colab": {
          "base_uri": "https://localhost:8080/"
        },
        "outputId": "8995b8b2-9ebd-44e5-f64d-99695a49ff04",
        "id": "AFAXUW-Cw_c_"
      },
      "outputs": [
        {
          "output_type": "stream",
          "name": "stdout",
          "text": [
            "25. Number of Non-Computing majors who completed CS3\n",
            "    and are already registered for another CS course next term\n",
            "\n",
            "Series([], Name: eid, dtype: int64)\n",
            "\n",
            "Total: 0\n"
          ]
        }
      ],
      "source": [
        "#### 25. Number of Non-Computing majors who completed CS3\n",
        "####     and are already registered for another CS course next term\n",
        "\n",
        "## number of records that meet the search criteria\n",
        "searchFlags_curr = (semester_sp22) & (class_cs3) & (major_noncomp) & (pfd_pass)\n",
        "searchFlags_next = (semester_fl22) & (reg_sp22_last)\n",
        "bools = df.loc[searchFlags_curr]['eid'].isin(df.loc[searchFlags_next]['eid'])\n",
        "\n",
        "count_gender = df.loc[searchFlags_curr][bools.values].groupby('gender')['eid'].nunique()\n",
        "count_total = df.loc[searchFlags_curr][bools.values]['eid'].nunique()\n",
        "\n",
        "print(\n",
        "  '25. Number of Non-Computing majors who completed CS3\\n'\n",
        "  '    and are already registered for another CS course next term'\n",
        "  '\\n\\n{}'\n",
        "  '\\n\\nTotal: {}'.format(count_gender, count_total)\n",
        ")"
      ]
    },
    {
      "cell_type": "code",
      "execution_count": null,
      "metadata": {
        "colab": {
          "base_uri": "https://localhost:8080/"
        },
        "outputId": "9945ff6a-b3f9-467e-8847-594c7ff8b11a",
        "id": "dXOSPIWhw_dA"
      },
      "outputs": [
        {
          "output_type": "stream",
          "name": "stdout",
          "text": [
            "26. Number of Undeclared students who completed CS3\n",
            "    and are already registered for another CS course next term\n",
            "\n",
            "Series([], Name: eid, dtype: int64)\n",
            "\n",
            "Total: 0\n"
          ]
        }
      ],
      "source": [
        "#### 26. Number of Undeclared students who completed CS3\n",
        "####     and are already registered for another CS course next term\n",
        "\n",
        "## number of records that meet the search criteria\n",
        "searchFlags_curr = (semester_sp22) & (class_cs3) & (major_undecl) & (pfd_pass)\n",
        "searchFlags_next = (semester_fl22) & (reg_sp22_last)\n",
        "bools = df.loc[searchFlags_curr]['eid'].isin(df.loc[searchFlags_next]['eid'])\n",
        "\n",
        "count_gender = df.loc[searchFlags_curr][bools.values].groupby('gender')['eid'].nunique()\n",
        "count_total = df.loc[searchFlags_curr][bools.values]['eid'].nunique()\n",
        "\n",
        "print(\n",
        "  '26. Number of Undeclared students who completed CS3\\n'\n",
        "  '    and are already registered for another CS course next term'\n",
        "  '\\n\\n{}'\n",
        "  '\\n\\nTotal: {}'.format(count_gender, count_total)\n",
        ")"
      ]
    },
    {
      "cell_type": "code",
      "execution_count": null,
      "metadata": {
        "colab": {
          "base_uri": "https://localhost:8080/"
        },
        "outputId": "1c1df21a-b30b-4516-fdff-9bb77978cc7a",
        "id": "-Z9hUhasw_dB"
      },
      "outputs": [
        {
          "output_type": "stream",
          "name": "stdout",
          "text": [
            "27. Number of external transfer students (reported in Question 13)\n",
            "    who completed CS3 and are already registered for another CS course next term\n",
            "\n",
            "Series([], Name: eid, dtype: int64)\n",
            "\n",
            "Total: 0\n"
          ]
        }
      ],
      "source": [
        "#### 27. Number of external transfer students (reported in Question 13)\n",
        "####     who completed CS3 and are already registered for another CS course next term\n",
        "\n",
        "## number of records that meet the search criteria\n",
        "searchFlags_curr = (semester_sp22) & (class_cs3) & (admission_transfer) & (pfd_pass)\n",
        "searchFlags_next = (semester_fl22) & (reg_sp22_last)\n",
        "bools = df.loc[searchFlags_curr]['eid'].isin(df.loc[searchFlags_next]['eid'])\n",
        "\n",
        "count_gender = df.loc[searchFlags_curr][bools.values].groupby('gender')['eid'].nunique()\n",
        "count_total = df.loc[searchFlags_curr][bools.values]['eid'].nunique()\n",
        "\n",
        "print(\n",
        "  '27. Number of external transfer students (reported in Question 13)\\n'\n",
        "  '    who completed CS3 and are already registered for another CS course next term'\n",
        "  '\\n\\n{}'\n",
        "  '\\n\\nTotal: {}'.format(count_gender, count_total)\n",
        ")"
      ]
    },
    {
      "cell_type": "markdown",
      "metadata": {
        "id": "yYM4qPgpzYzz"
      },
      "source": [
        "### d"
      ]
    },
    {
      "cell_type": "code",
      "execution_count": null,
      "metadata": {
        "colab": {
          "base_uri": "https://localhost:8080/"
        },
        "outputId": "2bb21eb4-9381-4971-f63f-e0076d2f73f6",
        "id": "kZJLA5RtzYz1"
      },
      "outputs": [
        {
          "output_type": "stream",
          "name": "stdout",
          "text": [
            "28. Number of declared Computer Science majors who withdrew from CS3\n",
            "\n",
            "gender\n",
            "F     3\n",
            "M    29\n",
            "Name: eid, dtype: int64\n",
            "\n",
            "Total: 32\n"
          ]
        }
      ],
      "source": [
        "#### 28. Number of declared Computer Science majors who withdrew from CS3\n",
        "\n",
        "## number of records that meet the search criteria\n",
        "searchFlags = (semester_sp22) & (class_cs3) & (major_compsc) & (pfd_drop)\n",
        "count_gender = df.loc[searchFlags].groupby('gender')['eid'].nunique()\n",
        "count_total = df.loc[searchFlags]['eid'].nunique()\n",
        "\n",
        "print(\n",
        "  '28. Number of declared Computer Science majors who withdrew from CS3'\n",
        "  '\\n\\n{}'\n",
        "  '\\n\\nTotal: {}'.format(count_gender, count_total)\n",
        ")"
      ]
    },
    {
      "cell_type": "code",
      "execution_count": null,
      "metadata": {
        "colab": {
          "base_uri": "https://localhost:8080/"
        },
        "outputId": "7af68a46-8fe4-4d35-e2f1-45c39bb1763f",
        "id": "2UmFjXX_zYz2"
      },
      "outputs": [
        {
          "output_type": "stream",
          "name": "stdout",
          "text": [
            "29. Number of Other Computing majors who withdrew from CS3\n",
            "\n",
            "gender\n",
            "M    5\n",
            "Name: eid, dtype: int64\n",
            "\n",
            "Total: 5\n"
          ]
        }
      ],
      "source": [
        "#### 29. Number of Other Computing majors who withdrew from CS3\n",
        "\n",
        "## number of records that meet the search criteria\n",
        "searchFlags = (semester_sp22) & (class_cs3) & (major_othercomp) & (pfd_drop)\n",
        "count_gender = df.loc[searchFlags].groupby('gender')['eid'].nunique()\n",
        "count_total = df.loc[searchFlags]['eid'].nunique()\n",
        "\n",
        "print(\n",
        "  '29. Number of Other Computing majors who withdrew from CS3'\n",
        "  '\\n\\n{}'\n",
        "  '\\n\\nTotal: {}'.format(count_gender, count_total)\n",
        ")"
      ]
    },
    {
      "cell_type": "code",
      "execution_count": null,
      "metadata": {
        "colab": {
          "base_uri": "https://localhost:8080/"
        },
        "outputId": "6679d6d6-46aa-4edb-a4b5-0fc451843f72",
        "id": "4eYVRv9YzYz2"
      },
      "outputs": [
        {
          "output_type": "stream",
          "name": "stdout",
          "text": [
            "30 Number of Non-Computing majors who withdrew from CS3\n",
            "\n",
            "gender\n",
            "M    1\n",
            "Name: eid, dtype: int64\n",
            "\n",
            "Total: 1\n"
          ]
        }
      ],
      "source": [
        "#### 30. Number of Non-Computing majors who withdrew from CS3\n",
        "\n",
        "## number of records that meet the search criteria\n",
        "searchFlags = (semester_sp22) & (class_cs3) & (major_noncomp) & (pfd_drop)\n",
        "count_gender = df.loc[searchFlags].groupby('gender')['eid'].nunique()\n",
        "count_total = df.loc[searchFlags]['eid'].nunique()\n",
        "\n",
        "print(\n",
        "  '30 Number of Non-Computing majors who withdrew from CS3'\n",
        "  '\\n\\n{}'\n",
        "  '\\n\\nTotal: {}'.format(count_gender, count_total)\n",
        ")"
      ]
    },
    {
      "cell_type": "code",
      "execution_count": null,
      "metadata": {
        "colab": {
          "base_uri": "https://localhost:8080/"
        },
        "outputId": "1fea8413-144e-4369-ace1-5ce91a5a72d4",
        "id": "xkWYMm1azYz4"
      },
      "outputs": [
        {
          "output_type": "stream",
          "name": "stdout",
          "text": [
            "31. Number of Undeclared students who withdrew from CS3\n",
            "\n",
            "gender\n",
            "M    5\n",
            "Name: eid, dtype: int64\n",
            "\n",
            "Total: 5\n"
          ]
        }
      ],
      "source": [
        "#### 31. Number of Undeclared students who withdrew from CS3\n",
        "\n",
        "## number of records that meet the search criteria\n",
        "searchFlags = (semester_sp22) & (class_cs3) & (major_undecl) & (pfd_drop)\n",
        "count_gender = df.loc[searchFlags].groupby('gender')['eid'].nunique()\n",
        "count_total = df.loc[searchFlags]['eid'].nunique()\n",
        "\n",
        "print(\n",
        "  '31. Number of Undeclared students who withdrew from CS3'\n",
        "  '\\n\\n{}'\n",
        "  '\\n\\nTotal: {}'.format(count_gender, count_total)\n",
        ")"
      ]
    },
    {
      "cell_type": "code",
      "execution_count": null,
      "metadata": {
        "colab": {
          "base_uri": "https://localhost:8080/"
        },
        "outputId": "f9c3a684-1760-49ea-bac7-70683a2adb90",
        "id": "2gD1S294zYz5"
      },
      "outputs": [
        {
          "output_type": "stream",
          "name": "stdout",
          "text": [
            "32. Number of external transfer students (reported in Question 13)\n",
            "    who withdrew from CS3\n",
            "\n",
            "Series([], Name: eid, dtype: int64)\n",
            "\n",
            "Total: 0\n"
          ]
        }
      ],
      "source": [
        "#### 32. Number of external transfer students (reported in Question 13)\n",
        "####     who withdrew from CS3\n",
        "\n",
        "## number of records that meet the search criteria\n",
        "searchFlags = (semester_sp22) & (class_cs3) & (admission_transfer) & (pfd_drop)\n",
        "count_gender = df.loc[searchFlags].groupby('gender')['eid'].nunique()\n",
        "count_total = df.loc[searchFlags]['eid'].nunique()\n",
        "\n",
        "print(\n",
        "  '32. Number of external transfer students (reported in Question 13)'\n",
        "  '\\n    who withdrew from CS3'\n",
        "  '\\n\\n{}'\n",
        "  '\\n\\nTotal: {}'.format(count_gender, count_total)\n",
        ")"
      ]
    },
    {
      "cell_type": "code",
      "execution_count": null,
      "metadata": {
        "colab": {
          "base_uri": "https://localhost:8080/"
        },
        "outputId": "8048ed54-2353-4072-fd3a-b9647c75b7ea",
        "id": "GOHW5AyozYz5"
      },
      "outputs": [
        {
          "output_type": "stream",
          "name": "stdout",
          "text": [
            "33. Number of Computer Science majors who failed CS3\n",
            "\n",
            "gender\n",
            "F    2\n",
            "M    7\n",
            "Name: eid, dtype: int64\n",
            "\n",
            "Total: 9\n"
          ]
        }
      ],
      "source": [
        "#### 33. Number of Computer Science majors who failed CS3\n",
        "\n",
        "## number of records that meet the search criteria\n",
        "searchFlags = (semester_sp22) & (class_cs3) & (major_compsc) & (pfd_fail)\n",
        "count_gender = df.loc[searchFlags].groupby('gender')['eid'].nunique()\n",
        "count_total = df.loc[searchFlags]['eid'].nunique()\n",
        "\n",
        "print(\n",
        "  '33. Number of Computer Science majors who failed CS3'\n",
        "  '\\n\\n{}'\n",
        "  '\\n\\nTotal: {}'.format(count_gender, count_total)\n",
        ")"
      ]
    },
    {
      "cell_type": "code",
      "execution_count": null,
      "metadata": {
        "colab": {
          "base_uri": "https://localhost:8080/"
        },
        "outputId": "9f9e865e-576f-4339-c9bb-bc6a254dbb76",
        "id": "MjLDJ4pDzYz6"
      },
      "outputs": [
        {
          "output_type": "stream",
          "name": "stdout",
          "text": [
            "34. Number of Other Computing majors who failed CS3\n",
            "\n",
            "gender\n",
            "F    1\n",
            "M    2\n",
            "Name: eid, dtype: int64\n",
            "\n",
            "Total: 3\n"
          ]
        }
      ],
      "source": [
        "#### 34. Number of Other Computing majors who failed CS3\n",
        "\n",
        "## number of records that meet the search criteria\n",
        "searchFlags = (semester_sp22) & (class_cs3) & (major_othercomp) & (pfd_fail)\n",
        "count_gender = df.loc[searchFlags].groupby('gender')['eid'].nunique()\n",
        "count_total = df.loc[searchFlags]['eid'].nunique()\n",
        "\n",
        "print(\n",
        "  '34. Number of Other Computing majors who failed CS3'\n",
        "  '\\n\\n{}'\n",
        "  '\\n\\nTotal: {}'.format(count_gender, count_total)\n",
        ")"
      ]
    },
    {
      "cell_type": "code",
      "execution_count": null,
      "metadata": {
        "colab": {
          "base_uri": "https://localhost:8080/"
        },
        "outputId": "80785ab6-ab57-48c3-873c-58e84dee9bb6",
        "id": "VCXuhMZ-zYz7"
      },
      "outputs": [
        {
          "output_type": "stream",
          "name": "stdout",
          "text": [
            "35. Number of Non-Computing majors who failed CS3\n",
            "\n",
            "gender\n",
            "F    1\n",
            "Name: eid, dtype: int64\n",
            "\n",
            "Total: 1\n"
          ]
        }
      ],
      "source": [
        "#### 35. Number of Non-Computing majors who failed CS3\n",
        "\n",
        "## number of records that meet the search criteria\n",
        "searchFlags = (semester_sp22) & (class_cs3) & (major_noncomp) & (pfd_fail)\n",
        "count_gender = df.loc[searchFlags].groupby('gender')['eid'].nunique()\n",
        "count_total = df.loc[searchFlags]['eid'].nunique()\n",
        "\n",
        "print(\n",
        "  '35. Number of Non-Computing majors who failed CS3'\n",
        "  '\\n\\n{}'\n",
        "  '\\n\\nTotal: {}'.format(count_gender, count_total)\n",
        ")"
      ]
    },
    {
      "cell_type": "code",
      "execution_count": null,
      "metadata": {
        "colab": {
          "base_uri": "https://localhost:8080/"
        },
        "outputId": "737fe5ac-efb7-4ff9-a5e8-df1076d1308a",
        "id": "l4jOh7xJzYz7"
      },
      "outputs": [
        {
          "output_type": "stream",
          "name": "stdout",
          "text": [
            "36. Number of Undeclared students who failed CS3\n",
            "\n",
            "gender\n",
            "M    1\n",
            "Name: eid, dtype: int64\n",
            "\n",
            "Total: 1\n"
          ]
        }
      ],
      "source": [
        "#### 36. Number of Undeclared students who failed CS3\n",
        "\n",
        "## number of records that meet the search criteria\n",
        "searchFlags = (semester_sp22) & (class_cs3) & (major_undecl) & (pfd_fail)\n",
        "count_gender = df.loc[searchFlags].groupby('gender')['eid'].nunique()\n",
        "count_total = df.loc[searchFlags]['eid'].nunique()\n",
        "\n",
        "print(\n",
        "  '36. Number of Undeclared students who failed CS3'\n",
        "  '\\n\\n{}'\n",
        "  '\\n\\nTotal: {}'.format(count_gender, count_total)\n",
        ")"
      ]
    },
    {
      "cell_type": "code",
      "execution_count": null,
      "metadata": {
        "colab": {
          "base_uri": "https://localhost:8080/"
        },
        "outputId": "def5cb7c-a135-442d-af2e-0c2f5eff2bff",
        "id": "RF3QIJPjzYz8"
      },
      "outputs": [
        {
          "output_type": "stream",
          "name": "stdout",
          "text": [
            "37. Number of external transfer students (reported in Question 13)\n",
            "    who failed CS3\n",
            "\n",
            "Series([], Name: eid, dtype: int64)\n",
            "\n",
            "Total: 0\n"
          ]
        }
      ],
      "source": [
        "#### 37. Number of external transfer students (reported in Question 13)\n",
        "####     who failed CS3\n",
        "\n",
        "## number of records that meet the search criteria\n",
        "searchFlags = (semester_sp22) & (class_cs3) & (admission_transfer) & (pfd_fail)\n",
        "count_gender = df.loc[searchFlags].groupby('gender')['eid'].nunique()\n",
        "count_total = df.loc[searchFlags]['eid'].nunique()\n",
        "\n",
        "print(\n",
        "  '37. Number of external transfer students (reported in Question 13)'\n",
        "  '\\n    who failed CS3'\n",
        "  '\\n\\n{}'\n",
        "  '\\n\\nTotal: {}'.format(count_gender, count_total)\n",
        ")"
      ]
    },
    {
      "cell_type": "markdown",
      "metadata": {
        "id": "L5fgmBCNrpXD"
      },
      "source": [
        "## FL-22"
      ]
    },
    {
      "cell_type": "markdown",
      "metadata": {
        "id": "PzDHM4jp9vWR"
      },
      "source": [
        "### a"
      ]
    },
    {
      "cell_type": "code",
      "execution_count": null,
      "metadata": {
        "colab": {
          "base_uri": "https://localhost:8080/"
        },
        "id": "6MSraqRyKcOr",
        "outputId": "959566bb-f858-4851-e607-759020a41541"
      },
      "outputs": [
        {
          "output_type": "stream",
          "name": "stdout",
          "text": [
            "3. Number of sections of CS3 offered this term\n",
            "\t4\n"
          ]
        }
      ],
      "source": [
        "# 3. Number of sections of CS3 offered this term\n",
        "\n",
        "## number of unique values within a column,\n",
        "##   counting inside a df that meets above search criteria\n",
        "searchFlags = (semester_fl22) & (class_cs3)\n",
        "count = df.loc[searchFlags]['section'].nunique()\n",
        "\n",
        "print(\n",
        "  '3. Number of sections of CS3 offered this term'\n",
        "  '\\n\\t{}'.format(count)\n",
        ")"
      ]
    },
    {
      "cell_type": "code",
      "execution_count": null,
      "metadata": {
        "colab": {
          "base_uri": "https://localhost:8080/"
        },
        "id": "4AwRcg79KcCM",
        "outputId": "c12dfdf4-a146-4351-cdf5-8ae3edd7a4cd"
      },
      "outputs": [
        {
          "output_type": "stream",
          "name": "stdout",
          "text": [
            "4. Number of tenured/tenure-track faculty teaching CS3 this term\n",
            "\t1\n"
          ]
        }
      ],
      "source": [
        "#4. Number of tenured/tenure-track faculty teaching CS3 this term\n",
        "\n",
        "## number of unique values within a column,\n",
        "##   counting inside a df that meets above search criteria\n",
        "searchFlags = (semester_fl22) & (class_cs3) & (instructor_tt)\n",
        "count = df.loc[searchFlags]['Instructor'].nunique()\n",
        "\n",
        "print(\n",
        "  '4. Number of tenured/tenure-track faculty teaching CS3 this term'\n",
        "  '\\n\\t{}'.format(count)\n",
        ")"
      ]
    },
    {
      "cell_type": "code",
      "execution_count": null,
      "metadata": {
        "colab": {
          "base_uri": "https://localhost:8080/"
        },
        "id": "sOMs4Nr-KbuE",
        "outputId": "7699cfc7-7275-4afb-acfb-ce201b4d835a"
      },
      "outputs": [
        {
          "output_type": "stream",
          "name": "stdout",
          "text": [
            "6. Number of Part-time faculty teaching CS3 this term\n",
            "\t3\n"
          ]
        }
      ],
      "source": [
        "#6. Number of part-time faculty teaching CS3 this term\n",
        "\n",
        "## number of unique values within a column,\n",
        "##   counting inside a df that meets above search criteria\n",
        "searchFlags = (semester_fl22) & (class_cs3) & (instructor_pt)\n",
        "count = df.loc[searchFlags]['Instructor'].nunique()\n",
        "\n",
        "print(\n",
        "  '6. Number of Part-time faculty teaching CS3 this term'\n",
        "  '\\n\\t{}'.format(count)\n",
        ")"
      ]
    },
    {
      "cell_type": "markdown",
      "metadata": {
        "id": "M9602HIz4IWE"
      },
      "source": [
        "### b"
      ]
    },
    {
      "cell_type": "code",
      "execution_count": null,
      "metadata": {
        "colab": {
          "base_uri": "https://localhost:8080/"
        },
        "outputId": "70542d55-166e-4a0d-df7b-d2c370c3bfd1",
        "id": "hMS0LDW74IWG"
      },
      "outputs": [
        {
          "output_type": "stream",
          "name": "stdout",
          "text": [
            "10. Number of students enrolled in CS3 on Day 1 of this Academic Term\n",
            "\n",
            "gender\n",
            "0      1\n",
            "F     38\n",
            "M    116\n",
            "T      1\n",
            "Name: eid, dtype: int64\n",
            "\n",
            "Total: 156\n"
          ]
        }
      ],
      "source": [
        "#10. Number of students enrolled in CS3 on Day 1 of this Academic Term\n",
        "\n",
        "## number of records that meet the search criteria\n",
        "searchFlags = (semester_fl22) & (class_cs3) & (reg_fl22_first)\n",
        "count_gender = df.loc[searchFlags].groupby('gender')['eid'].nunique()\n",
        "count_total = df.loc[searchFlags]['eid'].nunique()\n",
        "\n",
        "print(\n",
        "  '10. Number of students enrolled in CS3 on Day 1 of this Academic Term'\n",
        "  '\\n\\n{}'\n",
        "  '\\n\\nTotal: {}'.format(count_gender, count_total)\n",
        ")"
      ]
    },
    {
      "cell_type": "code",
      "execution_count": null,
      "metadata": {
        "colab": {
          "base_uri": "https://localhost:8080/"
        },
        "outputId": "dfc534b8-6fc5-4141-98a8-c4147a0ddc8a",
        "id": "5P4BoHM14IWH"
      },
      "outputs": [
        {
          "output_type": "stream",
          "name": "stdout",
          "text": [
            "11. Number of students who added the course by Official Enrollment Day, after Day 1\n",
            "\t0\n"
          ]
        }
      ],
      "source": [
        "#### 11. Changes in CS3 enrollment between Day 1 and Official Enrollment Day\n",
        "\n",
        "\n",
        "# Number of students who added the course by Official Enrollment Day\n",
        "registration_add = (df['registration_date'] > fl22_first) & (reg_fl22_oed)\n",
        "searchFlags_add = (semester_fl22) & (class_cs3) & (registration_add)\n",
        "count_add = df.loc[searchFlags_add]['eid'].nunique()\n",
        "\n",
        "print(\n",
        "'11. Number of students who added the course by Official Enrollment Day, after Day 1'\n",
        "'\\n\\t{}'.format(count_add)\n",
        ")\n",
        "\n",
        "# Number of students who dropped the course by Official Enrollment Day\n",
        "# - Unaswerable"
      ]
    },
    {
      "cell_type": "code",
      "execution_count": null,
      "metadata": {
        "colab": {
          "base_uri": "https://localhost:8080/"
        },
        "outputId": "c0fcb28f-c047-4384-b6d5-15aa2a17d9f7",
        "id": "1IL_eEeG4IWI"
      },
      "outputs": [
        {
          "output_type": "stream",
          "name": "stdout",
          "text": [
            "12. Number of students enrolled in CS3 as of Official Enrollment Day\n",
            "\n",
            "gender\n",
            "0      1\n",
            "F     38\n",
            "M    116\n",
            "T      1\n",
            "Name: eid, dtype: int64\n",
            "\n",
            "Total: 156\n"
          ]
        }
      ],
      "source": [
        "#12. Number of students enrolled in CS3 as of Official Enrollment Day\n",
        "\n",
        "## number of records that meet the search criteria\n",
        "searchFlags = (semester_fl22) & (class_cs3) & (reg_fl22_oed)\n",
        "count_gender = df.loc[searchFlags].groupby('gender')['eid'].nunique()\n",
        "count_total = df.loc[searchFlags]['eid'].nunique()\n",
        "\n",
        "print(\n",
        "  '12. Number of students enrolled in CS3 as of Official Enrollment Day'\n",
        "  '\\n\\n{}'\n",
        "  '\\n\\nTotal: {}'.format(count_gender, count_total)\n",
        ")"
      ]
    },
    {
      "cell_type": "code",
      "execution_count": null,
      "metadata": {
        "colab": {
          "base_uri": "https://localhost:8080/"
        },
        "outputId": "1b9dc2f0-4fb6-4d5e-e7d3-16199d16b4be",
        "id": "5IGwlYO44IWJ"
      },
      "outputs": [
        {
          "output_type": "stream",
          "name": "stdout",
          "text": [
            "13. Number of external transfers enrolled in CS3\n",
            "\n",
            "gender\n",
            "M    1\n",
            "Name: eid, dtype: int64\n",
            "\n",
            "Total: 1\n"
          ]
        }
      ],
      "source": [
        "#13. Number of external transfers enrolled in CS3\n",
        "\n",
        "## number of records that meet the search criteria\n",
        "searchFlags = (semester_fl22) & (class_cs3) & (admission_transfer)\n",
        "count_gender = df.loc[searchFlags].groupby('gender')['eid'].nunique()\n",
        "count_total = df.loc[searchFlags]['eid'].nunique()\n",
        "\n",
        "print(\n",
        "  '13. Number of external transfers enrolled in CS3'\n",
        "  '\\n\\n{}'\n",
        "  '\\n\\nTotal: {}'.format(count_gender, count_total)\n",
        ")"
      ]
    },
    {
      "cell_type": "code",
      "execution_count": null,
      "metadata": {
        "colab": {
          "base_uri": "https://localhost:8080/"
        },
        "outputId": "9369603d-c8d4-42b3-f5f4-811247258f82",
        "id": "-Ll5jfv04IWK"
      },
      "outputs": [
        {
          "output_type": "stream",
          "name": "stdout",
          "text": [
            "14. Number of declared Computer Science majors enrolled in CS3\n",
            "\n",
            "gender\n",
            "F    23\n",
            "M    88\n",
            "T     1\n",
            "Name: eid, dtype: int64\n",
            "\n",
            "Total: 112\n"
          ]
        }
      ],
      "source": [
        "#14. Number of declared Computer Science majors enrolled in CS3\n",
        "\n",
        "## number of records that meet the search criteria\n",
        "searchFlags = (semester_fl22) & (class_cs3) & (major_compsc)\n",
        "count_gender = df.loc[searchFlags].groupby('gender')['eid'].nunique()\n",
        "count_total = df.loc[searchFlags]['eid'].nunique()\n",
        "\n",
        "print(\n",
        "  '14. Number of declared Computer Science majors enrolled in CS3'\n",
        "  '\\n\\n{}'\n",
        "  '\\n\\nTotal: {}'.format(count_gender, count_total)\n",
        ")"
      ]
    },
    {
      "cell_type": "code",
      "execution_count": null,
      "metadata": {
        "colab": {
          "base_uri": "https://localhost:8080/"
        },
        "outputId": "e4dbfa4f-072f-4d39-c316-056d0682dfba",
        "id": "BXUMec5s4IWK"
      },
      "outputs": [
        {
          "output_type": "stream",
          "name": "stdout",
          "text": [
            "15. Number of other Computing majors enrolled in CS3\n",
            "\n",
            "gender\n",
            "F    7\n",
            "M    6\n",
            "Name: eid, dtype: int64\n",
            "\n",
            "Total: 13\n"
          ]
        }
      ],
      "source": [
        "#15. Number of Other Computing majors enrolled in CS3\n",
        "\n",
        "## number of records that meet the search criteria\n",
        "searchFlags = (semester_fl22) & (class_cs3) & (major_othercomp)\n",
        "count_gender = df.loc[searchFlags].groupby('gender')['eid'].nunique()\n",
        "count_total = df.loc[searchFlags]['eid'].nunique()\n",
        "\n",
        "print(\n",
        "  '15. Number of other Computing majors enrolled in CS3'\n",
        "  '\\n\\n{}'\n",
        "  '\\n\\nTotal: {}'.format(count_gender, count_total)\n",
        ")"
      ]
    },
    {
      "cell_type": "code",
      "execution_count": null,
      "metadata": {
        "colab": {
          "base_uri": "https://localhost:8080/"
        },
        "outputId": "13503ffe-a0ad-41ae-b0ae-545525f38116",
        "id": "CK8IJ1I14IWL"
      },
      "outputs": [
        {
          "output_type": "stream",
          "name": "stdout",
          "text": [
            "16. Number of non computing majors enrolled in CS3\n",
            "\n",
            "gender\n",
            "0    1\n",
            "F    5\n",
            "M    7\n",
            "Name: eid, dtype: int64\n",
            "\n",
            "Total: 13\n"
          ]
        }
      ],
      "source": [
        "#16. Number of Non-Computing majors enrolled in CS3\n",
        "\n",
        "## number of records that meet the search criteria\n",
        "searchFlags = (semester_fl22) & (class_cs3) & (major_noncomp)\n",
        "count_gender = df.loc[searchFlags].groupby('gender')['eid'].nunique()\n",
        "count_total = df.loc[searchFlags]['eid'].nunique()\n",
        "\n",
        "print(\n",
        "  '16. Number of non computing majors enrolled in CS3'\n",
        "  '\\n\\n{}'\n",
        "  '\\n\\nTotal: {}'.format(count_gender, count_total)\n",
        ")"
      ]
    },
    {
      "cell_type": "code",
      "execution_count": null,
      "metadata": {
        "colab": {
          "base_uri": "https://localhost:8080/"
        },
        "outputId": "54ce3657-9186-4411-edbe-7d6bda486560",
        "id": "KenCKwvZ4IWM"
      },
      "outputs": [
        {
          "output_type": "stream",
          "name": "stdout",
          "text": [
            "17. Number of undeclared Student enrolled in CS3\n",
            "\n",
            "gender\n",
            "F     3\n",
            "M    15\n",
            "Name: eid, dtype: int64\n",
            "\n",
            "Total: 18\n"
          ]
        }
      ],
      "source": [
        "#17. Number of Undeclared students enrolled in CS3\n",
        "\n",
        "## number of records that meet the search criteria\n",
        "searchFlags = (semester_fl22) & (class_cs3) & (major_undecl)\n",
        "count_gender = df.loc[searchFlags].groupby('gender')['eid'].nunique()\n",
        "count_total = df.loc[searchFlags]['eid'].nunique()\n",
        "\n",
        "print(\n",
        "  '17. Number of undeclared Student enrolled in CS3'\n",
        "  '\\n\\n{}'\n",
        "  '\\n\\nTotal: {}'.format(count_gender, count_total)\n",
        ")"
      ]
    },
    {
      "cell_type": "markdown",
      "metadata": {
        "id": "TtjAXiS6_3Q2"
      },
      "source": [
        "### c"
      ]
    },
    {
      "cell_type": "code",
      "execution_count": null,
      "metadata": {
        "colab": {
          "base_uri": "https://localhost:8080/"
        },
        "outputId": "19964c75-ba9a-407a-80a9-326faf5d7379",
        "id": "KhW-l8lO_3Q3"
      },
      "outputs": [
        {
          "output_type": "stream",
          "name": "stdout",
          "text": [
            "18. Number of declared Computer Science majors who completed/passed CS3\n",
            "\n",
            "gender\n",
            "F    14\n",
            "M    61\n",
            "Name: eid, dtype: int64\n",
            "\n",
            "Total: 75\n"
          ]
        }
      ],
      "source": [
        "#### 18. Number of declared Computer Science majors who completed/passed CS3\n",
        "\n",
        "## number of records that meet the search criteria\n",
        "searchFlags = (semester_fl22) & (class_cs3) & (major_compsc) & (pfd_pass)\n",
        "count_gender = df.loc[searchFlags].groupby('gender')['eid'].nunique()\n",
        "count_total = df.loc[searchFlags]['eid'].nunique()\n",
        "\n",
        "print(\n",
        "  '18. Number of declared Computer Science majors who completed/passed CS3'\n",
        "  '\\n\\n{}'\n",
        "  '\\n\\nTotal: {}'.format(count_gender, count_total)\n",
        ")"
      ]
    },
    {
      "cell_type": "code",
      "execution_count": null,
      "metadata": {
        "colab": {
          "base_uri": "https://localhost:8080/"
        },
        "outputId": "f9c23508-6cd4-4a55-a963-ab8baf8925d4",
        "id": "wgdX8Umb_3Q4"
      },
      "outputs": [
        {
          "output_type": "stream",
          "name": "stdout",
          "text": [
            "19. Number of Other Computing majors who completed/passed CS3\n",
            "\n",
            "gender\n",
            "F    3\n",
            "M    4\n",
            "Name: eid, dtype: int64\n",
            "\n",
            "Total: 7\n"
          ]
        }
      ],
      "source": [
        "#### 19. Number of Other Computing majors who completed/passed CS3\n",
        "\n",
        "## number of records that meet the search criteria\n",
        "searchFlags = (semester_fl22) & (class_cs3) & (major_othercomp) & (pfd_pass)\n",
        "count_gender = df.loc[searchFlags].groupby('gender')['eid'].nunique()\n",
        "count_total = df.loc[searchFlags]['eid'].nunique()\n",
        "\n",
        "print(\n",
        "  '19. Number of Other Computing majors who completed/passed CS3'\n",
        "  '\\n\\n{}'\n",
        "  '\\n\\nTotal: {}'.format(count_gender, count_total)\n",
        ")"
      ]
    },
    {
      "cell_type": "code",
      "execution_count": null,
      "metadata": {
        "colab": {
          "base_uri": "https://localhost:8080/"
        },
        "outputId": "e7c07028-b8a5-457e-db08-2d0ea05e553e",
        "id": "3qGEY2bZ_3Q5"
      },
      "outputs": [
        {
          "output_type": "stream",
          "name": "stdout",
          "text": [
            "20. Number of Non-Computing majors who completed/passed CS3\n",
            "\n",
            "gender\n",
            "0    1\n",
            "F    5\n",
            "M    5\n",
            "Name: eid, dtype: int64\n",
            "\n",
            "Total: 11\n"
          ]
        }
      ],
      "source": [
        "#### 20. Number of Non-Computing majors who completed/passed CS3\n",
        "\n",
        "## number of records that meet the search criteria\n",
        "searchFlags = (semester_fl22) & (class_cs3) & (major_noncomp) & (pfd_pass)\n",
        "count_gender = df.loc[searchFlags].groupby('gender')['eid'].nunique()\n",
        "count_total = df.loc[searchFlags]['eid'].nunique()\n",
        "\n",
        "print(\n",
        "  '20. Number of Non-Computing majors who completed/passed CS3'\n",
        "  '\\n\\n{}'\n",
        "  '\\n\\nTotal: {}'.format(count_gender, count_total)\n",
        ")"
      ]
    },
    {
      "cell_type": "code",
      "execution_count": null,
      "metadata": {
        "colab": {
          "base_uri": "https://localhost:8080/"
        },
        "outputId": "32643727-0218-46c3-9323-0a0878e15c6e",
        "id": "eVhon--n_3Q5"
      },
      "outputs": [
        {
          "output_type": "stream",
          "name": "stdout",
          "text": [
            "21. Number of Undeclared students who completed/passed CS3\n",
            "\n",
            "gender\n",
            "F     3\n",
            "M    11\n",
            "Name: eid, dtype: int64\n",
            "\n",
            "Total: 14\n"
          ]
        }
      ],
      "source": [
        "#### 21. Number of Undeclared students who completed/passed CS3\n",
        "\n",
        "## number of records that meet the search criteria\n",
        "searchFlags = (semester_fl22) & (class_cs3) & (major_undecl) & (pfd_pass)\n",
        "count_gender = df.loc[searchFlags].groupby('gender')['eid'].nunique()\n",
        "count_total = df.loc[searchFlags]['eid'].nunique()\n",
        "\n",
        "print(\n",
        "  '21. Number of Undeclared students who completed/passed CS3'\n",
        "  '\\n\\n{}'\n",
        "  '\\n\\nTotal: {}'.format(count_gender, count_total)\n",
        ")"
      ]
    },
    {
      "cell_type": "code",
      "execution_count": null,
      "metadata": {
        "colab": {
          "base_uri": "https://localhost:8080/"
        },
        "outputId": "4c9ade01-c34d-46d1-917e-d1c3ba88c71b",
        "id": "Dxrl4mD2_3Q6"
      },
      "outputs": [
        {
          "output_type": "stream",
          "name": "stdout",
          "text": [
            "22. Number of external transfer students (reported in Question 13)\n",
            "    who completed/passed CS3\n",
            "\n",
            "gender\n",
            "M    1\n",
            "Name: eid, dtype: int64\n",
            "\n",
            "Total: 1\n"
          ]
        }
      ],
      "source": [
        "#### 22. Number of external transfer students (reported in Question 13)\n",
        "####     who completed/passed CS3\n",
        "\n",
        "## number of records that meet the search criteria\n",
        "searchFlags = (semester_fl22) & (class_cs3) & (admission_transfer) & (pfd_pass)\n",
        "count_gender = df.loc[searchFlags].groupby('gender')['eid'].nunique()\n",
        "count_total = df.loc[searchFlags]['eid'].nunique()\n",
        "\n",
        "print(\n",
        "  '22. Number of external transfer students (reported in Question 13)\\n'\n",
        "  '    who completed/passed CS3'\n",
        "  '\\n\\n{}'\n",
        "  '\\n\\nTotal: {}'.format(count_gender, count_total)\n",
        ")"
      ]
    },
    {
      "cell_type": "code",
      "execution_count": null,
      "metadata": {
        "id": "ISiSD8lV_3Q7"
      },
      "outputs": [],
      "source": [
        "#### 25-29 cannot be answered without data from [Spring 2023]"
      ]
    },
    {
      "cell_type": "markdown",
      "metadata": {
        "id": "k4VWwiBEBk1b"
      },
      "source": [
        "### d"
      ]
    },
    {
      "cell_type": "code",
      "execution_count": null,
      "metadata": {
        "colab": {
          "base_uri": "https://localhost:8080/"
        },
        "outputId": "ee15ae3e-bdf3-46b1-d818-49a673a75c2a",
        "id": "s3QY_SczBk1d"
      },
      "outputs": [
        {
          "output_type": "stream",
          "name": "stdout",
          "text": [
            "28. Number of declared Computer Science majors who withdrew from CS3\n",
            "\n",
            "gender\n",
            "F     7\n",
            "M    10\n",
            "Name: eid, dtype: int64\n",
            "\n",
            "Total: 17\n"
          ]
        }
      ],
      "source": [
        "#### 28. Number of declared Computer Science majors who withdrew from CS3\n",
        "\n",
        "## number of records that meet the search criteria\n",
        "searchFlags = (semester_fl22) & (class_cs3) & (major_compsc) & (pfd_drop)\n",
        "count_gender = df.loc[searchFlags].groupby('gender')['eid'].nunique()\n",
        "count_total = df.loc[searchFlags]['eid'].nunique()\n",
        "\n",
        "print(\n",
        "  '28. Number of declared Computer Science majors who withdrew from CS3'\n",
        "  '\\n\\n{}'\n",
        "  '\\n\\nTotal: {}'.format(count_gender, count_total)\n",
        ")"
      ]
    },
    {
      "cell_type": "code",
      "execution_count": null,
      "metadata": {
        "colab": {
          "base_uri": "https://localhost:8080/"
        },
        "outputId": "7ff1dd6d-c2f5-47c8-fc38-b644976e9c09",
        "id": "IzK5L1AxBk1d"
      },
      "outputs": [
        {
          "output_type": "stream",
          "name": "stdout",
          "text": [
            "29. Number of Other Computing majors who withdrew from CS3\n",
            "\n",
            "gender\n",
            "F    2\n",
            "M    1\n",
            "Name: eid, dtype: int64\n",
            "\n",
            "Total: 3\n"
          ]
        }
      ],
      "source": [
        "#### 29. Number of Other Computing majors who withdrew from CS3\n",
        "\n",
        "## number of records that meet the search criteria\n",
        "searchFlags = (semester_fl22) & (class_cs3) & (major_othercomp) & (pfd_drop)\n",
        "count_gender = df.loc[searchFlags].groupby('gender')['eid'].nunique()\n",
        "count_total = df.loc[searchFlags]['eid'].nunique()\n",
        "\n",
        "print(\n",
        "  '29. Number of Other Computing majors who withdrew from CS3'\n",
        "  '\\n\\n{}'\n",
        "  '\\n\\nTotal: {}'.format(count_gender, count_total)\n",
        ")"
      ]
    },
    {
      "cell_type": "code",
      "execution_count": null,
      "metadata": {
        "colab": {
          "base_uri": "https://localhost:8080/"
        },
        "outputId": "e59c39d4-24b6-495f-ec21-2ab826194d15",
        "id": "52lRs-bDBk1e"
      },
      "outputs": [
        {
          "output_type": "stream",
          "name": "stdout",
          "text": [
            "30. Number of Non-Computing majors who withdrew from CS3\n",
            "\n",
            "gender\n",
            "M    2\n",
            "Name: eid, dtype: int64\n",
            "\n",
            "Total: 2\n"
          ]
        }
      ],
      "source": [
        "#### 30. Number of Non-Computing majors who withdrew from CS3\n",
        "\n",
        "## number of records that meet the search criteria\n",
        "searchFlags = (semester_fl22) & (class_cs3) & (major_noncomp) & (pfd_drop)\n",
        "count_gender = df.loc[searchFlags].groupby('gender')['eid'].nunique()\n",
        "count_total = df.loc[searchFlags]['eid'].nunique()\n",
        "\n",
        "print(\n",
        "  '30. Number of Non-Computing majors who withdrew from CS3'\n",
        "  '\\n\\n{}'\n",
        "  '\\n\\nTotal: {}'.format(count_gender, count_total)\n",
        ")"
      ]
    },
    {
      "cell_type": "code",
      "execution_count": null,
      "metadata": {
        "colab": {
          "base_uri": "https://localhost:8080/"
        },
        "outputId": "ecb5444f-b077-4971-99c1-8a338d6fc5bb",
        "id": "lhIgTgMrBk1f"
      },
      "outputs": [
        {
          "output_type": "stream",
          "name": "stdout",
          "text": [
            "31. Number of Undeclared students who withdrew from CS3\n",
            "\n",
            "gender\n",
            "M    2\n",
            "Name: eid, dtype: int64\n",
            "\n",
            "Total: 2\n"
          ]
        }
      ],
      "source": [
        "#### 31. Number of Undeclared students who withdrew from CS3\n",
        "\n",
        "## number of records that meet the search criteria\n",
        "searchFlags = (semester_fl22) & (class_cs3) & (major_undecl) & (pfd_drop)\n",
        "count_gender = df.loc[searchFlags].groupby('gender')['eid'].nunique()\n",
        "count_total = df.loc[searchFlags]['eid'].nunique()\n",
        "\n",
        "print(\n",
        "  '31. Number of Undeclared students who withdrew from CS3'\n",
        "  '\\n\\n{}'\n",
        "  '\\n\\nTotal: {}'.format(count_gender, count_total)\n",
        ")"
      ]
    },
    {
      "cell_type": "code",
      "execution_count": null,
      "metadata": {
        "colab": {
          "base_uri": "https://localhost:8080/"
        },
        "outputId": "aff81e29-3e77-4a8f-e601-8a143c01132d",
        "id": "0gbCYKpYBk1g"
      },
      "outputs": [
        {
          "output_type": "stream",
          "name": "stdout",
          "text": [
            "32. Number of external transfer students (reported in Question 13)\n",
            "    who withdrew from CS3\n",
            "\n",
            "Series([], Name: eid, dtype: int64)\n",
            "\n",
            "Total: 0\n"
          ]
        }
      ],
      "source": [
        "#### 32. Number of external transfer students (reported in Question 13)\n",
        "####     who withdrew from CS3\n",
        "\n",
        "## number of records that meet the search criteria\n",
        "searchFlags = (semester_fl22) & (class_cs3) & (admission_transfer) & (pfd_drop)\n",
        "count_gender = df.loc[searchFlags].groupby('gender')['eid'].nunique()\n",
        "count_total = df.loc[searchFlags]['eid'].nunique()\n",
        "\n",
        "print(\n",
        "  '32. Number of external transfer students (reported in Question 13)'\n",
        "  '\\n    who withdrew from CS3'\n",
        "  '\\n\\n{}'\n",
        "  '\\n\\nTotal: {}'.format(count_gender, count_total)\n",
        ")"
      ]
    },
    {
      "cell_type": "code",
      "execution_count": null,
      "metadata": {
        "colab": {
          "base_uri": "https://localhost:8080/"
        },
        "outputId": "4afe4aba-6d15-4271-b98b-9372f9b9e0a1",
        "id": "i7QX5PMgBk1h"
      },
      "outputs": [
        {
          "output_type": "stream",
          "name": "stdout",
          "text": [
            "33. Number of Computer Science majors who failed CS3\n",
            "\n",
            "gender\n",
            "F     2\n",
            "M    17\n",
            "T     1\n",
            "Name: eid, dtype: int64\n",
            "\n",
            "Total: 20\n"
          ]
        }
      ],
      "source": [
        "#### 33. Number of Computer Science majors who failed CS3\n",
        "\n",
        "## number of records that meet the search criteria\n",
        "searchFlags = (semester_fl22) & (class_cs3) & (major_compsc) & (pfd_fail)\n",
        "count_gender = df.loc[searchFlags].groupby('gender')['eid'].nunique()\n",
        "count_total = df.loc[searchFlags]['eid'].nunique()\n",
        "\n",
        "print(\n",
        "  '33. Number of Computer Science majors who failed CS3'\n",
        "  '\\n\\n{}'\n",
        "  '\\n\\nTotal: {}'.format(count_gender, count_total)\n",
        ")"
      ]
    },
    {
      "cell_type": "code",
      "execution_count": null,
      "metadata": {
        "colab": {
          "base_uri": "https://localhost:8080/"
        },
        "outputId": "88dbd018-7fc8-427e-d071-81000e7c192b",
        "id": "LtQedtYTBk1i"
      },
      "outputs": [
        {
          "output_type": "stream",
          "name": "stdout",
          "text": [
            "34. Number of Other Computing majors who failed CS3\n",
            "\n",
            "gender\n",
            "F    2\n",
            "M    1\n",
            "Name: eid, dtype: int64\n",
            "\n",
            "Total: 3\n"
          ]
        }
      ],
      "source": [
        "#### 34. Number of Other Computing majors who failed CS3\n",
        "\n",
        "## number of records that meet the search criteria\n",
        "searchFlags = (semester_fl22) & (class_cs3) & (major_othercomp) & (pfd_fail)\n",
        "count_gender = df.loc[searchFlags].groupby('gender')['eid'].nunique()\n",
        "count_total = df.loc[searchFlags]['eid'].nunique()\n",
        "\n",
        "print(\n",
        "  '34. Number of Other Computing majors who failed CS3'\n",
        "  '\\n\\n{}'\n",
        "  '\\n\\nTotal: {}'.format(count_gender, count_total)\n",
        ")"
      ]
    },
    {
      "cell_type": "code",
      "execution_count": null,
      "metadata": {
        "colab": {
          "base_uri": "https://localhost:8080/"
        },
        "outputId": "5478465f-817f-4e90-dd17-340488512837",
        "id": "Hl3DaIucBk1i"
      },
      "outputs": [
        {
          "output_type": "stream",
          "name": "stdout",
          "text": [
            "35. Number of Non-Computing majors who failed CS3\n",
            "\n",
            "Series([], Name: eid, dtype: int64)\n",
            "\n",
            "Total: 0\n"
          ]
        }
      ],
      "source": [
        "#### 35. Number of Non-Computing majors who failed CS3\n",
        "\n",
        "## number of records that meet the search criteria\n",
        "searchFlags = (semester_fl22) & (class_cs3) & (major_noncomp) & (pfd_fail)\n",
        "count_gender = df.loc[searchFlags].groupby('gender')['eid'].nunique()\n",
        "count_total = df.loc[searchFlags]['eid'].nunique()\n",
        "\n",
        "print(\n",
        "  '35. Number of Non-Computing majors who failed CS3'\n",
        "  '\\n\\n{}'\n",
        "  '\\n\\nTotal: {}'.format(count_gender, count_total)\n",
        ")"
      ]
    },
    {
      "cell_type": "code",
      "execution_count": null,
      "metadata": {
        "colab": {
          "base_uri": "https://localhost:8080/"
        },
        "outputId": "739ab1f2-7ea6-4fe3-bdd6-72f9a4968956",
        "id": "56lJtISFBk1j"
      },
      "outputs": [
        {
          "output_type": "stream",
          "name": "stdout",
          "text": [
            "36. Number of Undeclared students who failed CS3\n",
            "\n",
            "gender\n",
            "M    2\n",
            "Name: eid, dtype: int64\n",
            "\n",
            "Total: 2\n"
          ]
        }
      ],
      "source": [
        "#### 36. Number of Undeclared students who failed CS3\n",
        "\n",
        "## number of records that meet the search criteria\n",
        "searchFlags = (semester_fl22) & (class_cs3) & (major_undecl) & (pfd_fail)\n",
        "count_gender = df.loc[searchFlags].groupby('gender')['eid'].nunique()\n",
        "count_total = df.loc[searchFlags]['eid'].nunique()\n",
        "\n",
        "print(\n",
        "  '36. Number of Undeclared students who failed CS3'\n",
        "  '\\n\\n{}'\n",
        "  '\\n\\nTotal: {}'.format(count_gender, count_total)\n",
        ")"
      ]
    },
    {
      "cell_type": "code",
      "execution_count": null,
      "metadata": {
        "colab": {
          "base_uri": "https://localhost:8080/"
        },
        "outputId": "2fbe1ea1-02e4-4ff0-e4aa-cd68a950b7fd",
        "id": "hFTgW0rfBk1j"
      },
      "outputs": [
        {
          "output_type": "stream",
          "name": "stdout",
          "text": [
            "37. Number of external transfer students (reported in Question 13)\n",
            "    who failed CS3\n",
            "\n",
            "Series([], Name: eid, dtype: int64)\n",
            "\n",
            "Total: 0\n"
          ]
        }
      ],
      "source": [
        "#### 37. Number of external transfer students (reported in Question 13)\n",
        "####     who failed CS3\n",
        "\n",
        "## number of records that meet the search criteria\n",
        "searchFlags = (semester_fl22) & (class_cs3) & (admission_transfer) & (pfd_fail)\n",
        "count_gender = df.loc[searchFlags].groupby('gender')['eid'].nunique()\n",
        "count_total = df.loc[searchFlags]['eid'].nunique()\n",
        "\n",
        "print(\n",
        "  '37. Number of external transfer students (reported in Question 13)'\n",
        "  '\\n    who failed CS3'\n",
        "  '\\n\\n{}'\n",
        "  '\\n\\nTotal: {}'.format(count_gender, count_total)\n",
        ")"
      ]
    },
    {
      "cell_type": "markdown",
      "metadata": {
        "id": "j3sPXPOZ-X0e"
      },
      "source": [
        "# R&G"
      ]
    },
    {
      "cell_type": "code",
      "source": [
        "#### Spring 2021 - Number of Other Computing and Computer Science majors\n",
        "\n",
        "searchFlags_compsc = (semester_sp21) & (major_compsc)\n",
        "count_gender_compsc = df.loc[searchFlags_compsc].groupby('gender')['eid'].nunique()\n",
        "count_total_compsc = df.loc[searchFlags_compsc]['eid'].nunique()\n",
        "\n",
        "searchFlags_other = (semester_sp21) & (major_othercomp)\n",
        "count_gender_other = df.loc[searchFlags_other].groupby('gender')['eid'].nunique()\n",
        "count_total_other = df.loc[searchFlags_other]['eid'].nunique()\n",
        "\n",
        "print(\n",
        "  '----Spring 2021----\\n\\n'\n",
        "  'Computer Science majors enrolled'\n",
        "  '\\n\\n{}'  '\\n\\n'  'Total: {}'  '\\n\\n'\n",
        "  'Other Computing majors enrolled'\n",
        "  '\\n\\n{}'  '\\n\\n'  'Total: {}'  '\\n\\n\\n'.format(\n",
        "      count_gender_compsc, count_total_compsc,\n",
        "      count_gender_other, count_total_other\n",
        "      )\n",
        ")"
      ],
      "metadata": {
        "id": "6G4dxFOsj2u6",
        "colab": {
          "base_uri": "https://localhost:8080/"
        },
        "outputId": "7c2e497f-84ad-4b72-f3d3-a7520c20cb71"
      },
      "execution_count": null,
      "outputs": [
        {
          "output_type": "stream",
          "name": "stdout",
          "text": [
            "----Spring 2021----\n",
            "\n",
            "Computer Science majors enrolled\n",
            "\n",
            "gender\n",
            "F     91\n",
            "M    308\n",
            "Name: eid, dtype: int64\n",
            "\n",
            "Total: 399\n",
            "\n",
            "Other Computing majors enrolled\n",
            "\n",
            "gender\n",
            "F    29\n",
            "M    78\n",
            "Name: eid, dtype: int64\n",
            "\n",
            "Total: 107\n",
            "\n",
            "\n",
            "\n"
          ]
        }
      ]
    },
    {
      "cell_type": "markdown",
      "metadata": {
        "id": "eCDRH9xz-iQm"
      },
      "source": [
        "## FL-21"
      ]
    },
    {
      "cell_type": "code",
      "source": [
        "#### Number of Other Computing and Computer Science majors\n",
        "\n",
        "\n",
        "## Fall 2021\n",
        "searchFlags_compsc = (semester_fl21) & (major_compsc)\n",
        "count_gender_compsc = df.loc[searchFlags_compsc].groupby('gender')['eid'].nunique()\n",
        "count_total_compsc = df.loc[searchFlags_compsc]['eid'].nunique()\n",
        "\n",
        "searchFlags_other = (semester_fl21) & (major_othercomp)\n",
        "count_gender_other = df.loc[searchFlags_other].groupby('gender')['eid'].nunique()\n",
        "count_total_other = df.loc[searchFlags_other]['eid'].nunique()\n",
        "\n",
        "print(\n",
        "  '----Fall 2021----\\n\\n'\n",
        "  '--Computer Science majors enrolled'\n",
        "  '\\n\\n{}'  '\\n\\n'  'Total: {}'  '\\n\\n\\n'\n",
        "  '--Other Computing majors enrolled'\n",
        "  '\\n\\n{}'  '\\n\\n'  'Total: {}'.format(\n",
        "      count_gender_compsc, count_total_compsc,\n",
        "      count_gender_other, count_total_other\n",
        "      )\n",
        ")"
      ],
      "metadata": {
        "colab": {
          "base_uri": "https://localhost:8080/"
        },
        "id": "KTd78ZP-XkWi",
        "outputId": "c9ec623c-1303-421f-cf78-3bbaa2e54111"
      },
      "execution_count": null,
      "outputs": [
        {
          "output_type": "stream",
          "name": "stdout",
          "text": [
            "----Fall 2021----\n",
            "\n",
            "--Computer Science majors enrolled\n",
            "\n",
            "gender\n",
            "F     79\n",
            "M    328\n",
            "T      2\n",
            "Name: eid, dtype: int64\n",
            "\n",
            "Total: 409\n",
            "\n",
            "\n",
            "--Other Computing majors enrolled\n",
            "\n",
            "gender\n",
            "F    26\n",
            "M    51\n",
            "Name: eid, dtype: int64\n",
            "\n",
            "Total: 77\n"
          ]
        }
      ]
    },
    {
      "cell_type": "code",
      "execution_count": null,
      "metadata": {
        "colab": {
          "base_uri": "https://localhost:8080/"
        },
        "id": "jBFDjhhYahop",
        "outputId": "b95cb0e0-08a7-4ea4-deaa-3c67b5a1fd35"
      },
      "outputs": [
        {
          "output_type": "stream",
          "name": "stdout",
          "text": [
            "2. Number of declared Computer Science majors enrolled at\n",
            "   your institution in the previous term\n",
            "\n",
            "gender\n",
            "F     91\n",
            "M    308\n",
            "Name: eid, dtype: int64\n",
            "\n",
            "Total: 399\n"
          ]
        }
      ],
      "source": [
        "#### 2. Number of declared Computer Science majors enrolled at\n",
        "####    your institution in the previous term\n",
        "\n",
        "## number of records that meet search criteria\n",
        "searchFlags = (semester_sp21) & (major_compsc)\n",
        "count_gender = df.loc[searchFlags].groupby('gender')['eid'].nunique()\n",
        "count_total = df.loc[searchFlags]['eid'].nunique()\n",
        "\n",
        "print(\n",
        "  '2. Number of declared Computer Science majors enrolled at'\n",
        "  '\\n   your institution in the previous term'\n",
        "  '\\n\\n{}'\n",
        "  '\\n\\nTotal: {}'.format(count_gender, count_total)\n",
        ")"
      ]
    },
    {
      "cell_type": "code",
      "execution_count": null,
      "metadata": {
        "colab": {
          "base_uri": "https://localhost:8080/"
        },
        "id": "8DPG0HPPPhyr",
        "outputId": "84ba1951-b6f2-40c1-db5d-a541c280d829"
      },
      "outputs": [
        {
          "output_type": "stream",
          "name": "stdout",
          "text": [
            "4. Number of students reported in Question 2 who were still enrolled\n",
            "   as Computer Science majors in the current term\n",
            "\n",
            "gender\n",
            "F     34\n",
            "M    147\n",
            "Name: eid, dtype: int64\n",
            "\n",
            "Total: 181\n"
          ]
        }
      ],
      "source": [
        "#### 4. Number of students reported in Question 2 who were still enrolled\n",
        "####    as Computer Science majors in the current term\n",
        "\n",
        "## search flags\n",
        "searchFlags_prev = (semester_sp21) & (major_compsc)\n",
        "searchFlags_curr = (semester_fl21) & (major_compsc)\n",
        "\n",
        "## true/false dataframe: shows which students in the current term\n",
        "##   are from the set of students reported in question 2\n",
        "bools = df[searchFlags_curr]['eid'].isin(df.loc[searchFlags_prev]['eid'])\n",
        "\n",
        "## number of records that meet search criteria\n",
        "count_gender = df[searchFlags_curr][bools.values].groupby('gender')['eid'].nunique()\n",
        "count_total = df[searchFlags_curr][bools.values]['eid'].nunique()\n",
        "\n",
        "print(\n",
        "  '4. Number of students reported in Question 2 who were still enrolled'\n",
        "  '\\n   as Computer Science majors in the current term'\n",
        "  '\\n\\n{}'\n",
        "  '\\n\\nTotal: {}'.format(count_gender, count_total)\n",
        ")"
      ]
    },
    {
      "cell_type": "code",
      "execution_count": null,
      "metadata": {
        "colab": {
          "base_uri": "https://localhost:8080/"
        },
        "id": "M_Hnv2jPSVto",
        "outputId": "fbfb8ce0-2110-4e3d-d8b6-e3fc3eb1b737"
      },
      "outputs": [
        {
          "output_type": "stream",
          "name": "stdout",
          "text": [
            "5. Number of students reported in Question 2 who were enrolled in\n",
            "   an Other Computing major in the current term\n",
            "\n",
            "Series([], Name: eid, dtype: int64)\n",
            "\n",
            "Total: 0\n"
          ]
        }
      ],
      "source": [
        "#### 5. Number of students reported in Question 2 who were enrolled in\n",
        "####    an Other Computing major in the current term\n",
        "\n",
        "## search flags\n",
        "searchFlags_prev = (semester_sp21) & (major_compsc)\n",
        "searchFlags_curr = (semester_fl21) & (major_othercomp)\n",
        "\n",
        "## true/false dataframe: shows which students in the current term\n",
        "##   are from the set of students reported in question 2\n",
        "bools = df[searchFlags_curr]['eid'].isin(df.loc[searchFlags_prev]['eid'])\n",
        "\n",
        "## number of records that meet search criteria\n",
        "count_gender = df[searchFlags_curr][bools.values].groupby('gender')['eid'].nunique()\n",
        "count_total = df[searchFlags_curr][bools.values]['eid'].nunique()\n",
        "\n",
        "print(\n",
        "  '5. Number of students reported in Question 2 who were enrolled in'\n",
        "  '\\n   an Other Computing major in the current term'\n",
        "  '\\n\\n{}'\n",
        "  '\\n\\nTotal: {}'.format(count_gender, count_total)\n",
        ")"
      ]
    },
    {
      "cell_type": "code",
      "execution_count": null,
      "metadata": {
        "colab": {
          "base_uri": "https://localhost:8080/"
        },
        "id": "NwWq0SOIdfhB",
        "outputId": "c0a26a3b-2348-4feb-a5c5-51fc35aa28ce"
      },
      "outputs": [
        {
          "output_type": "stream",
          "name": "stdout",
          "text": [
            "6. Number of students reported in Question 2 who were enrolled in\n",
            "   any Non-Computing major in the current term\n",
            "\n",
            "Series([], Name: eid, dtype: int64)\n",
            "\n",
            "Total: 0\n"
          ]
        }
      ],
      "source": [
        "#### 6. Number of students reported in Question 2 who were enrolled in\n",
        "####    any Non-Computing major in the current term\n",
        "\n",
        "## search flags\n",
        "searchFlags_prev = (semester_sp21) & (major_compsc)\n",
        "searchFlags_curr = (semester_fl21) & (major_noncomp)\n",
        "\n",
        "## true/false dataframe: shows which students in the current term\n",
        "##   are from the set of students reported in question 2\n",
        "bools = df[searchFlags_curr]['eid'].isin(df.loc[searchFlags_prev]['eid'])\n",
        "\n",
        "## number of records that meet search criteria\n",
        "count_gender = df[searchFlags_curr][bools.values].groupby('gender')['eid'].nunique()\n",
        "count_total = df[searchFlags_curr][bools.values]['eid'].nunique()\n",
        "\n",
        "print(\n",
        "  '6. Number of students reported in Question 2 who were enrolled in'\n",
        "  '\\n   any Non-Computing major in the current term'\n",
        "  '\\n\\n{}'\n",
        "  '\\n\\nTotal: {}'.format(count_gender, count_total)\n",
        ")"
      ]
    },
    {
      "cell_type": "code",
      "execution_count": null,
      "metadata": {
        "colab": {
          "base_uri": "https://localhost:8080/"
        },
        "id": "xicOAnHdevjE",
        "outputId": "b1bb561f-9ce3-4da8-b87c-0bdf146ec369"
      },
      "outputs": [
        {
          "output_type": "stream",
          "name": "stdout",
          "text": [
            "8. Total number of new Computer Science majors this academic term\n",
            "\n",
            "gender\n",
            "F     45\n",
            "M    181\n",
            "T      2\n",
            "Name: eid, dtype: int64\n",
            "\n",
            "Total: 228\n"
          ]
        }
      ],
      "source": [
        "#### 8. Total number of new Computer Science majors this academic term\n",
        "\n",
        "## search flags\n",
        "searchFlags_prev = (semester_sp21) & (major_compsc)\n",
        "searchFlags_curr = (semester_fl21) & (major_compsc)\n",
        "\n",
        "## true/false dataframe: shows which students in the current term\n",
        "##   were not CS majors in the previous term\n",
        "bools = ~df[searchFlags_curr]['eid'].isin(df.loc[searchFlags_prev]['eid'])\n",
        "\n",
        "## number of records that meet search criteria\n",
        "count_gender = df[searchFlags_curr][bools.values].groupby('gender')['eid'].nunique()\n",
        "count_total = df[searchFlags_curr][bools.values]['eid'].nunique()\n",
        "\n",
        "print(\n",
        "  '8. Total number of new Computer Science majors this academic term'\n",
        "  '\\n\\n{}'\n",
        "  '\\n\\nTotal: {}'.format(count_gender, count_total)\n",
        ")"
      ]
    },
    {
      "cell_type": "code",
      "execution_count": null,
      "metadata": {
        "colab": {
          "base_uri": "https://localhost:8080/"
        },
        "id": "pN8TDcS5hUYf",
        "outputId": "77257d44-8d39-47c3-b214-1a824f217a16"
      },
      "outputs": [
        {
          "output_type": "stream",
          "name": "stdout",
          "text": [
            "9. Number of new majors reported in Question 8 who were not transfer\n",
            "   students (internal or external) and declared a major for the first time\n",
            "\n",
            "Series([], Name: eid, dtype: int64)\n",
            "\n",
            "Total: 0\n"
          ]
        }
      ],
      "source": [
        "#### 9. Number of new majors reported in Question 8 who were not transfer\n",
        "####    students (internal or external) and declared a major for the first time\n",
        "\n",
        "## search flags\n",
        "searchFlags_prev = (semester_sp21) & (major_undecl)\n",
        "searchFlags_curr = (semester_fl21) & (major_compsc) & (admission_notTransfer)\n",
        "\n",
        "## true/false dataframe: shows which students in the current term\n",
        "##   were undeclared in the previous term\n",
        "bools = df[searchFlags_curr]['eid'].isin(df.loc[searchFlags_prev]['eid'])\n",
        "\n",
        "## number of records that meet search criteria\n",
        "count_gender = df[searchFlags_curr][bools.values].groupby('gender')['eid'].nunique()\n",
        "count_total = df[searchFlags_curr][bools.values]['eid'].nunique()\n",
        "\n",
        "print(\n",
        "  '9. Number of new majors reported in Question 8 who were not transfer'\n",
        "  '\\n   students (internal or external) and declared a major for the first time'\n",
        "  '\\n\\n{}'\n",
        "  '\\n\\nTotal: {}'.format(count_gender, count_total)\n",
        ")"
      ]
    },
    {
      "cell_type": "code",
      "execution_count": null,
      "metadata": {
        "colab": {
          "base_uri": "https://localhost:8080/"
        },
        "id": "nYzupZptmE_T",
        "outputId": "ddb69811-a99e-474e-a6c5-b529f84a398f"
      },
      "outputs": [
        {
          "output_type": "stream",
          "name": "stdout",
          "text": [
            "10. Number of new majors reported in Question 8 who transferred internally\n",
            "   from another degree program at your institution.\n",
            "\n",
            "Series([], Name: eid, dtype: int64)\n",
            "\n",
            "Total: 0\n"
          ]
        }
      ],
      "source": [
        "#### 10. Number of new majors reported in Question 8 who transferred internally\n",
        "####     from another degree program at your institution.\n",
        "\n",
        "## search flags\n",
        "searchFlags_prev = (semester_sp21) & (major_othercomp) & (major_noncomp)\n",
        "searchFlags_curr = (semester_fl21) & (major_compsc)\n",
        "\n",
        "## true/false dataframe: shows which students in the current term\n",
        "##   changed major from one that was held in the previous term\n",
        "bools = df[searchFlags_curr]['eid'].isin(df.loc[searchFlags_prev]['eid'])\n",
        "\n",
        "## number of records that meet search criteria\n",
        "count_gender = df[searchFlags_curr][bools.values].groupby('gender')['eid'].nunique()\n",
        "count_total = df[searchFlags_curr][bools.values]['eid'].nunique()\n",
        "\n",
        "print(\n",
        "  '10. Number of new majors reported in Question 8 who transferred internally'\n",
        "  '\\n   from another degree program at your institution.'\n",
        "  '\\n\\n{}'\n",
        "  '\\n\\nTotal: {}'.format(count_gender, count_total)\n",
        ")"
      ]
    },
    {
      "cell_type": "code",
      "execution_count": null,
      "metadata": {
        "colab": {
          "base_uri": "https://localhost:8080/"
        },
        "id": "JqOlW_h8pWvE",
        "outputId": "4e605eb4-ef9a-4fcc-db69-f3cebdc8e63f"
      },
      "outputs": [
        {
          "output_type": "stream",
          "name": "stdout",
          "text": [
            "11. Number of new majors reported in Question 8 who\n",
            "    transferred externally from another institution.\n",
            "\n",
            "gender\n",
            "M    1\n",
            "Name: eid, dtype: int64\n",
            "\n",
            "Total: 1\n"
          ]
        }
      ],
      "source": [
        "#### 11. Number of new majors reported in Question 8 who\n",
        "####     transferred externally from another institution.\n",
        "\n",
        "## search flags\n",
        "searchFlags_prev = (semester_sp21)\n",
        "searchFlags_curr = (semester_fl21) & (major_compsc) & (admission_transfer)\n",
        "\n",
        "## true/false dataframe: shows which students in the current term\n",
        "##   were not registered for the previous term\n",
        "bools = ~df[searchFlags_curr]['eid'].isin(df.loc[searchFlags_prev]['eid'])\n",
        "\n",
        "## number of records that meet search criteria\n",
        "count_gender = df[searchFlags_curr][bools.values].groupby('gender')['eid'].nunique()\n",
        "count_total = df[searchFlags_curr][bools.values]['eid'].nunique()\n",
        "\n",
        "print(\n",
        "  '11. Number of new majors reported in Question 8 who'\n",
        "  '\\n    transferred externally from another institution.'\n",
        "  '\\n\\n{}'\n",
        "  '\\n\\nTotal: {}'.format(count_gender, count_total)\n",
        ")"
      ]
    },
    {
      "cell_type": "code",
      "execution_count": null,
      "metadata": {
        "colab": {
          "base_uri": "https://localhost:8080/"
        },
        "id": "gX-1EqQGtzBi",
        "outputId": "d7f560e8-2011-497e-b13f-5582da862710"
      },
      "outputs": [
        {
          "output_type": "stream",
          "name": "stdout",
          "text": [
            "12. Number of Other Computing majors enrolled\n",
            "   at your institution in the previous term\n",
            "\n",
            "gender\n",
            "F    29\n",
            "M    78\n",
            "Name: eid, dtype: int64\n",
            "\n",
            "Total: 107\n"
          ]
        }
      ],
      "source": [
        "#### 12. Number of Other Computing majors enrolled\n",
        "####     at your institution in the previous term \n",
        "\n",
        "## search flags\n",
        "searchFlags = (semester_sp21) & (major_othercomp)\n",
        "\n",
        "## number of records that meet search criteria\n",
        "count_gender = df[searchFlags].groupby('gender')['eid'].nunique()\n",
        "count_total = df[searchFlags]['eid'].nunique()\n",
        "\n",
        "print(\n",
        "  '12. Number of Other Computing majors enrolled'\n",
        "  '\\n   at your institution in the previous term'\n",
        "  '\\n\\n{}'\n",
        "  '\\n\\nTotal: {}'.format(count_gender, count_total)\n",
        ")"
      ]
    },
    {
      "cell_type": "code",
      "execution_count": null,
      "metadata": {
        "colab": {
          "base_uri": "https://localhost:8080/"
        },
        "id": "bFScBaFZtzBl",
        "outputId": "633d67d1-bc25-41be-f15a-4535fac45778"
      },
      "outputs": [
        {
          "output_type": "stream",
          "name": "stdout",
          "text": [
            "14. Number of students reported in Question 12 who were\n",
            "   still enrolled in Other Computing majors in the current term\n",
            "\n",
            "gender\n",
            "F    10\n",
            "M    26\n",
            "Name: eid, dtype: int64\n",
            "\n",
            "Total: 36\n"
          ]
        }
      ],
      "source": [
        "#### 14. Number of students reported in Question 12 who were\n",
        "####     still enrolled in Other Computing majors in the current term\n",
        "\n",
        "## search flags\n",
        "searchFlags_prev = (semester_sp21) & (major_othercomp)\n",
        "searchFlags_curr = (semester_fl21) & (major_othercomp)\n",
        "\n",
        "## true/false dataframe: shows which students in the current term\n",
        "##   had the same major in the previous term\n",
        "bools = df[searchFlags_curr]['eid'].isin(df.loc[searchFlags_prev]['eid'])\n",
        "\n",
        "## number of records that meet search criteria\n",
        "count_gender = df[searchFlags_curr][bools.values].groupby('gender')['eid'].nunique()\n",
        "count_total = df[searchFlags_curr][bools.values]['eid'].nunique()\n",
        "\n",
        "print(\n",
        "  '14. Number of students reported in Question 12 who were'\n",
        "  '\\n   still enrolled in Other Computing majors in the current term'\n",
        "  '\\n\\n{}'\n",
        "  '\\n\\nTotal: {}'.format(count_gender, count_total)\n",
        ")"
      ]
    },
    {
      "cell_type": "code",
      "execution_count": null,
      "metadata": {
        "colab": {
          "base_uri": "https://localhost:8080/"
        },
        "id": "Ghgn24KStzBl",
        "outputId": "215b9256-65e1-42f0-c75c-c9a3d40d629c"
      },
      "outputs": [
        {
          "output_type": "stream",
          "name": "stdout",
          "text": [
            "15. Number of students reported in Question 12\n",
            "   who were enrolled as Computer Science majors in the current term\n",
            "\n",
            "Series([], Name: eid, dtype: int64)\n",
            "\n",
            "Total: 0\n"
          ]
        }
      ],
      "source": [
        "#### 15. Number of students reported in Question 12\n",
        "####     who were enrolled as Computer Science majors in the current term\n",
        "\n",
        "## search flags\n",
        "searchFlags_prev = (semester_sp21) & (major_othercomp)\n",
        "searchFlags_curr = (semester_fl21) & (major_compsc)\n",
        "\n",
        "## true/false dataframe: shows which [COMPSC-BS] students in the current term\n",
        "##   are from the set of students reported in question 12\n",
        "bools = df[searchFlags_curr]['eid'].isin(df.loc[searchFlags_prev]['eid'])\n",
        "\n",
        "## number of records that meet search criteria\n",
        "count_gender = df[searchFlags_curr][bools.values].groupby('gender')['eid'].nunique()\n",
        "count_total = df[searchFlags_curr][bools.values]['eid'].nunique()\n",
        "\n",
        "print(\n",
        "  '15. Number of students reported in Question 12'\n",
        "  '\\n   who were enrolled as Computer Science majors in the current term'\n",
        "  '\\n\\n{}'\n",
        "  '\\n\\nTotal: {}'.format(count_gender, count_total)\n",
        ")"
      ]
    },
    {
      "cell_type": "code",
      "execution_count": null,
      "metadata": {
        "colab": {
          "base_uri": "https://localhost:8080/"
        },
        "id": "na-bck6VtzBm",
        "outputId": "340ed25a-18bc-4810-9d0d-ac3f04603728"
      },
      "outputs": [
        {
          "output_type": "stream",
          "name": "stdout",
          "text": [
            "16. Number of students reported in Question 12\n",
            "   who were enrolled in any Non-Computing major in the current term\n",
            "\n",
            "Series([], Name: eid, dtype: int64)\n",
            "\n",
            "Total: 0\n"
          ]
        }
      ],
      "source": [
        "#### 16. Number of students reported in Question 12\n",
        "####     who were enrolled in any Non-Computing major in the current term\n",
        "\n",
        "## search flags\n",
        "searchFlags_prev = (semester_sp21) & (major_othercomp)\n",
        "searchFlags_curr = (semester_fl21) & (major_noncomp)\n",
        "\n",
        "## true/false dataframe: shows which non-computing students in the current term\n",
        "##   are from the set of students reported in question 2\n",
        "bools = df[searchFlags_curr]['eid'].isin(df.loc[searchFlags_prev]['eid'])\n",
        "\n",
        "## number of records that meet search criteria\n",
        "count_gender = df[searchFlags_curr][bools.values].groupby('gender')['eid'].nunique()\n",
        "count_total = df[searchFlags_curr][bools.values]['eid'].nunique()\n",
        "\n",
        "print(\n",
        "  '16. Number of students reported in Question 12'\n",
        "  '\\n   who were enrolled in any Non-Computing major in the current term'\n",
        "  '\\n\\n{}'\n",
        "  '\\n\\nTotal: {}'.format(count_gender, count_total)\n",
        ")"
      ]
    },
    {
      "cell_type": "code",
      "execution_count": null,
      "metadata": {
        "colab": {
          "base_uri": "https://localhost:8080/"
        },
        "id": "XlvwDb02tzBo",
        "outputId": "670c2c3f-187d-446d-ea25-bff030500201"
      },
      "outputs": [
        {
          "output_type": "stream",
          "name": "stdout",
          "text": [
            "18. Total number of new Other Computing majors this term\n",
            "\n",
            "gender\n",
            "F    16\n",
            "M    25\n",
            "Name: eid, dtype: int64\n",
            "\n",
            "Total: 41\n"
          ]
        }
      ],
      "source": [
        "#### 18. Total number of new Other Computing majors this term\n",
        "\n",
        "## search flags\n",
        "searchFlags_prev = (semester_sp21) & (major_othercomp)\n",
        "searchFlags_curr = (semester_fl21) & (major_othercomp)\n",
        "\n",
        "## true/false dataframe: shows which students in the current term\n",
        "##   were not other computing majors in the previous term\n",
        "bools = ~df[searchFlags_curr]['eid'].isin(df.loc[searchFlags_prev]['eid'])\n",
        "\n",
        "## number of records that meet search criteria\n",
        "count_gender = df[searchFlags_curr][bools.values].groupby('gender')['eid'].nunique()\n",
        "count_total = df[searchFlags_curr][bools.values]['eid'].nunique()\n",
        "\n",
        "print(\n",
        "  '18. Total number of new Other Computing majors this term'\n",
        "  '\\n\\n{}'\n",
        "  '\\n\\nTotal: {}'.format(count_gender, count_total)\n",
        ")"
      ]
    },
    {
      "cell_type": "code",
      "execution_count": null,
      "metadata": {
        "colab": {
          "base_uri": "https://localhost:8080/"
        },
        "id": "pH9ne7_xtzBp",
        "outputId": "39e52931-0e0e-4ccb-c424-d73ebda26073"
      },
      "outputs": [
        {
          "output_type": "stream",
          "name": "stdout",
          "text": [
            "19. Number of new majors reported in Question 18 who were not transfer\n",
            "   students (internal or external) and declared a major for the first time\n",
            "\n",
            "Series([], Name: eid, dtype: int64)\n",
            "\n",
            "Total: 0\n"
          ]
        }
      ],
      "source": [
        "#### 19. Number of new majors reported in Question 18 who were not transfer\n",
        "####    students (internal or external) and declared a major for the first time\n",
        "\n",
        "## search flags\n",
        "searchFlags_prev = (semester_sp21) & (major_undecl)\n",
        "searchFlags_curr = (semester_fl21) & (major_othercomp) & (admission_notTransfer)\n",
        "\n",
        "## true/false dataframe: shows which students in the current term\n",
        "##   were undeclared in the previous term\n",
        "bools = df[searchFlags_curr]['eid'].isin(df.loc[searchFlags_prev]['eid'])\n",
        "\n",
        "## number of records that meet search criteria\n",
        "count_gender = df[searchFlags_curr][bools.values].groupby('gender')['eid'].nunique()\n",
        "count_total = df[searchFlags_curr][bools.values]['eid'].nunique()\n",
        "\n",
        "print(\n",
        "  '19. Number of new majors reported in Question 18 who were not transfer'\n",
        "  '\\n   students (internal or external) and declared a major for the first time'\n",
        "  '\\n\\n{}'\n",
        "  '\\n\\nTotal: {}'.format(count_gender, count_total)\n",
        ")"
      ]
    },
    {
      "cell_type": "code",
      "execution_count": null,
      "metadata": {
        "colab": {
          "base_uri": "https://localhost:8080/"
        },
        "id": "VdTIUu-FtzBp",
        "outputId": "3b7a2d02-01d3-4436-d9f1-76aaf5613041"
      },
      "outputs": [
        {
          "output_type": "stream",
          "name": "stdout",
          "text": [
            "20. Number of new majors reported in Question 18 who transferred internally\n",
            "   from another degree program at your institution.\n",
            "\n",
            "Series([], Name: eid, dtype: int64)\n",
            "\n",
            "Total: 0\n"
          ]
        }
      ],
      "source": [
        "#### 20. Number of new majors reported in Question 18 who transferred internally\n",
        "####     from another unit or degree program at your institution.\n",
        "\n",
        "## search flags\n",
        "searchFlags_prev = (semester_sp21) & (major_compsc) & (major_noncomp)\n",
        "searchFlags_curr = (semester_fl21) & (major_othercomp)\n",
        "\n",
        "## true/false dataframe: shows which students in the current term\n",
        "##   changed major from one that was held in the previous term\n",
        "bools = df[searchFlags_curr]['eid'].isin(df.loc[searchFlags_prev]['eid'])\n",
        "\n",
        "## number of records that meet search criteria\n",
        "count_gender = df[searchFlags_curr][bools.values].groupby('gender')['eid'].nunique()\n",
        "count_total = df[searchFlags_curr][bools.values]['eid'].nunique()\n",
        "\n",
        "print(\n",
        "  '20. Number of new majors reported in Question 18 who transferred internally'\n",
        "  '\\n   from another degree program at your institution.'\n",
        "  '\\n\\n{}'\n",
        "  '\\n\\nTotal: {}'.format(count_gender, count_total)\n",
        ")"
      ]
    },
    {
      "cell_type": "code",
      "execution_count": null,
      "metadata": {
        "colab": {
          "base_uri": "https://localhost:8080/"
        },
        "id": "lw22yHQdtzBq",
        "outputId": "eec9c905-7ca9-4b6f-a10a-3ce6bba9c0fb"
      },
      "outputs": [
        {
          "output_type": "stream",
          "name": "stdout",
          "text": [
            "21. Number of new majors reported in Question 18 who\n",
            "    transferred externally from another institution.\n",
            "\n",
            "Series([], Name: eid, dtype: int64)\n",
            "\n",
            "Total: 0\n"
          ]
        }
      ],
      "source": [
        "#### 21. Number of new majors reported in Question 18 who\n",
        "####     transferred externally from another institution.\n",
        "\n",
        "## search flags\n",
        "searchFlags_prev = (semester_sp21)\n",
        "searchFlags_curr = (semester_fl21) & (major_othercomp) & (admission_transfer)\n",
        "\n",
        "## true/false dataframe: shows which students in the current term\n",
        "##   were not registered for the previous term\n",
        "bools = ~df[searchFlags_curr]['eid'].isin(df.loc[searchFlags_prev]['eid'])\n",
        "\n",
        "## number of records that meet search criteria\n",
        "count_gender = df[searchFlags_curr][bools.values].groupby('gender')['eid'].nunique()\n",
        "count_total = df[searchFlags_curr][bools.values]['eid'].nunique()\n",
        "\n",
        "print(\n",
        "  '21. Number of new majors reported in Question 18 who'\n",
        "  '\\n    transferred externally from another institution.'\n",
        "  '\\n\\n{}'\n",
        "  '\\n\\nTotal: {}'.format(count_gender, count_total)\n",
        ")"
      ]
    },
    {
      "cell_type": "markdown",
      "metadata": {
        "id": "-4eflgU-JYrc"
      },
      "source": [
        "## SP-22"
      ]
    },
    {
      "cell_type": "code",
      "source": [
        "#### Number of Other Computing and Computer Science majors\n",
        "\n",
        "searchFlags_compsc = (semester_sp22) & (major_compsc)\n",
        "count_gender_compsc = df.loc[searchFlags_compsc].groupby('gender')['eid'].nunique()\n",
        "count_total_compsc = df.loc[searchFlags_compsc]['eid'].nunique()\n",
        "\n",
        "searchFlags_other = (semester_sp22) & (major_othercomp)\n",
        "count_gender_other = df.loc[searchFlags_other].groupby('gender')['eid'].nunique()\n",
        "count_total_other = df.loc[searchFlags_other]['eid'].nunique()\n",
        "\n",
        "print(\n",
        "  '----Spring 2022----\\n\\n'\n",
        "  '--Computer Science majors enrolled'\n",
        "  '\\n\\n{}'  '\\n\\n'  'Total: {}'  '\\n\\n\\n'\n",
        "  '--Other Computing majors enrolled'\n",
        "  '\\n\\n{}'  '\\n\\n'  'Total: {}'.format(\n",
        "      count_gender_compsc, count_total_compsc,\n",
        "      count_gender_other, count_total_other\n",
        "      )\n",
        ")"
      ],
      "metadata": {
        "colab": {
          "base_uri": "https://localhost:8080/"
        },
        "outputId": "dd3c4911-347e-44b1-82da-89227b1cd839",
        "id": "ecrJlKo6YRuI"
      },
      "execution_count": null,
      "outputs": [
        {
          "output_type": "stream",
          "name": "stdout",
          "text": [
            "----Spring 2022----\n",
            "\n",
            "--Computer Science majors enrolled\n",
            "\n",
            "gender\n",
            "F     77\n",
            "M    306\n",
            "T      2\n",
            "Name: eid, dtype: int64\n",
            "\n",
            "Total: 385\n",
            "\n",
            "\n",
            "--Other Computing majors enrolled\n",
            "\n",
            "gender\n",
            "F    18\n",
            "M    41\n",
            "Name: eid, dtype: int64\n",
            "\n",
            "Total: 59\n"
          ]
        }
      ]
    },
    {
      "cell_type": "code",
      "execution_count": null,
      "metadata": {
        "colab": {
          "base_uri": "https://localhost:8080/"
        },
        "outputId": "5b777d30-4e5d-4f27-e4be-a9cf6070ec0b",
        "id": "2TBHwpDRJYrd"
      },
      "outputs": [
        {
          "output_type": "stream",
          "name": "stdout",
          "text": [
            "2. Number of declared Computer Science majors enrolled at\n",
            "   your institution in the previous term\n",
            "\n",
            "gender\n",
            "F     79\n",
            "M    328\n",
            "T      2\n",
            "Name: eid, dtype: int64\n",
            "\n",
            "Total: 409\n"
          ]
        }
      ],
      "source": [
        "#### 2. Number of declared Computer Science majors enrolled at\n",
        "####    your institution in the previous term\n",
        "\n",
        "## number of records that meet search criteria\n",
        "searchFlags = (semester_fl21) & (major_compsc)\n",
        "count_gender = df.loc[searchFlags].groupby('gender')['eid'].nunique()\n",
        "count_total = df.loc[searchFlags]['eid'].nunique()\n",
        "\n",
        "print(\n",
        "  '2. Number of declared Computer Science majors enrolled at'\n",
        "  '\\n   your institution in the previous term'\n",
        "  '\\n\\n{}'\n",
        "  '\\n\\nTotal: {}'.format(count_gender, count_total)\n",
        ")"
      ]
    },
    {
      "cell_type": "code",
      "execution_count": null,
      "metadata": {
        "colab": {
          "base_uri": "https://localhost:8080/"
        },
        "outputId": "65642ed5-4ade-4a66-f2bb-894f73df189c",
        "id": "7LIvDTAwJYre"
      },
      "outputs": [
        {
          "output_type": "stream",
          "name": "stdout",
          "text": [
            "4. Number of students reported in Question 2 who were still enrolled\n",
            "   as Computer Science majors in the current term\n",
            "\n",
            "gender\n",
            "F     42\n",
            "M    177\n",
            "T      2\n",
            "Name: eid, dtype: int64\n",
            "\n",
            "Total: 221\n"
          ]
        }
      ],
      "source": [
        "#### 4. Number of students reported in Question 2 who were still enrolled\n",
        "####    as Computer Science majors in the current term\n",
        "\n",
        "## search flags\n",
        "searchFlags_prev = (semester_fl21) & (major_compsc)\n",
        "searchFlags_curr = (semester_sp22) & (major_compsc)\n",
        "\n",
        "## true/false dataframe: shows which students in the current term\n",
        "##   are from the set of students reported in question 2\n",
        "bools = df[searchFlags_curr]['eid'].isin(df.loc[searchFlags_prev]['eid'])\n",
        "\n",
        "## number of records that meet search criteria\n",
        "count_gender = df[searchFlags_curr][bools.values].groupby('gender')['eid'].nunique()\n",
        "count_total = df[searchFlags_curr][bools.values]['eid'].nunique()\n",
        "\n",
        "print(\n",
        "  '4. Number of students reported in Question 2 who were still enrolled'\n",
        "  '\\n   as Computer Science majors in the current term'\n",
        "  '\\n\\n{}'\n",
        "  '\\n\\nTotal: {}'.format(count_gender, count_total)\n",
        ")"
      ]
    },
    {
      "cell_type": "code",
      "execution_count": null,
      "metadata": {
        "colab": {
          "base_uri": "https://localhost:8080/"
        },
        "outputId": "84d5a9ba-b2a3-4412-d463-b2caebc5bfff",
        "id": "XGib63QNJYre"
      },
      "outputs": [
        {
          "output_type": "stream",
          "name": "stdout",
          "text": [
            "5. Number of students reported in Question 2 who were enrolled in\n",
            "   an Other Computing major in the current term\n",
            "\n",
            "Series([], Name: eid, dtype: int64)\n",
            "\n",
            "Total: 0\n"
          ]
        }
      ],
      "source": [
        "#### 5. Number of students reported in Question 2 who were enrolled in\n",
        "####    an Other Computing major in the current term\n",
        "\n",
        "## search flags\n",
        "searchFlags_prev = (semester_fl21) & (major_compsc)\n",
        "searchFlags_curr = (semester_sp22) & (major_othercomp)\n",
        "\n",
        "## true/false dataframe: shows which students in the current term\n",
        "##   are from the set of students reported in question 2\n",
        "bools = df[searchFlags_curr]['eid'].isin(df.loc[searchFlags_prev]['eid'])\n",
        "\n",
        "## number of records that meet search criteria\n",
        "count_gender = df[searchFlags_curr][bools.values].groupby('gender')['eid'].nunique()\n",
        "count_total = df[searchFlags_curr][bools.values]['eid'].nunique()\n",
        "\n",
        "print(\n",
        "  '5. Number of students reported in Question 2 who were enrolled in'\n",
        "  '\\n   an Other Computing major in the current term'\n",
        "  '\\n\\n{}'\n",
        "  '\\n\\nTotal: {}'.format(count_gender, count_total)\n",
        ")"
      ]
    },
    {
      "cell_type": "code",
      "execution_count": null,
      "metadata": {
        "colab": {
          "base_uri": "https://localhost:8080/"
        },
        "outputId": "c2bdff84-4df4-4c0f-c2b2-743607116d2a",
        "id": "9Fvs8SzxJYrf"
      },
      "outputs": [
        {
          "output_type": "stream",
          "name": "stdout",
          "text": [
            "6. Number of students reported in Question 2 who were enrolled in\n",
            "   any Non-Computing major in the current term\n",
            "\n",
            "Series([], Name: eid, dtype: int64)\n",
            "\n",
            "Total: 0\n"
          ]
        }
      ],
      "source": [
        "#### 6. Number of students reported in Question 2 who were enrolled in\n",
        "####    any Non-Computing major in the current term\n",
        "\n",
        "## search flags\n",
        "searchFlags_prev = (semester_fl21) & (major_compsc)\n",
        "searchFlags_curr = (semester_sp22) & (major_noncomp)\n",
        "\n",
        "## true/false dataframe: shows which students in the current term\n",
        "##   are from the set of students reported in question 2\n",
        "bools = df[searchFlags_curr]['eid'].isin(df.loc[searchFlags_prev]['eid'])\n",
        "\n",
        "## number of records that meet search criteria\n",
        "count_gender = df[searchFlags_curr][bools.values].groupby('gender')['eid'].nunique()\n",
        "count_total = df[searchFlags_curr][bools.values]['eid'].nunique()\n",
        "\n",
        "print(\n",
        "  '6. Number of students reported in Question 2 who were enrolled in'\n",
        "  '\\n   any Non-Computing major in the current term'\n",
        "  '\\n\\n{}'\n",
        "  '\\n\\nTotal: {}'.format(count_gender, count_total)\n",
        ")"
      ]
    },
    {
      "cell_type": "code",
      "execution_count": null,
      "metadata": {
        "colab": {
          "base_uri": "https://localhost:8080/"
        },
        "outputId": "476b816f-c988-4bf7-c1fd-aa86c9c387b5",
        "id": "frvi6xSXJYrg"
      },
      "outputs": [
        {
          "output_type": "stream",
          "name": "stdout",
          "text": [
            "8. Total number of new Computer Science majors this academic term\n",
            "\n",
            "gender\n",
            "F     35\n",
            "M    129\n",
            "Name: eid, dtype: int64\n",
            "\n",
            "Total: 164\n"
          ]
        }
      ],
      "source": [
        "#### 8. Total number of new Computer Science majors this academic term\n",
        "\n",
        "## search flags\n",
        "searchFlags_prev = (semester_fl21) & (major_compsc)\n",
        "searchFlags_curr = (semester_sp22) & (major_compsc)\n",
        "\n",
        "## true/false dataframe: shows which students in the current term\n",
        "##   were not CS majors in the previous term\n",
        "bools = ~df[searchFlags_curr]['eid'].isin(df.loc[searchFlags_prev]['eid'])\n",
        "\n",
        "## number of records that meet search criteria\n",
        "count_gender = df[searchFlags_curr][bools.values].groupby('gender')['eid'].nunique()\n",
        "count_total = df[searchFlags_curr][bools.values]['eid'].nunique()\n",
        "\n",
        "print(\n",
        "  '8. Total number of new Computer Science majors this academic term'\n",
        "  '\\n\\n{}'\n",
        "  '\\n\\nTotal: {}'.format(count_gender, count_total)\n",
        ")"
      ]
    },
    {
      "cell_type": "code",
      "execution_count": null,
      "metadata": {
        "colab": {
          "base_uri": "https://localhost:8080/"
        },
        "outputId": "b4410270-71a6-4305-fdf5-474dd04dd3ec",
        "id": "VIaPADoLJYrg"
      },
      "outputs": [
        {
          "output_type": "stream",
          "name": "stdout",
          "text": [
            "9. Number of new majors reported in Question 8 who were not transfer\n",
            "   students (internal or external) and declared a major for the first time\n",
            "\n",
            "gender\n",
            "F    1\n",
            "Name: eid, dtype: int64\n",
            "\n",
            "Total: 1\n"
          ]
        }
      ],
      "source": [
        "#### 9. Number of new majors reported in Question 8 who were not transfer\n",
        "####    students (internal or external) and declared a major for the first time\n",
        "\n",
        "## search flags\n",
        "searchFlags_prev = (semester_fl21) & (major_undecl)\n",
        "searchFlags_curr = (semester_sp22) & (major_compsc) & (admission_notTransfer)\n",
        "\n",
        "## true/false dataframe: shows which students in the current term\n",
        "##   were undeclared in the previous term\n",
        "bools = df[searchFlags_curr]['eid'].isin(df.loc[searchFlags_prev]['eid'])\n",
        "\n",
        "## number of records that meet search criteria\n",
        "count_gender = df[searchFlags_curr][bools.values].groupby('gender')['eid'].nunique()\n",
        "count_total = df[searchFlags_curr][bools.values]['eid'].nunique()\n",
        "\n",
        "print(\n",
        "  '9. Number of new majors reported in Question 8 who were not transfer'\n",
        "  '\\n   students (internal or external) and declared a major for the first time'\n",
        "  '\\n\\n{}'\n",
        "  '\\n\\nTotal: {}'.format(count_gender, count_total)\n",
        ")"
      ]
    },
    {
      "cell_type": "code",
      "execution_count": null,
      "metadata": {
        "colab": {
          "base_uri": "https://localhost:8080/"
        },
        "outputId": "87fd1773-c057-4a20-f219-4b175576f5c8",
        "id": "ab56devDJYri"
      },
      "outputs": [
        {
          "output_type": "stream",
          "name": "stdout",
          "text": [
            "10. Number of new majors reported in Question 8 who transferred internally\n",
            "   from another degree program at your institution.\n",
            "\n",
            "Series([], Name: eid, dtype: int64)\n",
            "\n",
            "Total: 0\n"
          ]
        }
      ],
      "source": [
        "#### 10. Number of new majors reported in Question 8 who transferred internally\n",
        "####     from another degree program at your institution.\n",
        "\n",
        "## search flags\n",
        "searchFlags_prev = (semester_fl21) & (major_othercomp) & (major_noncomp)\n",
        "searchFlags_curr = (semester_sp22) & (major_compsc)\n",
        "\n",
        "## true/false dataframe: shows which students in the current term\n",
        "##   changed major from one that was held in the previous term\n",
        "bools = df[searchFlags_curr]['eid'].isin(df.loc[searchFlags_prev]['eid'])\n",
        "\n",
        "## number of records that meet search criteria\n",
        "count_gender = df[searchFlags_curr][bools.values].groupby('gender')['eid'].nunique()\n",
        "count_total = df[searchFlags_curr][bools.values]['eid'].nunique()\n",
        "\n",
        "print(\n",
        "  '10. Number of new majors reported in Question 8 who transferred internally'\n",
        "  '\\n   from another degree program at your institution.'\n",
        "  '\\n\\n{}'\n",
        "  '\\n\\nTotal: {}'.format(count_gender, count_total)\n",
        ")"
      ]
    },
    {
      "cell_type": "code",
      "execution_count": null,
      "metadata": {
        "colab": {
          "base_uri": "https://localhost:8080/"
        },
        "outputId": "b951d433-8b03-4795-81b3-1e350a175ebe",
        "id": "P03atPBbJYri"
      },
      "outputs": [
        {
          "output_type": "stream",
          "name": "stdout",
          "text": [
            "11. Number of new majors reported in Question 8 who\n",
            "    transferred externally from another institution.\n",
            "\n",
            "Series([], Name: eid, dtype: int64)\n",
            "\n",
            "Total: 0\n"
          ]
        }
      ],
      "source": [
        "#### 11. Number of new majors reported in Question 8 who\n",
        "####     transferred externally from another institution.\n",
        "\n",
        "## search flags\n",
        "searchFlags_prev = (semester_fl21)\n",
        "searchFlags_curr = (semester_sp22) & (major_compsc) & (admission_transfer)\n",
        "\n",
        "## true/false dataframe: shows which students in the current term\n",
        "##   were not registered for the previous term\n",
        "bools = ~df[searchFlags_curr]['eid'].isin(df.loc[searchFlags_prev]['eid'])\n",
        "\n",
        "## number of records that meet search criteria\n",
        "count_gender = df[searchFlags_curr][bools.values].groupby('gender')['eid'].nunique()\n",
        "count_total = df[searchFlags_curr][bools.values]['eid'].nunique()\n",
        "\n",
        "print(\n",
        "  '11. Number of new majors reported in Question 8 who'\n",
        "  '\\n    transferred externally from another institution.'\n",
        "  '\\n\\n{}'\n",
        "  '\\n\\nTotal: {}'.format(count_gender, count_total)\n",
        ")"
      ]
    },
    {
      "cell_type": "code",
      "execution_count": null,
      "metadata": {
        "colab": {
          "base_uri": "https://localhost:8080/"
        },
        "outputId": "9fe1cb9f-8be8-4aea-eae8-6cee485a0b21",
        "id": "a7AwTcfFJYri"
      },
      "outputs": [
        {
          "output_type": "stream",
          "name": "stdout",
          "text": [
            "12. Number of Other Computing majors enrolled\n",
            "   at your institution in the previous term\n",
            "\n",
            "gender\n",
            "F    26\n",
            "M    51\n",
            "Name: eid, dtype: int64\n",
            "\n",
            "Total: 77\n"
          ]
        }
      ],
      "source": [
        "#### 12. Number of Other Computing majors enrolled\n",
        "####     at your institution in the previous term \n",
        "\n",
        "## search flags\n",
        "searchFlags = (semester_fl21) & (major_othercomp)\n",
        "\n",
        "## number of records that meet search criteria\n",
        "count_gender = df[searchFlags].groupby('gender')['eid'].nunique()\n",
        "count_total = df[searchFlags]['eid'].nunique()\n",
        "\n",
        "print(\n",
        "  '12. Number of Other Computing majors enrolled'\n",
        "  '\\n   at your institution in the previous term'\n",
        "  '\\n\\n{}'\n",
        "  '\\n\\nTotal: {}'.format(count_gender, count_total)\n",
        ")"
      ]
    },
    {
      "cell_type": "code",
      "execution_count": null,
      "metadata": {
        "colab": {
          "base_uri": "https://localhost:8080/"
        },
        "outputId": "8cd1b8c9-5595-460c-facc-3896380cfe57",
        "id": "bPmFVynCJYrj"
      },
      "outputs": [
        {
          "output_type": "stream",
          "name": "stdout",
          "text": [
            "14. Number of students reported in Question 12 who were\n",
            "   still enrolled in Other Computing majors in the current term\n",
            "\n",
            "gender\n",
            "F     9\n",
            "M    20\n",
            "Name: eid, dtype: int64\n",
            "\n",
            "Total: 29\n"
          ]
        }
      ],
      "source": [
        "#### 14. Number of students reported in Question 12 who were\n",
        "####     still enrolled in Other Computing majors in the current term\n",
        "\n",
        "## search flags\n",
        "searchFlags_prev = (semester_fl21) & (major_othercomp)\n",
        "searchFlags_curr = (semester_sp22) & (major_othercomp)\n",
        "\n",
        "## true/false dataframe: shows which students in the current term\n",
        "##   had the same major in the previous term\n",
        "bools = df[searchFlags_curr]['eid'].isin(df.loc[searchFlags_prev]['eid'])\n",
        "\n",
        "## number of records that meet search criteria\n",
        "count_gender = df[searchFlags_curr][bools.values].groupby('gender')['eid'].nunique()\n",
        "count_total = df[searchFlags_curr][bools.values]['eid'].nunique()\n",
        "\n",
        "print(\n",
        "  '14. Number of students reported in Question 12 who were'\n",
        "  '\\n   still enrolled in Other Computing majors in the current term'\n",
        "  '\\n\\n{}'\n",
        "  '\\n\\nTotal: {}'.format(count_gender, count_total)\n",
        ")"
      ]
    },
    {
      "cell_type": "code",
      "execution_count": null,
      "metadata": {
        "colab": {
          "base_uri": "https://localhost:8080/"
        },
        "outputId": "8d518246-da82-4b50-cac6-3e5623908a54",
        "id": "dXw3ilHJJYrk"
      },
      "outputs": [
        {
          "output_type": "stream",
          "name": "stdout",
          "text": [
            "15. Number of students reported in Question 12\n",
            "   who were enrolled as Computer Science majors in the current term\n",
            "\n",
            "Series([], Name: eid, dtype: int64)\n",
            "\n",
            "Total: 0\n"
          ]
        }
      ],
      "source": [
        "#### 15. Number of students reported in Question 12\n",
        "####     who were enrolled as Computer Science majors in the current term\n",
        "\n",
        "## search flags\n",
        "searchFlags_prev = (semester_fl21) & (major_othercomp)\n",
        "searchFlags_curr = (semester_sp22) & (major_compsc)\n",
        "\n",
        "## true/false dataframe: shows which [COMPSC-BS] students in the current term\n",
        "##   are from the set of students reported in question 12\n",
        "bools = df[searchFlags_curr]['eid'].isin(df.loc[searchFlags_prev]['eid'])\n",
        "\n",
        "## number of records that meet search criteria\n",
        "count_gender = df[searchFlags_curr][bools.values].groupby('gender')['eid'].nunique()\n",
        "count_total = df[searchFlags_curr][bools.values]['eid'].nunique()\n",
        "\n",
        "print(\n",
        "  '15. Number of students reported in Question 12'\n",
        "  '\\n   who were enrolled as Computer Science majors in the current term'\n",
        "  '\\n\\n{}'\n",
        "  '\\n\\nTotal: {}'.format(count_gender, count_total)\n",
        ")"
      ]
    },
    {
      "cell_type": "code",
      "execution_count": null,
      "metadata": {
        "colab": {
          "base_uri": "https://localhost:8080/"
        },
        "outputId": "1b7cfd76-e0b8-47fa-a292-def2551baf29",
        "id": "in8M_6N-JYrk"
      },
      "outputs": [
        {
          "output_type": "stream",
          "name": "stdout",
          "text": [
            "16. Number of students reported in Question 12\n",
            "   who were enrolled in any Non-Computing major in the current term\n",
            "\n",
            "Series([], Name: eid, dtype: int64)\n",
            "\n",
            "Total: 0\n"
          ]
        }
      ],
      "source": [
        "#### 16. Number of students reported in Question 12\n",
        "####     who were enrolled in any Non-Computing major in the current term\n",
        "\n",
        "## search flags\n",
        "searchFlags_prev = (semester_fl21) & (major_othercomp)\n",
        "searchFlags_curr = (semester_sp22) & (major_noncomp)\n",
        "\n",
        "## true/false dataframe: shows which non-computing students in the current term\n",
        "##   are from the set of students reported in question 2\n",
        "bools = df[searchFlags_curr]['eid'].isin(df.loc[searchFlags_prev]['eid'])\n",
        "\n",
        "## number of records that meet search criteria\n",
        "count_gender = df[searchFlags_curr][bools.values].groupby('gender')['eid'].nunique()\n",
        "count_total = df[searchFlags_curr][bools.values]['eid'].nunique()\n",
        "\n",
        "print(\n",
        "  '16. Number of students reported in Question 12'\n",
        "  '\\n   who were enrolled in any Non-Computing major in the current term'\n",
        "  '\\n\\n{}'\n",
        "  '\\n\\nTotal: {}'.format(count_gender, count_total)\n",
        ")"
      ]
    },
    {
      "cell_type": "code",
      "execution_count": null,
      "metadata": {
        "colab": {
          "base_uri": "https://localhost:8080/"
        },
        "outputId": "673b213a-2ea3-4e84-bd5b-0e30e1c6485b",
        "id": "djDwdmYVJYrk"
      },
      "outputs": [
        {
          "output_type": "stream",
          "name": "stdout",
          "text": [
            "18. Total number of new Other Computing majors this term\n",
            "\n",
            "gender\n",
            "F     9\n",
            "M    21\n",
            "Name: eid, dtype: int64\n",
            "\n",
            "Total: 30\n"
          ]
        }
      ],
      "source": [
        "#### 18. Total number of new Other Computing majors this term\n",
        "\n",
        "## search flags\n",
        "searchFlags_prev = (semester_fl21) & (major_othercomp)\n",
        "searchFlags_curr = (semester_sp22) & (major_othercomp)\n",
        "\n",
        "## true/false dataframe: shows which students in the current term\n",
        "##   were not other computing majors in the previous term\n",
        "bools = ~df[searchFlags_curr]['eid'].isin(df.loc[searchFlags_prev]['eid'])\n",
        "\n",
        "## number of records that meet search criteria\n",
        "count_gender = df[searchFlags_curr][bools.values].groupby('gender')['eid'].nunique()\n",
        "count_total = df[searchFlags_curr][bools.values]['eid'].nunique()\n",
        "\n",
        "print(\n",
        "  '18. Total number of new Other Computing majors this term'\n",
        "  '\\n\\n{}'\n",
        "  '\\n\\nTotal: {}'.format(count_gender, count_total)\n",
        ")"
      ]
    },
    {
      "cell_type": "code",
      "execution_count": null,
      "metadata": {
        "colab": {
          "base_uri": "https://localhost:8080/"
        },
        "outputId": "762e2748-6998-498f-862b-ac7293d407e8",
        "id": "Ytne2v4dJYrl"
      },
      "outputs": [
        {
          "output_type": "stream",
          "name": "stdout",
          "text": [
            "19. Number of new majors reported in Question 18 who were not transfer\n",
            "   students (internal or external) and declared a major for the first time\n",
            "\n",
            "Series([], Name: eid, dtype: int64)\n",
            "\n",
            "Total: 0\n"
          ]
        }
      ],
      "source": [
        "#### 19. Number of new majors reported in Question 18 who were not transfer\n",
        "####    students (internal or external) and declared a major for the first time\n",
        "\n",
        "## search flags\n",
        "searchFlags_prev = (semester_fl21) & (major_undecl)\n",
        "searchFlags_curr = (semester_sp22) & (major_othercomp) & (admission_notTransfer)\n",
        "\n",
        "## true/false dataframe: shows which students in the current term\n",
        "##   were undeclared in the previous term\n",
        "bools = df[searchFlags_curr]['eid'].isin(df.loc[searchFlags_prev]['eid'])\n",
        "\n",
        "## number of records that meet search criteria\n",
        "count_gender = df[searchFlags_curr][bools.values].groupby('gender')['eid'].nunique()\n",
        "count_total = df[searchFlags_curr][bools.values]['eid'].nunique()\n",
        "\n",
        "print(\n",
        "  '19. Number of new majors reported in Question 18 who were not transfer'\n",
        "  '\\n   students (internal or external) and declared a major for the first time'\n",
        "  '\\n\\n{}'\n",
        "  '\\n\\nTotal: {}'.format(count_gender, count_total)\n",
        ")"
      ]
    },
    {
      "cell_type": "code",
      "execution_count": null,
      "metadata": {
        "colab": {
          "base_uri": "https://localhost:8080/"
        },
        "outputId": "01557387-00af-47a5-e86d-cf737b5d58fd",
        "id": "djv1oLyeJYrl"
      },
      "outputs": [
        {
          "output_type": "stream",
          "name": "stdout",
          "text": [
            "20. Number of new majors reported in Question 18 who transferred internally\n",
            "   from another degree program at your institution.\n",
            "\n",
            "Series([], Name: eid, dtype: int64)\n",
            "\n",
            "Total: 0\n"
          ]
        }
      ],
      "source": [
        "#### 20. Number of new majors reported in Question 18 who transferred internally\n",
        "####     from another unit or degree program at your institution.\n",
        "\n",
        "## search flags\n",
        "searchFlags_prev = (semester_fl21) & (major_compsc) & (major_noncomp)\n",
        "searchFlags_curr = (semester_sp22) & (major_othercomp)\n",
        "\n",
        "## true/false dataframe: shows which students in the current term\n",
        "##   changed major from one that was held in the previous term\n",
        "bools = df[searchFlags_curr]['eid'].isin(df.loc[searchFlags_prev]['eid'])\n",
        "\n",
        "## number of records that meet search criteria\n",
        "count_gender = df[searchFlags_curr][bools.values].groupby('gender')['eid'].nunique()\n",
        "count_total = df[searchFlags_curr][bools.values]['eid'].nunique()\n",
        "\n",
        "print(\n",
        "  '20. Number of new majors reported in Question 18 who transferred internally'\n",
        "  '\\n   from another degree program at your institution.'\n",
        "  '\\n\\n{}'\n",
        "  '\\n\\nTotal: {}'.format(count_gender, count_total)\n",
        ")"
      ]
    },
    {
      "cell_type": "code",
      "execution_count": null,
      "metadata": {
        "colab": {
          "base_uri": "https://localhost:8080/"
        },
        "outputId": "881553d0-4099-406f-e58e-54bff969e5c0",
        "id": "BPAWtTxbJYrm"
      },
      "outputs": [
        {
          "output_type": "stream",
          "name": "stdout",
          "text": [
            "21. Number of new majors reported in Question 18 who\n",
            "    transferred externally from another institution.\n",
            "\n",
            "Series([], Name: eid, dtype: int64)\n",
            "\n",
            "Total: 0\n"
          ]
        }
      ],
      "source": [
        "#### 21. Number of new majors reported in Question 18 who\n",
        "####     transferred externally from another institution.\n",
        "\n",
        "## search flags\n",
        "searchFlags_prev = (semester_fl21)\n",
        "searchFlags_curr = (semester_sp22) & (major_othercomp) & (admission_transfer)\n",
        "\n",
        "## true/false dataframe: shows which students in the current term\n",
        "##   were not registered for the previous term\n",
        "bools = ~df[searchFlags_curr]['eid'].isin(df.loc[searchFlags_prev]['eid'])\n",
        "\n",
        "## number of records that meet search criteria\n",
        "count_gender = df[searchFlags_curr][bools.values].groupby('gender')['eid'].nunique()\n",
        "count_total = df[searchFlags_curr][bools.values]['eid'].nunique()\n",
        "\n",
        "print(\n",
        "  '21. Number of new majors reported in Question 18 who'\n",
        "  '\\n    transferred externally from another institution.'\n",
        "  '\\n\\n{}'\n",
        "  '\\n\\nTotal: {}'.format(count_gender, count_total)\n",
        ")"
      ]
    },
    {
      "cell_type": "markdown",
      "metadata": {
        "id": "sfVTL7pSMZk0"
      },
      "source": [
        "## FL-22"
      ]
    },
    {
      "cell_type": "code",
      "source": [
        "#### Number of Other Computing and Computer Science majors\n",
        "\n",
        "searchFlags_compsc = (semester_fl22) & (major_compsc)\n",
        "count_gender_compsc = df.loc[searchFlags_compsc].groupby('gender')['eid'].nunique()\n",
        "count_total_compsc = df.loc[searchFlags_compsc]['eid'].nunique()\n",
        "\n",
        "searchFlags_other = (semester_fl22) & (major_othercomp)\n",
        "count_gender_other = df.loc[searchFlags_other].groupby('gender')['eid'].nunique()\n",
        "count_total_other = df.loc[searchFlags_other]['eid'].nunique()\n",
        "\n",
        "print(\n",
        "  '----Fall 2022----\\n\\n'\n",
        "  '--Computer Science majors enrolled'\n",
        "  '\\n\\n{}'  '\\n\\n'  'Total: {}'  '\\n\\n\\n'\n",
        "  '--Other Computing majors enrolled'\n",
        "  '\\n\\n{}'  '\\n\\n'  'Total: {}'.format(\n",
        "      count_gender_compsc, count_total_compsc,\n",
        "      count_gender_other, count_total_other\n",
        "      )\n",
        ")"
      ],
      "metadata": {
        "colab": {
          "base_uri": "https://localhost:8080/"
        },
        "outputId": "0b3a5709-33e4-451b-f9df-93fd878b612a",
        "id": "SldO6TZ_ZVlX"
      },
      "execution_count": null,
      "outputs": [
        {
          "output_type": "stream",
          "name": "stdout",
          "text": [
            "----Fall 2022----\n",
            "\n",
            "--Computer Science majors enrolled\n",
            "\n",
            "gender\n",
            "F     85\n",
            "M    305\n",
            "T      1\n",
            "Name: eid, dtype: int64\n",
            "\n",
            "Total: 391\n",
            "\n",
            "\n",
            "--Other Computing majors enrolled\n",
            "\n",
            "gender\n",
            "F    18\n",
            "M    28\n",
            "U     1\n",
            "Name: eid, dtype: int64\n",
            "\n",
            "Total: 47\n"
          ]
        }
      ]
    },
    {
      "cell_type": "code",
      "execution_count": null,
      "metadata": {
        "colab": {
          "base_uri": "https://localhost:8080/"
        },
        "outputId": "f73d2074-366c-45e6-8f28-8799c594a489",
        "id": "b801vTVYMZk2"
      },
      "outputs": [
        {
          "output_type": "stream",
          "name": "stdout",
          "text": [
            "2. Number of declared Computer Science majors enrolled at\n",
            "   your institution in the previous term\n",
            "\n",
            "gender\n",
            "F     77\n",
            "M    306\n",
            "T      2\n",
            "Name: eid, dtype: int64\n",
            "\n",
            "Total: 385\n"
          ]
        }
      ],
      "source": [
        "#### 2. Number of declared Computer Science majors enrolled at\n",
        "####    your institution in the previous term\n",
        "\n",
        "## number of records that meet search criteria\n",
        "searchFlags = (semester_sp22) & (major_compsc)\n",
        "count_gender = df.loc[searchFlags].groupby('gender')['eid'].nunique()\n",
        "count_total = df.loc[searchFlags]['eid'].nunique()\n",
        "\n",
        "print(\n",
        "  '2. Number of declared Computer Science majors enrolled at'\n",
        "  '\\n   your institution in the previous term'\n",
        "  '\\n\\n{}'\n",
        "  '\\n\\nTotal: {}'.format(count_gender, count_total)\n",
        ")"
      ]
    },
    {
      "cell_type": "code",
      "execution_count": null,
      "metadata": {
        "colab": {
          "base_uri": "https://localhost:8080/"
        },
        "outputId": "bfe34695-dcde-4318-9f1a-524db807032f",
        "id": "oevGJIZeMZk2"
      },
      "outputs": [
        {
          "output_type": "stream",
          "name": "stdout",
          "text": [
            "4. Number of students reported in Question 2 who were still enrolled\n",
            "   as Computer Science majors in the current term\n",
            "\n",
            "gender\n",
            "F     35\n",
            "M    137\n",
            "T      1\n",
            "Name: eid, dtype: int64\n",
            "\n",
            "Total: 173\n"
          ]
        }
      ],
      "source": [
        "#### 4. Number of students reported in Question 2 who were still enrolled\n",
        "####    as Computer Science majors in the current term\n",
        "\n",
        "## search flags\n",
        "searchFlags_prev = (semester_sp22) & (major_compsc)\n",
        "searchFlags_curr = (semester_fl22) & (major_compsc)\n",
        "\n",
        "## true/false dataframe: shows which students in the current term\n",
        "##   are from the set of students reported in question 2\n",
        "bools = df[searchFlags_curr]['eid'].isin(df.loc[searchFlags_prev]['eid'])\n",
        "\n",
        "## number of records that meet search criteria\n",
        "count_gender = df[searchFlags_curr][bools.values].groupby('gender')['eid'].nunique()\n",
        "count_total = df[searchFlags_curr][bools.values]['eid'].nunique()\n",
        "\n",
        "print(\n",
        "  '4. Number of students reported in Question 2 who were still enrolled'\n",
        "  '\\n   as Computer Science majors in the current term'\n",
        "  '\\n\\n{}'\n",
        "  '\\n\\nTotal: {}'.format(count_gender, count_total)\n",
        ")"
      ]
    },
    {
      "cell_type": "code",
      "execution_count": null,
      "metadata": {
        "colab": {
          "base_uri": "https://localhost:8080/"
        },
        "outputId": "ae14f660-360c-4bbe-826a-e7cde89f2182",
        "id": "eRk514KjMZk3"
      },
      "outputs": [
        {
          "output_type": "stream",
          "name": "stdout",
          "text": [
            "5. Number of students reported in Question 2 who were enrolled in\n",
            "   an Other Computing major in the current term\n",
            "\n",
            "Series([], Name: eid, dtype: int64)\n",
            "\n",
            "Total: 0\n"
          ]
        }
      ],
      "source": [
        "#### 5. Number of students reported in Question 2 who were enrolled in\n",
        "####    an Other Computing major in the current term\n",
        "\n",
        "## search flags\n",
        "searchFlags_prev = (semester_sp22) & (major_compsc)\n",
        "searchFlags_curr = (semester_fl22) & (major_othercomp)\n",
        "\n",
        "## true/false dataframe: shows which students in the current term\n",
        "##   are from the set of students reported in question 2\n",
        "bools = df[searchFlags_curr]['eid'].isin(df.loc[searchFlags_prev]['eid'])\n",
        "\n",
        "## number of records that meet search criteria\n",
        "count_gender = df[searchFlags_curr][bools.values].groupby('gender')['eid'].nunique()\n",
        "count_total = df[searchFlags_curr][bools.values]['eid'].nunique()\n",
        "\n",
        "print(\n",
        "  '5. Number of students reported in Question 2 who were enrolled in'\n",
        "  '\\n   an Other Computing major in the current term'\n",
        "  '\\n\\n{}'\n",
        "  '\\n\\nTotal: {}'.format(count_gender, count_total)\n",
        ")"
      ]
    },
    {
      "cell_type": "code",
      "execution_count": null,
      "metadata": {
        "colab": {
          "base_uri": "https://localhost:8080/"
        },
        "outputId": "36f34f23-6547-46cb-a113-f17f5fe57640",
        "id": "Az0FMEJvMZk4"
      },
      "outputs": [
        {
          "output_type": "stream",
          "name": "stdout",
          "text": [
            "6. Number of students reported in Question 2 who were enrolled in\n",
            "   any Non-Computing major in the current term\n",
            "\n",
            "Series([], Name: eid, dtype: int64)\n",
            "\n",
            "Total: 0\n"
          ]
        }
      ],
      "source": [
        "#### 6. Number of students reported in Question 2 who were enrolled in\n",
        "####    any Non-Computing major in the current term\n",
        "\n",
        "## search flags\n",
        "searchFlags_prev = (semester_sp22) & (major_compsc)\n",
        "searchFlags_curr = (semester_fl22) & (major_noncomp)\n",
        "\n",
        "## true/false dataframe: shows which students in the current term\n",
        "##   are from the set of students reported in question 2\n",
        "bools = df[searchFlags_curr]['eid'].isin(df.loc[searchFlags_prev]['eid'])\n",
        "\n",
        "## number of records that meet search criteria\n",
        "count_gender = df[searchFlags_curr][bools.values].groupby('gender')['eid'].nunique()\n",
        "count_total = df[searchFlags_curr][bools.values]['eid'].nunique()\n",
        "\n",
        "print(\n",
        "  '6. Number of students reported in Question 2 who were enrolled in'\n",
        "  '\\n   any Non-Computing major in the current term'\n",
        "  '\\n\\n{}'\n",
        "  '\\n\\nTotal: {}'.format(count_gender, count_total)\n",
        ")"
      ]
    },
    {
      "cell_type": "code",
      "execution_count": null,
      "metadata": {
        "colab": {
          "base_uri": "https://localhost:8080/"
        },
        "outputId": "42525fda-41fb-4ae5-87e1-4a64ad718e6f",
        "id": "Mec_7wTxMZk5"
      },
      "outputs": [
        {
          "output_type": "stream",
          "name": "stdout",
          "text": [
            "8. Total number of new Computer Science majors this academic term\n",
            "\n",
            "gender\n",
            "F     50\n",
            "M    168\n",
            "Name: eid, dtype: int64\n",
            "\n",
            "Total: 218\n"
          ]
        }
      ],
      "source": [
        "#### 8. Total number of new Computer Science majors this academic term\n",
        "\n",
        "## search flags\n",
        "searchFlags_prev = (semester_sp22) & (major_compsc)\n",
        "searchFlags_curr = (semester_fl22) & (major_compsc)\n",
        "\n",
        "## true/false dataframe: shows which students in the current term\n",
        "##   were not CS majors in the previous term\n",
        "bools = ~df[searchFlags_curr]['eid'].isin(df.loc[searchFlags_prev]['eid'])\n",
        "\n",
        "## number of records that meet search criteria\n",
        "count_gender = df[searchFlags_curr][bools.values].groupby('gender')['eid'].nunique()\n",
        "count_total = df[searchFlags_curr][bools.values]['eid'].nunique()\n",
        "\n",
        "print(\n",
        "  '8. Total number of new Computer Science majors this academic term'\n",
        "  '\\n\\n{}'\n",
        "  '\\n\\nTotal: {}'.format(count_gender, count_total)\n",
        ")"
      ]
    },
    {
      "cell_type": "code",
      "execution_count": null,
      "metadata": {
        "colab": {
          "base_uri": "https://localhost:8080/"
        },
        "outputId": "f40c6bac-5a58-41b7-d271-7d1dd0365a52",
        "id": "AA5VYjBPMZk5"
      },
      "outputs": [
        {
          "output_type": "stream",
          "name": "stdout",
          "text": [
            "9. Number of new majors reported in Question 8 who were not transfer\n",
            "   students (internal or external) and declared a major for the first time\n",
            "\n",
            "Series([], Name: eid, dtype: int64)\n",
            "\n",
            "Total: 0\n"
          ]
        }
      ],
      "source": [
        "#### 9. Number of new majors reported in Question 8 who were not transfer\n",
        "####    students (internal or external) and declared a major for the first time\n",
        "\n",
        "## search flags\n",
        "searchFlags_prev = (semester_sp22) & (major_undecl)\n",
        "searchFlags_curr = (semester_fl22) & (major_compsc) & (admission_notTransfer)\n",
        "\n",
        "## true/false dataframe: shows which students in the current term\n",
        "##   were undeclared in the previous term\n",
        "bools = df[searchFlags_curr]['eid'].isin(df.loc[searchFlags_prev]['eid'])\n",
        "\n",
        "## number of records that meet search criteria\n",
        "count_gender = df[searchFlags_curr][bools.values].groupby('gender')['eid'].nunique()\n",
        "count_total = df[searchFlags_curr][bools.values]['eid'].nunique()\n",
        "\n",
        "print(\n",
        "  '9. Number of new majors reported in Question 8 who were not transfer'\n",
        "  '\\n   students (internal or external) and declared a major for the first time'\n",
        "  '\\n\\n{}'\n",
        "  '\\n\\nTotal: {}'.format(count_gender, count_total)\n",
        ")"
      ]
    },
    {
      "cell_type": "code",
      "execution_count": null,
      "metadata": {
        "colab": {
          "base_uri": "https://localhost:8080/"
        },
        "outputId": "b30e209f-9887-42cf-e9d1-fb83cc92ef9d",
        "id": "t508wNzqMZk5"
      },
      "outputs": [
        {
          "output_type": "stream",
          "name": "stdout",
          "text": [
            "10. Number of new majors reported in Question 8 who transferred internally\n",
            "   from another degree program at your institution.\n",
            "\n",
            "Series([], Name: eid, dtype: int64)\n",
            "\n",
            "Total: 0\n"
          ]
        }
      ],
      "source": [
        "#### 10. Number of new majors reported in Question 8 who transferred internally\n",
        "####     from another degree program at your institution.\n",
        "\n",
        "## search flags\n",
        "searchFlags_prev = (semester_sp22) & (major_othercomp) & (major_noncomp)\n",
        "searchFlags_curr = (semester_fl22) & (major_compsc)\n",
        "\n",
        "## true/false dataframe: shows which students in the current term\n",
        "##   changed major from one that was held in the previous term\n",
        "bools = df[searchFlags_curr]['eid'].isin(df.loc[searchFlags_prev]['eid'])\n",
        "\n",
        "## number of records that meet search criteria\n",
        "count_gender = df[searchFlags_curr][bools.values].groupby('gender')['eid'].nunique()\n",
        "count_total = df[searchFlags_curr][bools.values]['eid'].nunique()\n",
        "\n",
        "print(\n",
        "  '10. Number of new majors reported in Question 8 who transferred internally'\n",
        "  '\\n   from another degree program at your institution.'\n",
        "  '\\n\\n{}'\n",
        "  '\\n\\nTotal: {}'.format(count_gender, count_total)\n",
        ")"
      ]
    },
    {
      "cell_type": "code",
      "execution_count": null,
      "metadata": {
        "colab": {
          "base_uri": "https://localhost:8080/"
        },
        "outputId": "62d53efc-3ba3-455e-f0c2-021a86797bc3",
        "id": "0nCvpAFjMZk5"
      },
      "outputs": [
        {
          "output_type": "stream",
          "name": "stdout",
          "text": [
            "11. Number of new majors reported in Question 8 who\n",
            "    transferred externally from another institution.\n",
            "\n",
            "gender\n",
            "F    1\n",
            "M    2\n",
            "Name: eid, dtype: int64\n",
            "\n",
            "Total: 3\n"
          ]
        }
      ],
      "source": [
        "#### 11. Number of new majors reported in Question 8 who\n",
        "####     transferred externally from another institution.\n",
        "\n",
        "## search flags\n",
        "searchFlags_prev = (semester_sp22)\n",
        "searchFlags_curr = (semester_fl22) & (major_compsc) & (admission_transfer)\n",
        "\n",
        "## true/false dataframe: shows which students in the current term\n",
        "##   were not registered for the previous term\n",
        "bools = ~df[searchFlags_curr]['eid'].isin(df.loc[searchFlags_prev]['eid'])\n",
        "\n",
        "## number of records that meet search criteria\n",
        "count_gender = df[searchFlags_curr][bools.values].groupby('gender')['eid'].nunique()\n",
        "count_total = df[searchFlags_curr][bools.values]['eid'].nunique()\n",
        "\n",
        "print(\n",
        "  '11. Number of new majors reported in Question 8 who'\n",
        "  '\\n    transferred externally from another institution.'\n",
        "  '\\n\\n{}'\n",
        "  '\\n\\nTotal: {}'.format(count_gender, count_total)\n",
        ")"
      ]
    },
    {
      "cell_type": "code",
      "execution_count": null,
      "metadata": {
        "colab": {
          "base_uri": "https://localhost:8080/"
        },
        "outputId": "5dec72ae-7871-4285-a3fe-21c48d4554d4",
        "id": "Pv26i5GWMZk6"
      },
      "outputs": [
        {
          "output_type": "stream",
          "name": "stdout",
          "text": [
            "12. Number of Other Computing majors enrolled\n",
            "   at your institution in the previous term\n",
            "\n",
            "gender\n",
            "F    18\n",
            "M    41\n",
            "Name: eid, dtype: int64\n",
            "\n",
            "Total: 59\n"
          ]
        }
      ],
      "source": [
        "#### 12. Number of Other Computing majors enrolled\n",
        "####     at your institution in the previous term \n",
        "\n",
        "## search flags\n",
        "searchFlags = (semester_sp22) & (major_othercomp)\n",
        "\n",
        "## number of records that meet search criteria\n",
        "count_gender = df[searchFlags].groupby('gender')['eid'].nunique()\n",
        "count_total = df[searchFlags]['eid'].nunique()\n",
        "\n",
        "print(\n",
        "  '12. Number of Other Computing majors enrolled'\n",
        "  '\\n   at your institution in the previous term'\n",
        "  '\\n\\n{}'\n",
        "  '\\n\\nTotal: {}'.format(count_gender, count_total)\n",
        ")"
      ]
    },
    {
      "cell_type": "code",
      "execution_count": null,
      "metadata": {
        "colab": {
          "base_uri": "https://localhost:8080/"
        },
        "outputId": "fce90b46-71e6-4253-8630-fd15c0302dcf",
        "id": "7B_ue_mzMZk6"
      },
      "outputs": [
        {
          "output_type": "stream",
          "name": "stdout",
          "text": [
            "14. Number of students reported in Question 12 who were\n",
            "   still enrolled in Other Computing majors in the current term\n",
            "\n",
            "gender\n",
            "F     8\n",
            "M    10\n",
            "Name: eid, dtype: int64\n",
            "\n",
            "Total: 18\n"
          ]
        }
      ],
      "source": [
        "#### 14. Number of students reported in Question 12 who were\n",
        "####     still enrolled in Other Computing majors in the current term\n",
        "\n",
        "## search flags\n",
        "searchFlags_prev = (semester_sp22) & (major_othercomp)\n",
        "searchFlags_curr = (semester_fl22) & (major_othercomp)\n",
        "\n",
        "## true/false dataframe: shows which students in the current term\n",
        "##   had the same major in the previous term\n",
        "bools = df[searchFlags_curr]['eid'].isin(df.loc[searchFlags_prev]['eid'])\n",
        "\n",
        "## number of records that meet search criteria\n",
        "count_gender = df[searchFlags_curr][bools.values].groupby('gender')['eid'].nunique()\n",
        "count_total = df[searchFlags_curr][bools.values]['eid'].nunique()\n",
        "\n",
        "print(\n",
        "  '14. Number of students reported in Question 12 who were'\n",
        "  '\\n   still enrolled in Other Computing majors in the current term'\n",
        "  '\\n\\n{}'\n",
        "  '\\n\\nTotal: {}'.format(count_gender, count_total)\n",
        ")"
      ]
    },
    {
      "cell_type": "code",
      "execution_count": null,
      "metadata": {
        "colab": {
          "base_uri": "https://localhost:8080/"
        },
        "outputId": "a3474a7c-6f71-43f1-90cc-23c60d2b2f1f",
        "id": "m9X2ibRvMZk7"
      },
      "outputs": [
        {
          "output_type": "stream",
          "name": "stdout",
          "text": [
            "15. Number of students reported in Question 12\n",
            "   who were enrolled as Computer Science majors in the current term\n",
            "\n",
            "Series([], Name: eid, dtype: int64)\n",
            "\n",
            "Total: 0\n"
          ]
        }
      ],
      "source": [
        "#### 15. Number of students reported in Question 12\n",
        "####     who were enrolled as Computer Science majors in the current term\n",
        "\n",
        "## search flags\n",
        "searchFlags_prev = (semester_sp22) & (major_othercomp)\n",
        "searchFlags_curr = (semester_fl22) & (major_compsc)\n",
        "\n",
        "## true/false dataframe: shows which [COMPSC-BS] students in the current term\n",
        "##   are from the set of students reported in question 12\n",
        "bools = df[searchFlags_curr]['eid'].isin(df.loc[searchFlags_prev]['eid'])\n",
        "\n",
        "## number of records that meet search criteria\n",
        "count_gender = df[searchFlags_curr][bools.values].groupby('gender')['eid'].nunique()\n",
        "count_total = df[searchFlags_curr][bools.values]['eid'].nunique()\n",
        "\n",
        "print(\n",
        "  '15. Number of students reported in Question 12'\n",
        "  '\\n   who were enrolled as Computer Science majors in the current term'\n",
        "  '\\n\\n{}'\n",
        "  '\\n\\nTotal: {}'.format(count_gender, count_total)\n",
        ")"
      ]
    },
    {
      "cell_type": "code",
      "execution_count": null,
      "metadata": {
        "colab": {
          "base_uri": "https://localhost:8080/"
        },
        "outputId": "930abfd5-0aad-4e70-e2ab-9610110b74ee",
        "id": "25Nio5UuMZk8"
      },
      "outputs": [
        {
          "output_type": "stream",
          "name": "stdout",
          "text": [
            "16. Number of students reported in Question 12\n",
            "   who were enrolled in any Non-Computing major in the current term\n",
            "\n",
            "Series([], Name: eid, dtype: int64)\n",
            "\n",
            "Total: 0\n"
          ]
        }
      ],
      "source": [
        "#### 16. Number of students reported in Question 12\n",
        "####     who were enrolled in any Non-Computing major in the current term\n",
        "\n",
        "## search flags\n",
        "searchFlags_prev = (semester_sp22) & (major_othercomp)\n",
        "searchFlags_curr = (semester_fl22) & (major_noncomp)\n",
        "\n",
        "## true/false dataframe: shows which non-computing students in the current term\n",
        "##   are from the set of students reported in question 2\n",
        "bools = df[searchFlags_curr]['eid'].isin(df.loc[searchFlags_prev]['eid'])\n",
        "\n",
        "## number of records that meet search criteria\n",
        "count_gender = df[searchFlags_curr][bools.values].groupby('gender')['eid'].nunique()\n",
        "count_total = df[searchFlags_curr][bools.values]['eid'].nunique()\n",
        "\n",
        "print(\n",
        "  '16. Number of students reported in Question 12'\n",
        "  '\\n   who were enrolled in any Non-Computing major in the current term'\n",
        "  '\\n\\n{}'\n",
        "  '\\n\\nTotal: {}'.format(count_gender, count_total)\n",
        ")"
      ]
    },
    {
      "cell_type": "code",
      "execution_count": null,
      "metadata": {
        "colab": {
          "base_uri": "https://localhost:8080/"
        },
        "outputId": "235b1328-3432-41a6-916f-a5981593f592",
        "id": "plNqfwxJMZk8"
      },
      "outputs": [
        {
          "output_type": "stream",
          "name": "stdout",
          "text": [
            "18. Total number of new Other Computing majors this term\n",
            "\n",
            "gender\n",
            "F    10\n",
            "M    18\n",
            "U     1\n",
            "Name: eid, dtype: int64\n",
            "\n",
            "Total: 29\n"
          ]
        }
      ],
      "source": [
        "#### 18. Total number of new Other Computing majors this term\n",
        "\n",
        "## search flags\n",
        "searchFlags_prev = (semester_sp22) & (major_othercomp)\n",
        "searchFlags_curr = (semester_fl22) & (major_othercomp)\n",
        "\n",
        "## true/false dataframe: shows which students in the current term\n",
        "##   were not other computing majors in the previous term\n",
        "bools = ~df[searchFlags_curr]['eid'].isin(df.loc[searchFlags_prev]['eid'])\n",
        "\n",
        "## number of records that meet search criteria\n",
        "count_gender = df[searchFlags_curr][bools.values].groupby('gender')['eid'].nunique()\n",
        "count_total = df[searchFlags_curr][bools.values]['eid'].nunique()\n",
        "\n",
        "print(\n",
        "  '18. Total number of new Other Computing majors this term'\n",
        "  '\\n\\n{}'\n",
        "  '\\n\\nTotal: {}'.format(count_gender, count_total)\n",
        ")"
      ]
    },
    {
      "cell_type": "code",
      "execution_count": null,
      "metadata": {
        "colab": {
          "base_uri": "https://localhost:8080/"
        },
        "outputId": "a807c1dc-bed4-4594-83ef-71015c286654",
        "id": "OqgwgBv1MZk8"
      },
      "outputs": [
        {
          "output_type": "stream",
          "name": "stdout",
          "text": [
            "19. Number of new majors reported in Question 18 who were not transfer\n",
            "   students (internal or external) and declared a major for the first time\n",
            "\n",
            "Series([], Name: eid, dtype: int64)\n",
            "\n",
            "Total: 0\n"
          ]
        }
      ],
      "source": [
        "#### 19. Number of new majors reported in Question 18 who were not transfer\n",
        "####    students (internal or external) and declared a major for the first time\n",
        "\n",
        "## search flags\n",
        "searchFlags_prev = (semester_sp22) & (major_undecl)\n",
        "searchFlags_curr = (semester_fl22) & (major_othercomp) & (admission_notTransfer)\n",
        "\n",
        "## true/false dataframe: shows which students in the current term\n",
        "##   were undeclared in the previous term\n",
        "bools = df[searchFlags_curr]['eid'].isin(df.loc[searchFlags_prev]['eid'])\n",
        "\n",
        "## number of records that meet search criteria\n",
        "count_gender = df[searchFlags_curr][bools.values].groupby('gender')['eid'].nunique()\n",
        "count_total = df[searchFlags_curr][bools.values]['eid'].nunique()\n",
        "\n",
        "print(\n",
        "  '19. Number of new majors reported in Question 18 who were not transfer'\n",
        "  '\\n   students (internal or external) and declared a major for the first time'\n",
        "  '\\n\\n{}'\n",
        "  '\\n\\nTotal: {}'.format(count_gender, count_total)\n",
        ")"
      ]
    },
    {
      "cell_type": "code",
      "execution_count": null,
      "metadata": {
        "colab": {
          "base_uri": "https://localhost:8080/"
        },
        "outputId": "7ad7074c-2f9c-4094-eee0-504b269aa2e6",
        "id": "NUZxG2h2MZk9"
      },
      "outputs": [
        {
          "output_type": "stream",
          "name": "stdout",
          "text": [
            "20. Number of new majors reported in Question 18 who transferred internally\n",
            "   from another degree program at your institution.\n",
            "\n",
            "Series([], Name: eid, dtype: int64)\n",
            "\n",
            "Total: 0\n"
          ]
        }
      ],
      "source": [
        "#### 20. Number of new majors reported in Question 18 who transferred internally\n",
        "####     from another unit or degree program at your institution.\n",
        "\n",
        "## search flags\n",
        "searchFlags_prev = (semester_sp22) & (major_compsc) & (major_noncomp)\n",
        "searchFlags_curr = (semester_fl22) & (major_othercomp)\n",
        "\n",
        "## true/false dataframe: shows which students in the current term\n",
        "##   changed major from one that was held in the previous term\n",
        "bools = df[searchFlags_curr]['eid'].isin(df.loc[searchFlags_prev]['eid'])\n",
        "\n",
        "## number of records that meet search criteria\n",
        "count_gender = df[searchFlags_curr][bools.values].groupby('gender')['eid'].nunique()\n",
        "count_total = df[searchFlags_curr][bools.values]['eid'].nunique()\n",
        "\n",
        "print(\n",
        "  '20. Number of new majors reported in Question 18 who transferred internally'\n",
        "  '\\n   from another degree program at your institution.'\n",
        "  '\\n\\n{}'\n",
        "  '\\n\\nTotal: {}'.format(count_gender, count_total)\n",
        ")"
      ]
    },
    {
      "cell_type": "code",
      "execution_count": null,
      "metadata": {
        "colab": {
          "base_uri": "https://localhost:8080/"
        },
        "outputId": "bc97837c-1418-4494-afcc-73f98667d75d",
        "id": "2HAF6g2aMZk9"
      },
      "outputs": [
        {
          "output_type": "stream",
          "name": "stdout",
          "text": [
            "21. Number of new majors reported in Question 18 who\n",
            "    transferred externally from another institution.\n",
            "\n",
            "gender\n",
            "M    1\n",
            "Name: eid, dtype: int64\n",
            "\n",
            "Total: 1\n"
          ]
        }
      ],
      "source": [
        "#### 21. Number of new majors reported in Question 18 who\n",
        "####     transferred externally from another institution.\n",
        "\n",
        "## search flags\n",
        "searchFlags_prev = (semester_sp22)\n",
        "searchFlags_curr = (semester_fl22) & (major_othercomp) & (admission_transfer)\n",
        "\n",
        "## true/false dataframe: shows which students in the current term\n",
        "##   were not registered for the previous term\n",
        "bools = ~df[searchFlags_curr]['eid'].isin(df.loc[searchFlags_prev]['eid'])\n",
        "\n",
        "## number of records that meet search criteria\n",
        "count_gender = df[searchFlags_curr][bools.values].groupby('gender')['eid'].nunique()\n",
        "count_total = df[searchFlags_curr][bools.values]['eid'].nunique()\n",
        "\n",
        "print(\n",
        "  '21. Number of new majors reported in Question 18 who'\n",
        "  '\\n    transferred externally from another institution.'\n",
        "  '\\n\\n{}'\n",
        "  '\\n\\nTotal: {}'.format(count_gender, count_total)\n",
        ")"
      ]
    }
  ],
  "metadata": {
    "colab": {
      "collapsed_sections": [
        "oXQJJf4WTCkP",
        "PcmhxmPBIkpB",
        "1tAdp7pRIxlw",
        "fCtBQuu8nFU6",
        "I-bNThiX7PM1",
        "x7AGbSxw7PM2",
        "NJuVlenN7PM3",
        "4VD4a2DBm8sZ",
        "ZGhulmqWqNn6",
        "KH1TU7J4qVoh",
        "ARZ_iipCqaG2",
        "8HFl6vrNqafp",
        "zX-l9joyrnRs",
        "j3sPXPOZ-X0e"
      ],
      "toc_visible": true,
      "provenance": [],
      "include_colab_link": true
    },
    "kernelspec": {
      "display_name": "Python 3",
      "name": "python3"
    },
    "language_info": {
      "name": "python"
    }
  },
  "nbformat": 4,
  "nbformat_minor": 0
}